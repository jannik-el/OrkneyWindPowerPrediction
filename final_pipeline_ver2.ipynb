{
 "cells": [
  {
   "cell_type": "code",
   "execution_count": 2,
   "metadata": {},
   "outputs": [],
   "source": [
    "import plotly.express as px\n",
    "from sklearn.pipeline import Pipeline\n",
    "from sklearn.compose import ColumnTransformer\n",
    "from sklearn.preprocessing import StandardScaler\n",
    "from sklearn.preprocessing import PolynomialFeatures\n",
    "from sklearn.model_selection import GridSearchCV\n",
    "import pandas as pd\n",
    "from tqdm import tqdm\n",
    "import joblib\n",
    "import datetime as dt\n",
    "from sklearn.model_selection import TimeSeriesSplit\n",
    "from skimpy import skim\n",
    "import matplotlib.pyplot as plt\n",
    "import numpy as np\n",
    "from sklearn.base import BaseEstimator, TransformerMixin\n",
    "from sklearn.compose import make_column_transformer\n",
    "from sklearn.model_selection import train_test_split"
   ]
  },
  {
   "cell_type": "code",
   "execution_count": 3,
   "metadata": {},
   "outputs": [],
   "source": [
    "from sklearn.linear_model import LinearRegression\n",
    "from sklearn.linear_model import Ridge\n",
    "from sklearn.linear_model import Lasso\n",
    "from sklearn.linear_model import ElasticNet\n",
    "from sklearn.tree import DecisionTreeRegressor\n",
    "from sklearn.ensemble import RandomForestRegressor\n",
    "from sklearn.ensemble import GradientBoostingRegressor\n",
    "from sklearn.neighbors import KNeighborsRegressor\n",
    "from sklearn.svm import SVR\n",
    "from sklearn.neural_network import MLPRegressor\n",
    "from sklearn.linear_model import HuberRegressor\n",
    "from sklearn.linear_model import RANSACRegressor\n",
    "from sklearn.gaussian_process import GaussianProcessRegressor\n",
    "from sklearn.gaussian_process.kernels import DotProduct, WhiteKernel, RBF"
   ]
  },
  {
   "cell_type": "code",
   "execution_count": 4,
   "metadata": {},
   "outputs": [],
   "source": [
    "import warnings\n",
    "warnings.filterwarnings('ignore')"
   ]
  },
  {
   "cell_type": "code",
   "execution_count": 5,
   "metadata": {},
   "outputs": [],
   "source": [
    "import sys\n",
    "sys.path.append('..')\n",
    "import fx"
   ]
  },
  {
   "cell_type": "code",
   "execution_count": 6,
   "metadata": {},
   "outputs": [],
   "source": [
    "data = fx.pull_data(days=90)"
   ]
  },
  {
   "cell_type": "code",
   "execution_count": 7,
   "metadata": {},
   "outputs": [
    {
     "data": {
      "text/html": [
       "<div>\n",
       "<style scoped>\n",
       "    .dataframe tbody tr th:only-of-type {\n",
       "        vertical-align: middle;\n",
       "    }\n",
       "\n",
       "    .dataframe tbody tr th {\n",
       "        vertical-align: top;\n",
       "    }\n",
       "\n",
       "    .dataframe thead th {\n",
       "        text-align: right;\n",
       "    }\n",
       "</style>\n",
       "<table border=\"1\" class=\"dataframe\">\n",
       "  <thead>\n",
       "    <tr style=\"text-align: right;\">\n",
       "      <th></th>\n",
       "      <th>ANM</th>\n",
       "      <th>Non-ANM</th>\n",
       "      <th>Total</th>\n",
       "      <th>Direction</th>\n",
       "      <th>Lead_hours</th>\n",
       "      <th>Source_time</th>\n",
       "      <th>Speed</th>\n",
       "    </tr>\n",
       "    <tr>\n",
       "      <th>time</th>\n",
       "      <th></th>\n",
       "      <th></th>\n",
       "      <th></th>\n",
       "      <th></th>\n",
       "      <th></th>\n",
       "      <th></th>\n",
       "      <th></th>\n",
       "    </tr>\n",
       "  </thead>\n",
       "  <tbody>\n",
       "    <tr>\n",
       "      <th>2022-11-25 15:00:00+00:00</th>\n",
       "      <td>15.765571</td>\n",
       "      <td>18.399217</td>\n",
       "      <td>34.164788</td>\n",
       "      <td>SSW</td>\n",
       "      <td>1</td>\n",
       "      <td>1.669381e+09</td>\n",
       "      <td>8.94080</td>\n",
       "    </tr>\n",
       "    <tr>\n",
       "      <th>2022-11-25 18:00:00+00:00</th>\n",
       "      <td>13.754039</td>\n",
       "      <td>18.151967</td>\n",
       "      <td>31.906006</td>\n",
       "      <td>SW</td>\n",
       "      <td>1</td>\n",
       "      <td>1.669392e+09</td>\n",
       "      <td>12.07008</td>\n",
       "    </tr>\n",
       "    <tr>\n",
       "      <th>2022-11-25 21:00:00+00:00</th>\n",
       "      <td>12.167921</td>\n",
       "      <td>18.977528</td>\n",
       "      <td>31.145449</td>\n",
       "      <td>WSW</td>\n",
       "      <td>1</td>\n",
       "      <td>1.669403e+09</td>\n",
       "      <td>12.96416</td>\n",
       "    </tr>\n",
       "    <tr>\n",
       "      <th>2022-11-26 00:00:00+00:00</th>\n",
       "      <td>9.446035</td>\n",
       "      <td>17.241328</td>\n",
       "      <td>26.687362</td>\n",
       "      <td>WSW</td>\n",
       "      <td>1</td>\n",
       "      <td>1.669414e+09</td>\n",
       "      <td>11.17600</td>\n",
       "    </tr>\n",
       "    <tr>\n",
       "      <th>2022-11-26 03:00:00+00:00</th>\n",
       "      <td>13.945147</td>\n",
       "      <td>18.086372</td>\n",
       "      <td>32.031519</td>\n",
       "      <td>S</td>\n",
       "      <td>1</td>\n",
       "      <td>1.669424e+09</td>\n",
       "      <td>8.04672</td>\n",
       "    </tr>\n",
       "  </tbody>\n",
       "</table>\n",
       "</div>"
      ],
      "text/plain": [
       "                                 ANM    Non-ANM      Total Direction  \\\n",
       "time                                                                   \n",
       "2022-11-25 15:00:00+00:00  15.765571  18.399217  34.164788       SSW   \n",
       "2022-11-25 18:00:00+00:00  13.754039  18.151967  31.906006        SW   \n",
       "2022-11-25 21:00:00+00:00  12.167921  18.977528  31.145449       WSW   \n",
       "2022-11-26 00:00:00+00:00   9.446035  17.241328  26.687362       WSW   \n",
       "2022-11-26 03:00:00+00:00  13.945147  18.086372  32.031519         S   \n",
       "\n",
       "                          Lead_hours   Source_time     Speed  \n",
       "time                                                          \n",
       "2022-11-25 15:00:00+00:00          1  1.669381e+09   8.94080  \n",
       "2022-11-25 18:00:00+00:00          1  1.669392e+09  12.07008  \n",
       "2022-11-25 21:00:00+00:00          1  1.669403e+09  12.96416  \n",
       "2022-11-26 00:00:00+00:00          1  1.669414e+09  11.17600  \n",
       "2022-11-26 03:00:00+00:00          1  1.669424e+09   8.04672  "
      ]
     },
     "execution_count": 7,
     "metadata": {},
     "output_type": "execute_result"
    }
   ],
   "source": [
    "data.head(5)"
   ]
  },
  {
   "cell_type": "code",
   "execution_count": 8,
   "metadata": {},
   "outputs": [],
   "source": [
    "anm_pipeline = Pipeline(steps=[\n",
    "    (\"col_transformer\", ColumnTransformer(transformers=[\n",
    "        (\"time\", None, []),\n",
    "        (\"Speed\", None, [\"Speed\"]),\n",
    "        (\"Direction\", None, [\"Direction\"]),\n",
    "        ], remainder=\"drop\")),\n",
    "    (\"model\", None)\n",
    "])\n",
    "\n",
    "anm_params = {\n",
    "    'col_transformer__time' : [\"drop\", None, fx.TimestampTransformer()],\n",
    "    'col_transformer__Speed': [None, StandardScaler(), PolynomialFeatures(), fx.EmpiricalWaveletTransform(level=5)],\n",
    "    'col_transformer__Direction': [\"drop\", fx.WindDirectionMapper(), fx.CompassToCartesianTransformer()],\n",
    "    'model': [\n",
    "        LinearRegression(), \n",
    "        MLPRegressor(hidden_layer_sizes=(150, 150), activation='tanh', solver='sgd'), \n",
    "        SVR(kernel='rbf', gamma='scale', C=1.0, epsilon=0.1),\n",
    "        HuberRegressor(epsilon=1.35, alpha=0.0001),\n",
    "        RANSACRegressor(min_samples=0.1, max_trials=100),\n",
    "        GaussianProcessRegressor(alpha=0.1, kernel=RBF()) \n",
    "    ]\n",
    "}"
   ]
  },
  {
   "cell_type": "code",
   "execution_count": 9,
   "metadata": {},
   "outputs": [],
   "source": [
    "non_anm_pipeline = Pipeline(steps=[\n",
    "    (\"col_transformer\", ColumnTransformer(transformers=[\n",
    "        (\"Speed\", None, [\"Speed\"]),\n",
    "        (\"Direction\", None, [\"Direction\"]),\n",
    "        ], remainder=\"drop\")),\n",
    "    (\"model\", None)\n",
    "])\n",
    "\n",
    "non_anm_params = {\n",
    "    'col_transformer__Speed': [None, StandardScaler(), PolynomialFeatures(), fx.EmpiricalWaveletTransform(level=5)],\n",
    "    'col_transformer__Direction': [\"drop\", fx.WindDirectionMapper(), fx.CompassToCartesianTransformer()],\n",
    "    'model': [\n",
    "        LinearRegression(), \n",
    "        MLPRegressor(hidden_layer_sizes=(150, 150), activation='tanh', solver='sgd'), \n",
    "        SVR(kernel='rbf', gamma='scale', C=1.0, epsilon=0.1),\n",
    "        HuberRegressor(epsilon=1.35, alpha=0.0001),\n",
    "        RANSACRegressor(min_samples=0.1, max_trials=100),\n",
    "        GaussianProcessRegressor(alpha=0.1, kernel=RBF()) \n",
    "    ]\n",
    "}"
   ]
  },
  {
   "cell_type": "code",
   "execution_count": 10,
   "metadata": {},
   "outputs": [],
   "source": [
    "tscv = TimeSeriesSplit(n_splits=5)"
   ]
  },
  {
   "cell_type": "code",
   "execution_count": 11,
   "metadata": {},
   "outputs": [],
   "source": [
    "anm_gridsearch = GridSearchCV(anm_pipeline, anm_params, cv=tscv, scoring='neg_mean_squared_error', n_jobs=-1, verbose=1)\n",
    "non_anm_gridsearch = GridSearchCV(non_anm_pipeline, non_anm_params, cv=tscv, scoring='neg_mean_squared_error', n_jobs=-1, verbose=1)"
   ]
  },
  {
   "cell_type": "code",
   "execution_count": 12,
   "metadata": {},
   "outputs": [],
   "source": [
    "ANM_X_train, ANM_y_train, ANM_X_test, ANM_y_test = fx.data_splitting(data, output_val=\"ANM\")\n",
    "non_ANM_X_train, non_ANM_y_train, non_ANM_X_test, non_ANM_y_test = fx.data_splitting(data, output_val=\"Non-ANM\")\n",
    "total_X_train, total_y_train, total_X_test, total_y_test = fx.data_splitting(data, output_val=\"Total\")"
   ]
  },
  {
   "cell_type": "code",
   "execution_count": 13,
   "metadata": {},
   "outputs": [
    {
     "data": {
      "text/plain": [
       "True"
      ]
     },
     "execution_count": 13,
     "metadata": {},
     "output_type": "execute_result"
    }
   ],
   "source": [
    "# check that all test sets are same length\n",
    "len(ANM_y_test) == len(non_ANM_y_test) == len(total_y_test)"
   ]
  },
  {
   "cell_type": "code",
   "execution_count": 14,
   "metadata": {},
   "outputs": [],
   "source": [
    "def train_models(X_train, y_train, X_test, y_test, gridsearch):\n",
    "    gridsearch.fit(X_train, y_train)\n",
    "    print(\"Best params: \", gridsearch.best_params_)\n",
    "    print(\"Best score: \", gridsearch.best_score_)\n",
    "    print(\"Test score: \", gridsearch.score(X_test, y_test))\n",
    "    return gridsearch"
   ]
  },
  {
   "cell_type": "code",
   "execution_count": 15,
   "metadata": {},
   "outputs": [
    {
     "name": "stdout",
     "output_type": "stream",
     "text": [
      "Fitting 5 folds for each of 216 candidates, totalling 1080 fits\n",
      "Best params:  {'col_transformer__Direction': CompassToCartesianTransformer(), 'col_transformer__Speed': StandardScaler(), 'col_transformer__time': 'drop', 'model': MLPRegressor(activation='tanh', hidden_layer_sizes=(150, 150), solver='sgd')}\n",
      "Best score:  -11.939125132865389\n",
      "Test score:  -9.284098864598416\n"
     ]
    }
   ],
   "source": [
    "anm_gridsearch = train_models(ANM_X_train, ANM_y_train, ANM_X_test, ANM_y_test, anm_gridsearch)"
   ]
  },
  {
   "cell_type": "code",
   "execution_count": 16,
   "metadata": {},
   "outputs": [
    {
     "name": "stdout",
     "output_type": "stream",
     "text": [
      "Fitting 5 folds for each of 72 candidates, totalling 360 fits\n",
      "Best params:  {'col_transformer__Direction': CompassToCartesianTransformer(), 'col_transformer__Speed': EmpiricalWaveletTransform(), 'model': MLPRegressor(activation='tanh', hidden_layer_sizes=(150, 150), solver='sgd')}\n",
      "Best score:  -14.472026630357178\n",
      "Test score:  -16.941399489450493\n"
     ]
    }
   ],
   "source": [
    "non_anm_gridsearch = train_models(non_ANM_X_train, non_ANM_y_train, non_ANM_X_test, non_ANM_y_test, non_anm_gridsearch)"
   ]
  },
  {
   "cell_type": "code",
   "execution_count": 17,
   "metadata": {},
   "outputs": [],
   "source": [
    "def predict_and_combine(ANM_X_test, non_ANM_X_test, y_test, anm_gridsearch, non_anm_gridsearch):\n",
    "    anm_pred = anm_gridsearch.predict(ANM_X_test)\n",
    "    non_anm_pred = non_anm_gridsearch.predict(non_ANM_X_test)\n",
    "    pred = anm_pred + non_anm_pred\n",
    "    print(f\"Overall test score: {fx.MSE(pred, y_test)}\")\n",
    "    return pred"
   ]
  },
  {
   "cell_type": "code",
   "execution_count": 18,
   "metadata": {},
   "outputs": [
    {
     "name": "stdout",
     "output_type": "stream",
     "text": [
      "Overall test score: 30.55529130246546\n"
     ]
    }
   ],
   "source": [
    "combined_pred = predict_and_combine(ANM_X_test, non_ANM_X_test, total_y_test, anm_gridsearch, non_anm_gridsearch)"
   ]
  },
  {
   "cell_type": "code",
   "execution_count": 19,
   "metadata": {},
   "outputs": [],
   "source": [
    "def save_models(anm_gridsearch, non_anm_gridsearch):\n",
    "    joblib.dump(anm_gridsearch, rf\"models\\anm_gridsearch_{dt.date.today()}.pkl\")\n",
    "    joblib.dump(non_anm_gridsearch, rf\"models\\non_anm_gridsearch_{dt.date.today()}.pkl\")\n",
    "    return"
   ]
  },
  {
   "cell_type": "code",
   "execution_count": 20,
   "metadata": {},
   "outputs": [],
   "source": [
    "save_models(anm_gridsearch, non_anm_gridsearch)"
   ]
  },
  {
   "cell_type": "code",
   "execution_count": 21,
   "metadata": {},
   "outputs": [],
   "source": [
    "def load_models_and_train_on_all_data(data, anm_gridsearch, non_anm_gridsearch):\n",
    "    # naming schemes is not my strong suit\n",
    "    anm_X_train, anm_y_train = fx.final_data_splitting(data, output_val=\"ANM\")\n",
    "    non_anm_X_train, non_anm_y_train = fx.final_data_splitting(data, output_val=\"Non-ANM\")\n",
    "    anm_gridsearch.fit(anm_X_train, anm_y_train)\n",
    "    non_anm_gridsearch.fit(non_anm_X_train, non_anm_y_train)\n",
    "    return anm_gridsearch, non_anm_gridsearch"
   ]
  },
  {
   "cell_type": "code",
   "execution_count": 22,
   "metadata": {},
   "outputs": [
    {
     "name": "stdout",
     "output_type": "stream",
     "text": [
      "Fitting 5 folds for each of 216 candidates, totalling 1080 fits\n",
      "Fitting 5 folds for each of 72 candidates, totalling 360 fits\n"
     ]
    }
   ],
   "source": [
    "anm_model, non_anm_model = load_models_and_train_on_all_data(data, anm_gridsearch, non_anm_gridsearch)"
   ]
  },
  {
   "cell_type": "code",
   "execution_count": 23,
   "metadata": {},
   "outputs": [],
   "source": [
    "forecast = fx.load_forecasts()"
   ]
  },
  {
   "cell_type": "code",
   "execution_count": 24,
   "metadata": {},
   "outputs": [
    {
     "data": {
      "text/html": [
       "<div>\n",
       "<style scoped>\n",
       "    .dataframe tbody tr th:only-of-type {\n",
       "        vertical-align: middle;\n",
       "    }\n",
       "\n",
       "    .dataframe tbody tr th {\n",
       "        vertical-align: top;\n",
       "    }\n",
       "\n",
       "    .dataframe thead th {\n",
       "        text-align: right;\n",
       "    }\n",
       "</style>\n",
       "<table border=\"1\" class=\"dataframe\">\n",
       "  <thead>\n",
       "    <tr style=\"text-align: right;\">\n",
       "      <th></th>\n",
       "      <th>Direction</th>\n",
       "      <th>Lead_hours</th>\n",
       "      <th>Source_time</th>\n",
       "      <th>Speed</th>\n",
       "    </tr>\n",
       "    <tr>\n",
       "      <th>time</th>\n",
       "      <th></th>\n",
       "      <th></th>\n",
       "      <th></th>\n",
       "      <th></th>\n",
       "    </tr>\n",
       "  </thead>\n",
       "  <tbody>\n",
       "    <tr>\n",
       "      <th>2023-02-23 15:00:00+00:00</th>\n",
       "      <td>W</td>\n",
       "      <td>10</td>\n",
       "      <td>1677124800</td>\n",
       "      <td>15.19936</td>\n",
       "    </tr>\n",
       "    <tr>\n",
       "      <th>2023-02-23 15:00:00+00:00</th>\n",
       "      <td>W</td>\n",
       "      <td>100</td>\n",
       "      <td>1676800800</td>\n",
       "      <td>11.17600</td>\n",
       "    </tr>\n",
       "    <tr>\n",
       "      <th>2023-02-23 15:00:00+00:00</th>\n",
       "      <td>W</td>\n",
       "      <td>101</td>\n",
       "      <td>1676797200</td>\n",
       "      <td>11.17600</td>\n",
       "    </tr>\n",
       "    <tr>\n",
       "      <th>2023-02-23 15:00:00+00:00</th>\n",
       "      <td>W</td>\n",
       "      <td>102</td>\n",
       "      <td>1676793600</td>\n",
       "      <td>11.17600</td>\n",
       "    </tr>\n",
       "    <tr>\n",
       "      <th>2023-02-23 15:00:00+00:00</th>\n",
       "      <td>W</td>\n",
       "      <td>104</td>\n",
       "      <td>1676786400</td>\n",
       "      <td>12.07008</td>\n",
       "    </tr>\n",
       "    <tr>\n",
       "      <th>...</th>\n",
       "      <td>...</td>\n",
       "      <td>...</td>\n",
       "      <td>...</td>\n",
       "      <td>...</td>\n",
       "    </tr>\n",
       "    <tr>\n",
       "      <th>2023-02-27 21:00:00+00:00</th>\n",
       "      <td>NNE</td>\n",
       "      <td>114</td>\n",
       "      <td>1677117600</td>\n",
       "      <td>4.02336</td>\n",
       "    </tr>\n",
       "    <tr>\n",
       "      <th>2023-02-27 21:00:00+00:00</th>\n",
       "      <td>NNE</td>\n",
       "      <td>115</td>\n",
       "      <td>1677114000</td>\n",
       "      <td>4.02336</td>\n",
       "    </tr>\n",
       "    <tr>\n",
       "      <th>2023-02-27 21:00:00+00:00</th>\n",
       "      <td>W</td>\n",
       "      <td>118</td>\n",
       "      <td>1677103200</td>\n",
       "      <td>3.12928</td>\n",
       "    </tr>\n",
       "    <tr>\n",
       "      <th>2023-02-27 21:00:00+00:00</th>\n",
       "      <td>WNW</td>\n",
       "      <td>116</td>\n",
       "      <td>1677110400</td>\n",
       "      <td>3.12928</td>\n",
       "    </tr>\n",
       "    <tr>\n",
       "      <th>2023-02-27 21:00:00+00:00</th>\n",
       "      <td>WNW</td>\n",
       "      <td>117</td>\n",
       "      <td>1677106800</td>\n",
       "      <td>3.12928</td>\n",
       "    </tr>\n",
       "  </tbody>\n",
       "</table>\n",
       "<p>1895 rows × 4 columns</p>\n",
       "</div>"
      ],
      "text/plain": [
       "                          Direction Lead_hours  Source_time     Speed\n",
       "time                                                                 \n",
       "2023-02-23 15:00:00+00:00         W         10   1677124800  15.19936\n",
       "2023-02-23 15:00:00+00:00         W        100   1676800800  11.17600\n",
       "2023-02-23 15:00:00+00:00         W        101   1676797200  11.17600\n",
       "2023-02-23 15:00:00+00:00         W        102   1676793600  11.17600\n",
       "2023-02-23 15:00:00+00:00         W        104   1676786400  12.07008\n",
       "...                             ...        ...          ...       ...\n",
       "2023-02-27 21:00:00+00:00       NNE        114   1677117600   4.02336\n",
       "2023-02-27 21:00:00+00:00       NNE        115   1677114000   4.02336\n",
       "2023-02-27 21:00:00+00:00         W        118   1677103200   3.12928\n",
       "2023-02-27 21:00:00+00:00       WNW        116   1677110400   3.12928\n",
       "2023-02-27 21:00:00+00:00       WNW        117   1677106800   3.12928\n",
       "\n",
       "[1895 rows x 4 columns]"
      ]
     },
     "execution_count": 24,
     "metadata": {},
     "output_type": "execute_result"
    }
   ],
   "source": [
    "forecast"
   ]
  },
  {
   "cell_type": "code",
   "execution_count": 25,
   "metadata": {},
   "outputs": [],
   "source": [
    "total_X_train, total_y_train = fx.final_data_splitting(data, output_val=\"Total\")\n",
    "anm_pred = anm_model.predict(forecast)\n",
    "non_anm_pred = non_anm_model.predict(forecast)"
   ]
  },
  {
   "cell_type": "code",
   "execution_count": 26,
   "metadata": {},
   "outputs": [],
   "source": [
    "def create_forecast_df(forecast, anm_pred, non_anm_pred):\n",
    "    future = anm_pred + non_anm_pred\n",
    "    forecast[\"Power Generation Forecast\"] = future\n",
    "    forecast = forecast.resample(\"3H\").mean()\n",
    "    forecast.drop(columns=[\"Source_time\"], inplace=True)\n",
    "    return forecast"
   ]
  },
  {
   "cell_type": "code",
   "execution_count": 27,
   "metadata": {},
   "outputs": [],
   "source": [
    "forecast_df = create_forecast_df(forecast, anm_pred, non_anm_pred)"
   ]
  },
  {
   "cell_type": "code",
   "execution_count": 28,
   "metadata": {},
   "outputs": [],
   "source": [
    "def create_final_plotting_df(forecast_df, data):\n",
    "    # this code is just for plotting the final graph\n",
    "    ANM_X_train, ANM_y_train, ANM_X_test, ANM_y_test = fx.data_splitting(data, output_val=\"ANM\")\n",
    "    non_ANM_X_train, non_ANM_y_train, non_ANM_X_test, non_ANM_y_test = fx.data_splitting(data, output_val=\"Non-ANM\")\n",
    "    total_X_train, total_y_train, total_X_test, total_y_test = fx.data_splitting(data, output_val=\"Total\")\n",
    "\n",
    "    test_anm_pred = anm_model.predict(ANM_X_test)\n",
    "    test_non_anm_pred = non_anm_model.predict(non_ANM_X_test)\n",
    "\n",
    "    test_prediction = test_anm_pred + test_non_anm_pred\n",
    "    test_data = fx.create_timestamps(test_prediction, total_X_test, total_y_test)\n",
    "\n",
    "    # slice total_x_test data to only get data up to the forecast datapoint\n",
    "    total_X_test = total_X_test.loc[:forecast_df.index[0]]\n",
    "\n",
    "    wind_speed_data = pd.concat([forecast_df[\"Speed\"], total_X_test[\"Speed\"]], axis=0)\n",
    "\n",
    "    # combine testdata and forecastdf for easy plotting\n",
    "    final_df = pd.concat([test_data[[\"predict\", \"actual\"]], forecast_df[\"Power Generation Forecast\"]], axis=0)\n",
    "    final_df.columns = [\"Model\", \"Actual\", \"Forecast\"]\n",
    "    return final_df, wind_speed_data"
   ]
  },
  {
   "cell_type": "code",
   "execution_count": 29,
   "metadata": {},
   "outputs": [
    {
     "data": {
      "text/html": [
       "<div>\n",
       "<style scoped>\n",
       "    .dataframe tbody tr th:only-of-type {\n",
       "        vertical-align: middle;\n",
       "    }\n",
       "\n",
       "    .dataframe tbody tr th {\n",
       "        vertical-align: top;\n",
       "    }\n",
       "\n",
       "    .dataframe thead th {\n",
       "        text-align: right;\n",
       "    }\n",
       "</style>\n",
       "<table border=\"1\" class=\"dataframe\">\n",
       "  <thead>\n",
       "    <tr style=\"text-align: right;\">\n",
       "      <th></th>\n",
       "      <th>Model</th>\n",
       "      <th>Actual</th>\n",
       "      <th>Forecast</th>\n",
       "    </tr>\n",
       "  </thead>\n",
       "  <tbody>\n",
       "    <tr>\n",
       "      <th>2023-02-08 15:00:00+00:00</th>\n",
       "      <td>27.198068</td>\n",
       "      <td>27.150278</td>\n",
       "      <td>NaN</td>\n",
       "    </tr>\n",
       "    <tr>\n",
       "      <th>2023-02-08 18:00:00+00:00</th>\n",
       "      <td>24.467782</td>\n",
       "      <td>29.662412</td>\n",
       "      <td>NaN</td>\n",
       "    </tr>\n",
       "    <tr>\n",
       "      <th>2023-02-08 21:00:00+00:00</th>\n",
       "      <td>24.183614</td>\n",
       "      <td>27.705957</td>\n",
       "      <td>NaN</td>\n",
       "    </tr>\n",
       "    <tr>\n",
       "      <th>2023-02-09 00:00:00+00:00</th>\n",
       "      <td>24.183614</td>\n",
       "      <td>27.060540</td>\n",
       "      <td>NaN</td>\n",
       "    </tr>\n",
       "    <tr>\n",
       "      <th>2023-02-09 03:00:00+00:00</th>\n",
       "      <td>23.474089</td>\n",
       "      <td>25.723872</td>\n",
       "      <td>NaN</td>\n",
       "    </tr>\n",
       "    <tr>\n",
       "      <th>...</th>\n",
       "      <td>...</td>\n",
       "      <td>...</td>\n",
       "      <td>...</td>\n",
       "    </tr>\n",
       "    <tr>\n",
       "      <th>2023-02-27 09:00:00+00:00</th>\n",
       "      <td>NaN</td>\n",
       "      <td>NaN</td>\n",
       "      <td>5.330483</td>\n",
       "    </tr>\n",
       "    <tr>\n",
       "      <th>2023-02-27 12:00:00+00:00</th>\n",
       "      <td>NaN</td>\n",
       "      <td>NaN</td>\n",
       "      <td>2.620143</td>\n",
       "    </tr>\n",
       "    <tr>\n",
       "      <th>2023-02-27 15:00:00+00:00</th>\n",
       "      <td>NaN</td>\n",
       "      <td>NaN</td>\n",
       "      <td>2.889182</td>\n",
       "    </tr>\n",
       "    <tr>\n",
       "      <th>2023-02-27 18:00:00+00:00</th>\n",
       "      <td>NaN</td>\n",
       "      <td>NaN</td>\n",
       "      <td>4.658887</td>\n",
       "    </tr>\n",
       "    <tr>\n",
       "      <th>2023-02-27 21:00:00+00:00</th>\n",
       "      <td>NaN</td>\n",
       "      <td>NaN</td>\n",
       "      <td>4.556577</td>\n",
       "    </tr>\n",
       "  </tbody>\n",
       "</table>\n",
       "<p>154 rows × 3 columns</p>\n",
       "</div>"
      ],
      "text/plain": [
       "                               Model     Actual  Forecast\n",
       "2023-02-08 15:00:00+00:00  27.198068  27.150278       NaN\n",
       "2023-02-08 18:00:00+00:00  24.467782  29.662412       NaN\n",
       "2023-02-08 21:00:00+00:00  24.183614  27.705957       NaN\n",
       "2023-02-09 00:00:00+00:00  24.183614  27.060540       NaN\n",
       "2023-02-09 03:00:00+00:00  23.474089  25.723872       NaN\n",
       "...                              ...        ...       ...\n",
       "2023-02-27 09:00:00+00:00        NaN        NaN  5.330483\n",
       "2023-02-27 12:00:00+00:00        NaN        NaN  2.620143\n",
       "2023-02-27 15:00:00+00:00        NaN        NaN  2.889182\n",
       "2023-02-27 18:00:00+00:00        NaN        NaN  4.658887\n",
       "2023-02-27 21:00:00+00:00        NaN        NaN  4.556577\n",
       "\n",
       "[154 rows x 3 columns]"
      ]
     },
     "execution_count": 29,
     "metadata": {},
     "output_type": "execute_result"
    }
   ],
   "source": [
    "final_df, wind_speed_data = create_final_plotting_df(forecast_df, data)\n",
    "final_df"
   ]
  },
  {
   "cell_type": "code",
   "execution_count": 31,
   "metadata": {},
   "outputs": [
    {
     "data": {
      "application/vnd.plotly.v1+json": {
       "config": {
        "plotlyServerURL": "https://plot.ly"
       },
       "data": [
        {
         "customdata": [
          13.821328440366973,
          13.87874642201835,
          13.768011743119265,
          13.521645176470589,
          12.511860705882354,
          11.907041882352942,
          11.133925647058824,
          10.255623529411764,
          9.992658823529412,
          9.24583905882353,
          8.409611294117648,
          7.80487868852459,
          7.416466885245901,
          7.020726557377049,
          6.126646557377049,
          5.049353442622951,
          4.653613114754099,
          4.3311580327868855,
          4.052674098360656,
          3.5400735135135135,
          3.6850594594594597,
          3.85420972972973,
          3.85420972972973,
          4.313331891891892,
          4.482482162162162,
          4.192510270270271,
          3.515909189189189,
          3.1292800000000005,
          3.1292800000000005,
          2.819790769230769,
          2.819790769230769,
          2.819790769230769,
          2.819790769230769,
          3.3356061538461543,
          3.4043815384615383,
          17.8816,
          13.85824,
          17.8816,
          17.8816,
          17.8816,
          16.98752,
          21.01088,
          19.22272,
          15.19936,
          12.96416,
          7.15264,
          4.91744,
          9.83488,
          15.19936,
          16.09344,
          16.98752,
          17.8816,
          16.09344,
          16.09344,
          11.176,
          7.15264,
          12.96416,
          12.070079999999999,
          11.176,
          11.176,
          11.176,
          11.176,
          11.176,
          11.176,
          9.83488,
          11.176,
          8.04672,
          8.04672,
          8.04672,
          8.04672,
          7.15264,
          5.81152,
          5.81152,
          5.81152,
          4.91744,
          4.02336,
          3.12928,
          4.02336,
          5.81152,
          5.81152,
          5.81152,
          5.81152,
          7.15264,
          8.9408,
          8.9408,
          8.04672,
          12.070079999999999,
          12.070079999999999,
          11.176,
          12.070079999999999,
          12.96416,
          11.176,
          12.96416,
          8.9408,
          9.83488,
          9.83488,
          8.9408,
          9.83488,
          11.176,
          9.83488,
          7.15264,
          7.15264,
          11.176,
          13.85824,
          20.1168,
          16.98752,
          16.98752,
          15.19936,
          9.83488,
          5.81152,
          4.91744,
          4.02336,
          3.12928,
          1.78816,
          1.78816,
          4.02336,
          4.91744,
          8.9408,
          11.176,
          11.176,
          9.83488,
          12.070079999999999,
          16.09344,
          20.1168,
          20.1168,
          20.1168,
          19.22272,
          20.1168,
          21.01088,
          20.1168,
          19.22272,
          15.19936,
          12.96416,
          8.04672,
          4.02336,
          3.12928,
          8.9408,
          8.9408,
          5.81152,
          7.15264,
          7.15264,
          5.81152,
          5.81152,
          8.04672,
          8.04672,
          12.070079999999999,
          12.070079999999999,
          8.9408,
          4.02336,
          5.81152,
          1.78816,
          9.83488,
          13.85824,
          16.09344
         ],
         "hovertemplate": "<b>Power Generation: %{y:.2f} MW </b><br> Wind Speed: %{customdata:.2f} m/s <br><i> %{x}</i><extra></extra>",
         "legendgroup": "Model",
         "line": {
          "color": "#636efa",
          "dash": "solid"
         },
         "marker": {
          "symbol": "circle"
         },
         "mode": "lines",
         "name": "Model",
         "orientation": "v",
         "showlegend": true,
         "type": "scatter",
         "x": [
          "2023-02-08T15:00:00+00:00",
          "2023-02-08T18:00:00+00:00",
          "2023-02-08T21:00:00+00:00",
          "2023-02-09T00:00:00+00:00",
          "2023-02-09T03:00:00+00:00",
          "2023-02-09T06:00:00+00:00",
          "2023-02-09T09:00:00+00:00",
          "2023-02-09T12:00:00+00:00",
          "2023-02-09T15:00:00+00:00",
          "2023-02-09T18:00:00+00:00",
          "2023-02-09T21:00:00+00:00",
          "2023-02-10T00:00:00+00:00",
          "2023-02-10T03:00:00+00:00",
          "2023-02-10T06:00:00+00:00",
          "2023-02-10T09:00:00+00:00",
          "2023-02-10T12:00:00+00:00",
          "2023-02-10T15:00:00+00:00",
          "2023-02-10T18:00:00+00:00",
          "2023-02-10T21:00:00+00:00",
          "2023-02-11T00:00:00+00:00",
          "2023-02-11T03:00:00+00:00",
          "2023-02-11T06:00:00+00:00",
          "2023-02-11T09:00:00+00:00",
          "2023-02-11T12:00:00+00:00",
          "2023-02-11T15:00:00+00:00",
          "2023-02-11T18:00:00+00:00",
          "2023-02-11T21:00:00+00:00",
          "2023-02-12T00:00:00+00:00",
          "2023-02-12T03:00:00+00:00",
          "2023-02-12T06:00:00+00:00",
          "2023-02-12T09:00:00+00:00",
          "2023-02-12T12:00:00+00:00",
          "2023-02-12T15:00:00+00:00",
          "2023-02-12T18:00:00+00:00",
          "2023-02-12T21:00:00+00:00",
          "2023-02-13T00:00:00+00:00",
          "2023-02-13T03:00:00+00:00",
          "2023-02-13T06:00:00+00:00",
          "2023-02-13T09:00:00+00:00",
          "2023-02-13T12:00:00+00:00",
          "2023-02-13T15:00:00+00:00",
          "2023-02-13T18:00:00+00:00",
          "2023-02-13T21:00:00+00:00",
          "2023-02-14T00:00:00+00:00",
          "2023-02-14T03:00:00+00:00",
          "2023-02-14T06:00:00+00:00",
          "2023-02-14T09:00:00+00:00",
          "2023-02-14T12:00:00+00:00",
          "2023-02-14T15:00:00+00:00",
          "2023-02-14T18:00:00+00:00",
          "2023-02-14T21:00:00+00:00",
          "2023-02-15T00:00:00+00:00",
          "2023-02-15T03:00:00+00:00",
          "2023-02-15T06:00:00+00:00",
          "2023-02-15T09:00:00+00:00",
          "2023-02-15T12:00:00+00:00",
          "2023-02-15T15:00:00+00:00",
          "2023-02-15T18:00:00+00:00",
          "2023-02-15T21:00:00+00:00",
          "2023-02-16T00:00:00+00:00",
          "2023-02-16T03:00:00+00:00",
          "2023-02-16T06:00:00+00:00",
          "2023-02-16T09:00:00+00:00",
          "2023-02-16T12:00:00+00:00",
          "2023-02-16T15:00:00+00:00",
          "2023-02-16T18:00:00+00:00",
          "2023-02-16T21:00:00+00:00",
          "2023-02-17T00:00:00+00:00",
          "2023-02-17T03:00:00+00:00",
          "2023-02-17T06:00:00+00:00",
          "2023-02-17T09:00:00+00:00",
          "2023-02-17T12:00:00+00:00",
          "2023-02-17T15:00:00+00:00",
          "2023-02-17T18:00:00+00:00",
          "2023-02-17T21:00:00+00:00",
          "2023-02-18T00:00:00+00:00",
          "2023-02-18T03:00:00+00:00",
          "2023-02-18T06:00:00+00:00",
          "2023-02-18T09:00:00+00:00",
          "2023-02-18T12:00:00+00:00",
          "2023-02-18T15:00:00+00:00",
          "2023-02-18T18:00:00+00:00",
          "2023-02-18T21:00:00+00:00",
          "2023-02-19T00:00:00+00:00",
          "2023-02-19T03:00:00+00:00",
          "2023-02-19T06:00:00+00:00",
          "2023-02-19T09:00:00+00:00",
          "2023-02-19T12:00:00+00:00",
          "2023-02-19T15:00:00+00:00",
          "2023-02-19T18:00:00+00:00",
          "2023-02-19T21:00:00+00:00",
          "2023-02-20T00:00:00+00:00",
          "2023-02-20T03:00:00+00:00",
          "2023-02-20T06:00:00+00:00",
          "2023-02-20T09:00:00+00:00",
          "2023-02-20T12:00:00+00:00",
          "2023-02-20T15:00:00+00:00",
          "2023-02-20T18:00:00+00:00",
          "2023-02-20T21:00:00+00:00",
          "2023-02-21T00:00:00+00:00",
          "2023-02-21T03:00:00+00:00",
          "2023-02-21T06:00:00+00:00",
          "2023-02-21T09:00:00+00:00",
          "2023-02-21T12:00:00+00:00",
          "2023-02-21T15:00:00+00:00",
          "2023-02-21T18:00:00+00:00",
          "2023-02-21T21:00:00+00:00",
          "2023-02-22T00:00:00+00:00",
          "2023-02-22T03:00:00+00:00",
          "2023-02-22T06:00:00+00:00",
          "2023-02-22T09:00:00+00:00",
          "2023-02-22T12:00:00+00:00",
          "2023-02-22T15:00:00+00:00",
          "2023-02-22T18:00:00+00:00",
          "2023-02-22T21:00:00+00:00",
          "2023-02-23T00:00:00+00:00",
          "2023-02-23T03:00:00+00:00",
          "2023-02-23T06:00:00+00:00",
          "2023-02-23T09:00:00+00:00",
          "2023-02-23T15:00:00+00:00",
          "2023-02-23T18:00:00+00:00",
          "2023-02-23T21:00:00+00:00",
          "2023-02-24T00:00:00+00:00",
          "2023-02-24T03:00:00+00:00",
          "2023-02-24T06:00:00+00:00",
          "2023-02-24T09:00:00+00:00",
          "2023-02-24T12:00:00+00:00",
          "2023-02-24T15:00:00+00:00",
          "2023-02-24T18:00:00+00:00",
          "2023-02-24T21:00:00+00:00",
          "2023-02-25T00:00:00+00:00",
          "2023-02-25T03:00:00+00:00",
          "2023-02-25T06:00:00+00:00",
          "2023-02-25T09:00:00+00:00",
          "2023-02-25T12:00:00+00:00",
          "2023-02-25T15:00:00+00:00",
          "2023-02-25T18:00:00+00:00",
          "2023-02-25T21:00:00+00:00",
          "2023-02-26T00:00:00+00:00",
          "2023-02-26T03:00:00+00:00",
          "2023-02-26T06:00:00+00:00",
          "2023-02-26T09:00:00+00:00",
          "2023-02-26T12:00:00+00:00",
          "2023-02-26T15:00:00+00:00",
          "2023-02-26T18:00:00+00:00",
          "2023-02-26T21:00:00+00:00",
          "2023-02-27T00:00:00+00:00",
          "2023-02-27T03:00:00+00:00",
          "2023-02-27T06:00:00+00:00",
          "2023-02-27T09:00:00+00:00",
          "2023-02-27T12:00:00+00:00",
          "2023-02-27T15:00:00+00:00",
          "2023-02-27T18:00:00+00:00",
          "2023-02-27T21:00:00+00:00"
         ],
         "xaxis": "x",
         "y": [
          27.19806847452827,
          24.467781739737855,
          24.183613958229966,
          24.183613958229966,
          23.474088811705833,
          23.719798397669656,
          22.143249214867243,
          22.96630017413934,
          23.624525452149697,
          22.38085914733202,
          11.951877628013634,
          10.341973967762966,
          21.429783900778126,
          26.143494797224697,
          24.66770884115452,
          23.719798397669656,
          23.474088811705833,
          23.857178144948698,
          23.857178144948698,
          19.988957012414193,
          11.951877628013634,
          22.91333622537597,
          23.241141660882985,
          22.151469111812315,
          22.151469111812315,
          22.151469111812315,
          23.71795785276089,
          23.71795785276089,
          23.71795785276089,
          21.429783900778126,
          23.71795785276089,
          17.207187370516458,
          18.382146082031646,
          18.382146082031646,
          18.382146082031646,
          14.804270112821282,
          12.163968959039973,
          12.56223593831962,
          12.56223593831962,
          10.293993778108558,
          8.400725544534607,
          6.76422492350069,
          8.202914158460485,
          12.56223593831962,
          12.56223593831962,
          12.56223593831962,
          12.56223593831962,
          16.11744753938406,
          21.47511988385845,
          21.443884264809785,
          18.952232824630283,
          27.67571646662949,
          27.67571646662949,
          26.40249570159005,
          27.67571646662949,
          25.509116281830906,
          25.25464851470941,
          24.00021958453456,
          17.908107252080995,
          19.85523831624542,
          19.855238316245412,
          20.75322766261823,
          21.429783900778126,
          23.71795785276089,
          21.429783900778126,
          15.862095193982235,
          16.32448413280574,
          26.891014609938214,
          25.94059495688715,
          23.299485320508524,
          23.643495224467685,
          23.643495224467685,
          23.624525452149697,
          16.58684792134985,
          6.998456222810114,
          5.2378162302472875,
          3.9063868150634047,
          3.213605543654408,
          2.604837257345897,
          4.673265358753163,
          6.149507312647117,
          6.821870519678858,
          16.412459497577494,
          22.151469111812315,
          23.71795785276089,
          23.730128357367327,
          24.782932945826445,
          26.051198644209236,
          23.18553897196471,
          23.18553897196471,
          22.56831945147129,
          22.96630017413934,
          22.56831945147129,
          22.143249214867243,
          22.61831105735712,
          22.992565069719983,
          23.624525452149697,
          22.38085914733202,
          12.94614442781943,
          4.330748909173641,
          6.883354556811884,
          21.443884264809785,
          21.47511988385845,
          12.562235938319619,
          16.32448413280574,
          16.32448413280574,
          8.735111215589239,
          8.735111215589239,
          12.94614442781943,
          11.668763177198375,
          21.98848922924968,
          21.98848922924968,
          13.955587999118109,
          3.9068409841819736,
          7.008550116592742,
          1.8187873268386772,
          19.855238316245412,
          24.46778173973786,
          24.66770884115452,
          null,
          null,
          null,
          null,
          null,
          null,
          null,
          null,
          null,
          null,
          null,
          null,
          null,
          null,
          null,
          null,
          null,
          null,
          null,
          null,
          null,
          null,
          null,
          null,
          null,
          null,
          null,
          null,
          null,
          null,
          null,
          null,
          null,
          null,
          null
         ],
         "yaxis": "y"
        },
        {
         "customdata": [
          13.821328440366973,
          13.87874642201835,
          13.768011743119265,
          13.521645176470589,
          12.511860705882354,
          11.907041882352942,
          11.133925647058824,
          10.255623529411764,
          9.992658823529412,
          9.24583905882353,
          8.409611294117648,
          7.80487868852459,
          7.416466885245901,
          7.020726557377049,
          6.126646557377049,
          5.049353442622951,
          4.653613114754099,
          4.3311580327868855,
          4.052674098360656,
          3.5400735135135135,
          3.6850594594594597,
          3.85420972972973,
          3.85420972972973,
          4.313331891891892,
          4.482482162162162,
          4.192510270270271,
          3.515909189189189,
          3.1292800000000005,
          3.1292800000000005,
          2.819790769230769,
          2.819790769230769,
          2.819790769230769,
          2.819790769230769,
          3.3356061538461543,
          3.4043815384615383,
          17.8816,
          13.85824,
          17.8816,
          17.8816,
          17.8816,
          16.98752,
          21.01088,
          19.22272,
          15.19936,
          12.96416,
          7.15264,
          4.91744,
          9.83488,
          15.19936,
          16.09344,
          16.98752,
          17.8816,
          16.09344,
          16.09344,
          11.176,
          7.15264,
          12.96416,
          12.070079999999999,
          11.176,
          11.176,
          11.176,
          11.176,
          11.176,
          11.176,
          9.83488,
          11.176,
          8.04672,
          8.04672,
          8.04672,
          8.04672,
          7.15264,
          5.81152,
          5.81152,
          5.81152,
          4.91744,
          4.02336,
          3.12928,
          4.02336,
          5.81152,
          5.81152,
          5.81152,
          5.81152,
          7.15264,
          8.9408,
          8.9408,
          8.04672,
          12.070079999999999,
          12.070079999999999,
          11.176,
          12.070079999999999,
          12.96416,
          11.176,
          12.96416,
          8.9408,
          9.83488,
          9.83488,
          8.9408,
          9.83488,
          11.176,
          9.83488,
          7.15264,
          7.15264,
          11.176,
          13.85824,
          20.1168,
          16.98752,
          16.98752,
          15.19936,
          9.83488,
          5.81152,
          4.91744,
          4.02336,
          3.12928,
          1.78816,
          1.78816,
          4.02336,
          4.91744,
          8.9408,
          11.176,
          11.176,
          9.83488,
          12.070079999999999,
          16.09344,
          20.1168,
          20.1168,
          20.1168,
          19.22272,
          20.1168,
          21.01088,
          20.1168,
          19.22272,
          15.19936,
          12.96416,
          8.04672,
          4.02336,
          3.12928,
          8.9408,
          8.9408,
          5.81152,
          7.15264,
          7.15264,
          5.81152,
          5.81152,
          8.04672,
          8.04672,
          12.070079999999999,
          12.070079999999999,
          8.9408,
          4.02336,
          5.81152,
          1.78816,
          9.83488,
          13.85824,
          16.09344
         ],
         "hovertemplate": "<b>Power Generation: %{y:.2f} MW </b><br> Wind Speed: %{customdata:.2f} m/s <br><i> %{x}</i><extra></extra>",
         "legendgroup": "Actual",
         "line": {
          "color": "#EF553B",
          "dash": "solid"
         },
         "marker": {
          "symbol": "circle"
         },
         "mode": "lines",
         "name": "Actual",
         "orientation": "v",
         "showlegend": true,
         "type": "scatter",
         "x": [
          "2023-02-08T15:00:00+00:00",
          "2023-02-08T18:00:00+00:00",
          "2023-02-08T21:00:00+00:00",
          "2023-02-09T00:00:00+00:00",
          "2023-02-09T03:00:00+00:00",
          "2023-02-09T06:00:00+00:00",
          "2023-02-09T09:00:00+00:00",
          "2023-02-09T12:00:00+00:00",
          "2023-02-09T15:00:00+00:00",
          "2023-02-09T18:00:00+00:00",
          "2023-02-09T21:00:00+00:00",
          "2023-02-10T00:00:00+00:00",
          "2023-02-10T03:00:00+00:00",
          "2023-02-10T06:00:00+00:00",
          "2023-02-10T09:00:00+00:00",
          "2023-02-10T12:00:00+00:00",
          "2023-02-10T15:00:00+00:00",
          "2023-02-10T18:00:00+00:00",
          "2023-02-10T21:00:00+00:00",
          "2023-02-11T00:00:00+00:00",
          "2023-02-11T03:00:00+00:00",
          "2023-02-11T06:00:00+00:00",
          "2023-02-11T09:00:00+00:00",
          "2023-02-11T12:00:00+00:00",
          "2023-02-11T15:00:00+00:00",
          "2023-02-11T18:00:00+00:00",
          "2023-02-11T21:00:00+00:00",
          "2023-02-12T00:00:00+00:00",
          "2023-02-12T03:00:00+00:00",
          "2023-02-12T06:00:00+00:00",
          "2023-02-12T09:00:00+00:00",
          "2023-02-12T12:00:00+00:00",
          "2023-02-12T15:00:00+00:00",
          "2023-02-12T18:00:00+00:00",
          "2023-02-12T21:00:00+00:00",
          "2023-02-13T00:00:00+00:00",
          "2023-02-13T03:00:00+00:00",
          "2023-02-13T06:00:00+00:00",
          "2023-02-13T09:00:00+00:00",
          "2023-02-13T12:00:00+00:00",
          "2023-02-13T15:00:00+00:00",
          "2023-02-13T18:00:00+00:00",
          "2023-02-13T21:00:00+00:00",
          "2023-02-14T00:00:00+00:00",
          "2023-02-14T03:00:00+00:00",
          "2023-02-14T06:00:00+00:00",
          "2023-02-14T09:00:00+00:00",
          "2023-02-14T12:00:00+00:00",
          "2023-02-14T15:00:00+00:00",
          "2023-02-14T18:00:00+00:00",
          "2023-02-14T21:00:00+00:00",
          "2023-02-15T00:00:00+00:00",
          "2023-02-15T03:00:00+00:00",
          "2023-02-15T06:00:00+00:00",
          "2023-02-15T09:00:00+00:00",
          "2023-02-15T12:00:00+00:00",
          "2023-02-15T15:00:00+00:00",
          "2023-02-15T18:00:00+00:00",
          "2023-02-15T21:00:00+00:00",
          "2023-02-16T00:00:00+00:00",
          "2023-02-16T03:00:00+00:00",
          "2023-02-16T06:00:00+00:00",
          "2023-02-16T09:00:00+00:00",
          "2023-02-16T12:00:00+00:00",
          "2023-02-16T15:00:00+00:00",
          "2023-02-16T18:00:00+00:00",
          "2023-02-16T21:00:00+00:00",
          "2023-02-17T00:00:00+00:00",
          "2023-02-17T03:00:00+00:00",
          "2023-02-17T06:00:00+00:00",
          "2023-02-17T09:00:00+00:00",
          "2023-02-17T12:00:00+00:00",
          "2023-02-17T15:00:00+00:00",
          "2023-02-17T18:00:00+00:00",
          "2023-02-17T21:00:00+00:00",
          "2023-02-18T00:00:00+00:00",
          "2023-02-18T03:00:00+00:00",
          "2023-02-18T06:00:00+00:00",
          "2023-02-18T09:00:00+00:00",
          "2023-02-18T12:00:00+00:00",
          "2023-02-18T15:00:00+00:00",
          "2023-02-18T18:00:00+00:00",
          "2023-02-18T21:00:00+00:00",
          "2023-02-19T00:00:00+00:00",
          "2023-02-19T03:00:00+00:00",
          "2023-02-19T06:00:00+00:00",
          "2023-02-19T09:00:00+00:00",
          "2023-02-19T12:00:00+00:00",
          "2023-02-19T15:00:00+00:00",
          "2023-02-19T18:00:00+00:00",
          "2023-02-19T21:00:00+00:00",
          "2023-02-20T00:00:00+00:00",
          "2023-02-20T03:00:00+00:00",
          "2023-02-20T06:00:00+00:00",
          "2023-02-20T09:00:00+00:00",
          "2023-02-20T12:00:00+00:00",
          "2023-02-20T15:00:00+00:00",
          "2023-02-20T18:00:00+00:00",
          "2023-02-20T21:00:00+00:00",
          "2023-02-21T00:00:00+00:00",
          "2023-02-21T03:00:00+00:00",
          "2023-02-21T06:00:00+00:00",
          "2023-02-21T09:00:00+00:00",
          "2023-02-21T12:00:00+00:00",
          "2023-02-21T15:00:00+00:00",
          "2023-02-21T18:00:00+00:00",
          "2023-02-21T21:00:00+00:00",
          "2023-02-22T00:00:00+00:00",
          "2023-02-22T03:00:00+00:00",
          "2023-02-22T06:00:00+00:00",
          "2023-02-22T09:00:00+00:00",
          "2023-02-22T12:00:00+00:00",
          "2023-02-22T15:00:00+00:00",
          "2023-02-22T18:00:00+00:00",
          "2023-02-22T21:00:00+00:00",
          "2023-02-23T00:00:00+00:00",
          "2023-02-23T03:00:00+00:00",
          "2023-02-23T06:00:00+00:00",
          "2023-02-23T09:00:00+00:00",
          "2023-02-23T15:00:00+00:00",
          "2023-02-23T18:00:00+00:00",
          "2023-02-23T21:00:00+00:00",
          "2023-02-24T00:00:00+00:00",
          "2023-02-24T03:00:00+00:00",
          "2023-02-24T06:00:00+00:00",
          "2023-02-24T09:00:00+00:00",
          "2023-02-24T12:00:00+00:00",
          "2023-02-24T15:00:00+00:00",
          "2023-02-24T18:00:00+00:00",
          "2023-02-24T21:00:00+00:00",
          "2023-02-25T00:00:00+00:00",
          "2023-02-25T03:00:00+00:00",
          "2023-02-25T06:00:00+00:00",
          "2023-02-25T09:00:00+00:00",
          "2023-02-25T12:00:00+00:00",
          "2023-02-25T15:00:00+00:00",
          "2023-02-25T18:00:00+00:00",
          "2023-02-25T21:00:00+00:00",
          "2023-02-26T00:00:00+00:00",
          "2023-02-26T03:00:00+00:00",
          "2023-02-26T06:00:00+00:00",
          "2023-02-26T09:00:00+00:00",
          "2023-02-26T12:00:00+00:00",
          "2023-02-26T15:00:00+00:00",
          "2023-02-26T18:00:00+00:00",
          "2023-02-26T21:00:00+00:00",
          "2023-02-27T00:00:00+00:00",
          "2023-02-27T03:00:00+00:00",
          "2023-02-27T06:00:00+00:00",
          "2023-02-27T09:00:00+00:00",
          "2023-02-27T12:00:00+00:00",
          "2023-02-27T15:00:00+00:00",
          "2023-02-27T18:00:00+00:00",
          "2023-02-27T21:00:00+00:00"
         ],
         "xaxis": "x",
         "y": [
          27.150278066666665,
          29.662411877777778,
          27.70595697777778,
          27.06053972777778,
          25.723871772222225,
          24.324496961111112,
          20.934500766666666,
          23.38472887777778,
          24.5264364,
          16.012338627777776,
          6.569076027777777,
          10.21042271111111,
          22.006454027777778,
          22.882521761111114,
          21.763950816666668,
          22.583871894444442,
          24.202242350000002,
          24.620721455555557,
          25.817110216666666,
          24.338831288888887,
          23.84758072777778,
          22.721779666666666,
          20.78363173743017,
          21.2303062,
          21.150809527777778,
          20.222826927777778,
          19.919787394444445,
          17.970539083333335,
          20.48256333888889,
          19.96684137777778,
          17.14757756111111,
          14.925714772222221,
          13.294780305555555,
          13.155400922222222,
          10.420132016666667,
          7.577910844444444,
          5.226257280898876,
          3.4811564388888887,
          6.269006399999999,
          6.9808924413407825,
          3.7917375944444447,
          2.979314344444444,
          4.458607455555556,
          7.398425527777778,
          10.222019,
          10.594415811111112,
          12.467054894444443,
          14.038110822222224,
          16.797926366666665,
          19.97411828888889,
          20.731533605555555,
          21.172519094444446,
          22.722648111111113,
          24.276797638888887,
          23.97736727777778,
          19.463374282485876,
          null,
          23.819080881355934,
          21.940404422222223,
          19.40290537222222,
          16.15297113333333,
          14.737509044444444,
          14.586008116666665,
          15.150767176136362,
          11.240705586592178,
          7.854886261111111,
          10.81077351111111,
          19.56726145,
          21.970774916666667,
          15.29401255,
          23.31614890909091,
          22.475683262857142,
          22.014130555555557,
          17.700130438888888,
          6.106264233333333,
          1.4258078666666667,
          1.3087835222222224,
          1.5311243722222223,
          1.2804474555555556,
          1.3726160388888888,
          1.7992808666666669,
          4.1882715388888885,
          7.051247427777778,
          15.010386511111111,
          16.23082055,
          18.248838705555556,
          21.275872516666666,
          24.354231288888887,
          21.1886084,
          20.331054227777777,
          15.793546283333333,
          20.278994005555557,
          20.375853664772727,
          20.061645405555556,
          19.865713905555555,
          21.243271572222223,
          26.14156186666667,
          26.25962770555556,
          21.664147044444444,
          12.066924472222222,
          3.872830683333333,
          9.683455466666667,
          16.15231687777778,
          11.343601311111112,
          13.869748738888887,
          15.576453788888887,
          13.818091922222223,
          12.52851286111111,
          11.757138544444446,
          10.675278744444444,
          17.19055298888889,
          21.027393761111114,
          17.006579494444445,
          14.495308177777778,
          7.357245977777779,
          3.7937302944444444,
          5.293766388888889,
          20.599490268156426,
          27.27468266470588,
          null,
          null,
          null,
          null,
          null,
          null,
          null,
          null,
          null,
          null,
          null,
          null,
          null,
          null,
          null,
          null,
          null,
          null,
          null,
          null,
          null,
          null,
          null,
          null,
          null,
          null,
          null,
          null,
          null,
          null,
          null,
          null,
          null,
          null,
          null
         ],
         "yaxis": "y"
        },
        {
         "customdata": [
          13.821328440366973,
          13.87874642201835,
          13.768011743119265,
          13.521645176470589,
          12.511860705882354,
          11.907041882352942,
          11.133925647058824,
          10.255623529411764,
          9.992658823529412,
          9.24583905882353,
          8.409611294117648,
          7.80487868852459,
          7.416466885245901,
          7.020726557377049,
          6.126646557377049,
          5.049353442622951,
          4.653613114754099,
          4.3311580327868855,
          4.052674098360656,
          3.5400735135135135,
          3.6850594594594597,
          3.85420972972973,
          3.85420972972973,
          4.313331891891892,
          4.482482162162162,
          4.192510270270271,
          3.515909189189189,
          3.1292800000000005,
          3.1292800000000005,
          2.819790769230769,
          2.819790769230769,
          2.819790769230769,
          2.819790769230769,
          3.3356061538461543,
          3.4043815384615383,
          17.8816,
          13.85824,
          17.8816,
          17.8816,
          17.8816,
          16.98752,
          21.01088,
          19.22272,
          15.19936,
          12.96416,
          7.15264,
          4.91744,
          9.83488,
          15.19936,
          16.09344,
          16.98752,
          17.8816,
          16.09344,
          16.09344,
          11.176,
          7.15264,
          12.96416,
          12.070079999999999,
          11.176,
          11.176,
          11.176,
          11.176,
          11.176,
          11.176,
          9.83488,
          11.176,
          8.04672,
          8.04672,
          8.04672,
          8.04672,
          7.15264,
          5.81152,
          5.81152,
          5.81152,
          4.91744,
          4.02336,
          3.12928,
          4.02336,
          5.81152,
          5.81152,
          5.81152,
          5.81152,
          7.15264,
          8.9408,
          8.9408,
          8.04672,
          12.070079999999999,
          12.070079999999999,
          11.176,
          12.070079999999999,
          12.96416,
          11.176,
          12.96416,
          8.9408,
          9.83488,
          9.83488,
          8.9408,
          9.83488,
          11.176,
          9.83488,
          7.15264,
          7.15264,
          11.176,
          13.85824,
          20.1168,
          16.98752,
          16.98752,
          15.19936,
          9.83488,
          5.81152,
          4.91744,
          4.02336,
          3.12928,
          1.78816,
          1.78816,
          4.02336,
          4.91744,
          8.9408,
          11.176,
          11.176,
          9.83488,
          12.070079999999999,
          16.09344,
          20.1168,
          20.1168,
          20.1168,
          19.22272,
          20.1168,
          21.01088,
          20.1168,
          19.22272,
          15.19936,
          12.96416,
          8.04672,
          4.02336,
          3.12928,
          8.9408,
          8.9408,
          5.81152,
          7.15264,
          7.15264,
          5.81152,
          5.81152,
          8.04672,
          8.04672,
          12.070079999999999,
          12.070079999999999,
          8.9408,
          4.02336,
          5.81152,
          1.78816,
          9.83488,
          13.85824,
          16.09344
         ],
         "hovertemplate": "<b>Power Generation: %{y:.2f} MW </b><br> Wind Speed: %{customdata:.2f} m/s <br><i> %{x}</i><extra></extra>",
         "legendgroup": "Forecast",
         "line": {
          "color": "#00cc96",
          "dash": "solid"
         },
         "marker": {
          "symbol": "circle"
         },
         "mode": "lines",
         "name": "Forecast",
         "orientation": "v",
         "showlegend": true,
         "type": "scatter",
         "x": [
          "2023-02-08T15:00:00+00:00",
          "2023-02-08T18:00:00+00:00",
          "2023-02-08T21:00:00+00:00",
          "2023-02-09T00:00:00+00:00",
          "2023-02-09T03:00:00+00:00",
          "2023-02-09T06:00:00+00:00",
          "2023-02-09T09:00:00+00:00",
          "2023-02-09T12:00:00+00:00",
          "2023-02-09T15:00:00+00:00",
          "2023-02-09T18:00:00+00:00",
          "2023-02-09T21:00:00+00:00",
          "2023-02-10T00:00:00+00:00",
          "2023-02-10T03:00:00+00:00",
          "2023-02-10T06:00:00+00:00",
          "2023-02-10T09:00:00+00:00",
          "2023-02-10T12:00:00+00:00",
          "2023-02-10T15:00:00+00:00",
          "2023-02-10T18:00:00+00:00",
          "2023-02-10T21:00:00+00:00",
          "2023-02-11T00:00:00+00:00",
          "2023-02-11T03:00:00+00:00",
          "2023-02-11T06:00:00+00:00",
          "2023-02-11T09:00:00+00:00",
          "2023-02-11T12:00:00+00:00",
          "2023-02-11T15:00:00+00:00",
          "2023-02-11T18:00:00+00:00",
          "2023-02-11T21:00:00+00:00",
          "2023-02-12T00:00:00+00:00",
          "2023-02-12T03:00:00+00:00",
          "2023-02-12T06:00:00+00:00",
          "2023-02-12T09:00:00+00:00",
          "2023-02-12T12:00:00+00:00",
          "2023-02-12T15:00:00+00:00",
          "2023-02-12T18:00:00+00:00",
          "2023-02-12T21:00:00+00:00",
          "2023-02-13T00:00:00+00:00",
          "2023-02-13T03:00:00+00:00",
          "2023-02-13T06:00:00+00:00",
          "2023-02-13T09:00:00+00:00",
          "2023-02-13T12:00:00+00:00",
          "2023-02-13T15:00:00+00:00",
          "2023-02-13T18:00:00+00:00",
          "2023-02-13T21:00:00+00:00",
          "2023-02-14T00:00:00+00:00",
          "2023-02-14T03:00:00+00:00",
          "2023-02-14T06:00:00+00:00",
          "2023-02-14T09:00:00+00:00",
          "2023-02-14T12:00:00+00:00",
          "2023-02-14T15:00:00+00:00",
          "2023-02-14T18:00:00+00:00",
          "2023-02-14T21:00:00+00:00",
          "2023-02-15T00:00:00+00:00",
          "2023-02-15T03:00:00+00:00",
          "2023-02-15T06:00:00+00:00",
          "2023-02-15T09:00:00+00:00",
          "2023-02-15T12:00:00+00:00",
          "2023-02-15T15:00:00+00:00",
          "2023-02-15T18:00:00+00:00",
          "2023-02-15T21:00:00+00:00",
          "2023-02-16T00:00:00+00:00",
          "2023-02-16T03:00:00+00:00",
          "2023-02-16T06:00:00+00:00",
          "2023-02-16T09:00:00+00:00",
          "2023-02-16T12:00:00+00:00",
          "2023-02-16T15:00:00+00:00",
          "2023-02-16T18:00:00+00:00",
          "2023-02-16T21:00:00+00:00",
          "2023-02-17T00:00:00+00:00",
          "2023-02-17T03:00:00+00:00",
          "2023-02-17T06:00:00+00:00",
          "2023-02-17T09:00:00+00:00",
          "2023-02-17T12:00:00+00:00",
          "2023-02-17T15:00:00+00:00",
          "2023-02-17T18:00:00+00:00",
          "2023-02-17T21:00:00+00:00",
          "2023-02-18T00:00:00+00:00",
          "2023-02-18T03:00:00+00:00",
          "2023-02-18T06:00:00+00:00",
          "2023-02-18T09:00:00+00:00",
          "2023-02-18T12:00:00+00:00",
          "2023-02-18T15:00:00+00:00",
          "2023-02-18T18:00:00+00:00",
          "2023-02-18T21:00:00+00:00",
          "2023-02-19T00:00:00+00:00",
          "2023-02-19T03:00:00+00:00",
          "2023-02-19T06:00:00+00:00",
          "2023-02-19T09:00:00+00:00",
          "2023-02-19T12:00:00+00:00",
          "2023-02-19T15:00:00+00:00",
          "2023-02-19T18:00:00+00:00",
          "2023-02-19T21:00:00+00:00",
          "2023-02-20T00:00:00+00:00",
          "2023-02-20T03:00:00+00:00",
          "2023-02-20T06:00:00+00:00",
          "2023-02-20T09:00:00+00:00",
          "2023-02-20T12:00:00+00:00",
          "2023-02-20T15:00:00+00:00",
          "2023-02-20T18:00:00+00:00",
          "2023-02-20T21:00:00+00:00",
          "2023-02-21T00:00:00+00:00",
          "2023-02-21T03:00:00+00:00",
          "2023-02-21T06:00:00+00:00",
          "2023-02-21T09:00:00+00:00",
          "2023-02-21T12:00:00+00:00",
          "2023-02-21T15:00:00+00:00",
          "2023-02-21T18:00:00+00:00",
          "2023-02-21T21:00:00+00:00",
          "2023-02-22T00:00:00+00:00",
          "2023-02-22T03:00:00+00:00",
          "2023-02-22T06:00:00+00:00",
          "2023-02-22T09:00:00+00:00",
          "2023-02-22T12:00:00+00:00",
          "2023-02-22T15:00:00+00:00",
          "2023-02-22T18:00:00+00:00",
          "2023-02-22T21:00:00+00:00",
          "2023-02-23T00:00:00+00:00",
          "2023-02-23T03:00:00+00:00",
          "2023-02-23T06:00:00+00:00",
          "2023-02-23T09:00:00+00:00",
          "2023-02-23T15:00:00+00:00",
          "2023-02-23T18:00:00+00:00",
          "2023-02-23T21:00:00+00:00",
          "2023-02-24T00:00:00+00:00",
          "2023-02-24T03:00:00+00:00",
          "2023-02-24T06:00:00+00:00",
          "2023-02-24T09:00:00+00:00",
          "2023-02-24T12:00:00+00:00",
          "2023-02-24T15:00:00+00:00",
          "2023-02-24T18:00:00+00:00",
          "2023-02-24T21:00:00+00:00",
          "2023-02-25T00:00:00+00:00",
          "2023-02-25T03:00:00+00:00",
          "2023-02-25T06:00:00+00:00",
          "2023-02-25T09:00:00+00:00",
          "2023-02-25T12:00:00+00:00",
          "2023-02-25T15:00:00+00:00",
          "2023-02-25T18:00:00+00:00",
          "2023-02-25T21:00:00+00:00",
          "2023-02-26T00:00:00+00:00",
          "2023-02-26T03:00:00+00:00",
          "2023-02-26T06:00:00+00:00",
          "2023-02-26T09:00:00+00:00",
          "2023-02-26T12:00:00+00:00",
          "2023-02-26T15:00:00+00:00",
          "2023-02-26T18:00:00+00:00",
          "2023-02-26T21:00:00+00:00",
          "2023-02-27T00:00:00+00:00",
          "2023-02-27T03:00:00+00:00",
          "2023-02-27T06:00:00+00:00",
          "2023-02-27T09:00:00+00:00",
          "2023-02-27T12:00:00+00:00",
          "2023-02-27T15:00:00+00:00",
          "2023-02-27T18:00:00+00:00",
          "2023-02-27T21:00:00+00:00"
         ],
         "xaxis": "x",
         "y": [
          null,
          null,
          null,
          null,
          null,
          null,
          null,
          null,
          null,
          null,
          null,
          null,
          null,
          null,
          null,
          null,
          null,
          null,
          null,
          null,
          null,
          null,
          null,
          null,
          null,
          null,
          null,
          null,
          null,
          null,
          null,
          null,
          null,
          null,
          null,
          null,
          null,
          null,
          null,
          null,
          null,
          null,
          null,
          null,
          null,
          null,
          null,
          null,
          null,
          null,
          null,
          null,
          null,
          null,
          null,
          null,
          null,
          null,
          null,
          null,
          null,
          null,
          null,
          null,
          null,
          null,
          null,
          null,
          null,
          null,
          null,
          null,
          null,
          null,
          null,
          null,
          null,
          null,
          null,
          null,
          null,
          null,
          null,
          null,
          null,
          null,
          null,
          null,
          null,
          null,
          null,
          null,
          null,
          null,
          null,
          null,
          null,
          null,
          null,
          null,
          null,
          null,
          null,
          null,
          null,
          null,
          null,
          null,
          null,
          null,
          null,
          null,
          null,
          null,
          null,
          null,
          null,
          null,
          null,
          23.13253130812102,
          23.058312229122294,
          22.91200936902695,
          22.838912831864835,
          21.90773190839958,
          21.03825969814763,
          19.575597190057433,
          17.519433094798828,
          16.795316846140402,
          14.8665531923836,
          12.705530014346438,
          11.227713927213333,
          10.440122494731215,
          9.463195498535214,
          7.584057779489433,
          5.652830379855397,
          5.183964046803673,
          4.689324690746172,
          4.480632862055234,
          4.051339383701996,
          4.433097384712685,
          4.986699015352614,
          5.284080996369272,
          6.935801742642018,
          6.580509948183134,
          5.90518647650818,
          4.930346294742908,
          3.8001656535459887,
          3.6210952013547244,
          3.0551682661083643,
          5.330482921847148,
          2.6201428217806186,
          2.889181543978828,
          4.6588873044376005,
          4.556576959116811
         ],
         "yaxis": "y"
        }
       ],
       "layout": {
        "legend": {
         "title": {
          "text": ""
         },
         "tracegroupgap": 0
        },
        "template": {
         "data": {
          "bar": [
           {
            "error_x": {
             "color": "#2a3f5f"
            },
            "error_y": {
             "color": "#2a3f5f"
            },
            "marker": {
             "line": {
              "color": "#E5ECF6",
              "width": 0.5
             },
             "pattern": {
              "fillmode": "overlay",
              "size": 10,
              "solidity": 0.2
             }
            },
            "type": "bar"
           }
          ],
          "barpolar": [
           {
            "marker": {
             "line": {
              "color": "#E5ECF6",
              "width": 0.5
             },
             "pattern": {
              "fillmode": "overlay",
              "size": 10,
              "solidity": 0.2
             }
            },
            "type": "barpolar"
           }
          ],
          "carpet": [
           {
            "aaxis": {
             "endlinecolor": "#2a3f5f",
             "gridcolor": "white",
             "linecolor": "white",
             "minorgridcolor": "white",
             "startlinecolor": "#2a3f5f"
            },
            "baxis": {
             "endlinecolor": "#2a3f5f",
             "gridcolor": "white",
             "linecolor": "white",
             "minorgridcolor": "white",
             "startlinecolor": "#2a3f5f"
            },
            "type": "carpet"
           }
          ],
          "choropleth": [
           {
            "colorbar": {
             "outlinewidth": 0,
             "ticks": ""
            },
            "type": "choropleth"
           }
          ],
          "contour": [
           {
            "colorbar": {
             "outlinewidth": 0,
             "ticks": ""
            },
            "colorscale": [
             [
              0,
              "#0d0887"
             ],
             [
              0.1111111111111111,
              "#46039f"
             ],
             [
              0.2222222222222222,
              "#7201a8"
             ],
             [
              0.3333333333333333,
              "#9c179e"
             ],
             [
              0.4444444444444444,
              "#bd3786"
             ],
             [
              0.5555555555555556,
              "#d8576b"
             ],
             [
              0.6666666666666666,
              "#ed7953"
             ],
             [
              0.7777777777777778,
              "#fb9f3a"
             ],
             [
              0.8888888888888888,
              "#fdca26"
             ],
             [
              1,
              "#f0f921"
             ]
            ],
            "type": "contour"
           }
          ],
          "contourcarpet": [
           {
            "colorbar": {
             "outlinewidth": 0,
             "ticks": ""
            },
            "type": "contourcarpet"
           }
          ],
          "heatmap": [
           {
            "colorbar": {
             "outlinewidth": 0,
             "ticks": ""
            },
            "colorscale": [
             [
              0,
              "#0d0887"
             ],
             [
              0.1111111111111111,
              "#46039f"
             ],
             [
              0.2222222222222222,
              "#7201a8"
             ],
             [
              0.3333333333333333,
              "#9c179e"
             ],
             [
              0.4444444444444444,
              "#bd3786"
             ],
             [
              0.5555555555555556,
              "#d8576b"
             ],
             [
              0.6666666666666666,
              "#ed7953"
             ],
             [
              0.7777777777777778,
              "#fb9f3a"
             ],
             [
              0.8888888888888888,
              "#fdca26"
             ],
             [
              1,
              "#f0f921"
             ]
            ],
            "type": "heatmap"
           }
          ],
          "heatmapgl": [
           {
            "colorbar": {
             "outlinewidth": 0,
             "ticks": ""
            },
            "colorscale": [
             [
              0,
              "#0d0887"
             ],
             [
              0.1111111111111111,
              "#46039f"
             ],
             [
              0.2222222222222222,
              "#7201a8"
             ],
             [
              0.3333333333333333,
              "#9c179e"
             ],
             [
              0.4444444444444444,
              "#bd3786"
             ],
             [
              0.5555555555555556,
              "#d8576b"
             ],
             [
              0.6666666666666666,
              "#ed7953"
             ],
             [
              0.7777777777777778,
              "#fb9f3a"
             ],
             [
              0.8888888888888888,
              "#fdca26"
             ],
             [
              1,
              "#f0f921"
             ]
            ],
            "type": "heatmapgl"
           }
          ],
          "histogram": [
           {
            "marker": {
             "pattern": {
              "fillmode": "overlay",
              "size": 10,
              "solidity": 0.2
             }
            },
            "type": "histogram"
           }
          ],
          "histogram2d": [
           {
            "colorbar": {
             "outlinewidth": 0,
             "ticks": ""
            },
            "colorscale": [
             [
              0,
              "#0d0887"
             ],
             [
              0.1111111111111111,
              "#46039f"
             ],
             [
              0.2222222222222222,
              "#7201a8"
             ],
             [
              0.3333333333333333,
              "#9c179e"
             ],
             [
              0.4444444444444444,
              "#bd3786"
             ],
             [
              0.5555555555555556,
              "#d8576b"
             ],
             [
              0.6666666666666666,
              "#ed7953"
             ],
             [
              0.7777777777777778,
              "#fb9f3a"
             ],
             [
              0.8888888888888888,
              "#fdca26"
             ],
             [
              1,
              "#f0f921"
             ]
            ],
            "type": "histogram2d"
           }
          ],
          "histogram2dcontour": [
           {
            "colorbar": {
             "outlinewidth": 0,
             "ticks": ""
            },
            "colorscale": [
             [
              0,
              "#0d0887"
             ],
             [
              0.1111111111111111,
              "#46039f"
             ],
             [
              0.2222222222222222,
              "#7201a8"
             ],
             [
              0.3333333333333333,
              "#9c179e"
             ],
             [
              0.4444444444444444,
              "#bd3786"
             ],
             [
              0.5555555555555556,
              "#d8576b"
             ],
             [
              0.6666666666666666,
              "#ed7953"
             ],
             [
              0.7777777777777778,
              "#fb9f3a"
             ],
             [
              0.8888888888888888,
              "#fdca26"
             ],
             [
              1,
              "#f0f921"
             ]
            ],
            "type": "histogram2dcontour"
           }
          ],
          "mesh3d": [
           {
            "colorbar": {
             "outlinewidth": 0,
             "ticks": ""
            },
            "type": "mesh3d"
           }
          ],
          "parcoords": [
           {
            "line": {
             "colorbar": {
              "outlinewidth": 0,
              "ticks": ""
             }
            },
            "type": "parcoords"
           }
          ],
          "pie": [
           {
            "automargin": true,
            "type": "pie"
           }
          ],
          "scatter": [
           {
            "fillpattern": {
             "fillmode": "overlay",
             "size": 10,
             "solidity": 0.2
            },
            "type": "scatter"
           }
          ],
          "scatter3d": [
           {
            "line": {
             "colorbar": {
              "outlinewidth": 0,
              "ticks": ""
             }
            },
            "marker": {
             "colorbar": {
              "outlinewidth": 0,
              "ticks": ""
             }
            },
            "type": "scatter3d"
           }
          ],
          "scattercarpet": [
           {
            "marker": {
             "colorbar": {
              "outlinewidth": 0,
              "ticks": ""
             }
            },
            "type": "scattercarpet"
           }
          ],
          "scattergeo": [
           {
            "marker": {
             "colorbar": {
              "outlinewidth": 0,
              "ticks": ""
             }
            },
            "type": "scattergeo"
           }
          ],
          "scattergl": [
           {
            "marker": {
             "colorbar": {
              "outlinewidth": 0,
              "ticks": ""
             }
            },
            "type": "scattergl"
           }
          ],
          "scattermapbox": [
           {
            "marker": {
             "colorbar": {
              "outlinewidth": 0,
              "ticks": ""
             }
            },
            "type": "scattermapbox"
           }
          ],
          "scatterpolar": [
           {
            "marker": {
             "colorbar": {
              "outlinewidth": 0,
              "ticks": ""
             }
            },
            "type": "scatterpolar"
           }
          ],
          "scatterpolargl": [
           {
            "marker": {
             "colorbar": {
              "outlinewidth": 0,
              "ticks": ""
             }
            },
            "type": "scatterpolargl"
           }
          ],
          "scatterternary": [
           {
            "marker": {
             "colorbar": {
              "outlinewidth": 0,
              "ticks": ""
             }
            },
            "type": "scatterternary"
           }
          ],
          "surface": [
           {
            "colorbar": {
             "outlinewidth": 0,
             "ticks": ""
            },
            "colorscale": [
             [
              0,
              "#0d0887"
             ],
             [
              0.1111111111111111,
              "#46039f"
             ],
             [
              0.2222222222222222,
              "#7201a8"
             ],
             [
              0.3333333333333333,
              "#9c179e"
             ],
             [
              0.4444444444444444,
              "#bd3786"
             ],
             [
              0.5555555555555556,
              "#d8576b"
             ],
             [
              0.6666666666666666,
              "#ed7953"
             ],
             [
              0.7777777777777778,
              "#fb9f3a"
             ],
             [
              0.8888888888888888,
              "#fdca26"
             ],
             [
              1,
              "#f0f921"
             ]
            ],
            "type": "surface"
           }
          ],
          "table": [
           {
            "cells": {
             "fill": {
              "color": "#EBF0F8"
             },
             "line": {
              "color": "white"
             }
            },
            "header": {
             "fill": {
              "color": "#C8D4E3"
             },
             "line": {
              "color": "white"
             }
            },
            "type": "table"
           }
          ]
         },
         "layout": {
          "annotationdefaults": {
           "arrowcolor": "#2a3f5f",
           "arrowhead": 0,
           "arrowwidth": 1
          },
          "autotypenumbers": "strict",
          "coloraxis": {
           "colorbar": {
            "outlinewidth": 0,
            "ticks": ""
           }
          },
          "colorscale": {
           "diverging": [
            [
             0,
             "#8e0152"
            ],
            [
             0.1,
             "#c51b7d"
            ],
            [
             0.2,
             "#de77ae"
            ],
            [
             0.3,
             "#f1b6da"
            ],
            [
             0.4,
             "#fde0ef"
            ],
            [
             0.5,
             "#f7f7f7"
            ],
            [
             0.6,
             "#e6f5d0"
            ],
            [
             0.7,
             "#b8e186"
            ],
            [
             0.8,
             "#7fbc41"
            ],
            [
             0.9,
             "#4d9221"
            ],
            [
             1,
             "#276419"
            ]
           ],
           "sequential": [
            [
             0,
             "#0d0887"
            ],
            [
             0.1111111111111111,
             "#46039f"
            ],
            [
             0.2222222222222222,
             "#7201a8"
            ],
            [
             0.3333333333333333,
             "#9c179e"
            ],
            [
             0.4444444444444444,
             "#bd3786"
            ],
            [
             0.5555555555555556,
             "#d8576b"
            ],
            [
             0.6666666666666666,
             "#ed7953"
            ],
            [
             0.7777777777777778,
             "#fb9f3a"
            ],
            [
             0.8888888888888888,
             "#fdca26"
            ],
            [
             1,
             "#f0f921"
            ]
           ],
           "sequentialminus": [
            [
             0,
             "#0d0887"
            ],
            [
             0.1111111111111111,
             "#46039f"
            ],
            [
             0.2222222222222222,
             "#7201a8"
            ],
            [
             0.3333333333333333,
             "#9c179e"
            ],
            [
             0.4444444444444444,
             "#bd3786"
            ],
            [
             0.5555555555555556,
             "#d8576b"
            ],
            [
             0.6666666666666666,
             "#ed7953"
            ],
            [
             0.7777777777777778,
             "#fb9f3a"
            ],
            [
             0.8888888888888888,
             "#fdca26"
            ],
            [
             1,
             "#f0f921"
            ]
           ]
          },
          "colorway": [
           "#636efa",
           "#EF553B",
           "#00cc96",
           "#ab63fa",
           "#FFA15A",
           "#19d3f3",
           "#FF6692",
           "#B6E880",
           "#FF97FF",
           "#FECB52"
          ],
          "font": {
           "color": "#2a3f5f"
          },
          "geo": {
           "bgcolor": "white",
           "lakecolor": "white",
           "landcolor": "#E5ECF6",
           "showlakes": true,
           "showland": true,
           "subunitcolor": "white"
          },
          "hoverlabel": {
           "align": "left"
          },
          "hovermode": "closest",
          "mapbox": {
           "style": "light"
          },
          "paper_bgcolor": "white",
          "plot_bgcolor": "#E5ECF6",
          "polar": {
           "angularaxis": {
            "gridcolor": "white",
            "linecolor": "white",
            "ticks": ""
           },
           "bgcolor": "#E5ECF6",
           "radialaxis": {
            "gridcolor": "white",
            "linecolor": "white",
            "ticks": ""
           }
          },
          "scene": {
           "xaxis": {
            "backgroundcolor": "#E5ECF6",
            "gridcolor": "white",
            "gridwidth": 2,
            "linecolor": "white",
            "showbackground": true,
            "ticks": "",
            "zerolinecolor": "white"
           },
           "yaxis": {
            "backgroundcolor": "#E5ECF6",
            "gridcolor": "white",
            "gridwidth": 2,
            "linecolor": "white",
            "showbackground": true,
            "ticks": "",
            "zerolinecolor": "white"
           },
           "zaxis": {
            "backgroundcolor": "#E5ECF6",
            "gridcolor": "white",
            "gridwidth": 2,
            "linecolor": "white",
            "showbackground": true,
            "ticks": "",
            "zerolinecolor": "white"
           }
          },
          "shapedefaults": {
           "line": {
            "color": "#2a3f5f"
           }
          },
          "ternary": {
           "aaxis": {
            "gridcolor": "white",
            "linecolor": "white",
            "ticks": ""
           },
           "baxis": {
            "gridcolor": "white",
            "linecolor": "white",
            "ticks": ""
           },
           "bgcolor": "#E5ECF6",
           "caxis": {
            "gridcolor": "white",
            "linecolor": "white",
            "ticks": ""
           }
          },
          "title": {
           "x": 0.05
          },
          "xaxis": {
           "automargin": true,
           "gridcolor": "white",
           "linecolor": "white",
           "ticks": "",
           "title": {
            "standoff": 15
           },
           "zerolinecolor": "white",
           "zerolinewidth": 2
          },
          "yaxis": {
           "automargin": true,
           "gridcolor": "white",
           "linecolor": "white",
           "ticks": "",
           "title": {
            "standoff": 15
           },
           "zerolinecolor": "white",
           "zerolinewidth": 2
          }
         }
        },
        "title": {
         "text": "Power Generation Forecast (Test Data and Forecasted Future)"
        },
        "xaxis": {
         "anchor": "y",
         "domain": [
          0,
          1
         ],
         "title": {
          "text": "Date"
         }
        },
        "yaxis": {
         "anchor": "x",
         "domain": [
          0,
          1
         ],
         "title": {
          "text": "Power Generation (MW)"
         }
        }
       }
      }
     },
     "metadata": {},
     "output_type": "display_data"
    }
   ],
   "source": [
    "# plot final_df using plotly\n",
    "fig = px.line(final_df, x=final_df.index, y=[\"Model\", \"Actual\", \"Forecast\"], title=\"Power Generation Forecast (Test Data and Forecasted Future)\")\n",
    "# add x and y axis labels\n",
    "fig.update_xaxes(title_text=\"Date\")\n",
    "fig.update_yaxes(title_text=\"Power Generation (MW)\")\n",
    "# change legend heading\n",
    "fig.update_layout(legend_title_text=\"\")\n",
    "# add wind speed info to hover\n",
    "customdata = wind_speed_data\n",
    "fig.update_traces(hovertemplate=\"<b>Power Generation: %{y:.2f} MW </b><br> Wind Speed: %{customdata:.2f} m/s <br><i> %{x}</i><extra></extra>\", customdata=customdata)\n",
    "fig.show()\n"
   ]
  },
  {
   "cell_type": "code",
   "execution_count": null,
   "metadata": {},
   "outputs": [],
   "source": []
  }
 ],
 "metadata": {
  "kernelspec": {
   "display_name": "Python 3",
   "language": "python",
   "name": "python3"
  },
  "language_info": {
   "codemirror_mode": {
    "name": "ipython",
    "version": 3
   },
   "file_extension": ".py",
   "mimetype": "text/x-python",
   "name": "python",
   "nbconvert_exporter": "python",
   "pygments_lexer": "ipython3",
   "version": "3.11.1"
  },
  "orig_nbformat": 4,
  "vscode": {
   "interpreter": {
    "hash": "5238573367df39f7286bb46f9ff5f08f63a01a80960060ce41e3c79b190280fa"
   }
  }
 },
 "nbformat": 4,
 "nbformat_minor": 2
}
