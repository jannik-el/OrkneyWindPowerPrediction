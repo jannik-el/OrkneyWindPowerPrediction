{
 "cells": [
  {
   "cell_type": "code",
   "execution_count": 47,
   "metadata": {},
   "outputs": [],
   "source": [
    "import plotly.express as px\n",
    "from sklearn.pipeline import Pipeline\n",
    "from sklearn.compose import ColumnTransformer\n",
    "from sklearn.preprocessing import StandardScaler\n",
    "from sklearn.preprocessing import PolynomialFeatures\n",
    "from sklearn.model_selection import GridSearchCV\n",
    "import pandas as pd\n",
    "from tqdm import tqdm\n",
    "import joblib\n",
    "import datetime as dt\n",
    "from sklearn.model_selection import TimeSeriesSplit\n",
    "from skimpy import skim\n",
    "import matplotlib.pyplot as plt\n",
    "import numpy as np\n",
    "from sklearn.base import BaseEstimator, TransformerMixin\n",
    "from sklearn.compose import make_column_transformer\n",
    "from sklearn.model_selection import train_test_split"
   ]
  },
  {
   "cell_type": "code",
   "execution_count": 48,
   "metadata": {},
   "outputs": [],
   "source": [
    "from sklearn.linear_model import LinearRegression\n",
    "from sklearn.linear_model import Ridge\n",
    "from sklearn.linear_model import Lasso\n",
    "from sklearn.linear_model import ElasticNet\n",
    "from sklearn.tree import DecisionTreeRegressor\n",
    "from sklearn.ensemble import RandomForestRegressor\n",
    "from sklearn.ensemble import GradientBoostingRegressor\n",
    "from sklearn.neighbors import KNeighborsRegressor\n",
    "from sklearn.svm import SVR\n",
    "from sklearn.neural_network import MLPRegressor\n",
    "from sklearn.linear_model import HuberRegressor\n",
    "from sklearn.linear_model import RANSACRegressor\n",
    "from sklearn.gaussian_process import GaussianProcessRegressor\n",
    "from sklearn.gaussian_process.kernels import DotProduct, WhiteKernel, RBF"
   ]
  },
  {
   "cell_type": "code",
   "execution_count": 49,
   "metadata": {},
   "outputs": [],
   "source": [
    "import warnings\n",
    "warnings.filterwarnings('ignore')"
   ]
  },
  {
   "cell_type": "code",
   "execution_count": 50,
   "metadata": {},
   "outputs": [],
   "source": [
    "import sys\n",
    "sys.path.append('..')\n",
    "import fx"
   ]
  },
  {
   "cell_type": "code",
   "execution_count": 51,
   "metadata": {},
   "outputs": [],
   "source": [
    "data = fx.pull_data(days=90)"
   ]
  },
  {
   "cell_type": "code",
   "execution_count": 52,
   "metadata": {},
   "outputs": [
    {
     "data": {
      "text/html": [
       "<div>\n",
       "<style scoped>\n",
       "    .dataframe tbody tr th:only-of-type {\n",
       "        vertical-align: middle;\n",
       "    }\n",
       "\n",
       "    .dataframe tbody tr th {\n",
       "        vertical-align: top;\n",
       "    }\n",
       "\n",
       "    .dataframe thead th {\n",
       "        text-align: right;\n",
       "    }\n",
       "</style>\n",
       "<table border=\"1\" class=\"dataframe\">\n",
       "  <thead>\n",
       "    <tr style=\"text-align: right;\">\n",
       "      <th></th>\n",
       "      <th>ANM</th>\n",
       "      <th>Non-ANM</th>\n",
       "      <th>Total</th>\n",
       "      <th>Direction</th>\n",
       "      <th>Lead_hours</th>\n",
       "      <th>Source_time</th>\n",
       "      <th>Speed</th>\n",
       "    </tr>\n",
       "    <tr>\n",
       "      <th>time</th>\n",
       "      <th></th>\n",
       "      <th></th>\n",
       "      <th></th>\n",
       "      <th></th>\n",
       "      <th></th>\n",
       "      <th></th>\n",
       "      <th></th>\n",
       "    </tr>\n",
       "  </thead>\n",
       "  <tbody>\n",
       "    <tr>\n",
       "      <th>2022-11-25 09:00:00+00:00</th>\n",
       "      <td>16.825317</td>\n",
       "      <td>16.509628</td>\n",
       "      <td>33.334944</td>\n",
       "      <td>S</td>\n",
       "      <td>1</td>\n",
       "      <td>1.669360e+09</td>\n",
       "      <td>11.17600</td>\n",
       "    </tr>\n",
       "    <tr>\n",
       "      <th>2022-11-25 12:00:00+00:00</th>\n",
       "      <td>16.386640</td>\n",
       "      <td>17.590850</td>\n",
       "      <td>33.977490</td>\n",
       "      <td>S</td>\n",
       "      <td>1</td>\n",
       "      <td>1.669370e+09</td>\n",
       "      <td>12.96416</td>\n",
       "    </tr>\n",
       "    <tr>\n",
       "      <th>2022-11-25 15:00:00+00:00</th>\n",
       "      <td>15.765571</td>\n",
       "      <td>18.399217</td>\n",
       "      <td>34.164788</td>\n",
       "      <td>SSW</td>\n",
       "      <td>1</td>\n",
       "      <td>1.669381e+09</td>\n",
       "      <td>8.94080</td>\n",
       "    </tr>\n",
       "    <tr>\n",
       "      <th>2022-11-25 18:00:00+00:00</th>\n",
       "      <td>13.754039</td>\n",
       "      <td>18.151967</td>\n",
       "      <td>31.906006</td>\n",
       "      <td>SW</td>\n",
       "      <td>1</td>\n",
       "      <td>1.669392e+09</td>\n",
       "      <td>12.07008</td>\n",
       "    </tr>\n",
       "    <tr>\n",
       "      <th>2022-11-25 21:00:00+00:00</th>\n",
       "      <td>12.167921</td>\n",
       "      <td>18.977528</td>\n",
       "      <td>31.145449</td>\n",
       "      <td>WSW</td>\n",
       "      <td>1</td>\n",
       "      <td>1.669403e+09</td>\n",
       "      <td>12.96416</td>\n",
       "    </tr>\n",
       "  </tbody>\n",
       "</table>\n",
       "</div>"
      ],
      "text/plain": [
       "                                 ANM    Non-ANM      Total Direction  \\\n",
       "time                                                                   \n",
       "2022-11-25 09:00:00+00:00  16.825317  16.509628  33.334944         S   \n",
       "2022-11-25 12:00:00+00:00  16.386640  17.590850  33.977490         S   \n",
       "2022-11-25 15:00:00+00:00  15.765571  18.399217  34.164788       SSW   \n",
       "2022-11-25 18:00:00+00:00  13.754039  18.151967  31.906006        SW   \n",
       "2022-11-25 21:00:00+00:00  12.167921  18.977528  31.145449       WSW   \n",
       "\n",
       "                          Lead_hours   Source_time     Speed  \n",
       "time                                                          \n",
       "2022-11-25 09:00:00+00:00          1  1.669360e+09  11.17600  \n",
       "2022-11-25 12:00:00+00:00          1  1.669370e+09  12.96416  \n",
       "2022-11-25 15:00:00+00:00          1  1.669381e+09   8.94080  \n",
       "2022-11-25 18:00:00+00:00          1  1.669392e+09  12.07008  \n",
       "2022-11-25 21:00:00+00:00          1  1.669403e+09  12.96416  "
      ]
     },
     "execution_count": 52,
     "metadata": {},
     "output_type": "execute_result"
    }
   ],
   "source": [
    "data.head(5)"
   ]
  },
  {
   "cell_type": "code",
   "execution_count": 53,
   "metadata": {},
   "outputs": [],
   "source": [
    "anm_pipeline = Pipeline(steps=[\n",
    "    (\"col_transformer\", ColumnTransformer(transformers=[\n",
    "        (\"time\", None, []),\n",
    "        (\"Speed\", None, [\"Speed\"]),\n",
    "        (\"Direction\", None, [\"Direction\"]),\n",
    "        ], remainder=\"drop\")),\n",
    "    (\"model\", None)\n",
    "])\n",
    "\n",
    "anm_params = {\n",
    "    'col_transformer__time' : [\"drop\", None, fx.TimestampTransformer()],\n",
    "    'col_transformer__Speed': [None, StandardScaler(), PolynomialFeatures(), fx.EmpiricalWaveletTransform(level=5)],\n",
    "    'col_transformer__Direction': [\"drop\", fx.WindDirectionMapper(), fx.CompassToCartesianTransformer()],\n",
    "    'model': [\n",
    "        LinearRegression(), \n",
    "        MLPRegressor(hidden_layer_sizes=(150, 150), activation='tanh', solver='sgd'), \n",
    "        SVR(kernel='rbf', gamma='scale', C=1.0, epsilon=0.1),\n",
    "        HuberRegressor(epsilon=1.35, alpha=0.0001),\n",
    "        RANSACRegressor(min_samples=0.1, max_trials=100),\n",
    "        GaussianProcessRegressor(alpha=0.1, kernel=RBF()) \n",
    "    ]\n",
    "}"
   ]
  },
  {
   "cell_type": "code",
   "execution_count": 54,
   "metadata": {},
   "outputs": [],
   "source": [
    "non_anm_pipeline = Pipeline(steps=[\n",
    "    (\"col_transformer\", ColumnTransformer(transformers=[\n",
    "        (\"Speed\", None, [\"Speed\"]),\n",
    "        (\"Direction\", None, [\"Direction\"]),\n",
    "        ], remainder=\"drop\")),\n",
    "    (\"model\", None)\n",
    "])\n",
    "\n",
    "non_anm_params = {\n",
    "    'col_transformer__Speed': [None, StandardScaler(), PolynomialFeatures(), fx.EmpiricalWaveletTransform(level=5)],\n",
    "    'col_transformer__Direction': [\"drop\", fx.WindDirectionMapper(), fx.CompassToCartesianTransformer()],\n",
    "    'model': [\n",
    "        LinearRegression(), \n",
    "        MLPRegressor(hidden_layer_sizes=(150, 150), activation='tanh', solver='sgd'), \n",
    "        SVR(kernel='rbf', gamma='scale', C=1.0, epsilon=0.1),\n",
    "        HuberRegressor(epsilon=1.35, alpha=0.0001),\n",
    "        RANSACRegressor(min_samples=0.1, max_trials=100),\n",
    "        GaussianProcessRegressor(alpha=0.1, kernel=RBF()) \n",
    "    ]\n",
    "}"
   ]
  },
  {
   "cell_type": "code",
   "execution_count": 55,
   "metadata": {},
   "outputs": [],
   "source": [
    "tscv = TimeSeriesSplit(n_splits=5)"
   ]
  },
  {
   "cell_type": "code",
   "execution_count": 56,
   "metadata": {},
   "outputs": [],
   "source": [
    "anm_gridsearch = GridSearchCV(anm_pipeline, anm_params, cv=tscv, scoring='neg_mean_squared_error', n_jobs=-1, verbose=1)\n",
    "non_anm_gridsearch = GridSearchCV(non_anm_pipeline, non_anm_params, cv=tscv, scoring='neg_mean_squared_error', n_jobs=-1, verbose=1)"
   ]
  },
  {
   "cell_type": "code",
   "execution_count": 57,
   "metadata": {},
   "outputs": [],
   "source": [
    "ANM_X_train, ANM_y_train, ANM_X_test, ANM_y_test = fx.data_splitting(data, output_val=\"ANM\")\n",
    "non_ANM_X_train, non_ANM_y_train, non_ANM_X_test, non_ANM_y_test = fx.data_splitting(data, output_val=\"Non-ANM\")\n",
    "total_X_train, total_y_train, total_X_test, total_y_test = fx.data_splitting(data, output_val=\"Total\")"
   ]
  },
  {
   "cell_type": "code",
   "execution_count": 58,
   "metadata": {},
   "outputs": [
    {
     "data": {
      "text/plain": [
       "True"
      ]
     },
     "execution_count": 58,
     "metadata": {},
     "output_type": "execute_result"
    }
   ],
   "source": [
    "# check that all test sets are same length\n",
    "len(ANM_y_test) == len(non_ANM_y_test) == len(total_y_test)"
   ]
  },
  {
   "cell_type": "code",
   "execution_count": 59,
   "metadata": {},
   "outputs": [],
   "source": [
    "def train_models(X_train, y_train, X_test, y_test, gridsearch):\n",
    "    gridsearch.fit(X_train, y_train)\n",
    "    print(\"Best params: \", gridsearch.best_params_)\n",
    "    print(\"Best score: \", gridsearch.best_score_)\n",
    "    print(\"Test score: \", gridsearch.score(X_test, y_test))\n",
    "    return gridsearch"
   ]
  },
  {
   "cell_type": "code",
   "execution_count": 60,
   "metadata": {},
   "outputs": [
    {
     "name": "stdout",
     "output_type": "stream",
     "text": [
      "Fitting 5 folds for each of 216 candidates, totalling 1080 fits\n",
      "Best params:  {'col_transformer__Direction': CompassToCartesianTransformer(), 'col_transformer__Speed': StandardScaler(), 'col_transformer__time': TimestampTransformer(), 'model': MLPRegressor(activation='tanh', hidden_layer_sizes=(150, 150), solver='sgd')}\n",
      "Best score:  -12.036068520350797\n",
      "Test score:  -9.60592446888633\n"
     ]
    }
   ],
   "source": [
    "anm_gridsearch = train_models(ANM_X_train, ANM_y_train, ANM_X_test, ANM_y_test, anm_gridsearch)"
   ]
  },
  {
   "cell_type": "code",
   "execution_count": 61,
   "metadata": {},
   "outputs": [
    {
     "name": "stdout",
     "output_type": "stream",
     "text": [
      "Fitting 5 folds for each of 72 candidates, totalling 360 fits\n",
      "Best params:  {'col_transformer__Direction': CompassToCartesianTransformer(), 'col_transformer__Speed': EmpiricalWaveletTransform(), 'model': MLPRegressor(activation='tanh', hidden_layer_sizes=(150, 150), solver='sgd')}\n",
      "Best score:  -13.926715032253156\n",
      "Test score:  -18.503316684263513\n"
     ]
    }
   ],
   "source": [
    "non_anm_gridsearch = train_models(non_ANM_X_train, non_ANM_y_train, non_ANM_X_test, non_ANM_y_test, non_anm_gridsearch)"
   ]
  },
  {
   "cell_type": "code",
   "execution_count": 62,
   "metadata": {},
   "outputs": [],
   "source": [
    "def predict_and_combine(ANM_X_test, non_ANM_X_test, y_test, anm_gridsearch, non_anm_gridsearch):\n",
    "    anm_pred = anm_gridsearch.predict(ANM_X_test)\n",
    "    non_anm_pred = non_anm_gridsearch.predict(non_ANM_X_test)\n",
    "    pred = anm_pred + non_anm_pred\n",
    "    print(f\"Overall test score: {fx.MSE(pred, y_test)}\")\n",
    "    return pred"
   ]
  },
  {
   "cell_type": "code",
   "execution_count": 63,
   "metadata": {},
   "outputs": [
    {
     "name": "stdout",
     "output_type": "stream",
     "text": [
      "Overall test score: 35.85336273741996\n"
     ]
    }
   ],
   "source": [
    "combined_pred = predict_and_combine(ANM_X_test, non_ANM_X_test, total_y_test, anm_gridsearch, non_anm_gridsearch)"
   ]
  },
  {
   "cell_type": "code",
   "execution_count": 64,
   "metadata": {},
   "outputs": [],
   "source": [
    "def save_models(anm_gridsearch, non_anm_gridsearch):\n",
    "    joblib.dump(anm_gridsearch, rf\"models\\anm_gridsearch_{dt.date.today()}.pkl\")\n",
    "    joblib.dump(non_anm_gridsearch, rf\"models\\non_anm_gridsearch_{dt.date.today()}.pkl\")\n",
    "    return"
   ]
  },
  {
   "cell_type": "code",
   "execution_count": 65,
   "metadata": {},
   "outputs": [],
   "source": [
    "save_models(anm_gridsearch, non_anm_gridsearch)"
   ]
  },
  {
   "cell_type": "code",
   "execution_count": 66,
   "metadata": {},
   "outputs": [],
   "source": [
    "def load_models_and_train_on_all_data(data, anm_gridsearch, non_anm_gridsearch):\n",
    "    # naming schemes is not my strong suit\n",
    "    anm_X_train, anm_y_train = fx.final_data_splitting(data, output_val=\"ANM\")\n",
    "    non_anm_X_train, non_anm_y_train = fx.final_data_splitting(data, output_val=\"Non-ANM\")\n",
    "    anm_gridsearch.fit(anm_X_train, anm_y_train)\n",
    "    non_anm_gridsearch.fit(non_anm_X_train, non_anm_y_train)\n",
    "    return anm_gridsearch, non_anm_gridsearch"
   ]
  },
  {
   "cell_type": "code",
   "execution_count": 67,
   "metadata": {},
   "outputs": [
    {
     "name": "stdout",
     "output_type": "stream",
     "text": [
      "Fitting 5 folds for each of 216 candidates, totalling 1080 fits\n",
      "Fitting 5 folds for each of 72 candidates, totalling 360 fits\n"
     ]
    }
   ],
   "source": [
    "anm_model, non_anm_model = load_models_and_train_on_all_data(data, anm_gridsearch, non_anm_gridsearch)"
   ]
  },
  {
   "cell_type": "code",
   "execution_count": 187,
   "metadata": {},
   "outputs": [],
   "source": [
    "forecast = fx.load_forecasts()"
   ]
  },
  {
   "cell_type": "code",
   "execution_count": 188,
   "metadata": {},
   "outputs": [
    {
     "data": {
      "text/html": [
       "<div>\n",
       "<style scoped>\n",
       "    .dataframe tbody tr th:only-of-type {\n",
       "        vertical-align: middle;\n",
       "    }\n",
       "\n",
       "    .dataframe tbody tr th {\n",
       "        vertical-align: top;\n",
       "    }\n",
       "\n",
       "    .dataframe thead th {\n",
       "        text-align: right;\n",
       "    }\n",
       "</style>\n",
       "<table border=\"1\" class=\"dataframe\">\n",
       "  <thead>\n",
       "    <tr style=\"text-align: right;\">\n",
       "      <th></th>\n",
       "      <th>Direction</th>\n",
       "      <th>Lead_hours</th>\n",
       "      <th>Source_time</th>\n",
       "      <th>Speed</th>\n",
       "    </tr>\n",
       "    <tr>\n",
       "      <th>time</th>\n",
       "      <th></th>\n",
       "      <th></th>\n",
       "      <th></th>\n",
       "      <th></th>\n",
       "    </tr>\n",
       "  </thead>\n",
       "  <tbody>\n",
       "    <tr>\n",
       "      <th>2023-02-23 09:00:00+00:00</th>\n",
       "      <td>SW</td>\n",
       "      <td>2</td>\n",
       "      <td>1677132000</td>\n",
       "      <td>12.96416</td>\n",
       "    </tr>\n",
       "    <tr>\n",
       "      <th>2023-02-23 09:00:00+00:00</th>\n",
       "      <td>W</td>\n",
       "      <td>100</td>\n",
       "      <td>1676779200</td>\n",
       "      <td>9.83488</td>\n",
       "    </tr>\n",
       "    <tr>\n",
       "      <th>2023-02-23 09:00:00+00:00</th>\n",
       "      <td>W</td>\n",
       "      <td>63</td>\n",
       "      <td>1676912400</td>\n",
       "      <td>8.94080</td>\n",
       "    </tr>\n",
       "    <tr>\n",
       "      <th>2023-02-23 09:00:00+00:00</th>\n",
       "      <td>W</td>\n",
       "      <td>64</td>\n",
       "      <td>1676908800</td>\n",
       "      <td>8.94080</td>\n",
       "    </tr>\n",
       "    <tr>\n",
       "      <th>2023-02-23 09:00:00+00:00</th>\n",
       "      <td>W</td>\n",
       "      <td>65</td>\n",
       "      <td>1676905200</td>\n",
       "      <td>8.94080</td>\n",
       "    </tr>\n",
       "    <tr>\n",
       "      <th>...</th>\n",
       "      <td>...</td>\n",
       "      <td>...</td>\n",
       "      <td>...</td>\n",
       "      <td>...</td>\n",
       "    </tr>\n",
       "    <tr>\n",
       "      <th>2023-02-27 21:00:00+00:00</th>\n",
       "      <td>NNE</td>\n",
       "      <td>114</td>\n",
       "      <td>1677117600</td>\n",
       "      <td>4.02336</td>\n",
       "    </tr>\n",
       "    <tr>\n",
       "      <th>2023-02-27 21:00:00+00:00</th>\n",
       "      <td>NNE</td>\n",
       "      <td>115</td>\n",
       "      <td>1677114000</td>\n",
       "      <td>4.02336</td>\n",
       "    </tr>\n",
       "    <tr>\n",
       "      <th>2023-02-27 21:00:00+00:00</th>\n",
       "      <td>W</td>\n",
       "      <td>118</td>\n",
       "      <td>1677103200</td>\n",
       "      <td>3.12928</td>\n",
       "    </tr>\n",
       "    <tr>\n",
       "      <th>2023-02-27 21:00:00+00:00</th>\n",
       "      <td>WNW</td>\n",
       "      <td>116</td>\n",
       "      <td>1677110400</td>\n",
       "      <td>3.12928</td>\n",
       "    </tr>\n",
       "    <tr>\n",
       "      <th>2023-02-27 21:00:00+00:00</th>\n",
       "      <td>WNW</td>\n",
       "      <td>117</td>\n",
       "      <td>1677106800</td>\n",
       "      <td>3.12928</td>\n",
       "    </tr>\n",
       "  </tbody>\n",
       "</table>\n",
       "<p>1965 rows × 4 columns</p>\n",
       "</div>"
      ],
      "text/plain": [
       "                          Direction Lead_hours  Source_time     Speed\n",
       "time                                                                 \n",
       "2023-02-23 09:00:00+00:00        SW          2   1677132000  12.96416\n",
       "2023-02-23 09:00:00+00:00         W        100   1676779200   9.83488\n",
       "2023-02-23 09:00:00+00:00         W         63   1676912400   8.94080\n",
       "2023-02-23 09:00:00+00:00         W         64   1676908800   8.94080\n",
       "2023-02-23 09:00:00+00:00         W         65   1676905200   8.94080\n",
       "...                             ...        ...          ...       ...\n",
       "2023-02-27 21:00:00+00:00       NNE        114   1677117600   4.02336\n",
       "2023-02-27 21:00:00+00:00       NNE        115   1677114000   4.02336\n",
       "2023-02-27 21:00:00+00:00         W        118   1677103200   3.12928\n",
       "2023-02-27 21:00:00+00:00       WNW        116   1677110400   3.12928\n",
       "2023-02-27 21:00:00+00:00       WNW        117   1677106800   3.12928\n",
       "\n",
       "[1965 rows x 4 columns]"
      ]
     },
     "execution_count": 188,
     "metadata": {},
     "output_type": "execute_result"
    }
   ],
   "source": [
    "forecast"
   ]
  },
  {
   "cell_type": "code",
   "execution_count": 189,
   "metadata": {},
   "outputs": [],
   "source": [
    "total_X_train, total_y_train = fx.final_data_splitting(data, output_val=\"Total\")\n",
    "anm_pred = anm_model.predict(forecast)\n",
    "non_anm_pred = non_anm_model.predict(forecast)"
   ]
  },
  {
   "cell_type": "code",
   "execution_count": 190,
   "metadata": {},
   "outputs": [],
   "source": [
    "def create_forecast_df(forecast, anm_pred, non_anm_pred):\n",
    "    future = anm_pred + non_anm_pred\n",
    "    forecast[\"Power Generation Forecast\"] = future\n",
    "    forecast = forecast.resample(\"3H\").mean()\n",
    "    forecast.drop(columns=[\"Source_time\"], inplace=True)\n",
    "    return forecast"
   ]
  },
  {
   "cell_type": "code",
   "execution_count": 194,
   "metadata": {},
   "outputs": [],
   "source": [
    "forecast_df = create_forecast_df(forecast, anm_pred, non_anm_pred)"
   ]
  },
  {
   "cell_type": "code",
   "execution_count": 197,
   "metadata": {},
   "outputs": [],
   "source": [
    "def create_final_plotting_df(forecast_df, data):\n",
    "    # this code is just for plotting the final graph\n",
    "    ANM_X_train, ANM_y_train, ANM_X_test, ANM_y_test = fx.data_splitting(data, output_val=\"ANM\")\n",
    "    non_ANM_X_train, non_ANM_y_train, non_ANM_X_test, non_ANM_y_test = fx.data_splitting(data, output_val=\"Non-ANM\")\n",
    "    total_X_train, total_y_train, total_X_test, total_y_test = fx.data_splitting(data, output_val=\"Total\")\n",
    "\n",
    "    test_anm_pred = anm_model.predict(ANM_X_test)\n",
    "    test_non_anm_pred = non_anm_model.predict(non_ANM_X_test)\n",
    "\n",
    "    test_prediction = test_anm_pred + test_non_anm_pred\n",
    "    test_data = fx.create_timestamps(test_prediction, total_X_test, total_y_test)\n",
    "\n",
    "    # slice total_x_test data to only get data up to the forecast datapoint\n",
    "    total_X_test = total_X_test.loc[:forecast_df.index[0]]\n",
    "\n",
    "    wind_speed_data = pd.concat([forecast_df[\"Speed\"], total_X_test[\"Speed\"]], axis=0)\n",
    "\n",
    "    # combine testdata and forecastdf for easy plotting\n",
    "    final_df = pd.concat([test_data[[\"predict\", \"actual\"]], forecast_df[\"Power Generation Forecast\"]], axis=0)\n",
    "    final_df.columns = [\"Model\", \"Actual\", \"Forecast\"]\n",
    "    return final_df, wind_speed_data"
   ]
  },
  {
   "cell_type": "code",
   "execution_count": 202,
   "metadata": {},
   "outputs": [
    {
     "data": {
      "text/plain": [
       "time\n",
       "2023-02-23 09:00:00+00:00    10.520341\n",
       "2023-02-23 12:00:00+00:00    12.317016\n",
       "2023-02-23 15:00:00+00:00    13.768832\n",
       "2023-02-23 18:00:00+00:00    13.879528\n",
       "2023-02-23 21:00:00+00:00    13.798635\n",
       "                               ...    \n",
       "2023-02-22 18:00:00+00:00     8.940800\n",
       "2023-02-22 21:00:00+00:00     4.023360\n",
       "2023-02-23 00:00:00+00:00     5.811520\n",
       "2023-02-23 03:00:00+00:00     1.788160\n",
       "2023-02-23 06:00:00+00:00     9.834880\n",
       "Name: Speed, Length: 156, dtype: float64"
      ]
     },
     "execution_count": 202,
     "metadata": {},
     "output_type": "execute_result"
    }
   ],
   "source": [
    "final_df, wind_speed_data = create_final_plotting_df(forecast_df, data)\n",
    "final_df"
   ]
  },
  {
   "cell_type": "code",
   "execution_count": 203,
   "metadata": {},
   "outputs": [
    {
     "data": {
      "application/vnd.plotly.v1+json": {
       "config": {
        "plotlyServerURL": "https://plot.ly"
       },
       "data": [
        {
         "customdata": [
          10.520341333333333,
          12.317016380952381,
          13.768832000000002,
          13.87952761904762,
          13.798634666666667,
          13.582289382716048,
          12.489524938271606,
          11.89899061728395,
          11.131847901234567,
          10.210172839506173,
          9.934222222222223,
          9.216750617283951,
          8.38337975308642,
          7.725164912280701,
          7.309496140350877,
          6.9487270175438605,
          6.054647017543859,
          4.9958680701754385,
          4.635098947368421,
          4.305701052631579,
          4.0547312280701755,
          3.5085866666666665,
          3.752426666666667,
          3.8337066666666666,
          3.8337066666666666,
          4.2672,
          4.538133333333334,
          4.2130133333333335,
          3.5627733333333333,
          3.12928,
          3.12928,
          3.12928,
          3.12928,
          3.12928,
          3.12928,
          3.427306666666667,
          3.427306666666667,
          17.8816,
          19.22272,
          17.8816,
          13.85824,
          17.8816,
          17.8816,
          17.8816,
          16.98752,
          21.01088,
          19.22272,
          15.19936,
          12.96416,
          7.15264,
          4.91744,
          9.83488,
          15.19936,
          16.09344,
          16.98752,
          17.8816,
          16.09344,
          16.09344,
          11.176,
          7.15264,
          12.96416,
          12.070079999999999,
          11.176,
          11.176,
          11.176,
          11.176,
          11.176,
          11.176,
          9.83488,
          11.176,
          8.04672,
          8.04672,
          8.04672,
          8.04672,
          7.15264,
          5.81152,
          5.81152,
          5.81152,
          4.91744,
          4.02336,
          3.12928,
          4.02336,
          5.81152,
          5.81152,
          5.81152,
          5.81152,
          7.15264,
          8.9408,
          8.9408,
          8.04672,
          12.070079999999999,
          12.070079999999999,
          11.176,
          12.070079999999999,
          12.96416,
          11.176,
          12.96416,
          8.9408,
          9.83488,
          9.83488,
          8.9408,
          9.83488,
          11.176,
          9.83488,
          7.15264,
          7.15264,
          11.176,
          13.85824,
          20.1168,
          16.98752,
          16.98752,
          15.19936,
          9.83488,
          5.81152,
          4.91744,
          4.02336,
          3.12928,
          1.78816,
          1.78816,
          4.02336,
          4.91744,
          8.9408,
          11.176,
          11.176,
          9.83488,
          12.070079999999999,
          16.09344,
          20.1168,
          20.1168,
          20.1168,
          19.22272,
          20.1168,
          21.01088,
          20.1168,
          19.22272,
          15.19936,
          12.96416,
          8.04672,
          4.02336,
          3.12928,
          8.9408,
          8.9408,
          5.81152,
          7.15264,
          7.15264,
          5.81152,
          5.81152,
          8.04672,
          8.04672,
          12.070079999999999,
          12.070079999999999,
          8.9408,
          4.02336,
          5.81152,
          1.78816,
          9.83488
         ],
         "hovertemplate": "<b>Power Generation: %{y:.2f} MW </b><br> Wind Speed: %{customdata:.2f} m/s <extra></extra>",
         "legendgroup": "Model",
         "line": {
          "color": "#636efa",
          "dash": "solid"
         },
         "marker": {
          "symbol": "circle"
         },
         "mode": "lines",
         "name": "Model",
         "orientation": "v",
         "showlegend": true,
         "type": "scatter",
         "x": [
          "2023-02-08T09:00:00+00:00",
          "2023-02-08T12:00:00+00:00",
          "2023-02-08T15:00:00+00:00",
          "2023-02-08T18:00:00+00:00",
          "2023-02-08T21:00:00+00:00",
          "2023-02-09T00:00:00+00:00",
          "2023-02-09T03:00:00+00:00",
          "2023-02-09T06:00:00+00:00",
          "2023-02-09T09:00:00+00:00",
          "2023-02-09T12:00:00+00:00",
          "2023-02-09T15:00:00+00:00",
          "2023-02-09T18:00:00+00:00",
          "2023-02-09T21:00:00+00:00",
          "2023-02-10T00:00:00+00:00",
          "2023-02-10T03:00:00+00:00",
          "2023-02-10T06:00:00+00:00",
          "2023-02-10T09:00:00+00:00",
          "2023-02-10T12:00:00+00:00",
          "2023-02-10T15:00:00+00:00",
          "2023-02-10T18:00:00+00:00",
          "2023-02-10T21:00:00+00:00",
          "2023-02-11T00:00:00+00:00",
          "2023-02-11T03:00:00+00:00",
          "2023-02-11T06:00:00+00:00",
          "2023-02-11T09:00:00+00:00",
          "2023-02-11T12:00:00+00:00",
          "2023-02-11T15:00:00+00:00",
          "2023-02-11T18:00:00+00:00",
          "2023-02-11T21:00:00+00:00",
          "2023-02-12T00:00:00+00:00",
          "2023-02-12T03:00:00+00:00",
          "2023-02-12T06:00:00+00:00",
          "2023-02-12T09:00:00+00:00",
          "2023-02-12T12:00:00+00:00",
          "2023-02-12T15:00:00+00:00",
          "2023-02-12T18:00:00+00:00",
          "2023-02-12T21:00:00+00:00",
          "2023-02-13T00:00:00+00:00",
          "2023-02-13T03:00:00+00:00",
          "2023-02-13T06:00:00+00:00",
          "2023-02-13T09:00:00+00:00",
          "2023-02-13T12:00:00+00:00",
          "2023-02-13T15:00:00+00:00",
          "2023-02-13T18:00:00+00:00",
          "2023-02-13T21:00:00+00:00",
          "2023-02-14T00:00:00+00:00",
          "2023-02-14T03:00:00+00:00",
          "2023-02-14T06:00:00+00:00",
          "2023-02-14T09:00:00+00:00",
          "2023-02-14T12:00:00+00:00",
          "2023-02-14T15:00:00+00:00",
          "2023-02-14T18:00:00+00:00",
          "2023-02-14T21:00:00+00:00",
          "2023-02-15T00:00:00+00:00",
          "2023-02-15T03:00:00+00:00",
          "2023-02-15T06:00:00+00:00",
          "2023-02-15T09:00:00+00:00",
          "2023-02-15T12:00:00+00:00",
          "2023-02-15T15:00:00+00:00",
          "2023-02-15T18:00:00+00:00",
          "2023-02-15T21:00:00+00:00",
          "2023-02-16T00:00:00+00:00",
          "2023-02-16T03:00:00+00:00",
          "2023-02-16T06:00:00+00:00",
          "2023-02-16T09:00:00+00:00",
          "2023-02-16T12:00:00+00:00",
          "2023-02-16T15:00:00+00:00",
          "2023-02-16T18:00:00+00:00",
          "2023-02-16T21:00:00+00:00",
          "2023-02-17T00:00:00+00:00",
          "2023-02-17T03:00:00+00:00",
          "2023-02-17T06:00:00+00:00",
          "2023-02-17T09:00:00+00:00",
          "2023-02-17T12:00:00+00:00",
          "2023-02-17T15:00:00+00:00",
          "2023-02-17T18:00:00+00:00",
          "2023-02-17T21:00:00+00:00",
          "2023-02-18T00:00:00+00:00",
          "2023-02-18T03:00:00+00:00",
          "2023-02-18T06:00:00+00:00",
          "2023-02-18T09:00:00+00:00",
          "2023-02-18T12:00:00+00:00",
          "2023-02-18T15:00:00+00:00",
          "2023-02-18T18:00:00+00:00",
          "2023-02-18T21:00:00+00:00",
          "2023-02-19T00:00:00+00:00",
          "2023-02-19T03:00:00+00:00",
          "2023-02-19T06:00:00+00:00",
          "2023-02-19T09:00:00+00:00",
          "2023-02-19T12:00:00+00:00",
          "2023-02-19T15:00:00+00:00",
          "2023-02-19T18:00:00+00:00",
          "2023-02-19T21:00:00+00:00",
          "2023-02-20T00:00:00+00:00",
          "2023-02-20T03:00:00+00:00",
          "2023-02-20T06:00:00+00:00",
          "2023-02-20T09:00:00+00:00",
          "2023-02-20T12:00:00+00:00",
          "2023-02-20T15:00:00+00:00",
          "2023-02-20T18:00:00+00:00",
          "2023-02-20T21:00:00+00:00",
          "2023-02-21T00:00:00+00:00",
          "2023-02-21T03:00:00+00:00",
          "2023-02-21T06:00:00+00:00",
          "2023-02-21T09:00:00+00:00",
          "2023-02-21T12:00:00+00:00",
          "2023-02-21T15:00:00+00:00",
          "2023-02-21T18:00:00+00:00",
          "2023-02-21T21:00:00+00:00",
          "2023-02-22T00:00:00+00:00",
          "2023-02-22T03:00:00+00:00",
          "2023-02-22T06:00:00+00:00",
          "2023-02-22T09:00:00+00:00",
          "2023-02-22T12:00:00+00:00",
          "2023-02-22T15:00:00+00:00",
          "2023-02-22T18:00:00+00:00",
          "2023-02-22T21:00:00+00:00",
          "2023-02-23T00:00:00+00:00",
          "2023-02-23T03:00:00+00:00",
          "2023-02-23T09:00:00+00:00",
          "2023-02-23T12:00:00+00:00",
          "2023-02-23T15:00:00+00:00",
          "2023-02-23T18:00:00+00:00",
          "2023-02-23T21:00:00+00:00",
          "2023-02-24T00:00:00+00:00",
          "2023-02-24T03:00:00+00:00",
          "2023-02-24T06:00:00+00:00",
          "2023-02-24T09:00:00+00:00",
          "2023-02-24T12:00:00+00:00",
          "2023-02-24T15:00:00+00:00",
          "2023-02-24T18:00:00+00:00",
          "2023-02-24T21:00:00+00:00",
          "2023-02-25T00:00:00+00:00",
          "2023-02-25T03:00:00+00:00",
          "2023-02-25T06:00:00+00:00",
          "2023-02-25T09:00:00+00:00",
          "2023-02-25T12:00:00+00:00",
          "2023-02-25T15:00:00+00:00",
          "2023-02-25T18:00:00+00:00",
          "2023-02-25T21:00:00+00:00",
          "2023-02-26T00:00:00+00:00",
          "2023-02-26T03:00:00+00:00",
          "2023-02-26T06:00:00+00:00",
          "2023-02-26T09:00:00+00:00",
          "2023-02-26T12:00:00+00:00",
          "2023-02-26T15:00:00+00:00",
          "2023-02-26T18:00:00+00:00",
          "2023-02-26T21:00:00+00:00",
          "2023-02-27T00:00:00+00:00",
          "2023-02-27T03:00:00+00:00",
          "2023-02-27T06:00:00+00:00",
          "2023-02-27T09:00:00+00:00",
          "2023-02-27T12:00:00+00:00",
          "2023-02-27T15:00:00+00:00",
          "2023-02-27T18:00:00+00:00",
          "2023-02-27T21:00:00+00:00"
         ],
         "xaxis": "x",
         "y": [
          25.668712929122528,
          24.99417758677798,
          27.395278352122823,
          24.644126328898466,
          24.355858082317333,
          24.355858082317333,
          23.6544202921215,
          23.916420998209404,
          22.208631764432972,
          23.10603214206992,
          23.789014701151565,
          22.383526747732645,
          11.990041294723119,
          10.299991123382974,
          21.4202140334292,
          26.389703382087312,
          24.877949856318224,
          23.916420998209404,
          23.6544202921215,
          24.057471334675057,
          24.057471334675057,
          19.854172320112415,
          11.990041294723119,
          22.967435908935162,
          23.292096334167212,
          22.124470125728795,
          22.124470125728795,
          22.124470125728795,
          23.80925819695424,
          23.80925819695424,
          23.80925819695424,
          21.4202140334292,
          23.80925819695424,
          17.18190833134061,
          18.43428808899648,
          18.43428808899648,
          18.43428808899648,
          14.821272316032713,
          12.2256674236673,
          12.566888678451065,
          12.566888678451065,
          10.137696485259799,
          8.311162475000732,
          6.465155609743292,
          7.909702512566193,
          12.566888678451065,
          12.566888678451065,
          12.566888678451065,
          12.566888678451065,
          16.085258720849584,
          21.616024637118873,
          21.528839112497906,
          19.039879358426052,
          28.084119031537114,
          28.084119031537114,
          26.753677758706274,
          28.084119031537114,
          25.726029788663965,
          25.49607537862148,
          24.12373722762392,
          17.800059314649015,
          19.748693694530843,
          19.748693694530843,
          20.82583781635061,
          21.4202140334292,
          23.80925819695424,
          21.4202140334292,
          15.919772613254366,
          16.380080686091915,
          27.221255391971383,
          26.185657418121735,
          23.44128631252478,
          23.839131493650108,
          23.839131493650108,
          23.789014701151558,
          16.474310400069037,
          7.240095584944091,
          5.479423648536918,
          4.179713963390771,
          3.4116510095793604,
          2.7471711212571237,
          4.517146213002747,
          6.299546432675307,
          7.012138407961968,
          16.298425571575315,
          22.124470125728795,
          23.80925819695424,
          23.951560920015197,
          24.946311767746057,
          26.279921743548325,
          23.272448643422642,
          23.272448643422642,
          22.673254774691863,
          23.10603214206992,
          22.673254774691863,
          22.208631764432965,
          22.740113619033718,
          23.145214258051197,
          23.789014701151565,
          22.383526747732645,
          12.957483130634941,
          4.614436025275022,
          6.657525787522049,
          21.528839112497906,
          21.61602463711887,
          12.566888678451065,
          16.380080686091915,
          16.380080686091915,
          8.879768034253173,
          8.879768034253173,
          12.957483130634941,
          11.733956866622876,
          21.8007261197136,
          21.8007261197136,
          13.933002943372564,
          4.2209094596317245,
          7.089545651938636,
          2.0718932613310588,
          19.748693694530843,
          null,
          null,
          null,
          null,
          null,
          null,
          null,
          null,
          null,
          null,
          null,
          null,
          null,
          null,
          null,
          null,
          null,
          null,
          null,
          null,
          null,
          null,
          null,
          null,
          null,
          null,
          null,
          null,
          null,
          null,
          null,
          null,
          null,
          null,
          null,
          null,
          null
         ],
         "yaxis": "y"
        },
        {
         "customdata": [
          10.520341333333333,
          12.317016380952381,
          13.768832000000002,
          13.87952761904762,
          13.798634666666667,
          13.582289382716048,
          12.489524938271606,
          11.89899061728395,
          11.131847901234567,
          10.210172839506173,
          9.934222222222223,
          9.216750617283951,
          8.38337975308642,
          7.725164912280701,
          7.309496140350877,
          6.9487270175438605,
          6.054647017543859,
          4.9958680701754385,
          4.635098947368421,
          4.305701052631579,
          4.0547312280701755,
          3.5085866666666665,
          3.752426666666667,
          3.8337066666666666,
          3.8337066666666666,
          4.2672,
          4.538133333333334,
          4.2130133333333335,
          3.5627733333333333,
          3.12928,
          3.12928,
          3.12928,
          3.12928,
          3.12928,
          3.12928,
          3.427306666666667,
          3.427306666666667,
          17.8816,
          19.22272,
          17.8816,
          13.85824,
          17.8816,
          17.8816,
          17.8816,
          16.98752,
          21.01088,
          19.22272,
          15.19936,
          12.96416,
          7.15264,
          4.91744,
          9.83488,
          15.19936,
          16.09344,
          16.98752,
          17.8816,
          16.09344,
          16.09344,
          11.176,
          7.15264,
          12.96416,
          12.070079999999999,
          11.176,
          11.176,
          11.176,
          11.176,
          11.176,
          11.176,
          9.83488,
          11.176,
          8.04672,
          8.04672,
          8.04672,
          8.04672,
          7.15264,
          5.81152,
          5.81152,
          5.81152,
          4.91744,
          4.02336,
          3.12928,
          4.02336,
          5.81152,
          5.81152,
          5.81152,
          5.81152,
          7.15264,
          8.9408,
          8.9408,
          8.04672,
          12.070079999999999,
          12.070079999999999,
          11.176,
          12.070079999999999,
          12.96416,
          11.176,
          12.96416,
          8.9408,
          9.83488,
          9.83488,
          8.9408,
          9.83488,
          11.176,
          9.83488,
          7.15264,
          7.15264,
          11.176,
          13.85824,
          20.1168,
          16.98752,
          16.98752,
          15.19936,
          9.83488,
          5.81152,
          4.91744,
          4.02336,
          3.12928,
          1.78816,
          1.78816,
          4.02336,
          4.91744,
          8.9408,
          11.176,
          11.176,
          9.83488,
          12.070079999999999,
          16.09344,
          20.1168,
          20.1168,
          20.1168,
          19.22272,
          20.1168,
          21.01088,
          20.1168,
          19.22272,
          15.19936,
          12.96416,
          8.04672,
          4.02336,
          3.12928,
          8.9408,
          8.9408,
          5.81152,
          7.15264,
          7.15264,
          5.81152,
          5.81152,
          8.04672,
          8.04672,
          12.070079999999999,
          12.070079999999999,
          8.9408,
          4.02336,
          5.81152,
          1.78816,
          9.83488
         ],
         "hovertemplate": "<b>Power Generation: %{y:.2f} MW </b><br> Wind Speed: %{customdata:.2f} m/s <extra></extra>",
         "legendgroup": "Actual",
         "line": {
          "color": "#EF553B",
          "dash": "solid"
         },
         "marker": {
          "symbol": "circle"
         },
         "mode": "lines",
         "name": "Actual",
         "orientation": "v",
         "showlegend": true,
         "type": "scatter",
         "x": [
          "2023-02-08T09:00:00+00:00",
          "2023-02-08T12:00:00+00:00",
          "2023-02-08T15:00:00+00:00",
          "2023-02-08T18:00:00+00:00",
          "2023-02-08T21:00:00+00:00",
          "2023-02-09T00:00:00+00:00",
          "2023-02-09T03:00:00+00:00",
          "2023-02-09T06:00:00+00:00",
          "2023-02-09T09:00:00+00:00",
          "2023-02-09T12:00:00+00:00",
          "2023-02-09T15:00:00+00:00",
          "2023-02-09T18:00:00+00:00",
          "2023-02-09T21:00:00+00:00",
          "2023-02-10T00:00:00+00:00",
          "2023-02-10T03:00:00+00:00",
          "2023-02-10T06:00:00+00:00",
          "2023-02-10T09:00:00+00:00",
          "2023-02-10T12:00:00+00:00",
          "2023-02-10T15:00:00+00:00",
          "2023-02-10T18:00:00+00:00",
          "2023-02-10T21:00:00+00:00",
          "2023-02-11T00:00:00+00:00",
          "2023-02-11T03:00:00+00:00",
          "2023-02-11T06:00:00+00:00",
          "2023-02-11T09:00:00+00:00",
          "2023-02-11T12:00:00+00:00",
          "2023-02-11T15:00:00+00:00",
          "2023-02-11T18:00:00+00:00",
          "2023-02-11T21:00:00+00:00",
          "2023-02-12T00:00:00+00:00",
          "2023-02-12T03:00:00+00:00",
          "2023-02-12T06:00:00+00:00",
          "2023-02-12T09:00:00+00:00",
          "2023-02-12T12:00:00+00:00",
          "2023-02-12T15:00:00+00:00",
          "2023-02-12T18:00:00+00:00",
          "2023-02-12T21:00:00+00:00",
          "2023-02-13T00:00:00+00:00",
          "2023-02-13T03:00:00+00:00",
          "2023-02-13T06:00:00+00:00",
          "2023-02-13T09:00:00+00:00",
          "2023-02-13T12:00:00+00:00",
          "2023-02-13T15:00:00+00:00",
          "2023-02-13T18:00:00+00:00",
          "2023-02-13T21:00:00+00:00",
          "2023-02-14T00:00:00+00:00",
          "2023-02-14T03:00:00+00:00",
          "2023-02-14T06:00:00+00:00",
          "2023-02-14T09:00:00+00:00",
          "2023-02-14T12:00:00+00:00",
          "2023-02-14T15:00:00+00:00",
          "2023-02-14T18:00:00+00:00",
          "2023-02-14T21:00:00+00:00",
          "2023-02-15T00:00:00+00:00",
          "2023-02-15T03:00:00+00:00",
          "2023-02-15T06:00:00+00:00",
          "2023-02-15T09:00:00+00:00",
          "2023-02-15T12:00:00+00:00",
          "2023-02-15T15:00:00+00:00",
          "2023-02-15T18:00:00+00:00",
          "2023-02-15T21:00:00+00:00",
          "2023-02-16T00:00:00+00:00",
          "2023-02-16T03:00:00+00:00",
          "2023-02-16T06:00:00+00:00",
          "2023-02-16T09:00:00+00:00",
          "2023-02-16T12:00:00+00:00",
          "2023-02-16T15:00:00+00:00",
          "2023-02-16T18:00:00+00:00",
          "2023-02-16T21:00:00+00:00",
          "2023-02-17T00:00:00+00:00",
          "2023-02-17T03:00:00+00:00",
          "2023-02-17T06:00:00+00:00",
          "2023-02-17T09:00:00+00:00",
          "2023-02-17T12:00:00+00:00",
          "2023-02-17T15:00:00+00:00",
          "2023-02-17T18:00:00+00:00",
          "2023-02-17T21:00:00+00:00",
          "2023-02-18T00:00:00+00:00",
          "2023-02-18T03:00:00+00:00",
          "2023-02-18T06:00:00+00:00",
          "2023-02-18T09:00:00+00:00",
          "2023-02-18T12:00:00+00:00",
          "2023-02-18T15:00:00+00:00",
          "2023-02-18T18:00:00+00:00",
          "2023-02-18T21:00:00+00:00",
          "2023-02-19T00:00:00+00:00",
          "2023-02-19T03:00:00+00:00",
          "2023-02-19T06:00:00+00:00",
          "2023-02-19T09:00:00+00:00",
          "2023-02-19T12:00:00+00:00",
          "2023-02-19T15:00:00+00:00",
          "2023-02-19T18:00:00+00:00",
          "2023-02-19T21:00:00+00:00",
          "2023-02-20T00:00:00+00:00",
          "2023-02-20T03:00:00+00:00",
          "2023-02-20T06:00:00+00:00",
          "2023-02-20T09:00:00+00:00",
          "2023-02-20T12:00:00+00:00",
          "2023-02-20T15:00:00+00:00",
          "2023-02-20T18:00:00+00:00",
          "2023-02-20T21:00:00+00:00",
          "2023-02-21T00:00:00+00:00",
          "2023-02-21T03:00:00+00:00",
          "2023-02-21T06:00:00+00:00",
          "2023-02-21T09:00:00+00:00",
          "2023-02-21T12:00:00+00:00",
          "2023-02-21T15:00:00+00:00",
          "2023-02-21T18:00:00+00:00",
          "2023-02-21T21:00:00+00:00",
          "2023-02-22T00:00:00+00:00",
          "2023-02-22T03:00:00+00:00",
          "2023-02-22T06:00:00+00:00",
          "2023-02-22T09:00:00+00:00",
          "2023-02-22T12:00:00+00:00",
          "2023-02-22T15:00:00+00:00",
          "2023-02-22T18:00:00+00:00",
          "2023-02-22T21:00:00+00:00",
          "2023-02-23T00:00:00+00:00",
          "2023-02-23T03:00:00+00:00",
          "2023-02-23T09:00:00+00:00",
          "2023-02-23T12:00:00+00:00",
          "2023-02-23T15:00:00+00:00",
          "2023-02-23T18:00:00+00:00",
          "2023-02-23T21:00:00+00:00",
          "2023-02-24T00:00:00+00:00",
          "2023-02-24T03:00:00+00:00",
          "2023-02-24T06:00:00+00:00",
          "2023-02-24T09:00:00+00:00",
          "2023-02-24T12:00:00+00:00",
          "2023-02-24T15:00:00+00:00",
          "2023-02-24T18:00:00+00:00",
          "2023-02-24T21:00:00+00:00",
          "2023-02-25T00:00:00+00:00",
          "2023-02-25T03:00:00+00:00",
          "2023-02-25T06:00:00+00:00",
          "2023-02-25T09:00:00+00:00",
          "2023-02-25T12:00:00+00:00",
          "2023-02-25T15:00:00+00:00",
          "2023-02-25T18:00:00+00:00",
          "2023-02-25T21:00:00+00:00",
          "2023-02-26T00:00:00+00:00",
          "2023-02-26T03:00:00+00:00",
          "2023-02-26T06:00:00+00:00",
          "2023-02-26T09:00:00+00:00",
          "2023-02-26T12:00:00+00:00",
          "2023-02-26T15:00:00+00:00",
          "2023-02-26T18:00:00+00:00",
          "2023-02-26T21:00:00+00:00",
          "2023-02-27T00:00:00+00:00",
          "2023-02-27T03:00:00+00:00",
          "2023-02-27T06:00:00+00:00",
          "2023-02-27T09:00:00+00:00",
          "2023-02-27T12:00:00+00:00",
          "2023-02-27T15:00:00+00:00",
          "2023-02-27T18:00:00+00:00",
          "2023-02-27T21:00:00+00:00"
         ],
         "xaxis": "x",
         "y": [
          25.294328127777778,
          26.570690105555553,
          27.150278066666665,
          29.662411877777778,
          27.70595697777778,
          27.06053972777778,
          25.723871772222225,
          24.324496961111112,
          20.934500766666666,
          23.38472887777778,
          24.5264364,
          16.012338627777776,
          6.569076027777777,
          10.21042271111111,
          22.006454027777778,
          22.882521761111114,
          21.763950816666668,
          22.583871894444442,
          24.202242350000002,
          24.620721455555557,
          25.817110216666666,
          24.338831288888887,
          23.84758072777778,
          22.721779666666666,
          20.78363173743017,
          21.2303062,
          21.150809527777778,
          20.222826927777778,
          19.919787394444445,
          17.970539083333335,
          20.48256333888889,
          19.96684137777778,
          17.14757756111111,
          14.925714772222221,
          13.294780305555555,
          13.155400922222222,
          10.420132016666667,
          7.577910844444444,
          5.226257280898876,
          3.4811564388888887,
          6.269006399999999,
          6.9808924413407825,
          3.7917375944444447,
          2.979314344444444,
          4.458607455555556,
          7.398425527777778,
          10.222019,
          10.594415811111112,
          12.467054894444443,
          14.038110822222224,
          16.797926366666665,
          19.97411828888889,
          20.731533605555555,
          21.172519094444446,
          22.722648111111113,
          24.276797638888887,
          23.97736727777778,
          19.463374282485876,
          null,
          23.819080881355934,
          21.940404422222223,
          19.40290537222222,
          16.15297113333333,
          14.737509044444444,
          14.586008116666665,
          15.150767176136362,
          11.240705586592178,
          7.854886261111111,
          10.81077351111111,
          19.56726145,
          21.970774916666667,
          15.29401255,
          23.31614890909091,
          22.475683262857142,
          22.014130555555557,
          17.700130438888888,
          6.106264233333333,
          1.4258078666666667,
          1.3087835222222224,
          1.5311243722222223,
          1.2804474555555556,
          1.3726160388888888,
          1.7992808666666669,
          4.1882715388888885,
          7.051247427777778,
          15.010386511111111,
          16.23082055,
          18.248838705555556,
          21.275872516666666,
          24.354231288888887,
          21.1886084,
          20.331054227777777,
          15.793546283333333,
          20.278994005555557,
          20.375853664772727,
          20.061645405555556,
          19.865713905555555,
          21.243271572222223,
          26.14156186666667,
          26.25962770555556,
          21.664147044444444,
          12.066924472222222,
          3.872830683333333,
          9.683455466666667,
          16.15231687777778,
          11.343601311111112,
          13.869748738888887,
          15.576453788888887,
          13.818091922222223,
          12.52851286111111,
          11.757138544444446,
          10.675278744444444,
          17.19055298888889,
          21.027393761111114,
          17.006579494444445,
          14.495308177777778,
          7.357245977777779,
          3.7937302944444444,
          5.293766388888889,
          null,
          null,
          null,
          null,
          null,
          null,
          null,
          null,
          null,
          null,
          null,
          null,
          null,
          null,
          null,
          null,
          null,
          null,
          null,
          null,
          null,
          null,
          null,
          null,
          null,
          null,
          null,
          null,
          null,
          null,
          null,
          null,
          null,
          null,
          null,
          null,
          null
         ],
         "yaxis": "y"
        },
        {
         "customdata": [
          10.520341333333333,
          12.317016380952381,
          13.768832000000002,
          13.87952761904762,
          13.798634666666667,
          13.582289382716048,
          12.489524938271606,
          11.89899061728395,
          11.131847901234567,
          10.210172839506173,
          9.934222222222223,
          9.216750617283951,
          8.38337975308642,
          7.725164912280701,
          7.309496140350877,
          6.9487270175438605,
          6.054647017543859,
          4.9958680701754385,
          4.635098947368421,
          4.305701052631579,
          4.0547312280701755,
          3.5085866666666665,
          3.752426666666667,
          3.8337066666666666,
          3.8337066666666666,
          4.2672,
          4.538133333333334,
          4.2130133333333335,
          3.5627733333333333,
          3.12928,
          3.12928,
          3.12928,
          3.12928,
          3.12928,
          3.12928,
          3.427306666666667,
          3.427306666666667,
          17.8816,
          19.22272,
          17.8816,
          13.85824,
          17.8816,
          17.8816,
          17.8816,
          16.98752,
          21.01088,
          19.22272,
          15.19936,
          12.96416,
          7.15264,
          4.91744,
          9.83488,
          15.19936,
          16.09344,
          16.98752,
          17.8816,
          16.09344,
          16.09344,
          11.176,
          7.15264,
          12.96416,
          12.070079999999999,
          11.176,
          11.176,
          11.176,
          11.176,
          11.176,
          11.176,
          9.83488,
          11.176,
          8.04672,
          8.04672,
          8.04672,
          8.04672,
          7.15264,
          5.81152,
          5.81152,
          5.81152,
          4.91744,
          4.02336,
          3.12928,
          4.02336,
          5.81152,
          5.81152,
          5.81152,
          5.81152,
          7.15264,
          8.9408,
          8.9408,
          8.04672,
          12.070079999999999,
          12.070079999999999,
          11.176,
          12.070079999999999,
          12.96416,
          11.176,
          12.96416,
          8.9408,
          9.83488,
          9.83488,
          8.9408,
          9.83488,
          11.176,
          9.83488,
          7.15264,
          7.15264,
          11.176,
          13.85824,
          20.1168,
          16.98752,
          16.98752,
          15.19936,
          9.83488,
          5.81152,
          4.91744,
          4.02336,
          3.12928,
          1.78816,
          1.78816,
          4.02336,
          4.91744,
          8.9408,
          11.176,
          11.176,
          9.83488,
          12.070079999999999,
          16.09344,
          20.1168,
          20.1168,
          20.1168,
          19.22272,
          20.1168,
          21.01088,
          20.1168,
          19.22272,
          15.19936,
          12.96416,
          8.04672,
          4.02336,
          3.12928,
          8.9408,
          8.9408,
          5.81152,
          7.15264,
          7.15264,
          5.81152,
          5.81152,
          8.04672,
          8.04672,
          12.070079999999999,
          12.070079999999999,
          8.9408,
          4.02336,
          5.81152,
          1.78816,
          9.83488
         ],
         "hovertemplate": "<b>Power Generation: %{y:.2f} MW </b><br> Wind Speed: %{customdata:.2f} m/s <extra></extra>",
         "legendgroup": "Forecast",
         "line": {
          "color": "#00cc96",
          "dash": "solid"
         },
         "marker": {
          "symbol": "circle"
         },
         "mode": "lines",
         "name": "Forecast",
         "orientation": "v",
         "showlegend": true,
         "type": "scatter",
         "x": [
          "2023-02-08T09:00:00+00:00",
          "2023-02-08T12:00:00+00:00",
          "2023-02-08T15:00:00+00:00",
          "2023-02-08T18:00:00+00:00",
          "2023-02-08T21:00:00+00:00",
          "2023-02-09T00:00:00+00:00",
          "2023-02-09T03:00:00+00:00",
          "2023-02-09T06:00:00+00:00",
          "2023-02-09T09:00:00+00:00",
          "2023-02-09T12:00:00+00:00",
          "2023-02-09T15:00:00+00:00",
          "2023-02-09T18:00:00+00:00",
          "2023-02-09T21:00:00+00:00",
          "2023-02-10T00:00:00+00:00",
          "2023-02-10T03:00:00+00:00",
          "2023-02-10T06:00:00+00:00",
          "2023-02-10T09:00:00+00:00",
          "2023-02-10T12:00:00+00:00",
          "2023-02-10T15:00:00+00:00",
          "2023-02-10T18:00:00+00:00",
          "2023-02-10T21:00:00+00:00",
          "2023-02-11T00:00:00+00:00",
          "2023-02-11T03:00:00+00:00",
          "2023-02-11T06:00:00+00:00",
          "2023-02-11T09:00:00+00:00",
          "2023-02-11T12:00:00+00:00",
          "2023-02-11T15:00:00+00:00",
          "2023-02-11T18:00:00+00:00",
          "2023-02-11T21:00:00+00:00",
          "2023-02-12T00:00:00+00:00",
          "2023-02-12T03:00:00+00:00",
          "2023-02-12T06:00:00+00:00",
          "2023-02-12T09:00:00+00:00",
          "2023-02-12T12:00:00+00:00",
          "2023-02-12T15:00:00+00:00",
          "2023-02-12T18:00:00+00:00",
          "2023-02-12T21:00:00+00:00",
          "2023-02-13T00:00:00+00:00",
          "2023-02-13T03:00:00+00:00",
          "2023-02-13T06:00:00+00:00",
          "2023-02-13T09:00:00+00:00",
          "2023-02-13T12:00:00+00:00",
          "2023-02-13T15:00:00+00:00",
          "2023-02-13T18:00:00+00:00",
          "2023-02-13T21:00:00+00:00",
          "2023-02-14T00:00:00+00:00",
          "2023-02-14T03:00:00+00:00",
          "2023-02-14T06:00:00+00:00",
          "2023-02-14T09:00:00+00:00",
          "2023-02-14T12:00:00+00:00",
          "2023-02-14T15:00:00+00:00",
          "2023-02-14T18:00:00+00:00",
          "2023-02-14T21:00:00+00:00",
          "2023-02-15T00:00:00+00:00",
          "2023-02-15T03:00:00+00:00",
          "2023-02-15T06:00:00+00:00",
          "2023-02-15T09:00:00+00:00",
          "2023-02-15T12:00:00+00:00",
          "2023-02-15T15:00:00+00:00",
          "2023-02-15T18:00:00+00:00",
          "2023-02-15T21:00:00+00:00",
          "2023-02-16T00:00:00+00:00",
          "2023-02-16T03:00:00+00:00",
          "2023-02-16T06:00:00+00:00",
          "2023-02-16T09:00:00+00:00",
          "2023-02-16T12:00:00+00:00",
          "2023-02-16T15:00:00+00:00",
          "2023-02-16T18:00:00+00:00",
          "2023-02-16T21:00:00+00:00",
          "2023-02-17T00:00:00+00:00",
          "2023-02-17T03:00:00+00:00",
          "2023-02-17T06:00:00+00:00",
          "2023-02-17T09:00:00+00:00",
          "2023-02-17T12:00:00+00:00",
          "2023-02-17T15:00:00+00:00",
          "2023-02-17T18:00:00+00:00",
          "2023-02-17T21:00:00+00:00",
          "2023-02-18T00:00:00+00:00",
          "2023-02-18T03:00:00+00:00",
          "2023-02-18T06:00:00+00:00",
          "2023-02-18T09:00:00+00:00",
          "2023-02-18T12:00:00+00:00",
          "2023-02-18T15:00:00+00:00",
          "2023-02-18T18:00:00+00:00",
          "2023-02-18T21:00:00+00:00",
          "2023-02-19T00:00:00+00:00",
          "2023-02-19T03:00:00+00:00",
          "2023-02-19T06:00:00+00:00",
          "2023-02-19T09:00:00+00:00",
          "2023-02-19T12:00:00+00:00",
          "2023-02-19T15:00:00+00:00",
          "2023-02-19T18:00:00+00:00",
          "2023-02-19T21:00:00+00:00",
          "2023-02-20T00:00:00+00:00",
          "2023-02-20T03:00:00+00:00",
          "2023-02-20T06:00:00+00:00",
          "2023-02-20T09:00:00+00:00",
          "2023-02-20T12:00:00+00:00",
          "2023-02-20T15:00:00+00:00",
          "2023-02-20T18:00:00+00:00",
          "2023-02-20T21:00:00+00:00",
          "2023-02-21T00:00:00+00:00",
          "2023-02-21T03:00:00+00:00",
          "2023-02-21T06:00:00+00:00",
          "2023-02-21T09:00:00+00:00",
          "2023-02-21T12:00:00+00:00",
          "2023-02-21T15:00:00+00:00",
          "2023-02-21T18:00:00+00:00",
          "2023-02-21T21:00:00+00:00",
          "2023-02-22T00:00:00+00:00",
          "2023-02-22T03:00:00+00:00",
          "2023-02-22T06:00:00+00:00",
          "2023-02-22T09:00:00+00:00",
          "2023-02-22T12:00:00+00:00",
          "2023-02-22T15:00:00+00:00",
          "2023-02-22T18:00:00+00:00",
          "2023-02-22T21:00:00+00:00",
          "2023-02-23T00:00:00+00:00",
          "2023-02-23T03:00:00+00:00",
          "2023-02-23T09:00:00+00:00",
          "2023-02-23T12:00:00+00:00",
          "2023-02-23T15:00:00+00:00",
          "2023-02-23T18:00:00+00:00",
          "2023-02-23T21:00:00+00:00",
          "2023-02-24T00:00:00+00:00",
          "2023-02-24T03:00:00+00:00",
          "2023-02-24T06:00:00+00:00",
          "2023-02-24T09:00:00+00:00",
          "2023-02-24T12:00:00+00:00",
          "2023-02-24T15:00:00+00:00",
          "2023-02-24T18:00:00+00:00",
          "2023-02-24T21:00:00+00:00",
          "2023-02-25T00:00:00+00:00",
          "2023-02-25T03:00:00+00:00",
          "2023-02-25T06:00:00+00:00",
          "2023-02-25T09:00:00+00:00",
          "2023-02-25T12:00:00+00:00",
          "2023-02-25T15:00:00+00:00",
          "2023-02-25T18:00:00+00:00",
          "2023-02-25T21:00:00+00:00",
          "2023-02-26T00:00:00+00:00",
          "2023-02-26T03:00:00+00:00",
          "2023-02-26T06:00:00+00:00",
          "2023-02-26T09:00:00+00:00",
          "2023-02-26T12:00:00+00:00",
          "2023-02-26T15:00:00+00:00",
          "2023-02-26T18:00:00+00:00",
          "2023-02-26T21:00:00+00:00",
          "2023-02-27T00:00:00+00:00",
          "2023-02-27T03:00:00+00:00",
          "2023-02-27T06:00:00+00:00",
          "2023-02-27T09:00:00+00:00",
          "2023-02-27T12:00:00+00:00",
          "2023-02-27T15:00:00+00:00",
          "2023-02-27T18:00:00+00:00",
          "2023-02-27T21:00:00+00:00"
         ],
         "xaxis": "x",
         "y": [
          null,
          null,
          null,
          null,
          null,
          null,
          null,
          null,
          null,
          null,
          null,
          null,
          null,
          null,
          null,
          null,
          null,
          null,
          null,
          null,
          null,
          null,
          null,
          null,
          null,
          null,
          null,
          null,
          null,
          null,
          null,
          null,
          null,
          null,
          null,
          null,
          null,
          null,
          null,
          null,
          null,
          null,
          null,
          null,
          null,
          null,
          null,
          null,
          null,
          null,
          null,
          null,
          null,
          null,
          null,
          null,
          null,
          null,
          null,
          null,
          null,
          null,
          null,
          null,
          null,
          null,
          null,
          null,
          null,
          null,
          null,
          null,
          null,
          null,
          null,
          null,
          null,
          null,
          null,
          null,
          null,
          null,
          null,
          null,
          null,
          null,
          null,
          null,
          null,
          null,
          null,
          null,
          null,
          null,
          null,
          null,
          null,
          null,
          null,
          null,
          null,
          null,
          null,
          null,
          null,
          null,
          null,
          null,
          null,
          null,
          null,
          null,
          null,
          null,
          null,
          null,
          null,
          null,
          null,
          19.766109304004996,
          22.48024663083858,
          23.201584821672583,
          23.14584734827678,
          22.9821732814018,
          22.918522325741613,
          21.78159607955564,
          20.846329905521003,
          19.38026149183884,
          17.224143625710607,
          16.5019518725336,
          14.696790268594295,
          12.628302439468412,
          11.081281694480337,
          10.283124531457505,
          9.423061751173867,
          7.593704922536938,
          5.769951130798016,
          5.3942085036260545,
          4.9134568762713915,
          4.753596244508628,
          4.300843172931861,
          4.875710128477287,
          5.282494326586051,
          5.571500839832437,
          7.098192184775091,
          6.925717408626568,
          6.249551056637573,
          5.376297289140891,
          4.447809899264204,
          4.247103256206113,
          3.9638903094453073,
          5.452947578042252,
          3.397678451733292,
          3.45540471996638,
          4.402128398712978,
          4.310741034870391
         ],
         "yaxis": "y"
        }
       ],
       "layout": {
        "legend": {
         "title": {
          "text": ""
         },
         "tracegroupgap": 0
        },
        "template": {
         "data": {
          "bar": [
           {
            "error_x": {
             "color": "#2a3f5f"
            },
            "error_y": {
             "color": "#2a3f5f"
            },
            "marker": {
             "line": {
              "color": "#E5ECF6",
              "width": 0.5
             },
             "pattern": {
              "fillmode": "overlay",
              "size": 10,
              "solidity": 0.2
             }
            },
            "type": "bar"
           }
          ],
          "barpolar": [
           {
            "marker": {
             "line": {
              "color": "#E5ECF6",
              "width": 0.5
             },
             "pattern": {
              "fillmode": "overlay",
              "size": 10,
              "solidity": 0.2
             }
            },
            "type": "barpolar"
           }
          ],
          "carpet": [
           {
            "aaxis": {
             "endlinecolor": "#2a3f5f",
             "gridcolor": "white",
             "linecolor": "white",
             "minorgridcolor": "white",
             "startlinecolor": "#2a3f5f"
            },
            "baxis": {
             "endlinecolor": "#2a3f5f",
             "gridcolor": "white",
             "linecolor": "white",
             "minorgridcolor": "white",
             "startlinecolor": "#2a3f5f"
            },
            "type": "carpet"
           }
          ],
          "choropleth": [
           {
            "colorbar": {
             "outlinewidth": 0,
             "ticks": ""
            },
            "type": "choropleth"
           }
          ],
          "contour": [
           {
            "colorbar": {
             "outlinewidth": 0,
             "ticks": ""
            },
            "colorscale": [
             [
              0,
              "#0d0887"
             ],
             [
              0.1111111111111111,
              "#46039f"
             ],
             [
              0.2222222222222222,
              "#7201a8"
             ],
             [
              0.3333333333333333,
              "#9c179e"
             ],
             [
              0.4444444444444444,
              "#bd3786"
             ],
             [
              0.5555555555555556,
              "#d8576b"
             ],
             [
              0.6666666666666666,
              "#ed7953"
             ],
             [
              0.7777777777777778,
              "#fb9f3a"
             ],
             [
              0.8888888888888888,
              "#fdca26"
             ],
             [
              1,
              "#f0f921"
             ]
            ],
            "type": "contour"
           }
          ],
          "contourcarpet": [
           {
            "colorbar": {
             "outlinewidth": 0,
             "ticks": ""
            },
            "type": "contourcarpet"
           }
          ],
          "heatmap": [
           {
            "colorbar": {
             "outlinewidth": 0,
             "ticks": ""
            },
            "colorscale": [
             [
              0,
              "#0d0887"
             ],
             [
              0.1111111111111111,
              "#46039f"
             ],
             [
              0.2222222222222222,
              "#7201a8"
             ],
             [
              0.3333333333333333,
              "#9c179e"
             ],
             [
              0.4444444444444444,
              "#bd3786"
             ],
             [
              0.5555555555555556,
              "#d8576b"
             ],
             [
              0.6666666666666666,
              "#ed7953"
             ],
             [
              0.7777777777777778,
              "#fb9f3a"
             ],
             [
              0.8888888888888888,
              "#fdca26"
             ],
             [
              1,
              "#f0f921"
             ]
            ],
            "type": "heatmap"
           }
          ],
          "heatmapgl": [
           {
            "colorbar": {
             "outlinewidth": 0,
             "ticks": ""
            },
            "colorscale": [
             [
              0,
              "#0d0887"
             ],
             [
              0.1111111111111111,
              "#46039f"
             ],
             [
              0.2222222222222222,
              "#7201a8"
             ],
             [
              0.3333333333333333,
              "#9c179e"
             ],
             [
              0.4444444444444444,
              "#bd3786"
             ],
             [
              0.5555555555555556,
              "#d8576b"
             ],
             [
              0.6666666666666666,
              "#ed7953"
             ],
             [
              0.7777777777777778,
              "#fb9f3a"
             ],
             [
              0.8888888888888888,
              "#fdca26"
             ],
             [
              1,
              "#f0f921"
             ]
            ],
            "type": "heatmapgl"
           }
          ],
          "histogram": [
           {
            "marker": {
             "pattern": {
              "fillmode": "overlay",
              "size": 10,
              "solidity": 0.2
             }
            },
            "type": "histogram"
           }
          ],
          "histogram2d": [
           {
            "colorbar": {
             "outlinewidth": 0,
             "ticks": ""
            },
            "colorscale": [
             [
              0,
              "#0d0887"
             ],
             [
              0.1111111111111111,
              "#46039f"
             ],
             [
              0.2222222222222222,
              "#7201a8"
             ],
             [
              0.3333333333333333,
              "#9c179e"
             ],
             [
              0.4444444444444444,
              "#bd3786"
             ],
             [
              0.5555555555555556,
              "#d8576b"
             ],
             [
              0.6666666666666666,
              "#ed7953"
             ],
             [
              0.7777777777777778,
              "#fb9f3a"
             ],
             [
              0.8888888888888888,
              "#fdca26"
             ],
             [
              1,
              "#f0f921"
             ]
            ],
            "type": "histogram2d"
           }
          ],
          "histogram2dcontour": [
           {
            "colorbar": {
             "outlinewidth": 0,
             "ticks": ""
            },
            "colorscale": [
             [
              0,
              "#0d0887"
             ],
             [
              0.1111111111111111,
              "#46039f"
             ],
             [
              0.2222222222222222,
              "#7201a8"
             ],
             [
              0.3333333333333333,
              "#9c179e"
             ],
             [
              0.4444444444444444,
              "#bd3786"
             ],
             [
              0.5555555555555556,
              "#d8576b"
             ],
             [
              0.6666666666666666,
              "#ed7953"
             ],
             [
              0.7777777777777778,
              "#fb9f3a"
             ],
             [
              0.8888888888888888,
              "#fdca26"
             ],
             [
              1,
              "#f0f921"
             ]
            ],
            "type": "histogram2dcontour"
           }
          ],
          "mesh3d": [
           {
            "colorbar": {
             "outlinewidth": 0,
             "ticks": ""
            },
            "type": "mesh3d"
           }
          ],
          "parcoords": [
           {
            "line": {
             "colorbar": {
              "outlinewidth": 0,
              "ticks": ""
             }
            },
            "type": "parcoords"
           }
          ],
          "pie": [
           {
            "automargin": true,
            "type": "pie"
           }
          ],
          "scatter": [
           {
            "fillpattern": {
             "fillmode": "overlay",
             "size": 10,
             "solidity": 0.2
            },
            "type": "scatter"
           }
          ],
          "scatter3d": [
           {
            "line": {
             "colorbar": {
              "outlinewidth": 0,
              "ticks": ""
             }
            },
            "marker": {
             "colorbar": {
              "outlinewidth": 0,
              "ticks": ""
             }
            },
            "type": "scatter3d"
           }
          ],
          "scattercarpet": [
           {
            "marker": {
             "colorbar": {
              "outlinewidth": 0,
              "ticks": ""
             }
            },
            "type": "scattercarpet"
           }
          ],
          "scattergeo": [
           {
            "marker": {
             "colorbar": {
              "outlinewidth": 0,
              "ticks": ""
             }
            },
            "type": "scattergeo"
           }
          ],
          "scattergl": [
           {
            "marker": {
             "colorbar": {
              "outlinewidth": 0,
              "ticks": ""
             }
            },
            "type": "scattergl"
           }
          ],
          "scattermapbox": [
           {
            "marker": {
             "colorbar": {
              "outlinewidth": 0,
              "ticks": ""
             }
            },
            "type": "scattermapbox"
           }
          ],
          "scatterpolar": [
           {
            "marker": {
             "colorbar": {
              "outlinewidth": 0,
              "ticks": ""
             }
            },
            "type": "scatterpolar"
           }
          ],
          "scatterpolargl": [
           {
            "marker": {
             "colorbar": {
              "outlinewidth": 0,
              "ticks": ""
             }
            },
            "type": "scatterpolargl"
           }
          ],
          "scatterternary": [
           {
            "marker": {
             "colorbar": {
              "outlinewidth": 0,
              "ticks": ""
             }
            },
            "type": "scatterternary"
           }
          ],
          "surface": [
           {
            "colorbar": {
             "outlinewidth": 0,
             "ticks": ""
            },
            "colorscale": [
             [
              0,
              "#0d0887"
             ],
             [
              0.1111111111111111,
              "#46039f"
             ],
             [
              0.2222222222222222,
              "#7201a8"
             ],
             [
              0.3333333333333333,
              "#9c179e"
             ],
             [
              0.4444444444444444,
              "#bd3786"
             ],
             [
              0.5555555555555556,
              "#d8576b"
             ],
             [
              0.6666666666666666,
              "#ed7953"
             ],
             [
              0.7777777777777778,
              "#fb9f3a"
             ],
             [
              0.8888888888888888,
              "#fdca26"
             ],
             [
              1,
              "#f0f921"
             ]
            ],
            "type": "surface"
           }
          ],
          "table": [
           {
            "cells": {
             "fill": {
              "color": "#EBF0F8"
             },
             "line": {
              "color": "white"
             }
            },
            "header": {
             "fill": {
              "color": "#C8D4E3"
             },
             "line": {
              "color": "white"
             }
            },
            "type": "table"
           }
          ]
         },
         "layout": {
          "annotationdefaults": {
           "arrowcolor": "#2a3f5f",
           "arrowhead": 0,
           "arrowwidth": 1
          },
          "autotypenumbers": "strict",
          "coloraxis": {
           "colorbar": {
            "outlinewidth": 0,
            "ticks": ""
           }
          },
          "colorscale": {
           "diverging": [
            [
             0,
             "#8e0152"
            ],
            [
             0.1,
             "#c51b7d"
            ],
            [
             0.2,
             "#de77ae"
            ],
            [
             0.3,
             "#f1b6da"
            ],
            [
             0.4,
             "#fde0ef"
            ],
            [
             0.5,
             "#f7f7f7"
            ],
            [
             0.6,
             "#e6f5d0"
            ],
            [
             0.7,
             "#b8e186"
            ],
            [
             0.8,
             "#7fbc41"
            ],
            [
             0.9,
             "#4d9221"
            ],
            [
             1,
             "#276419"
            ]
           ],
           "sequential": [
            [
             0,
             "#0d0887"
            ],
            [
             0.1111111111111111,
             "#46039f"
            ],
            [
             0.2222222222222222,
             "#7201a8"
            ],
            [
             0.3333333333333333,
             "#9c179e"
            ],
            [
             0.4444444444444444,
             "#bd3786"
            ],
            [
             0.5555555555555556,
             "#d8576b"
            ],
            [
             0.6666666666666666,
             "#ed7953"
            ],
            [
             0.7777777777777778,
             "#fb9f3a"
            ],
            [
             0.8888888888888888,
             "#fdca26"
            ],
            [
             1,
             "#f0f921"
            ]
           ],
           "sequentialminus": [
            [
             0,
             "#0d0887"
            ],
            [
             0.1111111111111111,
             "#46039f"
            ],
            [
             0.2222222222222222,
             "#7201a8"
            ],
            [
             0.3333333333333333,
             "#9c179e"
            ],
            [
             0.4444444444444444,
             "#bd3786"
            ],
            [
             0.5555555555555556,
             "#d8576b"
            ],
            [
             0.6666666666666666,
             "#ed7953"
            ],
            [
             0.7777777777777778,
             "#fb9f3a"
            ],
            [
             0.8888888888888888,
             "#fdca26"
            ],
            [
             1,
             "#f0f921"
            ]
           ]
          },
          "colorway": [
           "#636efa",
           "#EF553B",
           "#00cc96",
           "#ab63fa",
           "#FFA15A",
           "#19d3f3",
           "#FF6692",
           "#B6E880",
           "#FF97FF",
           "#FECB52"
          ],
          "font": {
           "color": "#2a3f5f"
          },
          "geo": {
           "bgcolor": "white",
           "lakecolor": "white",
           "landcolor": "#E5ECF6",
           "showlakes": true,
           "showland": true,
           "subunitcolor": "white"
          },
          "hoverlabel": {
           "align": "left"
          },
          "hovermode": "closest",
          "mapbox": {
           "style": "light"
          },
          "paper_bgcolor": "white",
          "plot_bgcolor": "#E5ECF6",
          "polar": {
           "angularaxis": {
            "gridcolor": "white",
            "linecolor": "white",
            "ticks": ""
           },
           "bgcolor": "#E5ECF6",
           "radialaxis": {
            "gridcolor": "white",
            "linecolor": "white",
            "ticks": ""
           }
          },
          "scene": {
           "xaxis": {
            "backgroundcolor": "#E5ECF6",
            "gridcolor": "white",
            "gridwidth": 2,
            "linecolor": "white",
            "showbackground": true,
            "ticks": "",
            "zerolinecolor": "white"
           },
           "yaxis": {
            "backgroundcolor": "#E5ECF6",
            "gridcolor": "white",
            "gridwidth": 2,
            "linecolor": "white",
            "showbackground": true,
            "ticks": "",
            "zerolinecolor": "white"
           },
           "zaxis": {
            "backgroundcolor": "#E5ECF6",
            "gridcolor": "white",
            "gridwidth": 2,
            "linecolor": "white",
            "showbackground": true,
            "ticks": "",
            "zerolinecolor": "white"
           }
          },
          "shapedefaults": {
           "line": {
            "color": "#2a3f5f"
           }
          },
          "ternary": {
           "aaxis": {
            "gridcolor": "white",
            "linecolor": "white",
            "ticks": ""
           },
           "baxis": {
            "gridcolor": "white",
            "linecolor": "white",
            "ticks": ""
           },
           "bgcolor": "#E5ECF6",
           "caxis": {
            "gridcolor": "white",
            "linecolor": "white",
            "ticks": ""
           }
          },
          "title": {
           "x": 0.05
          },
          "xaxis": {
           "automargin": true,
           "gridcolor": "white",
           "linecolor": "white",
           "ticks": "",
           "title": {
            "standoff": 15
           },
           "zerolinecolor": "white",
           "zerolinewidth": 2
          },
          "yaxis": {
           "automargin": true,
           "gridcolor": "white",
           "linecolor": "white",
           "ticks": "",
           "title": {
            "standoff": 15
           },
           "zerolinecolor": "white",
           "zerolinewidth": 2
          }
         }
        },
        "title": {
         "text": "Power Generation Forecast (Test Data and Forecasted Future)"
        },
        "xaxis": {
         "anchor": "y",
         "domain": [
          0,
          1
         ],
         "title": {
          "text": "Date"
         }
        },
        "yaxis": {
         "anchor": "x",
         "domain": [
          0,
          1
         ],
         "title": {
          "text": "Power Generation (MW)"
         }
        }
       }
      }
     },
     "metadata": {},
     "output_type": "display_data"
    }
   ],
   "source": [
    "# plot final_df using plotly\n",
    "fig = px.line(final_df, x=final_df.index, y=[\"Model\", \"Actual\", \"Forecast\"], title=\"Power Generation Forecast (Test Data and Forecasted Future)\")\n",
    "# add x and y axis labels\n",
    "fig.update_xaxes(title_text=\"Date\")\n",
    "fig.update_yaxes(title_text=\"Power Generation (MW)\")\n",
    "# change legend heading\n",
    "fig.update_layout(legend_title_text=\"\")\n",
    "# add wind speed info to hover\n",
    "customdata = wind_speed_data\n",
    "fig.update_traces(hovertemplate=\"<b>Power Generation: %{y:.2f} MW </b><br> Wind Speed: %{customdata:.2f} m/s <extra></extra>\", customdata=customdata)\n",
    "fig.show()\n"
   ]
  },
  {
   "cell_type": "code",
   "execution_count": null,
   "metadata": {},
   "outputs": [],
   "source": []
  }
 ],
 "metadata": {
  "kernelspec": {
   "display_name": "Python 3",
   "language": "python",
   "name": "python3"
  },
  "language_info": {
   "codemirror_mode": {
    "name": "ipython",
    "version": 3
   },
   "file_extension": ".py",
   "mimetype": "text/x-python",
   "name": "python",
   "nbconvert_exporter": "python",
   "pygments_lexer": "ipython3",
   "version": "3.11.1"
  },
  "orig_nbformat": 4,
  "vscode": {
   "interpreter": {
    "hash": "5238573367df39f7286bb46f9ff5f08f63a01a80960060ce41e3c79b190280fa"
   }
  }
 },
 "nbformat": 4,
 "nbformat_minor": 2
}
