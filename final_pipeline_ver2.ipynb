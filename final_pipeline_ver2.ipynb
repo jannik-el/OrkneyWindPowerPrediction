{
 "cells": [
  {
   "cell_type": "code",
   "execution_count": 176,
   "metadata": {},
   "outputs": [],
   "source": [
    "import plotly.express as px\n",
    "from sklearn.pipeline import Pipeline\n",
    "from sklearn.compose import ColumnTransformer\n",
    "from sklearn.preprocessing import StandardScaler\n",
    "from sklearn.preprocessing import PolynomialFeatures\n",
    "from sklearn.model_selection import GridSearchCV\n",
    "import pandas as pd\n",
    "from tqdm import tqdm\n",
    "import joblib\n",
    "import datetime as dt\n",
    "from sklearn.model_selection import TimeSeriesSplit\n",
    "from skimpy import skim\n",
    "import matplotlib.pyplot as plt\n",
    "import numpy as np\n",
    "from sklearn.base import BaseEstimator, TransformerMixin\n",
    "from sklearn.compose import make_column_transformer\n",
    "from sklearn.model_selection import train_test_split"
   ]
  },
  {
   "cell_type": "code",
   "execution_count": 177,
   "metadata": {},
   "outputs": [],
   "source": [
    "from sklearn.linear_model import LinearRegression\n",
    "from sklearn.linear_model import Ridge\n",
    "from sklearn.linear_model import Lasso\n",
    "from sklearn.linear_model import ElasticNet\n",
    "from sklearn.tree import DecisionTreeRegressor\n",
    "from sklearn.ensemble import RandomForestRegressor\n",
    "from sklearn.ensemble import GradientBoostingRegressor\n",
    "from sklearn.neighbors import KNeighborsRegressor\n",
    "from sklearn.svm import SVR\n",
    "from sklearn.neural_network import MLPRegressor\n",
    "from sklearn.linear_model import HuberRegressor\n",
    "from sklearn.linear_model import RANSACRegressor\n",
    "from sklearn.gaussian_process import GaussianProcessRegressor\n",
    "from sklearn.gaussian_process.kernels import DotProduct, WhiteKernel, RBF"
   ]
  },
  {
   "cell_type": "code",
   "execution_count": 178,
   "metadata": {},
   "outputs": [],
   "source": [
    "import warnings\n",
    "warnings.filterwarnings('ignore')"
   ]
  },
  {
   "cell_type": "code",
   "execution_count": 179,
   "metadata": {},
   "outputs": [],
   "source": [
    "import sys\n",
    "sys.path.append('..')\n",
    "import fx"
   ]
  },
  {
   "cell_type": "code",
   "execution_count": 180,
   "metadata": {},
   "outputs": [],
   "source": [
    "data = fx.pull_data(days=90)"
   ]
  },
  {
   "cell_type": "code",
   "execution_count": 181,
   "metadata": {},
   "outputs": [],
   "source": [
    "anm_pipeline = Pipeline(steps=[\n",
    "    (\"col_transformer\", ColumnTransformer(transformers=[\n",
    "        (\"time\", fx.TimestampTransformer(), []),\n",
    "        (\"Speed\", None, [\"Speed\"]),\n",
    "        (\"Direction\", None, [\"Direction\"]),\n",
    "        ], remainder=\"drop\")),\n",
    "    (\"model\", None)\n",
    "])\n",
    "\n",
    "anm_params = {\n",
    "    'col_transformer__Speed': [None, StandardScaler(), PolynomialFeatures(), fx.EmpiricalWaveletTransform(level=5)],\n",
    "    'col_transformer__Direction': [\"drop\", fx.WindDirectionMapper(), fx.CompassToCartesianTransformer()],\n",
    "    'model': [\n",
    "        LinearRegression(), \n",
    "        MLPRegressor(hidden_layer_sizes=(150, 150), activation='tanh', solver='sgd'), \n",
    "        SVR(kernel='rbf', gamma='scale', C=1.0, epsilon=0.1),\n",
    "        HuberRegressor(epsilon=1.35, alpha=0.0001),\n",
    "        RANSACRegressor(min_samples=0.1, max_trials=100),\n",
    "        GaussianProcessRegressor(alpha=0.1, kernel=RBF()) \n",
    "    ]\n",
    "}"
   ]
  },
  {
   "cell_type": "code",
   "execution_count": 182,
   "metadata": {},
   "outputs": [],
   "source": [
    "non_anm_pipeline = Pipeline(steps=[\n",
    "    (\"col_transformer\", ColumnTransformer(transformers=[\n",
    "        (\"Speed\", None, [\"Speed\"]),\n",
    "        (\"Direction\", None, [\"Direction\"]),\n",
    "        ], remainder=\"drop\")),\n",
    "    (\"model\", None)\n",
    "])\n",
    "\n",
    "non_anm_params = {\n",
    "    'col_transformer__Speed': [None, StandardScaler(), PolynomialFeatures(), fx.EmpiricalWaveletTransform(level=5)],\n",
    "    'col_transformer__Direction': [\"drop\", fx.WindDirectionMapper(), fx.CompassToCartesianTransformer()],\n",
    "    'model': [\n",
    "        LinearRegression(), \n",
    "        MLPRegressor(hidden_layer_sizes=(150, 150), activation='tanh', solver='sgd'), \n",
    "        SVR(kernel='rbf', gamma='scale', C=1.0, epsilon=0.1),\n",
    "        HuberRegressor(epsilon=1.35, alpha=0.0001),\n",
    "        RANSACRegressor(min_samples=0.1, max_trials=100),\n",
    "        GaussianProcessRegressor(alpha=0.1, kernel=RBF()) \n",
    "    ]\n",
    "}"
   ]
  },
  {
   "cell_type": "code",
   "execution_count": 183,
   "metadata": {},
   "outputs": [],
   "source": [
    "tscv = TimeSeriesSplit(n_splits=5)"
   ]
  },
  {
   "cell_type": "code",
   "execution_count": 184,
   "metadata": {},
   "outputs": [],
   "source": [
    "anm_gridsearch = GridSearchCV(anm_pipeline, anm_params, cv=tscv, scoring='neg_mean_squared_error', n_jobs=-1, verbose=1)\n",
    "non_anm_gridsearch = GridSearchCV(non_anm_pipeline, non_anm_params, cv=tscv, scoring='neg_mean_squared_error', n_jobs=-1, verbose=1)"
   ]
  },
  {
   "cell_type": "code",
   "execution_count": 185,
   "metadata": {},
   "outputs": [],
   "source": [
    "ANM_X_train, ANM_y_train, ANM_X_test, ANM_y_test = fx.data_splitting(data, output_val=\"ANM\")\n",
    "non_ANM_X_train, non_ANM_y_train, non_ANM_X_test, non_ANM_y_test = fx.data_splitting(data, output_val=\"Non-ANM\")\n",
    "total_X_train, total_y_train, total_X_test, total_y_test = fx.data_splitting(data, output_val=\"Total\")"
   ]
  },
  {
   "cell_type": "code",
   "execution_count": 186,
   "metadata": {},
   "outputs": [
    {
     "name": "stdout",
     "output_type": "stream",
     "text": [
      "Fitting 5 folds for each of 72 candidates, totalling 360 fits\n"
     ]
    },
    {
     "data": {
      "text/html": [
       "<style>#sk-container-id-17 {color: black;background-color: white;}#sk-container-id-17 pre{padding: 0;}#sk-container-id-17 div.sk-toggleable {background-color: white;}#sk-container-id-17 label.sk-toggleable__label {cursor: pointer;display: block;width: 100%;margin-bottom: 0;padding: 0.3em;box-sizing: border-box;text-align: center;}#sk-container-id-17 label.sk-toggleable__label-arrow:before {content: \"▸\";float: left;margin-right: 0.25em;color: #696969;}#sk-container-id-17 label.sk-toggleable__label-arrow:hover:before {color: black;}#sk-container-id-17 div.sk-estimator:hover label.sk-toggleable__label-arrow:before {color: black;}#sk-container-id-17 div.sk-toggleable__content {max-height: 0;max-width: 0;overflow: hidden;text-align: left;background-color: #f0f8ff;}#sk-container-id-17 div.sk-toggleable__content pre {margin: 0.2em;color: black;border-radius: 0.25em;background-color: #f0f8ff;}#sk-container-id-17 input.sk-toggleable__control:checked~div.sk-toggleable__content {max-height: 200px;max-width: 100%;overflow: auto;}#sk-container-id-17 input.sk-toggleable__control:checked~label.sk-toggleable__label-arrow:before {content: \"▾\";}#sk-container-id-17 div.sk-estimator input.sk-toggleable__control:checked~label.sk-toggleable__label {background-color: #d4ebff;}#sk-container-id-17 div.sk-label input.sk-toggleable__control:checked~label.sk-toggleable__label {background-color: #d4ebff;}#sk-container-id-17 input.sk-hidden--visually {border: 0;clip: rect(1px 1px 1px 1px);clip: rect(1px, 1px, 1px, 1px);height: 1px;margin: -1px;overflow: hidden;padding: 0;position: absolute;width: 1px;}#sk-container-id-17 div.sk-estimator {font-family: monospace;background-color: #f0f8ff;border: 1px dotted black;border-radius: 0.25em;box-sizing: border-box;margin-bottom: 0.5em;}#sk-container-id-17 div.sk-estimator:hover {background-color: #d4ebff;}#sk-container-id-17 div.sk-parallel-item::after {content: \"\";width: 100%;border-bottom: 1px solid gray;flex-grow: 1;}#sk-container-id-17 div.sk-label:hover label.sk-toggleable__label {background-color: #d4ebff;}#sk-container-id-17 div.sk-serial::before {content: \"\";position: absolute;border-left: 1px solid gray;box-sizing: border-box;top: 0;bottom: 0;left: 50%;z-index: 0;}#sk-container-id-17 div.sk-serial {display: flex;flex-direction: column;align-items: center;background-color: white;padding-right: 0.2em;padding-left: 0.2em;position: relative;}#sk-container-id-17 div.sk-item {position: relative;z-index: 1;}#sk-container-id-17 div.sk-parallel {display: flex;align-items: stretch;justify-content: center;background-color: white;position: relative;}#sk-container-id-17 div.sk-item::before, #sk-container-id-17 div.sk-parallel-item::before {content: \"\";position: absolute;border-left: 1px solid gray;box-sizing: border-box;top: 0;bottom: 0;left: 50%;z-index: -1;}#sk-container-id-17 div.sk-parallel-item {display: flex;flex-direction: column;z-index: 1;position: relative;background-color: white;}#sk-container-id-17 div.sk-parallel-item:first-child::after {align-self: flex-end;width: 50%;}#sk-container-id-17 div.sk-parallel-item:last-child::after {align-self: flex-start;width: 50%;}#sk-container-id-17 div.sk-parallel-item:only-child::after {width: 0;}#sk-container-id-17 div.sk-dashed-wrapped {border: 1px dashed gray;margin: 0 0.4em 0.5em 0.4em;box-sizing: border-box;padding-bottom: 0.4em;background-color: white;}#sk-container-id-17 div.sk-label label {font-family: monospace;font-weight: bold;display: inline-block;line-height: 1.2em;}#sk-container-id-17 div.sk-label-container {text-align: center;}#sk-container-id-17 div.sk-container {/* jupyter's `normalize.less` sets `[hidden] { display: none; }` but bootstrap.min.css set `[hidden] { display: none !important; }` so we also need the `!important` here to be able to override the default hidden behavior on the sphinx rendered scikit-learn.org. See: https://github.com/scikit-learn/scikit-learn/issues/21755 */display: inline-block !important;position: relative;}#sk-container-id-17 div.sk-text-repr-fallback {display: none;}</style><div id=\"sk-container-id-17\" class=\"sk-top-container\"><div class=\"sk-text-repr-fallback\"><pre>GridSearchCV(cv=TimeSeriesSplit(gap=0, max_train_size=None, n_splits=5, test_size=None),\n",
       "             estimator=Pipeline(steps=[(&#x27;col_transformer&#x27;,\n",
       "                                        ColumnTransformer(transformers=[(&#x27;time&#x27;,\n",
       "                                                                         TimestampTransformer(),\n",
       "                                                                         []),\n",
       "                                                                        (&#x27;Speed&#x27;,\n",
       "                                                                         None,\n",
       "                                                                         [&#x27;Speed&#x27;]),\n",
       "                                                                        (&#x27;Direction&#x27;,\n",
       "                                                                         None,\n",
       "                                                                         [&#x27;Direction&#x27;])])),\n",
       "                                       (&#x27;model&#x27;, None)]),\n",
       "             n_jobs=-1,\n",
       "             param_grid={&#x27;col_transformer__Direction&#x27;: [&#x27;drop&#x27;,\n",
       "                                                        WindDirectionMap...\n",
       "                         &#x27;col_transformer__Speed&#x27;: [None, StandardScaler(),\n",
       "                                                    PolynomialFeatures(),\n",
       "                                                    EmpiricalWaveletTransform()],\n",
       "                         &#x27;model&#x27;: [LinearRegression(),\n",
       "                                   MLPRegressor(activation=&#x27;tanh&#x27;,\n",
       "                                                hidden_layer_sizes=(150, 150),\n",
       "                                                solver=&#x27;sgd&#x27;),\n",
       "                                   SVR(), HuberRegressor(),\n",
       "                                   RANSACRegressor(min_samples=0.1),\n",
       "                                   GaussianProcessRegressor(alpha=0.1,\n",
       "                                                            kernel=RBF(length_scale=1))]},\n",
       "             scoring=&#x27;neg_mean_squared_error&#x27;, verbose=1)</pre><b>In a Jupyter environment, please rerun this cell to show the HTML representation or trust the notebook. <br />On GitHub, the HTML representation is unable to render, please try loading this page with nbviewer.org.</b></div><div class=\"sk-container\" hidden><div class=\"sk-item sk-dashed-wrapped\"><div class=\"sk-label-container\"><div class=\"sk-label sk-toggleable\"><input class=\"sk-toggleable__control sk-hidden--visually\" id=\"sk-estimator-id-136\" type=\"checkbox\" ><label for=\"sk-estimator-id-136\" class=\"sk-toggleable__label sk-toggleable__label-arrow\">GridSearchCV</label><div class=\"sk-toggleable__content\"><pre>GridSearchCV(cv=TimeSeriesSplit(gap=0, max_train_size=None, n_splits=5, test_size=None),\n",
       "             estimator=Pipeline(steps=[(&#x27;col_transformer&#x27;,\n",
       "                                        ColumnTransformer(transformers=[(&#x27;time&#x27;,\n",
       "                                                                         TimestampTransformer(),\n",
       "                                                                         []),\n",
       "                                                                        (&#x27;Speed&#x27;,\n",
       "                                                                         None,\n",
       "                                                                         [&#x27;Speed&#x27;]),\n",
       "                                                                        (&#x27;Direction&#x27;,\n",
       "                                                                         None,\n",
       "                                                                         [&#x27;Direction&#x27;])])),\n",
       "                                       (&#x27;model&#x27;, None)]),\n",
       "             n_jobs=-1,\n",
       "             param_grid={&#x27;col_transformer__Direction&#x27;: [&#x27;drop&#x27;,\n",
       "                                                        WindDirectionMap...\n",
       "                         &#x27;col_transformer__Speed&#x27;: [None, StandardScaler(),\n",
       "                                                    PolynomialFeatures(),\n",
       "                                                    EmpiricalWaveletTransform()],\n",
       "                         &#x27;model&#x27;: [LinearRegression(),\n",
       "                                   MLPRegressor(activation=&#x27;tanh&#x27;,\n",
       "                                                hidden_layer_sizes=(150, 150),\n",
       "                                                solver=&#x27;sgd&#x27;),\n",
       "                                   SVR(), HuberRegressor(),\n",
       "                                   RANSACRegressor(min_samples=0.1),\n",
       "                                   GaussianProcessRegressor(alpha=0.1,\n",
       "                                                            kernel=RBF(length_scale=1))]},\n",
       "             scoring=&#x27;neg_mean_squared_error&#x27;, verbose=1)</pre></div></div></div><div class=\"sk-parallel\"><div class=\"sk-parallel-item\"><div class=\"sk-item\"><div class=\"sk-label-container\"><div class=\"sk-label sk-toggleable\"><input class=\"sk-toggleable__control sk-hidden--visually\" id=\"sk-estimator-id-137\" type=\"checkbox\" ><label for=\"sk-estimator-id-137\" class=\"sk-toggleable__label sk-toggleable__label-arrow\">estimator: Pipeline</label><div class=\"sk-toggleable__content\"><pre>Pipeline(steps=[(&#x27;col_transformer&#x27;,\n",
       "                 ColumnTransformer(transformers=[(&#x27;time&#x27;,\n",
       "                                                  TimestampTransformer(), []),\n",
       "                                                 (&#x27;Speed&#x27;, None, [&#x27;Speed&#x27;]),\n",
       "                                                 (&#x27;Direction&#x27;, None,\n",
       "                                                  [&#x27;Direction&#x27;])])),\n",
       "                (&#x27;model&#x27;, None)])</pre></div></div></div><div class=\"sk-serial\"><div class=\"sk-item\"><div class=\"sk-serial\"><div class=\"sk-item sk-dashed-wrapped\"><div class=\"sk-label-container\"><div class=\"sk-label sk-toggleable\"><input class=\"sk-toggleable__control sk-hidden--visually\" id=\"sk-estimator-id-138\" type=\"checkbox\" ><label for=\"sk-estimator-id-138\" class=\"sk-toggleable__label sk-toggleable__label-arrow\">col_transformer: ColumnTransformer</label><div class=\"sk-toggleable__content\"><pre>ColumnTransformer(transformers=[(&#x27;time&#x27;, TimestampTransformer(), []),\n",
       "                                (&#x27;Speed&#x27;, None, [&#x27;Speed&#x27;]),\n",
       "                                (&#x27;Direction&#x27;, None, [&#x27;Direction&#x27;])])</pre></div></div></div><div class=\"sk-parallel\"><div class=\"sk-parallel-item\"><div class=\"sk-item\"><div class=\"sk-label-container\"><div class=\"sk-label sk-toggleable\"><input class=\"sk-toggleable__control sk-hidden--visually\" id=\"sk-estimator-id-139\" type=\"checkbox\" ><label for=\"sk-estimator-id-139\" class=\"sk-toggleable__label sk-toggleable__label-arrow\">time</label><div class=\"sk-toggleable__content\"><pre>[]</pre></div></div></div><div class=\"sk-serial\"><div class=\"sk-item\"><div class=\"sk-estimator sk-toggleable\"><input class=\"sk-toggleable__control sk-hidden--visually\" id=\"sk-estimator-id-140\" type=\"checkbox\" ><label for=\"sk-estimator-id-140\" class=\"sk-toggleable__label sk-toggleable__label-arrow\">TimestampTransformer</label><div class=\"sk-toggleable__content\"><pre>TimestampTransformer()</pre></div></div></div></div></div></div><div class=\"sk-parallel-item\"><div class=\"sk-item\"><div class=\"sk-label-container\"><div class=\"sk-label sk-toggleable\"><input class=\"sk-toggleable__control sk-hidden--visually\" id=\"sk-estimator-id-141\" type=\"checkbox\" ><label for=\"sk-estimator-id-141\" class=\"sk-toggleable__label sk-toggleable__label-arrow\">Speed</label><div class=\"sk-toggleable__content\"><pre>[&#x27;Speed&#x27;]</pre></div></div></div><div class=\"sk-serial\"><div class=\"sk-item\"><div class=\"sk-estimator sk-toggleable\"><input class=\"sk-toggleable__control sk-hidden--visually\" id=\"sk-estimator-id-142\" type=\"checkbox\" ><label for=\"sk-estimator-id-142\" class=\"sk-toggleable__label sk-toggleable__label-arrow\">None</label><div class=\"sk-toggleable__content\"><pre>None</pre></div></div></div></div></div></div><div class=\"sk-parallel-item\"><div class=\"sk-item\"><div class=\"sk-label-container\"><div class=\"sk-label sk-toggleable\"><input class=\"sk-toggleable__control sk-hidden--visually\" id=\"sk-estimator-id-143\" type=\"checkbox\" ><label for=\"sk-estimator-id-143\" class=\"sk-toggleable__label sk-toggleable__label-arrow\">Direction</label><div class=\"sk-toggleable__content\"><pre>[&#x27;Direction&#x27;]</pre></div></div></div><div class=\"sk-serial\"><div class=\"sk-item\"><div class=\"sk-estimator sk-toggleable\"><input class=\"sk-toggleable__control sk-hidden--visually\" id=\"sk-estimator-id-144\" type=\"checkbox\" ><label for=\"sk-estimator-id-144\" class=\"sk-toggleable__label sk-toggleable__label-arrow\">None</label><div class=\"sk-toggleable__content\"><pre>None</pre></div></div></div></div></div></div></div></div><div class=\"sk-item\"><div class=\"sk-estimator sk-toggleable\"><input class=\"sk-toggleable__control sk-hidden--visually\" id=\"sk-estimator-id-145\" type=\"checkbox\" ><label for=\"sk-estimator-id-145\" class=\"sk-toggleable__label sk-toggleable__label-arrow\">None</label><div class=\"sk-toggleable__content\"><pre>None</pre></div></div></div></div></div></div></div></div></div></div></div></div>"
      ],
      "text/plain": [
       "GridSearchCV(cv=TimeSeriesSplit(gap=0, max_train_size=None, n_splits=5, test_size=None),\n",
       "             estimator=Pipeline(steps=[('col_transformer',\n",
       "                                        ColumnTransformer(transformers=[('time',\n",
       "                                                                         TimestampTransformer(),\n",
       "                                                                         []),\n",
       "                                                                        ('Speed',\n",
       "                                                                         None,\n",
       "                                                                         ['Speed']),\n",
       "                                                                        ('Direction',\n",
       "                                                                         None,\n",
       "                                                                         ['Direction'])])),\n",
       "                                       ('model', None)]),\n",
       "             n_jobs=-1,\n",
       "             param_grid={'col_transformer__Direction': ['drop',\n",
       "                                                        WindDirectionMap...\n",
       "                         'col_transformer__Speed': [None, StandardScaler(),\n",
       "                                                    PolynomialFeatures(),\n",
       "                                                    EmpiricalWaveletTransform()],\n",
       "                         'model': [LinearRegression(),\n",
       "                                   MLPRegressor(activation='tanh',\n",
       "                                                hidden_layer_sizes=(150, 150),\n",
       "                                                solver='sgd'),\n",
       "                                   SVR(), HuberRegressor(),\n",
       "                                   RANSACRegressor(min_samples=0.1),\n",
       "                                   GaussianProcessRegressor(alpha=0.1,\n",
       "                                                            kernel=RBF(length_scale=1))]},\n",
       "             scoring='neg_mean_squared_error', verbose=1)"
      ]
     },
     "execution_count": 186,
     "metadata": {},
     "output_type": "execute_result"
    }
   ],
   "source": [
    "anm_gridsearch.fit(ANM_X_train, ANM_y_train)"
   ]
  },
  {
   "cell_type": "code",
   "execution_count": 187,
   "metadata": {},
   "outputs": [
    {
     "data": {
      "text/plain": [
       "{'col_transformer__Direction': CompassToCartesianTransformer(),\n",
       " 'col_transformer__Speed': StandardScaler(),\n",
       " 'model': MLPRegressor(activation='tanh', hidden_layer_sizes=(150, 150), solver='sgd')}"
      ]
     },
     "execution_count": 187,
     "metadata": {},
     "output_type": "execute_result"
    }
   ],
   "source": [
    "anm_gridsearch.best_params_"
   ]
  },
  {
   "cell_type": "code",
   "execution_count": 188,
   "metadata": {},
   "outputs": [
    {
     "name": "stdout",
     "output_type": "stream",
     "text": [
      "Fitting 5 folds for each of 72 candidates, totalling 360 fits\n"
     ]
    },
    {
     "data": {
      "text/html": [
       "<style>#sk-container-id-18 {color: black;background-color: white;}#sk-container-id-18 pre{padding: 0;}#sk-container-id-18 div.sk-toggleable {background-color: white;}#sk-container-id-18 label.sk-toggleable__label {cursor: pointer;display: block;width: 100%;margin-bottom: 0;padding: 0.3em;box-sizing: border-box;text-align: center;}#sk-container-id-18 label.sk-toggleable__label-arrow:before {content: \"▸\";float: left;margin-right: 0.25em;color: #696969;}#sk-container-id-18 label.sk-toggleable__label-arrow:hover:before {color: black;}#sk-container-id-18 div.sk-estimator:hover label.sk-toggleable__label-arrow:before {color: black;}#sk-container-id-18 div.sk-toggleable__content {max-height: 0;max-width: 0;overflow: hidden;text-align: left;background-color: #f0f8ff;}#sk-container-id-18 div.sk-toggleable__content pre {margin: 0.2em;color: black;border-radius: 0.25em;background-color: #f0f8ff;}#sk-container-id-18 input.sk-toggleable__control:checked~div.sk-toggleable__content {max-height: 200px;max-width: 100%;overflow: auto;}#sk-container-id-18 input.sk-toggleable__control:checked~label.sk-toggleable__label-arrow:before {content: \"▾\";}#sk-container-id-18 div.sk-estimator input.sk-toggleable__control:checked~label.sk-toggleable__label {background-color: #d4ebff;}#sk-container-id-18 div.sk-label input.sk-toggleable__control:checked~label.sk-toggleable__label {background-color: #d4ebff;}#sk-container-id-18 input.sk-hidden--visually {border: 0;clip: rect(1px 1px 1px 1px);clip: rect(1px, 1px, 1px, 1px);height: 1px;margin: -1px;overflow: hidden;padding: 0;position: absolute;width: 1px;}#sk-container-id-18 div.sk-estimator {font-family: monospace;background-color: #f0f8ff;border: 1px dotted black;border-radius: 0.25em;box-sizing: border-box;margin-bottom: 0.5em;}#sk-container-id-18 div.sk-estimator:hover {background-color: #d4ebff;}#sk-container-id-18 div.sk-parallel-item::after {content: \"\";width: 100%;border-bottom: 1px solid gray;flex-grow: 1;}#sk-container-id-18 div.sk-label:hover label.sk-toggleable__label {background-color: #d4ebff;}#sk-container-id-18 div.sk-serial::before {content: \"\";position: absolute;border-left: 1px solid gray;box-sizing: border-box;top: 0;bottom: 0;left: 50%;z-index: 0;}#sk-container-id-18 div.sk-serial {display: flex;flex-direction: column;align-items: center;background-color: white;padding-right: 0.2em;padding-left: 0.2em;position: relative;}#sk-container-id-18 div.sk-item {position: relative;z-index: 1;}#sk-container-id-18 div.sk-parallel {display: flex;align-items: stretch;justify-content: center;background-color: white;position: relative;}#sk-container-id-18 div.sk-item::before, #sk-container-id-18 div.sk-parallel-item::before {content: \"\";position: absolute;border-left: 1px solid gray;box-sizing: border-box;top: 0;bottom: 0;left: 50%;z-index: -1;}#sk-container-id-18 div.sk-parallel-item {display: flex;flex-direction: column;z-index: 1;position: relative;background-color: white;}#sk-container-id-18 div.sk-parallel-item:first-child::after {align-self: flex-end;width: 50%;}#sk-container-id-18 div.sk-parallel-item:last-child::after {align-self: flex-start;width: 50%;}#sk-container-id-18 div.sk-parallel-item:only-child::after {width: 0;}#sk-container-id-18 div.sk-dashed-wrapped {border: 1px dashed gray;margin: 0 0.4em 0.5em 0.4em;box-sizing: border-box;padding-bottom: 0.4em;background-color: white;}#sk-container-id-18 div.sk-label label {font-family: monospace;font-weight: bold;display: inline-block;line-height: 1.2em;}#sk-container-id-18 div.sk-label-container {text-align: center;}#sk-container-id-18 div.sk-container {/* jupyter's `normalize.less` sets `[hidden] { display: none; }` but bootstrap.min.css set `[hidden] { display: none !important; }` so we also need the `!important` here to be able to override the default hidden behavior on the sphinx rendered scikit-learn.org. See: https://github.com/scikit-learn/scikit-learn/issues/21755 */display: inline-block !important;position: relative;}#sk-container-id-18 div.sk-text-repr-fallback {display: none;}</style><div id=\"sk-container-id-18\" class=\"sk-top-container\"><div class=\"sk-text-repr-fallback\"><pre>GridSearchCV(cv=TimeSeriesSplit(gap=0, max_train_size=None, n_splits=5, test_size=None),\n",
       "             estimator=Pipeline(steps=[(&#x27;col_transformer&#x27;,\n",
       "                                        ColumnTransformer(transformers=[(&#x27;Speed&#x27;,\n",
       "                                                                         None,\n",
       "                                                                         [&#x27;Speed&#x27;]),\n",
       "                                                                        (&#x27;Direction&#x27;,\n",
       "                                                                         None,\n",
       "                                                                         [&#x27;Direction&#x27;])])),\n",
       "                                       (&#x27;model&#x27;, None)]),\n",
       "             n_jobs=-1,\n",
       "             param_grid={&#x27;col_transformer__Direction&#x27;: [&#x27;drop&#x27;,\n",
       "                                                        WindDirectionMapper(),\n",
       "                                                        CompassToCartesianTransformer...\n",
       "                         &#x27;col_transformer__Speed&#x27;: [None, StandardScaler(),\n",
       "                                                    PolynomialFeatures(),\n",
       "                                                    EmpiricalWaveletTransform()],\n",
       "                         &#x27;model&#x27;: [LinearRegression(),\n",
       "                                   MLPRegressor(activation=&#x27;tanh&#x27;,\n",
       "                                                hidden_layer_sizes=(150, 150),\n",
       "                                                solver=&#x27;sgd&#x27;),\n",
       "                                   SVR(), HuberRegressor(),\n",
       "                                   RANSACRegressor(min_samples=0.1),\n",
       "                                   GaussianProcessRegressor(alpha=0.1,\n",
       "                                                            kernel=RBF(length_scale=1))]},\n",
       "             scoring=&#x27;neg_mean_squared_error&#x27;, verbose=1)</pre><b>In a Jupyter environment, please rerun this cell to show the HTML representation or trust the notebook. <br />On GitHub, the HTML representation is unable to render, please try loading this page with nbviewer.org.</b></div><div class=\"sk-container\" hidden><div class=\"sk-item sk-dashed-wrapped\"><div class=\"sk-label-container\"><div class=\"sk-label sk-toggleable\"><input class=\"sk-toggleable__control sk-hidden--visually\" id=\"sk-estimator-id-146\" type=\"checkbox\" ><label for=\"sk-estimator-id-146\" class=\"sk-toggleable__label sk-toggleable__label-arrow\">GridSearchCV</label><div class=\"sk-toggleable__content\"><pre>GridSearchCV(cv=TimeSeriesSplit(gap=0, max_train_size=None, n_splits=5, test_size=None),\n",
       "             estimator=Pipeline(steps=[(&#x27;col_transformer&#x27;,\n",
       "                                        ColumnTransformer(transformers=[(&#x27;Speed&#x27;,\n",
       "                                                                         None,\n",
       "                                                                         [&#x27;Speed&#x27;]),\n",
       "                                                                        (&#x27;Direction&#x27;,\n",
       "                                                                         None,\n",
       "                                                                         [&#x27;Direction&#x27;])])),\n",
       "                                       (&#x27;model&#x27;, None)]),\n",
       "             n_jobs=-1,\n",
       "             param_grid={&#x27;col_transformer__Direction&#x27;: [&#x27;drop&#x27;,\n",
       "                                                        WindDirectionMapper(),\n",
       "                                                        CompassToCartesianTransformer...\n",
       "                         &#x27;col_transformer__Speed&#x27;: [None, StandardScaler(),\n",
       "                                                    PolynomialFeatures(),\n",
       "                                                    EmpiricalWaveletTransform()],\n",
       "                         &#x27;model&#x27;: [LinearRegression(),\n",
       "                                   MLPRegressor(activation=&#x27;tanh&#x27;,\n",
       "                                                hidden_layer_sizes=(150, 150),\n",
       "                                                solver=&#x27;sgd&#x27;),\n",
       "                                   SVR(), HuberRegressor(),\n",
       "                                   RANSACRegressor(min_samples=0.1),\n",
       "                                   GaussianProcessRegressor(alpha=0.1,\n",
       "                                                            kernel=RBF(length_scale=1))]},\n",
       "             scoring=&#x27;neg_mean_squared_error&#x27;, verbose=1)</pre></div></div></div><div class=\"sk-parallel\"><div class=\"sk-parallel-item\"><div class=\"sk-item\"><div class=\"sk-label-container\"><div class=\"sk-label sk-toggleable\"><input class=\"sk-toggleable__control sk-hidden--visually\" id=\"sk-estimator-id-147\" type=\"checkbox\" ><label for=\"sk-estimator-id-147\" class=\"sk-toggleable__label sk-toggleable__label-arrow\">estimator: Pipeline</label><div class=\"sk-toggleable__content\"><pre>Pipeline(steps=[(&#x27;col_transformer&#x27;,\n",
       "                 ColumnTransformer(transformers=[(&#x27;Speed&#x27;, None, [&#x27;Speed&#x27;]),\n",
       "                                                 (&#x27;Direction&#x27;, None,\n",
       "                                                  [&#x27;Direction&#x27;])])),\n",
       "                (&#x27;model&#x27;, None)])</pre></div></div></div><div class=\"sk-serial\"><div class=\"sk-item\"><div class=\"sk-serial\"><div class=\"sk-item sk-dashed-wrapped\"><div class=\"sk-label-container\"><div class=\"sk-label sk-toggleable\"><input class=\"sk-toggleable__control sk-hidden--visually\" id=\"sk-estimator-id-148\" type=\"checkbox\" ><label for=\"sk-estimator-id-148\" class=\"sk-toggleable__label sk-toggleable__label-arrow\">col_transformer: ColumnTransformer</label><div class=\"sk-toggleable__content\"><pre>ColumnTransformer(transformers=[(&#x27;Speed&#x27;, None, [&#x27;Speed&#x27;]),\n",
       "                                (&#x27;Direction&#x27;, None, [&#x27;Direction&#x27;])])</pre></div></div></div><div class=\"sk-parallel\"><div class=\"sk-parallel-item\"><div class=\"sk-item\"><div class=\"sk-label-container\"><div class=\"sk-label sk-toggleable\"><input class=\"sk-toggleable__control sk-hidden--visually\" id=\"sk-estimator-id-149\" type=\"checkbox\" ><label for=\"sk-estimator-id-149\" class=\"sk-toggleable__label sk-toggleable__label-arrow\">Speed</label><div class=\"sk-toggleable__content\"><pre>[&#x27;Speed&#x27;]</pre></div></div></div><div class=\"sk-serial\"><div class=\"sk-item\"><div class=\"sk-estimator sk-toggleable\"><input class=\"sk-toggleable__control sk-hidden--visually\" id=\"sk-estimator-id-150\" type=\"checkbox\" ><label for=\"sk-estimator-id-150\" class=\"sk-toggleable__label sk-toggleable__label-arrow\">None</label><div class=\"sk-toggleable__content\"><pre>None</pre></div></div></div></div></div></div><div class=\"sk-parallel-item\"><div class=\"sk-item\"><div class=\"sk-label-container\"><div class=\"sk-label sk-toggleable\"><input class=\"sk-toggleable__control sk-hidden--visually\" id=\"sk-estimator-id-151\" type=\"checkbox\" ><label for=\"sk-estimator-id-151\" class=\"sk-toggleable__label sk-toggleable__label-arrow\">Direction</label><div class=\"sk-toggleable__content\"><pre>[&#x27;Direction&#x27;]</pre></div></div></div><div class=\"sk-serial\"><div class=\"sk-item\"><div class=\"sk-estimator sk-toggleable\"><input class=\"sk-toggleable__control sk-hidden--visually\" id=\"sk-estimator-id-152\" type=\"checkbox\" ><label for=\"sk-estimator-id-152\" class=\"sk-toggleable__label sk-toggleable__label-arrow\">None</label><div class=\"sk-toggleable__content\"><pre>None</pre></div></div></div></div></div></div></div></div><div class=\"sk-item\"><div class=\"sk-estimator sk-toggleable\"><input class=\"sk-toggleable__control sk-hidden--visually\" id=\"sk-estimator-id-153\" type=\"checkbox\" ><label for=\"sk-estimator-id-153\" class=\"sk-toggleable__label sk-toggleable__label-arrow\">None</label><div class=\"sk-toggleable__content\"><pre>None</pre></div></div></div></div></div></div></div></div></div></div></div></div>"
      ],
      "text/plain": [
       "GridSearchCV(cv=TimeSeriesSplit(gap=0, max_train_size=None, n_splits=5, test_size=None),\n",
       "             estimator=Pipeline(steps=[('col_transformer',\n",
       "                                        ColumnTransformer(transformers=[('Speed',\n",
       "                                                                         None,\n",
       "                                                                         ['Speed']),\n",
       "                                                                        ('Direction',\n",
       "                                                                         None,\n",
       "                                                                         ['Direction'])])),\n",
       "                                       ('model', None)]),\n",
       "             n_jobs=-1,\n",
       "             param_grid={'col_transformer__Direction': ['drop',\n",
       "                                                        WindDirectionMapper(),\n",
       "                                                        CompassToCartesianTransformer...\n",
       "                         'col_transformer__Speed': [None, StandardScaler(),\n",
       "                                                    PolynomialFeatures(),\n",
       "                                                    EmpiricalWaveletTransform()],\n",
       "                         'model': [LinearRegression(),\n",
       "                                   MLPRegressor(activation='tanh',\n",
       "                                                hidden_layer_sizes=(150, 150),\n",
       "                                                solver='sgd'),\n",
       "                                   SVR(), HuberRegressor(),\n",
       "                                   RANSACRegressor(min_samples=0.1),\n",
       "                                   GaussianProcessRegressor(alpha=0.1,\n",
       "                                                            kernel=RBF(length_scale=1))]},\n",
       "             scoring='neg_mean_squared_error', verbose=1)"
      ]
     },
     "execution_count": 188,
     "metadata": {},
     "output_type": "execute_result"
    }
   ],
   "source": [
    "non_anm_gridsearch.fit(non_ANM_X_train, non_ANM_y_train)"
   ]
  },
  {
   "cell_type": "code",
   "execution_count": 189,
   "metadata": {},
   "outputs": [
    {
     "data": {
      "text/plain": [
       "{'col_transformer__Direction': CompassToCartesianTransformer(),\n",
       " 'col_transformer__Speed': StandardScaler(),\n",
       " 'model': MLPRegressor(activation='tanh', hidden_layer_sizes=(150, 150), solver='sgd')}"
      ]
     },
     "execution_count": 189,
     "metadata": {},
     "output_type": "execute_result"
    }
   ],
   "source": [
    "non_anm_gridsearch.best_params_"
   ]
  },
  {
   "cell_type": "code",
   "execution_count": 190,
   "metadata": {},
   "outputs": [],
   "source": [
    "anm_pred = anm_gridsearch.predict(ANM_X_test)\n",
    "non_anm_pred = non_anm_gridsearch.predict(non_ANM_X_test)"
   ]
  },
  {
   "cell_type": "code",
   "execution_count": 191,
   "metadata": {},
   "outputs": [],
   "source": [
    "combined_pred = anm_pred + non_anm_pred"
   ]
  },
  {
   "cell_type": "code",
   "execution_count": 192,
   "metadata": {},
   "outputs": [
    {
     "data": {
      "text/plain": [
       "25.535402510189304"
      ]
     },
     "execution_count": 192,
     "metadata": {},
     "output_type": "execute_result"
    }
   ],
   "source": [
    "fx.MSE(combined_pred, total_y_test)\n"
   ]
  },
  {
   "cell_type": "code",
   "execution_count": 193,
   "metadata": {},
   "outputs": [
    {
     "data": {
      "application/vnd.plotly.v1+json": {
       "config": {
        "plotlyServerURL": "https://plot.ly"
       },
       "data": [
        {
         "hovertemplate": "x=%{x}<br>y=%{y}<extra></extra>",
         "legendgroup": "",
         "line": {
          "color": "#636efa",
          "dash": "solid"
         },
         "marker": {
          "symbol": "circle"
         },
         "mode": "lines",
         "name": "",
         "orientation": "v",
         "showlegend": false,
         "type": "scatter",
         "x": [
          "2023-02-07T12:00:00+00:00",
          "2023-02-07T15:00:00+00:00",
          "2023-02-07T18:00:00+00:00",
          "2023-02-07T21:00:00+00:00",
          "2023-02-08T00:00:00+00:00",
          "2023-02-08T03:00:00+00:00",
          "2023-02-08T06:00:00+00:00",
          "2023-02-08T09:00:00+00:00",
          "2023-02-08T12:00:00+00:00",
          "2023-02-08T15:00:00+00:00",
          "2023-02-08T18:00:00+00:00",
          "2023-02-08T21:00:00+00:00",
          "2023-02-09T00:00:00+00:00",
          "2023-02-09T03:00:00+00:00",
          "2023-02-09T06:00:00+00:00",
          "2023-02-09T09:00:00+00:00",
          "2023-02-09T12:00:00+00:00",
          "2023-02-09T15:00:00+00:00",
          "2023-02-09T18:00:00+00:00",
          "2023-02-09T21:00:00+00:00",
          "2023-02-10T00:00:00+00:00",
          "2023-02-10T03:00:00+00:00",
          "2023-02-10T06:00:00+00:00",
          "2023-02-10T09:00:00+00:00",
          "2023-02-10T12:00:00+00:00",
          "2023-02-10T15:00:00+00:00",
          "2023-02-10T18:00:00+00:00",
          "2023-02-10T21:00:00+00:00",
          "2023-02-11T00:00:00+00:00",
          "2023-02-11T03:00:00+00:00",
          "2023-02-11T06:00:00+00:00",
          "2023-02-11T09:00:00+00:00",
          "2023-02-11T12:00:00+00:00",
          "2023-02-11T15:00:00+00:00",
          "2023-02-11T18:00:00+00:00",
          "2023-02-11T21:00:00+00:00",
          "2023-02-12T00:00:00+00:00",
          "2023-02-12T03:00:00+00:00",
          "2023-02-12T06:00:00+00:00",
          "2023-02-12T09:00:00+00:00",
          "2023-02-12T12:00:00+00:00",
          "2023-02-12T15:00:00+00:00",
          "2023-02-12T18:00:00+00:00",
          "2023-02-12T21:00:00+00:00",
          "2023-02-13T00:00:00+00:00",
          "2023-02-13T03:00:00+00:00",
          "2023-02-13T06:00:00+00:00",
          "2023-02-13T09:00:00+00:00",
          "2023-02-13T12:00:00+00:00",
          "2023-02-13T15:00:00+00:00",
          "2023-02-13T18:00:00+00:00",
          "2023-02-13T21:00:00+00:00",
          "2023-02-14T00:00:00+00:00",
          "2023-02-14T03:00:00+00:00",
          "2023-02-14T06:00:00+00:00",
          "2023-02-14T09:00:00+00:00",
          "2023-02-14T12:00:00+00:00",
          "2023-02-14T15:00:00+00:00",
          "2023-02-14T18:00:00+00:00",
          "2023-02-14T21:00:00+00:00",
          "2023-02-15T00:00:00+00:00",
          "2023-02-15T03:00:00+00:00",
          "2023-02-15T06:00:00+00:00",
          "2023-02-15T09:00:00+00:00",
          "2023-02-15T12:00:00+00:00",
          "2023-02-15T18:00:00+00:00",
          "2023-02-15T21:00:00+00:00",
          "2023-02-16T00:00:00+00:00",
          "2023-02-16T03:00:00+00:00",
          "2023-02-16T06:00:00+00:00",
          "2023-02-16T09:00:00+00:00",
          "2023-02-16T12:00:00+00:00",
          "2023-02-16T15:00:00+00:00",
          "2023-02-16T18:00:00+00:00",
          "2023-02-16T21:00:00+00:00",
          "2023-02-17T00:00:00+00:00",
          "2023-02-17T03:00:00+00:00",
          "2023-02-17T06:00:00+00:00",
          "2023-02-17T09:00:00+00:00",
          "2023-02-17T12:00:00+00:00",
          "2023-02-17T15:00:00+00:00",
          "2023-02-17T18:00:00+00:00",
          "2023-02-17T21:00:00+00:00",
          "2023-02-18T00:00:00+00:00",
          "2023-02-18T03:00:00+00:00",
          "2023-02-18T06:00:00+00:00",
          "2023-02-18T09:00:00+00:00",
          "2023-02-18T12:00:00+00:00",
          "2023-02-18T15:00:00+00:00",
          "2023-02-18T18:00:00+00:00",
          "2023-02-18T21:00:00+00:00",
          "2023-02-19T00:00:00+00:00",
          "2023-02-19T03:00:00+00:00",
          "2023-02-19T06:00:00+00:00",
          "2023-02-19T09:00:00+00:00",
          "2023-02-19T12:00:00+00:00",
          "2023-02-19T15:00:00+00:00",
          "2023-02-19T18:00:00+00:00",
          "2023-02-19T21:00:00+00:00",
          "2023-02-20T00:00:00+00:00",
          "2023-02-20T03:00:00+00:00",
          "2023-02-20T06:00:00+00:00",
          "2023-02-20T09:00:00+00:00",
          "2023-02-20T12:00:00+00:00",
          "2023-02-20T15:00:00+00:00",
          "2023-02-20T18:00:00+00:00",
          "2023-02-20T21:00:00+00:00",
          "2023-02-21T00:00:00+00:00",
          "2023-02-21T03:00:00+00:00",
          "2023-02-21T06:00:00+00:00",
          "2023-02-21T09:00:00+00:00",
          "2023-02-21T12:00:00+00:00",
          "2023-02-21T15:00:00+00:00",
          "2023-02-21T18:00:00+00:00",
          "2023-02-21T21:00:00+00:00",
          "2023-02-22T00:00:00+00:00",
          "2023-02-22T03:00:00+00:00",
          "2023-02-22T06:00:00+00:00",
          "2023-02-22T09:00:00+00:00"
         ],
         "xaxis": "x",
         "y": [
          14.788021305555556,
          13.725143327777777,
          17.263915664804472,
          24.059502583333334,
          26.529902566666664,
          28.046243327777777,
          27.95294186111111,
          25.294328127777778,
          26.570690105555553,
          27.150278066666665,
          29.662411877777778,
          27.70595697777778,
          27.06053972777778,
          25.723871772222225,
          24.324496961111112,
          20.934500766666666,
          23.38472887777778,
          24.5264364,
          16.012338627777776,
          6.569076027777777,
          10.21042271111111,
          22.006454027777778,
          22.882521761111114,
          21.763950816666668,
          22.583871894444442,
          24.202242350000002,
          24.620721455555557,
          25.817110216666666,
          24.338831288888887,
          23.84758072777778,
          22.721779666666666,
          20.78363173743017,
          21.2303062,
          21.150809527777778,
          20.222826927777778,
          19.919787394444445,
          17.970539083333335,
          20.48256333888889,
          19.96684137777778,
          17.14757756111111,
          14.925714772222221,
          13.294780305555555,
          13.155400922222222,
          10.420132016666667,
          7.577910844444444,
          5.226257280898876,
          3.4811564388888887,
          6.269006399999999,
          6.9808924413407825,
          3.7917375944444447,
          2.979314344444444,
          4.458607455555556,
          7.398425527777778,
          10.222019,
          10.594415811111112,
          12.467054894444443,
          14.038110822222224,
          16.797926366666665,
          19.97411828888889,
          20.731533605555555,
          21.172519094444446,
          22.722648111111113,
          24.276797638888887,
          23.97736727777778,
          19.463374282485876,
          23.819080881355934,
          21.940404422222223,
          19.40290537222222,
          16.15297113333333,
          14.737509044444444,
          14.586008116666665,
          15.150767176136362,
          11.240705586592178,
          7.854886261111111,
          10.81077351111111,
          19.56726145,
          21.970774916666667,
          15.29401255,
          23.31614890909091,
          22.475683262857142,
          22.014130555555557,
          17.700130438888888,
          6.106264233333333,
          1.4258078666666667,
          1.3087835222222224,
          1.5311243722222223,
          1.2804474555555556,
          1.3726160388888888,
          1.7992808666666669,
          4.1882715388888885,
          7.051247427777778,
          15.010386511111111,
          16.23082055,
          18.248838705555556,
          21.275872516666666,
          24.354231288888887,
          21.1886084,
          20.331054227777777,
          15.793546283333333,
          20.278994005555557,
          20.375853664772727,
          20.061645405555556,
          19.865713905555555,
          21.243271572222223,
          26.14156186666667,
          26.25962770555556,
          21.664147044444444,
          12.066924472222222,
          3.872830683333333,
          9.683455466666667,
          16.15231687777778,
          11.343601311111112,
          13.869748738888887,
          15.576453788888887,
          13.818091922222223,
          12.52851286111111,
          11.757138544444446,
          10.675278744444444,
          13.61169362295082
         ],
         "yaxis": "y"
        },
        {
         "mode": "lines",
         "name": "Total Predicted",
         "type": "scatter",
         "x": [
          "2023-02-07T12:00:00+00:00",
          "2023-02-07T15:00:00+00:00",
          "2023-02-07T18:00:00+00:00",
          "2023-02-07T21:00:00+00:00",
          "2023-02-08T00:00:00+00:00",
          "2023-02-08T03:00:00+00:00",
          "2023-02-08T06:00:00+00:00",
          "2023-02-08T09:00:00+00:00",
          "2023-02-08T12:00:00+00:00",
          "2023-02-08T15:00:00+00:00",
          "2023-02-08T18:00:00+00:00",
          "2023-02-08T21:00:00+00:00",
          "2023-02-09T00:00:00+00:00",
          "2023-02-09T03:00:00+00:00",
          "2023-02-09T06:00:00+00:00",
          "2023-02-09T09:00:00+00:00",
          "2023-02-09T12:00:00+00:00",
          "2023-02-09T15:00:00+00:00",
          "2023-02-09T18:00:00+00:00",
          "2023-02-09T21:00:00+00:00",
          "2023-02-10T00:00:00+00:00",
          "2023-02-10T03:00:00+00:00",
          "2023-02-10T06:00:00+00:00",
          "2023-02-10T09:00:00+00:00",
          "2023-02-10T12:00:00+00:00",
          "2023-02-10T15:00:00+00:00",
          "2023-02-10T18:00:00+00:00",
          "2023-02-10T21:00:00+00:00",
          "2023-02-11T00:00:00+00:00",
          "2023-02-11T03:00:00+00:00",
          "2023-02-11T06:00:00+00:00",
          "2023-02-11T09:00:00+00:00",
          "2023-02-11T12:00:00+00:00",
          "2023-02-11T15:00:00+00:00",
          "2023-02-11T18:00:00+00:00",
          "2023-02-11T21:00:00+00:00",
          "2023-02-12T00:00:00+00:00",
          "2023-02-12T03:00:00+00:00",
          "2023-02-12T06:00:00+00:00",
          "2023-02-12T09:00:00+00:00",
          "2023-02-12T12:00:00+00:00",
          "2023-02-12T15:00:00+00:00",
          "2023-02-12T18:00:00+00:00",
          "2023-02-12T21:00:00+00:00",
          "2023-02-13T00:00:00+00:00",
          "2023-02-13T03:00:00+00:00",
          "2023-02-13T06:00:00+00:00",
          "2023-02-13T09:00:00+00:00",
          "2023-02-13T12:00:00+00:00",
          "2023-02-13T15:00:00+00:00",
          "2023-02-13T18:00:00+00:00",
          "2023-02-13T21:00:00+00:00",
          "2023-02-14T00:00:00+00:00",
          "2023-02-14T03:00:00+00:00",
          "2023-02-14T06:00:00+00:00",
          "2023-02-14T09:00:00+00:00",
          "2023-02-14T12:00:00+00:00",
          "2023-02-14T15:00:00+00:00",
          "2023-02-14T18:00:00+00:00",
          "2023-02-14T21:00:00+00:00",
          "2023-02-15T00:00:00+00:00",
          "2023-02-15T03:00:00+00:00",
          "2023-02-15T06:00:00+00:00",
          "2023-02-15T09:00:00+00:00",
          "2023-02-15T12:00:00+00:00",
          "2023-02-15T18:00:00+00:00",
          "2023-02-15T21:00:00+00:00",
          "2023-02-16T00:00:00+00:00",
          "2023-02-16T03:00:00+00:00",
          "2023-02-16T06:00:00+00:00",
          "2023-02-16T09:00:00+00:00",
          "2023-02-16T12:00:00+00:00",
          "2023-02-16T15:00:00+00:00",
          "2023-02-16T18:00:00+00:00",
          "2023-02-16T21:00:00+00:00",
          "2023-02-17T00:00:00+00:00",
          "2023-02-17T03:00:00+00:00",
          "2023-02-17T06:00:00+00:00",
          "2023-02-17T09:00:00+00:00",
          "2023-02-17T12:00:00+00:00",
          "2023-02-17T15:00:00+00:00",
          "2023-02-17T18:00:00+00:00",
          "2023-02-17T21:00:00+00:00",
          "2023-02-18T00:00:00+00:00",
          "2023-02-18T03:00:00+00:00",
          "2023-02-18T06:00:00+00:00",
          "2023-02-18T09:00:00+00:00",
          "2023-02-18T12:00:00+00:00",
          "2023-02-18T15:00:00+00:00",
          "2023-02-18T18:00:00+00:00",
          "2023-02-18T21:00:00+00:00",
          "2023-02-19T00:00:00+00:00",
          "2023-02-19T03:00:00+00:00",
          "2023-02-19T06:00:00+00:00",
          "2023-02-19T09:00:00+00:00",
          "2023-02-19T12:00:00+00:00",
          "2023-02-19T15:00:00+00:00",
          "2023-02-19T18:00:00+00:00",
          "2023-02-19T21:00:00+00:00",
          "2023-02-20T00:00:00+00:00",
          "2023-02-20T03:00:00+00:00",
          "2023-02-20T06:00:00+00:00",
          "2023-02-20T09:00:00+00:00",
          "2023-02-20T12:00:00+00:00",
          "2023-02-20T15:00:00+00:00",
          "2023-02-20T18:00:00+00:00",
          "2023-02-20T21:00:00+00:00",
          "2023-02-21T00:00:00+00:00",
          "2023-02-21T03:00:00+00:00",
          "2023-02-21T06:00:00+00:00",
          "2023-02-21T09:00:00+00:00",
          "2023-02-21T12:00:00+00:00",
          "2023-02-21T15:00:00+00:00",
          "2023-02-21T18:00:00+00:00",
          "2023-02-21T21:00:00+00:00",
          "2023-02-22T00:00:00+00:00",
          "2023-02-22T03:00:00+00:00",
          "2023-02-22T06:00:00+00:00",
          "2023-02-22T09:00:00+00:00"
         ],
         "y": [
          16.80906755624953,
          20.78368059571548,
          24.25761601955486,
          24.25761601955486,
          26.643329077845625,
          27.707010138715525,
          29.76633172471349,
          26.35450456985916,
          25.6766292329937,
          28.064963329041657,
          25.474754708418782,
          24.941317718393677,
          24.941317718393677,
          24.04986344258991,
          24.33063052116643,
          22.64487141467835,
          23.503090508858225,
          24.08709879018471,
          22.958548223460575,
          12.77135337067938,
          11.122700766040598,
          22.785950490997454,
          27.16151149967905,
          25.513849312742558,
          24.33063052116643,
          24.04986344258991,
          24.511973448281644,
          24.511973448281644,
          20.6211491573744,
          12.77135337067938,
          23.76976796317188,
          24.379590889616548,
          23.32728074115684,
          23.32728074115684,
          23.32728074115684,
          25.055156210301554,
          25.055156210301554,
          25.055156210301554,
          22.785950490997454,
          25.055156210301554,
          18.469723402285283,
          19.712434950913718,
          19.712434950913718,
          19.712434950913718,
          15.969308744031869,
          13.171041875980757,
          13.499222429348219,
          13.499222429348219,
          10.90056545227917,
          9.045443206059069,
          6.997824020507178,
          8.491049415767272,
          13.499222429348219,
          13.499222429348219,
          13.499222429348219,
          13.499222429348219,
          17.06911743800578,
          22.807938155265667,
          22.57772093858552,
          20.216340719967043,
          28.948466528784145,
          28.948466528784145,
          27.73542899072909,
          28.948466528784138,
          26.717654940304335,
          26.643329077845625,
          25.078197938731662,
          19.057277388089673,
          21.033132786185337,
          21.033132786185334,
          22.14882149942222,
          22.785950490997454,
          25.055156210301554,
          22.785950490997454,
          17.088597085304226,
          17.48129212344397,
          28.063349824965698,
          27.069186843856812,
          23.390327055612737,
          24.02207510625612,
          24.02207510625612,
          24.08709879018471,
          17.018111619171744,
          7.408219001347922,
          5.490475787915273,
          4.156994629782652,
          3.330967250188058,
          2.632537111419853,
          5.132630175303166,
          6.7467754699770754,
          7.407716384776533,
          17.32974062447822,
          23.32728074115684,
          25.055156210301554,
          25.092750848186164,
          26.06574510121505,
          27.006912770654885,
          23.869297808906325,
          23.869297808906325,
          23.085750556611185,
          23.503090508858225,
          23.085750556611185,
          22.64487141467835,
          22.92119181140024,
          23.309279603191786,
          24.08709879018471,
          22.958548223460575,
          13.618126716261003,
          4.775261159664223,
          7.290961649498922,
          22.57772093858552,
          22.807938155265667,
          13.499222429348219,
          17.48129212344397,
          17.48129212344397,
          9.413724726214868,
          9.41372472621487,
          13.618126716261006,
          11.97514711347174
         ]
        }
       ],
       "layout": {
        "legend": {
         "tracegroupgap": 0
        },
        "template": {
         "data": {
          "bar": [
           {
            "error_x": {
             "color": "#2a3f5f"
            },
            "error_y": {
             "color": "#2a3f5f"
            },
            "marker": {
             "line": {
              "color": "#E5ECF6",
              "width": 0.5
             },
             "pattern": {
              "fillmode": "overlay",
              "size": 10,
              "solidity": 0.2
             }
            },
            "type": "bar"
           }
          ],
          "barpolar": [
           {
            "marker": {
             "line": {
              "color": "#E5ECF6",
              "width": 0.5
             },
             "pattern": {
              "fillmode": "overlay",
              "size": 10,
              "solidity": 0.2
             }
            },
            "type": "barpolar"
           }
          ],
          "carpet": [
           {
            "aaxis": {
             "endlinecolor": "#2a3f5f",
             "gridcolor": "white",
             "linecolor": "white",
             "minorgridcolor": "white",
             "startlinecolor": "#2a3f5f"
            },
            "baxis": {
             "endlinecolor": "#2a3f5f",
             "gridcolor": "white",
             "linecolor": "white",
             "minorgridcolor": "white",
             "startlinecolor": "#2a3f5f"
            },
            "type": "carpet"
           }
          ],
          "choropleth": [
           {
            "colorbar": {
             "outlinewidth": 0,
             "ticks": ""
            },
            "type": "choropleth"
           }
          ],
          "contour": [
           {
            "colorbar": {
             "outlinewidth": 0,
             "ticks": ""
            },
            "colorscale": [
             [
              0,
              "#0d0887"
             ],
             [
              0.1111111111111111,
              "#46039f"
             ],
             [
              0.2222222222222222,
              "#7201a8"
             ],
             [
              0.3333333333333333,
              "#9c179e"
             ],
             [
              0.4444444444444444,
              "#bd3786"
             ],
             [
              0.5555555555555556,
              "#d8576b"
             ],
             [
              0.6666666666666666,
              "#ed7953"
             ],
             [
              0.7777777777777778,
              "#fb9f3a"
             ],
             [
              0.8888888888888888,
              "#fdca26"
             ],
             [
              1,
              "#f0f921"
             ]
            ],
            "type": "contour"
           }
          ],
          "contourcarpet": [
           {
            "colorbar": {
             "outlinewidth": 0,
             "ticks": ""
            },
            "type": "contourcarpet"
           }
          ],
          "heatmap": [
           {
            "colorbar": {
             "outlinewidth": 0,
             "ticks": ""
            },
            "colorscale": [
             [
              0,
              "#0d0887"
             ],
             [
              0.1111111111111111,
              "#46039f"
             ],
             [
              0.2222222222222222,
              "#7201a8"
             ],
             [
              0.3333333333333333,
              "#9c179e"
             ],
             [
              0.4444444444444444,
              "#bd3786"
             ],
             [
              0.5555555555555556,
              "#d8576b"
             ],
             [
              0.6666666666666666,
              "#ed7953"
             ],
             [
              0.7777777777777778,
              "#fb9f3a"
             ],
             [
              0.8888888888888888,
              "#fdca26"
             ],
             [
              1,
              "#f0f921"
             ]
            ],
            "type": "heatmap"
           }
          ],
          "heatmapgl": [
           {
            "colorbar": {
             "outlinewidth": 0,
             "ticks": ""
            },
            "colorscale": [
             [
              0,
              "#0d0887"
             ],
             [
              0.1111111111111111,
              "#46039f"
             ],
             [
              0.2222222222222222,
              "#7201a8"
             ],
             [
              0.3333333333333333,
              "#9c179e"
             ],
             [
              0.4444444444444444,
              "#bd3786"
             ],
             [
              0.5555555555555556,
              "#d8576b"
             ],
             [
              0.6666666666666666,
              "#ed7953"
             ],
             [
              0.7777777777777778,
              "#fb9f3a"
             ],
             [
              0.8888888888888888,
              "#fdca26"
             ],
             [
              1,
              "#f0f921"
             ]
            ],
            "type": "heatmapgl"
           }
          ],
          "histogram": [
           {
            "marker": {
             "pattern": {
              "fillmode": "overlay",
              "size": 10,
              "solidity": 0.2
             }
            },
            "type": "histogram"
           }
          ],
          "histogram2d": [
           {
            "colorbar": {
             "outlinewidth": 0,
             "ticks": ""
            },
            "colorscale": [
             [
              0,
              "#0d0887"
             ],
             [
              0.1111111111111111,
              "#46039f"
             ],
             [
              0.2222222222222222,
              "#7201a8"
             ],
             [
              0.3333333333333333,
              "#9c179e"
             ],
             [
              0.4444444444444444,
              "#bd3786"
             ],
             [
              0.5555555555555556,
              "#d8576b"
             ],
             [
              0.6666666666666666,
              "#ed7953"
             ],
             [
              0.7777777777777778,
              "#fb9f3a"
             ],
             [
              0.8888888888888888,
              "#fdca26"
             ],
             [
              1,
              "#f0f921"
             ]
            ],
            "type": "histogram2d"
           }
          ],
          "histogram2dcontour": [
           {
            "colorbar": {
             "outlinewidth": 0,
             "ticks": ""
            },
            "colorscale": [
             [
              0,
              "#0d0887"
             ],
             [
              0.1111111111111111,
              "#46039f"
             ],
             [
              0.2222222222222222,
              "#7201a8"
             ],
             [
              0.3333333333333333,
              "#9c179e"
             ],
             [
              0.4444444444444444,
              "#bd3786"
             ],
             [
              0.5555555555555556,
              "#d8576b"
             ],
             [
              0.6666666666666666,
              "#ed7953"
             ],
             [
              0.7777777777777778,
              "#fb9f3a"
             ],
             [
              0.8888888888888888,
              "#fdca26"
             ],
             [
              1,
              "#f0f921"
             ]
            ],
            "type": "histogram2dcontour"
           }
          ],
          "mesh3d": [
           {
            "colorbar": {
             "outlinewidth": 0,
             "ticks": ""
            },
            "type": "mesh3d"
           }
          ],
          "parcoords": [
           {
            "line": {
             "colorbar": {
              "outlinewidth": 0,
              "ticks": ""
             }
            },
            "type": "parcoords"
           }
          ],
          "pie": [
           {
            "automargin": true,
            "type": "pie"
           }
          ],
          "scatter": [
           {
            "fillpattern": {
             "fillmode": "overlay",
             "size": 10,
             "solidity": 0.2
            },
            "type": "scatter"
           }
          ],
          "scatter3d": [
           {
            "line": {
             "colorbar": {
              "outlinewidth": 0,
              "ticks": ""
             }
            },
            "marker": {
             "colorbar": {
              "outlinewidth": 0,
              "ticks": ""
             }
            },
            "type": "scatter3d"
           }
          ],
          "scattercarpet": [
           {
            "marker": {
             "colorbar": {
              "outlinewidth": 0,
              "ticks": ""
             }
            },
            "type": "scattercarpet"
           }
          ],
          "scattergeo": [
           {
            "marker": {
             "colorbar": {
              "outlinewidth": 0,
              "ticks": ""
             }
            },
            "type": "scattergeo"
           }
          ],
          "scattergl": [
           {
            "marker": {
             "colorbar": {
              "outlinewidth": 0,
              "ticks": ""
             }
            },
            "type": "scattergl"
           }
          ],
          "scattermapbox": [
           {
            "marker": {
             "colorbar": {
              "outlinewidth": 0,
              "ticks": ""
             }
            },
            "type": "scattermapbox"
           }
          ],
          "scatterpolar": [
           {
            "marker": {
             "colorbar": {
              "outlinewidth": 0,
              "ticks": ""
             }
            },
            "type": "scatterpolar"
           }
          ],
          "scatterpolargl": [
           {
            "marker": {
             "colorbar": {
              "outlinewidth": 0,
              "ticks": ""
             }
            },
            "type": "scatterpolargl"
           }
          ],
          "scatterternary": [
           {
            "marker": {
             "colorbar": {
              "outlinewidth": 0,
              "ticks": ""
             }
            },
            "type": "scatterternary"
           }
          ],
          "surface": [
           {
            "colorbar": {
             "outlinewidth": 0,
             "ticks": ""
            },
            "colorscale": [
             [
              0,
              "#0d0887"
             ],
             [
              0.1111111111111111,
              "#46039f"
             ],
             [
              0.2222222222222222,
              "#7201a8"
             ],
             [
              0.3333333333333333,
              "#9c179e"
             ],
             [
              0.4444444444444444,
              "#bd3786"
             ],
             [
              0.5555555555555556,
              "#d8576b"
             ],
             [
              0.6666666666666666,
              "#ed7953"
             ],
             [
              0.7777777777777778,
              "#fb9f3a"
             ],
             [
              0.8888888888888888,
              "#fdca26"
             ],
             [
              1,
              "#f0f921"
             ]
            ],
            "type": "surface"
           }
          ],
          "table": [
           {
            "cells": {
             "fill": {
              "color": "#EBF0F8"
             },
             "line": {
              "color": "white"
             }
            },
            "header": {
             "fill": {
              "color": "#C8D4E3"
             },
             "line": {
              "color": "white"
             }
            },
            "type": "table"
           }
          ]
         },
         "layout": {
          "annotationdefaults": {
           "arrowcolor": "#2a3f5f",
           "arrowhead": 0,
           "arrowwidth": 1
          },
          "autotypenumbers": "strict",
          "coloraxis": {
           "colorbar": {
            "outlinewidth": 0,
            "ticks": ""
           }
          },
          "colorscale": {
           "diverging": [
            [
             0,
             "#8e0152"
            ],
            [
             0.1,
             "#c51b7d"
            ],
            [
             0.2,
             "#de77ae"
            ],
            [
             0.3,
             "#f1b6da"
            ],
            [
             0.4,
             "#fde0ef"
            ],
            [
             0.5,
             "#f7f7f7"
            ],
            [
             0.6,
             "#e6f5d0"
            ],
            [
             0.7,
             "#b8e186"
            ],
            [
             0.8,
             "#7fbc41"
            ],
            [
             0.9,
             "#4d9221"
            ],
            [
             1,
             "#276419"
            ]
           ],
           "sequential": [
            [
             0,
             "#0d0887"
            ],
            [
             0.1111111111111111,
             "#46039f"
            ],
            [
             0.2222222222222222,
             "#7201a8"
            ],
            [
             0.3333333333333333,
             "#9c179e"
            ],
            [
             0.4444444444444444,
             "#bd3786"
            ],
            [
             0.5555555555555556,
             "#d8576b"
            ],
            [
             0.6666666666666666,
             "#ed7953"
            ],
            [
             0.7777777777777778,
             "#fb9f3a"
            ],
            [
             0.8888888888888888,
             "#fdca26"
            ],
            [
             1,
             "#f0f921"
            ]
           ],
           "sequentialminus": [
            [
             0,
             "#0d0887"
            ],
            [
             0.1111111111111111,
             "#46039f"
            ],
            [
             0.2222222222222222,
             "#7201a8"
            ],
            [
             0.3333333333333333,
             "#9c179e"
            ],
            [
             0.4444444444444444,
             "#bd3786"
            ],
            [
             0.5555555555555556,
             "#d8576b"
            ],
            [
             0.6666666666666666,
             "#ed7953"
            ],
            [
             0.7777777777777778,
             "#fb9f3a"
            ],
            [
             0.8888888888888888,
             "#fdca26"
            ],
            [
             1,
             "#f0f921"
            ]
           ]
          },
          "colorway": [
           "#636efa",
           "#EF553B",
           "#00cc96",
           "#ab63fa",
           "#FFA15A",
           "#19d3f3",
           "#FF6692",
           "#B6E880",
           "#FF97FF",
           "#FECB52"
          ],
          "font": {
           "color": "#2a3f5f"
          },
          "geo": {
           "bgcolor": "white",
           "lakecolor": "white",
           "landcolor": "#E5ECF6",
           "showlakes": true,
           "showland": true,
           "subunitcolor": "white"
          },
          "hoverlabel": {
           "align": "left"
          },
          "hovermode": "closest",
          "mapbox": {
           "style": "light"
          },
          "paper_bgcolor": "white",
          "plot_bgcolor": "#E5ECF6",
          "polar": {
           "angularaxis": {
            "gridcolor": "white",
            "linecolor": "white",
            "ticks": ""
           },
           "bgcolor": "#E5ECF6",
           "radialaxis": {
            "gridcolor": "white",
            "linecolor": "white",
            "ticks": ""
           }
          },
          "scene": {
           "xaxis": {
            "backgroundcolor": "#E5ECF6",
            "gridcolor": "white",
            "gridwidth": 2,
            "linecolor": "white",
            "showbackground": true,
            "ticks": "",
            "zerolinecolor": "white"
           },
           "yaxis": {
            "backgroundcolor": "#E5ECF6",
            "gridcolor": "white",
            "gridwidth": 2,
            "linecolor": "white",
            "showbackground": true,
            "ticks": "",
            "zerolinecolor": "white"
           },
           "zaxis": {
            "backgroundcolor": "#E5ECF6",
            "gridcolor": "white",
            "gridwidth": 2,
            "linecolor": "white",
            "showbackground": true,
            "ticks": "",
            "zerolinecolor": "white"
           }
          },
          "shapedefaults": {
           "line": {
            "color": "#2a3f5f"
           }
          },
          "ternary": {
           "aaxis": {
            "gridcolor": "white",
            "linecolor": "white",
            "ticks": ""
           },
           "baxis": {
            "gridcolor": "white",
            "linecolor": "white",
            "ticks": ""
           },
           "bgcolor": "#E5ECF6",
           "caxis": {
            "gridcolor": "white",
            "linecolor": "white",
            "ticks": ""
           }
          },
          "title": {
           "x": 0.05
          },
          "xaxis": {
           "automargin": true,
           "gridcolor": "white",
           "linecolor": "white",
           "ticks": "",
           "title": {
            "standoff": 15
           },
           "zerolinecolor": "white",
           "zerolinewidth": 2
          },
          "yaxis": {
           "automargin": true,
           "gridcolor": "white",
           "linecolor": "white",
           "ticks": "",
           "title": {
            "standoff": 15
           },
           "zerolinecolor": "white",
           "zerolinewidth": 2
          }
         }
        },
        "title": {
         "text": "Total Actual"
        },
        "xaxis": {
         "anchor": "y",
         "domain": [
          0,
          1
         ],
         "title": {
          "text": "x"
         }
        },
        "yaxis": {
         "anchor": "x",
         "domain": [
          0,
          1
         ],
         "title": {
          "text": "y"
         }
        }
       }
      }
     },
     "metadata": {},
     "output_type": "display_data"
    }
   ],
   "source": [
    "# plot total_pred vs total_y_test\n",
    "fig = px.line(x=total_y_test.index, y=total_y_test.values, title=\"Total Actual\")\n",
    "fig.add_scatter(x=total_y_test.index, y=combined_pred, mode='lines', name='Total Predicted')\n",
    "fig.show()"
   ]
  },
  {
   "cell_type": "code",
   "execution_count": 194,
   "metadata": {},
   "outputs": [],
   "source": [
    "# combine combined_pred and total_y_test\n",
    "combined_pred_df = pd.DataFrame(combined_pred, index=total_y_test.index, columns=[\"Total Predicted\"])\n",
    "combined_pred_df[\"Total Actual\"] = total_y_test.values\n",
    "combined_pred_df[\"Speed\"] = total_X_test[\"Speed\"].values"
   ]
  },
  {
   "cell_type": "code",
   "execution_count": 195,
   "metadata": {},
   "outputs": [
    {
     "data": {
      "application/vnd.plotly.v1+json": {
       "config": {
        "plotlyServerURL": "https://plot.ly"
       },
       "data": [
        {
         "hovertemplate": "Speed (m/s)=Total Predicted<br>Speed=%{x}<br>Power Generation (MW)=%{y}<extra></extra>",
         "legendgroup": "Total Predicted",
         "marker": {
          "color": "#636efa",
          "symbol": "circle"
         },
         "mode": "markers",
         "name": "Total Predicted",
         "orientation": "v",
         "showlegend": true,
         "type": "scatter",
         "x": [
          8.04672,
          8.9408,
          9.83488,
          9.83488,
          11.176,
          12.070079999999999,
          12.96416,
          17.8816,
          19.22272,
          17.8816,
          13.85824,
          17.8816,
          17.8816,
          17.8816,
          16.98752,
          21.01088,
          19.22272,
          15.19936,
          12.96416,
          7.15264,
          4.91744,
          9.83488,
          15.19936,
          16.09344,
          16.98752,
          17.8816,
          16.09344,
          16.09344,
          11.176,
          7.15264,
          12.96416,
          12.070079999999999,
          11.176,
          11.176,
          11.176,
          11.176,
          11.176,
          11.176,
          9.83488,
          11.176,
          8.04672,
          8.04672,
          8.04672,
          8.04672,
          7.15264,
          5.81152,
          5.81152,
          5.81152,
          4.91744,
          4.02336,
          3.12928,
          4.02336,
          5.81152,
          5.81152,
          5.81152,
          5.81152,
          7.15264,
          8.9408,
          8.9408,
          8.04672,
          12.070079999999999,
          12.070079999999999,
          11.176,
          12.070079999999999,
          12.96416,
          11.176,
          12.96416,
          8.9408,
          9.83488,
          9.83488,
          8.9408,
          9.83488,
          11.176,
          9.83488,
          7.15264,
          7.15264,
          11.176,
          13.85824,
          20.1168,
          16.98752,
          16.98752,
          15.19936,
          9.83488,
          5.81152,
          4.91744,
          4.02336,
          3.12928,
          1.78816,
          1.78816,
          4.02336,
          4.91744,
          8.9408,
          11.176,
          11.176,
          9.83488,
          12.070079999999999,
          16.09344,
          20.1168,
          20.1168,
          20.1168,
          19.22272,
          20.1168,
          21.01088,
          20.1168,
          19.22272,
          15.19936,
          12.96416,
          8.04672,
          4.02336,
          3.12928,
          8.9408,
          8.9408,
          5.81152,
          7.15264,
          7.15264,
          5.81152,
          5.81152,
          8.04672,
          8.04672
         ],
         "xaxis": "x",
         "y": [
          16.80906755624953,
          20.78368059571548,
          24.25761601955486,
          24.25761601955486,
          26.643329077845625,
          27.707010138715525,
          29.76633172471349,
          26.35450456985916,
          25.6766292329937,
          28.064963329041657,
          25.474754708418782,
          24.941317718393677,
          24.941317718393677,
          24.04986344258991,
          24.33063052116643,
          22.64487141467835,
          23.503090508858225,
          24.08709879018471,
          22.958548223460575,
          12.77135337067938,
          11.122700766040598,
          22.785950490997454,
          27.16151149967905,
          25.513849312742558,
          24.33063052116643,
          24.04986344258991,
          24.511973448281644,
          24.511973448281644,
          20.6211491573744,
          12.77135337067938,
          23.76976796317188,
          24.379590889616548,
          23.32728074115684,
          23.32728074115684,
          23.32728074115684,
          25.055156210301554,
          25.055156210301554,
          25.055156210301554,
          22.785950490997454,
          25.055156210301554,
          18.469723402285283,
          19.712434950913718,
          19.712434950913718,
          19.712434950913718,
          15.969308744031869,
          13.171041875980757,
          13.499222429348219,
          13.499222429348219,
          10.90056545227917,
          9.045443206059069,
          6.997824020507178,
          8.491049415767272,
          13.499222429348219,
          13.499222429348219,
          13.499222429348219,
          13.499222429348219,
          17.06911743800578,
          22.807938155265667,
          22.57772093858552,
          20.216340719967043,
          28.948466528784145,
          28.948466528784145,
          27.73542899072909,
          28.948466528784138,
          26.717654940304335,
          26.643329077845625,
          25.078197938731662,
          19.057277388089673,
          21.033132786185337,
          21.033132786185334,
          22.14882149942222,
          22.785950490997454,
          25.055156210301554,
          22.785950490997454,
          17.088597085304226,
          17.48129212344397,
          28.063349824965698,
          27.069186843856812,
          23.390327055612737,
          24.02207510625612,
          24.02207510625612,
          24.08709879018471,
          17.018111619171744,
          7.408219001347922,
          5.490475787915273,
          4.156994629782652,
          3.330967250188058,
          2.632537111419853,
          5.132630175303166,
          6.7467754699770754,
          7.407716384776533,
          17.32974062447822,
          23.32728074115684,
          25.055156210301554,
          25.092750848186164,
          26.06574510121505,
          27.006912770654885,
          23.869297808906325,
          23.869297808906325,
          23.085750556611185,
          23.503090508858225,
          23.085750556611185,
          22.64487141467835,
          22.92119181140024,
          23.309279603191786,
          24.08709879018471,
          22.958548223460575,
          13.618126716261003,
          4.775261159664223,
          7.290961649498922,
          22.57772093858552,
          22.807938155265667,
          13.499222429348219,
          17.48129212344397,
          17.48129212344397,
          9.413724726214868,
          9.41372472621487,
          13.618126716261006,
          11.97514711347174
         ],
         "yaxis": "y"
        },
        {
         "hovertemplate": "Speed (m/s)=Total Actual<br>Speed=%{x}<br>Power Generation (MW)=%{y}<extra></extra>",
         "legendgroup": "Total Actual",
         "marker": {
          "color": "#EF553B",
          "symbol": "circle"
         },
         "mode": "markers",
         "name": "Total Actual",
         "orientation": "v",
         "showlegend": true,
         "type": "scatter",
         "x": [
          8.04672,
          8.9408,
          9.83488,
          9.83488,
          11.176,
          12.070079999999999,
          12.96416,
          17.8816,
          19.22272,
          17.8816,
          13.85824,
          17.8816,
          17.8816,
          17.8816,
          16.98752,
          21.01088,
          19.22272,
          15.19936,
          12.96416,
          7.15264,
          4.91744,
          9.83488,
          15.19936,
          16.09344,
          16.98752,
          17.8816,
          16.09344,
          16.09344,
          11.176,
          7.15264,
          12.96416,
          12.070079999999999,
          11.176,
          11.176,
          11.176,
          11.176,
          11.176,
          11.176,
          9.83488,
          11.176,
          8.04672,
          8.04672,
          8.04672,
          8.04672,
          7.15264,
          5.81152,
          5.81152,
          5.81152,
          4.91744,
          4.02336,
          3.12928,
          4.02336,
          5.81152,
          5.81152,
          5.81152,
          5.81152,
          7.15264,
          8.9408,
          8.9408,
          8.04672,
          12.070079999999999,
          12.070079999999999,
          11.176,
          12.070079999999999,
          12.96416,
          11.176,
          12.96416,
          8.9408,
          9.83488,
          9.83488,
          8.9408,
          9.83488,
          11.176,
          9.83488,
          7.15264,
          7.15264,
          11.176,
          13.85824,
          20.1168,
          16.98752,
          16.98752,
          15.19936,
          9.83488,
          5.81152,
          4.91744,
          4.02336,
          3.12928,
          1.78816,
          1.78816,
          4.02336,
          4.91744,
          8.9408,
          11.176,
          11.176,
          9.83488,
          12.070079999999999,
          16.09344,
          20.1168,
          20.1168,
          20.1168,
          19.22272,
          20.1168,
          21.01088,
          20.1168,
          19.22272,
          15.19936,
          12.96416,
          8.04672,
          4.02336,
          3.12928,
          8.9408,
          8.9408,
          5.81152,
          7.15264,
          7.15264,
          5.81152,
          5.81152,
          8.04672,
          8.04672
         ],
         "xaxis": "x",
         "y": [
          14.788021305555556,
          13.725143327777777,
          17.263915664804472,
          24.059502583333334,
          26.529902566666664,
          28.046243327777777,
          27.95294186111111,
          25.294328127777778,
          26.570690105555553,
          27.150278066666665,
          29.662411877777778,
          27.70595697777778,
          27.06053972777778,
          25.723871772222225,
          24.324496961111112,
          20.934500766666666,
          23.38472887777778,
          24.5264364,
          16.012338627777776,
          6.569076027777777,
          10.21042271111111,
          22.006454027777778,
          22.882521761111114,
          21.763950816666668,
          22.583871894444442,
          24.202242350000002,
          24.620721455555557,
          25.817110216666666,
          24.338831288888887,
          23.84758072777778,
          22.721779666666666,
          20.78363173743017,
          21.2303062,
          21.150809527777778,
          20.222826927777778,
          19.919787394444445,
          17.970539083333335,
          20.48256333888889,
          19.96684137777778,
          17.14757756111111,
          14.925714772222221,
          13.294780305555555,
          13.155400922222222,
          10.420132016666667,
          7.577910844444444,
          5.226257280898876,
          3.4811564388888887,
          6.269006399999999,
          6.9808924413407825,
          3.7917375944444447,
          2.979314344444444,
          4.458607455555556,
          7.398425527777778,
          10.222019,
          10.594415811111112,
          12.467054894444443,
          14.038110822222224,
          16.797926366666665,
          19.97411828888889,
          20.731533605555555,
          21.172519094444446,
          22.722648111111113,
          24.276797638888887,
          23.97736727777778,
          19.463374282485876,
          23.819080881355934,
          21.940404422222223,
          19.40290537222222,
          16.15297113333333,
          14.737509044444444,
          14.586008116666665,
          15.150767176136362,
          11.240705586592178,
          7.854886261111111,
          10.81077351111111,
          19.56726145,
          21.970774916666667,
          15.29401255,
          23.31614890909091,
          22.475683262857142,
          22.014130555555557,
          17.700130438888888,
          6.106264233333333,
          1.4258078666666667,
          1.3087835222222224,
          1.5311243722222223,
          1.2804474555555556,
          1.3726160388888888,
          1.7992808666666669,
          4.1882715388888885,
          7.051247427777778,
          15.010386511111111,
          16.23082055,
          18.248838705555556,
          21.275872516666666,
          24.354231288888887,
          21.1886084,
          20.331054227777777,
          15.793546283333333,
          20.278994005555557,
          20.375853664772727,
          20.061645405555556,
          19.865713905555555,
          21.243271572222223,
          26.14156186666667,
          26.25962770555556,
          21.664147044444444,
          12.066924472222222,
          3.872830683333333,
          9.683455466666667,
          16.15231687777778,
          11.343601311111112,
          13.869748738888887,
          15.576453788888887,
          13.818091922222223,
          12.52851286111111,
          11.757138544444446,
          10.675278744444444,
          13.61169362295082
         ],
         "yaxis": "y"
        }
       ],
       "layout": {
        "legend": {
         "title": {
          "text": "Speed (m/s)"
         },
         "tracegroupgap": 0
        },
        "template": {
         "data": {
          "bar": [
           {
            "error_x": {
             "color": "#2a3f5f"
            },
            "error_y": {
             "color": "#2a3f5f"
            },
            "marker": {
             "line": {
              "color": "#E5ECF6",
              "width": 0.5
             },
             "pattern": {
              "fillmode": "overlay",
              "size": 10,
              "solidity": 0.2
             }
            },
            "type": "bar"
           }
          ],
          "barpolar": [
           {
            "marker": {
             "line": {
              "color": "#E5ECF6",
              "width": 0.5
             },
             "pattern": {
              "fillmode": "overlay",
              "size": 10,
              "solidity": 0.2
             }
            },
            "type": "barpolar"
           }
          ],
          "carpet": [
           {
            "aaxis": {
             "endlinecolor": "#2a3f5f",
             "gridcolor": "white",
             "linecolor": "white",
             "minorgridcolor": "white",
             "startlinecolor": "#2a3f5f"
            },
            "baxis": {
             "endlinecolor": "#2a3f5f",
             "gridcolor": "white",
             "linecolor": "white",
             "minorgridcolor": "white",
             "startlinecolor": "#2a3f5f"
            },
            "type": "carpet"
           }
          ],
          "choropleth": [
           {
            "colorbar": {
             "outlinewidth": 0,
             "ticks": ""
            },
            "type": "choropleth"
           }
          ],
          "contour": [
           {
            "colorbar": {
             "outlinewidth": 0,
             "ticks": ""
            },
            "colorscale": [
             [
              0,
              "#0d0887"
             ],
             [
              0.1111111111111111,
              "#46039f"
             ],
             [
              0.2222222222222222,
              "#7201a8"
             ],
             [
              0.3333333333333333,
              "#9c179e"
             ],
             [
              0.4444444444444444,
              "#bd3786"
             ],
             [
              0.5555555555555556,
              "#d8576b"
             ],
             [
              0.6666666666666666,
              "#ed7953"
             ],
             [
              0.7777777777777778,
              "#fb9f3a"
             ],
             [
              0.8888888888888888,
              "#fdca26"
             ],
             [
              1,
              "#f0f921"
             ]
            ],
            "type": "contour"
           }
          ],
          "contourcarpet": [
           {
            "colorbar": {
             "outlinewidth": 0,
             "ticks": ""
            },
            "type": "contourcarpet"
           }
          ],
          "heatmap": [
           {
            "colorbar": {
             "outlinewidth": 0,
             "ticks": ""
            },
            "colorscale": [
             [
              0,
              "#0d0887"
             ],
             [
              0.1111111111111111,
              "#46039f"
             ],
             [
              0.2222222222222222,
              "#7201a8"
             ],
             [
              0.3333333333333333,
              "#9c179e"
             ],
             [
              0.4444444444444444,
              "#bd3786"
             ],
             [
              0.5555555555555556,
              "#d8576b"
             ],
             [
              0.6666666666666666,
              "#ed7953"
             ],
             [
              0.7777777777777778,
              "#fb9f3a"
             ],
             [
              0.8888888888888888,
              "#fdca26"
             ],
             [
              1,
              "#f0f921"
             ]
            ],
            "type": "heatmap"
           }
          ],
          "heatmapgl": [
           {
            "colorbar": {
             "outlinewidth": 0,
             "ticks": ""
            },
            "colorscale": [
             [
              0,
              "#0d0887"
             ],
             [
              0.1111111111111111,
              "#46039f"
             ],
             [
              0.2222222222222222,
              "#7201a8"
             ],
             [
              0.3333333333333333,
              "#9c179e"
             ],
             [
              0.4444444444444444,
              "#bd3786"
             ],
             [
              0.5555555555555556,
              "#d8576b"
             ],
             [
              0.6666666666666666,
              "#ed7953"
             ],
             [
              0.7777777777777778,
              "#fb9f3a"
             ],
             [
              0.8888888888888888,
              "#fdca26"
             ],
             [
              1,
              "#f0f921"
             ]
            ],
            "type": "heatmapgl"
           }
          ],
          "histogram": [
           {
            "marker": {
             "pattern": {
              "fillmode": "overlay",
              "size": 10,
              "solidity": 0.2
             }
            },
            "type": "histogram"
           }
          ],
          "histogram2d": [
           {
            "colorbar": {
             "outlinewidth": 0,
             "ticks": ""
            },
            "colorscale": [
             [
              0,
              "#0d0887"
             ],
             [
              0.1111111111111111,
              "#46039f"
             ],
             [
              0.2222222222222222,
              "#7201a8"
             ],
             [
              0.3333333333333333,
              "#9c179e"
             ],
             [
              0.4444444444444444,
              "#bd3786"
             ],
             [
              0.5555555555555556,
              "#d8576b"
             ],
             [
              0.6666666666666666,
              "#ed7953"
             ],
             [
              0.7777777777777778,
              "#fb9f3a"
             ],
             [
              0.8888888888888888,
              "#fdca26"
             ],
             [
              1,
              "#f0f921"
             ]
            ],
            "type": "histogram2d"
           }
          ],
          "histogram2dcontour": [
           {
            "colorbar": {
             "outlinewidth": 0,
             "ticks": ""
            },
            "colorscale": [
             [
              0,
              "#0d0887"
             ],
             [
              0.1111111111111111,
              "#46039f"
             ],
             [
              0.2222222222222222,
              "#7201a8"
             ],
             [
              0.3333333333333333,
              "#9c179e"
             ],
             [
              0.4444444444444444,
              "#bd3786"
             ],
             [
              0.5555555555555556,
              "#d8576b"
             ],
             [
              0.6666666666666666,
              "#ed7953"
             ],
             [
              0.7777777777777778,
              "#fb9f3a"
             ],
             [
              0.8888888888888888,
              "#fdca26"
             ],
             [
              1,
              "#f0f921"
             ]
            ],
            "type": "histogram2dcontour"
           }
          ],
          "mesh3d": [
           {
            "colorbar": {
             "outlinewidth": 0,
             "ticks": ""
            },
            "type": "mesh3d"
           }
          ],
          "parcoords": [
           {
            "line": {
             "colorbar": {
              "outlinewidth": 0,
              "ticks": ""
             }
            },
            "type": "parcoords"
           }
          ],
          "pie": [
           {
            "automargin": true,
            "type": "pie"
           }
          ],
          "scatter": [
           {
            "fillpattern": {
             "fillmode": "overlay",
             "size": 10,
             "solidity": 0.2
            },
            "type": "scatter"
           }
          ],
          "scatter3d": [
           {
            "line": {
             "colorbar": {
              "outlinewidth": 0,
              "ticks": ""
             }
            },
            "marker": {
             "colorbar": {
              "outlinewidth": 0,
              "ticks": ""
             }
            },
            "type": "scatter3d"
           }
          ],
          "scattercarpet": [
           {
            "marker": {
             "colorbar": {
              "outlinewidth": 0,
              "ticks": ""
             }
            },
            "type": "scattercarpet"
           }
          ],
          "scattergeo": [
           {
            "marker": {
             "colorbar": {
              "outlinewidth": 0,
              "ticks": ""
             }
            },
            "type": "scattergeo"
           }
          ],
          "scattergl": [
           {
            "marker": {
             "colorbar": {
              "outlinewidth": 0,
              "ticks": ""
             }
            },
            "type": "scattergl"
           }
          ],
          "scattermapbox": [
           {
            "marker": {
             "colorbar": {
              "outlinewidth": 0,
              "ticks": ""
             }
            },
            "type": "scattermapbox"
           }
          ],
          "scatterpolar": [
           {
            "marker": {
             "colorbar": {
              "outlinewidth": 0,
              "ticks": ""
             }
            },
            "type": "scatterpolar"
           }
          ],
          "scatterpolargl": [
           {
            "marker": {
             "colorbar": {
              "outlinewidth": 0,
              "ticks": ""
             }
            },
            "type": "scatterpolargl"
           }
          ],
          "scatterternary": [
           {
            "marker": {
             "colorbar": {
              "outlinewidth": 0,
              "ticks": ""
             }
            },
            "type": "scatterternary"
           }
          ],
          "surface": [
           {
            "colorbar": {
             "outlinewidth": 0,
             "ticks": ""
            },
            "colorscale": [
             [
              0,
              "#0d0887"
             ],
             [
              0.1111111111111111,
              "#46039f"
             ],
             [
              0.2222222222222222,
              "#7201a8"
             ],
             [
              0.3333333333333333,
              "#9c179e"
             ],
             [
              0.4444444444444444,
              "#bd3786"
             ],
             [
              0.5555555555555556,
              "#d8576b"
             ],
             [
              0.6666666666666666,
              "#ed7953"
             ],
             [
              0.7777777777777778,
              "#fb9f3a"
             ],
             [
              0.8888888888888888,
              "#fdca26"
             ],
             [
              1,
              "#f0f921"
             ]
            ],
            "type": "surface"
           }
          ],
          "table": [
           {
            "cells": {
             "fill": {
              "color": "#EBF0F8"
             },
             "line": {
              "color": "white"
             }
            },
            "header": {
             "fill": {
              "color": "#C8D4E3"
             },
             "line": {
              "color": "white"
             }
            },
            "type": "table"
           }
          ]
         },
         "layout": {
          "annotationdefaults": {
           "arrowcolor": "#2a3f5f",
           "arrowhead": 0,
           "arrowwidth": 1
          },
          "autotypenumbers": "strict",
          "coloraxis": {
           "colorbar": {
            "outlinewidth": 0,
            "ticks": ""
           }
          },
          "colorscale": {
           "diverging": [
            [
             0,
             "#8e0152"
            ],
            [
             0.1,
             "#c51b7d"
            ],
            [
             0.2,
             "#de77ae"
            ],
            [
             0.3,
             "#f1b6da"
            ],
            [
             0.4,
             "#fde0ef"
            ],
            [
             0.5,
             "#f7f7f7"
            ],
            [
             0.6,
             "#e6f5d0"
            ],
            [
             0.7,
             "#b8e186"
            ],
            [
             0.8,
             "#7fbc41"
            ],
            [
             0.9,
             "#4d9221"
            ],
            [
             1,
             "#276419"
            ]
           ],
           "sequential": [
            [
             0,
             "#0d0887"
            ],
            [
             0.1111111111111111,
             "#46039f"
            ],
            [
             0.2222222222222222,
             "#7201a8"
            ],
            [
             0.3333333333333333,
             "#9c179e"
            ],
            [
             0.4444444444444444,
             "#bd3786"
            ],
            [
             0.5555555555555556,
             "#d8576b"
            ],
            [
             0.6666666666666666,
             "#ed7953"
            ],
            [
             0.7777777777777778,
             "#fb9f3a"
            ],
            [
             0.8888888888888888,
             "#fdca26"
            ],
            [
             1,
             "#f0f921"
            ]
           ],
           "sequentialminus": [
            [
             0,
             "#0d0887"
            ],
            [
             0.1111111111111111,
             "#46039f"
            ],
            [
             0.2222222222222222,
             "#7201a8"
            ],
            [
             0.3333333333333333,
             "#9c179e"
            ],
            [
             0.4444444444444444,
             "#bd3786"
            ],
            [
             0.5555555555555556,
             "#d8576b"
            ],
            [
             0.6666666666666666,
             "#ed7953"
            ],
            [
             0.7777777777777778,
             "#fb9f3a"
            ],
            [
             0.8888888888888888,
             "#fdca26"
            ],
            [
             1,
             "#f0f921"
            ]
           ]
          },
          "colorway": [
           "#636efa",
           "#EF553B",
           "#00cc96",
           "#ab63fa",
           "#FFA15A",
           "#19d3f3",
           "#FF6692",
           "#B6E880",
           "#FF97FF",
           "#FECB52"
          ],
          "font": {
           "color": "#2a3f5f"
          },
          "geo": {
           "bgcolor": "white",
           "lakecolor": "white",
           "landcolor": "#E5ECF6",
           "showlakes": true,
           "showland": true,
           "subunitcolor": "white"
          },
          "hoverlabel": {
           "align": "left"
          },
          "hovermode": "closest",
          "mapbox": {
           "style": "light"
          },
          "paper_bgcolor": "white",
          "plot_bgcolor": "#E5ECF6",
          "polar": {
           "angularaxis": {
            "gridcolor": "white",
            "linecolor": "white",
            "ticks": ""
           },
           "bgcolor": "#E5ECF6",
           "radialaxis": {
            "gridcolor": "white",
            "linecolor": "white",
            "ticks": ""
           }
          },
          "scene": {
           "xaxis": {
            "backgroundcolor": "#E5ECF6",
            "gridcolor": "white",
            "gridwidth": 2,
            "linecolor": "white",
            "showbackground": true,
            "ticks": "",
            "zerolinecolor": "white"
           },
           "yaxis": {
            "backgroundcolor": "#E5ECF6",
            "gridcolor": "white",
            "gridwidth": 2,
            "linecolor": "white",
            "showbackground": true,
            "ticks": "",
            "zerolinecolor": "white"
           },
           "zaxis": {
            "backgroundcolor": "#E5ECF6",
            "gridcolor": "white",
            "gridwidth": 2,
            "linecolor": "white",
            "showbackground": true,
            "ticks": "",
            "zerolinecolor": "white"
           }
          },
          "shapedefaults": {
           "line": {
            "color": "#2a3f5f"
           }
          },
          "ternary": {
           "aaxis": {
            "gridcolor": "white",
            "linecolor": "white",
            "ticks": ""
           },
           "baxis": {
            "gridcolor": "white",
            "linecolor": "white",
            "ticks": ""
           },
           "bgcolor": "#E5ECF6",
           "caxis": {
            "gridcolor": "white",
            "linecolor": "white",
            "ticks": ""
           }
          },
          "title": {
           "x": 0.05
          },
          "xaxis": {
           "automargin": true,
           "gridcolor": "white",
           "linecolor": "white",
           "ticks": "",
           "title": {
            "standoff": 15
           },
           "zerolinecolor": "white",
           "zerolinewidth": 2
          },
          "yaxis": {
           "automargin": true,
           "gridcolor": "white",
           "linecolor": "white",
           "ticks": "",
           "title": {
            "standoff": 15
           },
           "zerolinecolor": "white",
           "zerolinewidth": 2
          }
         }
        },
        "title": {
         "text": "Speed vs Total"
        },
        "xaxis": {
         "anchor": "y",
         "domain": [
          0,
          1
         ],
         "title": {
          "text": "Speed"
         }
        },
        "yaxis": {
         "anchor": "x",
         "domain": [
          0,
          1
         ],
         "title": {
          "text": "Power Generation (MW)"
         }
        }
       }
      }
     },
     "metadata": {},
     "output_type": "display_data"
    }
   ],
   "source": [
    "# plot combined_pred_df speed vs total\n",
    "px.scatter(\n",
    "    data_frame=combined_pred_df, \n",
    "    x=\"Speed\", \n",
    "    y=[\"Total Predicted\", \"Total Actual\"], \n",
    "    title=\"Speed vs Total\", \n",
    "    labels={\"value\": \"Power Generation (MW)\", \"variable\": \"Speed (m/s)\"},\n",
    "    color=\"variable\"\n",
    "    )"
   ]
  },
  {
   "cell_type": "code",
   "execution_count": null,
   "metadata": {},
   "outputs": [],
   "source": []
  }
 ],
 "metadata": {
  "kernelspec": {
   "display_name": "Python 3",
   "language": "python",
   "name": "python3"
  },
  "language_info": {
   "codemirror_mode": {
    "name": "ipython",
    "version": 3
   },
   "file_extension": ".py",
   "mimetype": "text/x-python",
   "name": "python",
   "nbconvert_exporter": "python",
   "pygments_lexer": "ipython3",
   "version": "3.11.1"
  },
  "orig_nbformat": 4,
  "vscode": {
   "interpreter": {
    "hash": "5238573367df39f7286bb46f9ff5f08f63a01a80960060ce41e3c79b190280fa"
   }
  }
 },
 "nbformat": 4,
 "nbformat_minor": 2
}
