{
 "cells": [
  {
   "cell_type": "code",
   "execution_count": 1,
   "metadata": {},
   "outputs": [],
   "source": [
    "from influxdb import InfluxDBClient\n",
    "import pandas as pd\n",
    "import numpy as np\n",
    "from skimpy import skim\n",
    "import datetime as dt\n",
    "import matplotlib.pyplot as plt\n",
    "import seaborn as sns\n",
    "import plotly.express as px\n",
    "from sklearn.pipeline import Pipeline\n",
    "from sklearn.compose import ColumnTransformer\n",
    "from sklearn.preprocessing import FunctionTransformer\n",
    "from sklearn.preprocessing import StandardScaler\n",
    "from sklearn.model_selection import TimeSeriesSplit\n",
    "from sklearn.linear_model import LinearRegression\n",
    "from sklearn.metrics import accuracy_score\n",
    "from sklearn.linear_model import LogisticRegression\n",
    "from sklearn.base import BaseEstimator, TransformerMixin\n",
    "from sklearn.preprocessing import PolynomialFeatures\n",
    "import ewtpy"
   ]
  },
  {
   "cell_type": "code",
   "execution_count": 2,
   "metadata": {},
   "outputs": [],
   "source": [
    "import sys\n",
    "sys.path.append('..')\n",
    "import fx"
   ]
  },
  {
   "cell_type": "code",
   "execution_count": 3,
   "metadata": {},
   "outputs": [],
   "source": [
    "data = fx.pull_data()"
   ]
  },
  {
   "cell_type": "code",
   "execution_count": 4,
   "metadata": {},
   "outputs": [],
   "source": [
    "X_train, y_train, X_test, y_test = fx.data_splitting(data, n_splits=5)"
   ]
  },
  {
   "cell_type": "code",
   "execution_count": 5,
   "metadata": {},
   "outputs": [],
   "source": [
    "def model_testing(model, X_train, y_train, X_test, y_test):\n",
    "    pip = Pipeline(steps=[\n",
    "        (\"col_transformer\", ColumnTransformer(transformers=[\n",
    "            (\"Speed\", \"passthrough\", [\"Speed\"]),\n",
    "            (\"Direction\", fx.WindDirectionMapper(), [\"Direction\"]),\n",
    "            ], remainder=\"drop\")),\n",
    "        (\"LinRegModel\", LinearRegression())\n",
    "    ])\n",
    "    pip.fit(ewt_transformed, y_train)\n",
    "    predict = pip.predict(fx.EWT_transformation(X_test, level=3, log=True))\n",
    "    print(\"Predicted Score: \", fx.RMSE(predict, y_test))\n",
    "    return predict  "
   ]
  },
  {
   "cell_type": "code",
   "execution_count": 6,
   "metadata": {},
   "outputs": [],
   "source": [
    "LinearPipeline = Pipeline(steps=[\n",
    "    (\"col_transformer\", ColumnTransformer(transformers=[\n",
    "        (\"Speed\", \"passthrough\", [\"Speed\"]),\n",
    "        (\"Direction\", fx.WindDirectionMapper(), [\"Direction\"]),\n",
    "        ], remainder=\"drop\")),\n",
    "    (\"LinRegModel\", LinearRegression())\n",
    "])"
   ]
  },
  {
   "cell_type": "code",
   "execution_count": 7,
   "metadata": {},
   "outputs": [],
   "source": [
    "LinearPipeline.fit(X_train, y_train)\n",
    "predict = LinearPipeline.predict(X_test)"
   ]
  },
  {
   "cell_type": "code",
   "execution_count": 8,
   "metadata": {},
   "outputs": [
    {
     "data": {
      "text/html": [
       "<div>\n",
       "<style scoped>\n",
       "    .dataframe tbody tr th:only-of-type {\n",
       "        vertical-align: middle;\n",
       "    }\n",
       "\n",
       "    .dataframe tbody tr th {\n",
       "        vertical-align: top;\n",
       "    }\n",
       "\n",
       "    .dataframe thead th {\n",
       "        text-align: right;\n",
       "    }\n",
       "</style>\n",
       "<table border=\"1\" class=\"dataframe\">\n",
       "  <thead>\n",
       "    <tr style=\"text-align: right;\">\n",
       "      <th></th>\n",
       "      <th>predict_lin</th>\n",
       "    </tr>\n",
       "  </thead>\n",
       "  <tbody>\n",
       "    <tr>\n",
       "      <th>2023-01-31 18:00:00+00:00</th>\n",
       "      <td>36.231339</td>\n",
       "    </tr>\n",
       "    <tr>\n",
       "      <th>2023-01-31 21:00:00+00:00</th>\n",
       "      <td>39.137733</td>\n",
       "    </tr>\n",
       "    <tr>\n",
       "      <th>2023-02-01 00:00:00+00:00</th>\n",
       "      <td>44.223922</td>\n",
       "    </tr>\n",
       "    <tr>\n",
       "      <th>2023-02-01 03:00:00+00:00</th>\n",
       "      <td>42.695288</td>\n",
       "    </tr>\n",
       "    <tr>\n",
       "      <th>2023-02-01 06:00:00+00:00</th>\n",
       "      <td>34.702704</td>\n",
       "    </tr>\n",
       "    <tr>\n",
       "      <th>...</th>\n",
       "      <td>...</td>\n",
       "    </tr>\n",
       "    <tr>\n",
       "      <th>2023-02-15 00:00:00+00:00</th>\n",
       "      <td>23.454317</td>\n",
       "    </tr>\n",
       "    <tr>\n",
       "      <th>2023-02-15 03:00:00+00:00</th>\n",
       "      <td>23.454317</td>\n",
       "    </tr>\n",
       "    <tr>\n",
       "      <th>2023-02-15 06:00:00+00:00</th>\n",
       "      <td>22.001120</td>\n",
       "    </tr>\n",
       "    <tr>\n",
       "      <th>2023-02-15 09:00:00+00:00</th>\n",
       "      <td>23.454317</td>\n",
       "    </tr>\n",
       "    <tr>\n",
       "      <th>2023-02-15 12:00:00+00:00</th>\n",
       "      <td>24.756639</td>\n",
       "    </tr>\n",
       "  </tbody>\n",
       "</table>\n",
       "<p>119 rows × 1 columns</p>\n",
       "</div>"
      ],
      "text/plain": [
       "                           predict_lin\n",
       "2023-01-31 18:00:00+00:00    36.231339\n",
       "2023-01-31 21:00:00+00:00    39.137733\n",
       "2023-02-01 00:00:00+00:00    44.223922\n",
       "2023-02-01 03:00:00+00:00    42.695288\n",
       "2023-02-01 06:00:00+00:00    34.702704\n",
       "...                                ...\n",
       "2023-02-15 00:00:00+00:00    23.454317\n",
       "2023-02-15 03:00:00+00:00    23.454317\n",
       "2023-02-15 06:00:00+00:00    22.001120\n",
       "2023-02-15 09:00:00+00:00    23.454317\n",
       "2023-02-15 12:00:00+00:00    24.756639\n",
       "\n",
       "[119 rows x 1 columns]"
      ]
     },
     "execution_count": 8,
     "metadata": {},
     "output_type": "execute_result"
    }
   ],
   "source": [
    "linplot_df = fx.create_timestamps(predict, X_test, y_test)\n",
    "linplot_df = linplot_df.drop(columns=[\"actual\"])\n",
    "# rename predict column\n",
    "linplot_df = linplot_df.rename(columns={\"predict\": \"predict_lin\"})\n",
    "linplot_df"
   ]
  },
  {
   "cell_type": "code",
   "execution_count": 9,
   "metadata": {},
   "outputs": [
    {
     "data": {
      "text/plain": [
       "8.080737592175543"
      ]
     },
     "execution_count": 9,
     "metadata": {},
     "output_type": "execute_result"
    }
   ],
   "source": [
    "fx.RMSE(y_test, predict)"
   ]
  },
  {
   "cell_type": "code",
   "execution_count": 10,
   "metadata": {},
   "outputs": [],
   "source": [
    "LinLogRadPipeline = Pipeline(steps=[\n",
    "    (\"col_transformer\", ColumnTransformer(transformers=[\n",
    "        (\"Speed\", PolynomialFeatures(), [\"Speed\"]),\n",
    "        (\"Direction\", fx.WindDirectionRadianMapper(), [\"Direction\"]),\n",
    "        ], remainder=\"drop\")),\n",
    "    (\"LinRegModel\", LinearRegression())\n",
    "])"
   ]
  },
  {
   "cell_type": "code",
   "execution_count": 11,
   "metadata": {},
   "outputs": [],
   "source": [
    "LinLogRadPipeline.fit(X_train, y_train)\n",
    "predict = LinLogRadPipeline.predict(X_test)"
   ]
  },
  {
   "cell_type": "code",
   "execution_count": 12,
   "metadata": {},
   "outputs": [
    {
     "data": {
      "text/plain": [
       "5.960819308483332"
      ]
     },
     "execution_count": 12,
     "metadata": {},
     "output_type": "execute_result"
    }
   ],
   "source": [
    "fx.RMSE(y_test, predict)"
   ]
  },
  {
   "cell_type": "code",
   "execution_count": 13,
   "metadata": {},
   "outputs": [
    {
     "data": {
      "text/html": [
       "<div>\n",
       "<style scoped>\n",
       "    .dataframe tbody tr th:only-of-type {\n",
       "        vertical-align: middle;\n",
       "    }\n",
       "\n",
       "    .dataframe tbody tr th {\n",
       "        vertical-align: top;\n",
       "    }\n",
       "\n",
       "    .dataframe thead th {\n",
       "        text-align: right;\n",
       "    }\n",
       "</style>\n",
       "<table border=\"1\" class=\"dataframe\">\n",
       "  <thead>\n",
       "    <tr style=\"text-align: right;\">\n",
       "      <th></th>\n",
       "      <th>predict_linlograd</th>\n",
       "    </tr>\n",
       "  </thead>\n",
       "  <tbody>\n",
       "    <tr>\n",
       "      <th>2023-01-31 18:00:00+00:00</th>\n",
       "      <td>28.578554</td>\n",
       "    </tr>\n",
       "    <tr>\n",
       "      <th>2023-01-31 21:00:00+00:00</th>\n",
       "      <td>27.515914</td>\n",
       "    </tr>\n",
       "    <tr>\n",
       "      <th>2023-02-01 00:00:00+00:00</th>\n",
       "      <td>24.015380</td>\n",
       "    </tr>\n",
       "    <tr>\n",
       "      <th>2023-02-01 03:00:00+00:00</th>\n",
       "      <td>25.174672</td>\n",
       "    </tr>\n",
       "    <tr>\n",
       "      <th>2023-02-01 06:00:00+00:00</th>\n",
       "      <td>28.800181</td>\n",
       "    </tr>\n",
       "    <tr>\n",
       "      <th>...</th>\n",
       "      <td>...</td>\n",
       "    </tr>\n",
       "    <tr>\n",
       "      <th>2023-02-15 00:00:00+00:00</th>\n",
       "      <td>25.137315</td>\n",
       "    </tr>\n",
       "    <tr>\n",
       "      <th>2023-02-15 03:00:00+00:00</th>\n",
       "      <td>25.137315</td>\n",
       "    </tr>\n",
       "    <tr>\n",
       "      <th>2023-02-15 06:00:00+00:00</th>\n",
       "      <td>23.878547</td>\n",
       "    </tr>\n",
       "    <tr>\n",
       "      <th>2023-02-15 09:00:00+00:00</th>\n",
       "      <td>25.137315</td>\n",
       "    </tr>\n",
       "    <tr>\n",
       "      <th>2023-02-15 12:00:00+00:00</th>\n",
       "      <td>26.117665</td>\n",
       "    </tr>\n",
       "  </tbody>\n",
       "</table>\n",
       "<p>119 rows × 1 columns</p>\n",
       "</div>"
      ],
      "text/plain": [
       "                           predict_linlograd\n",
       "2023-01-31 18:00:00+00:00          28.578554\n",
       "2023-01-31 21:00:00+00:00          27.515914\n",
       "2023-02-01 00:00:00+00:00          24.015380\n",
       "2023-02-01 03:00:00+00:00          25.174672\n",
       "2023-02-01 06:00:00+00:00          28.800181\n",
       "...                                      ...\n",
       "2023-02-15 00:00:00+00:00          25.137315\n",
       "2023-02-15 03:00:00+00:00          25.137315\n",
       "2023-02-15 06:00:00+00:00          23.878547\n",
       "2023-02-15 09:00:00+00:00          25.137315\n",
       "2023-02-15 12:00:00+00:00          26.117665\n",
       "\n",
       "[119 rows x 1 columns]"
      ]
     },
     "execution_count": 13,
     "metadata": {},
     "output_type": "execute_result"
    }
   ],
   "source": [
    "linlogradplot_df = fx.create_timestamps(predict, X_test, y_test)\n",
    "linlogradplot_df.drop(columns=[\"actual\"], inplace=True)\n",
    "# rename predict column\n",
    "linlogradplot_df.rename(columns={\"predict\": \"predict_linlograd\"}, inplace=True)\n",
    "linlogradplot_df"
   ]
  },
  {
   "cell_type": "code",
   "execution_count": 14,
   "metadata": {},
   "outputs": [],
   "source": [
    "LinearLogTransformedPipeline = Pipeline(steps=[\n",
    "    (\"col_transformer\", ColumnTransformer(transformers=[\n",
    "        (\"Speed\", PolynomialFeatures(), [\"Speed\"]),\n",
    "        (\"Direction\", fx.WindDirectionMapper(), [\"Direction\"]),\n",
    "        ], remainder=\"drop\")),\n",
    "    (\"LinRegModel\", LinearRegression())\n",
    "])"
   ]
  },
  {
   "cell_type": "code",
   "execution_count": 15,
   "metadata": {},
   "outputs": [
    {
     "data": {
      "text/html": [
       "<style>#sk-container-id-1 {color: black;background-color: white;}#sk-container-id-1 pre{padding: 0;}#sk-container-id-1 div.sk-toggleable {background-color: white;}#sk-container-id-1 label.sk-toggleable__label {cursor: pointer;display: block;width: 100%;margin-bottom: 0;padding: 0.3em;box-sizing: border-box;text-align: center;}#sk-container-id-1 label.sk-toggleable__label-arrow:before {content: \"▸\";float: left;margin-right: 0.25em;color: #696969;}#sk-container-id-1 label.sk-toggleable__label-arrow:hover:before {color: black;}#sk-container-id-1 div.sk-estimator:hover label.sk-toggleable__label-arrow:before {color: black;}#sk-container-id-1 div.sk-toggleable__content {max-height: 0;max-width: 0;overflow: hidden;text-align: left;background-color: #f0f8ff;}#sk-container-id-1 div.sk-toggleable__content pre {margin: 0.2em;color: black;border-radius: 0.25em;background-color: #f0f8ff;}#sk-container-id-1 input.sk-toggleable__control:checked~div.sk-toggleable__content {max-height: 200px;max-width: 100%;overflow: auto;}#sk-container-id-1 input.sk-toggleable__control:checked~label.sk-toggleable__label-arrow:before {content: \"▾\";}#sk-container-id-1 div.sk-estimator input.sk-toggleable__control:checked~label.sk-toggleable__label {background-color: #d4ebff;}#sk-container-id-1 div.sk-label input.sk-toggleable__control:checked~label.sk-toggleable__label {background-color: #d4ebff;}#sk-container-id-1 input.sk-hidden--visually {border: 0;clip: rect(1px 1px 1px 1px);clip: rect(1px, 1px, 1px, 1px);height: 1px;margin: -1px;overflow: hidden;padding: 0;position: absolute;width: 1px;}#sk-container-id-1 div.sk-estimator {font-family: monospace;background-color: #f0f8ff;border: 1px dotted black;border-radius: 0.25em;box-sizing: border-box;margin-bottom: 0.5em;}#sk-container-id-1 div.sk-estimator:hover {background-color: #d4ebff;}#sk-container-id-1 div.sk-parallel-item::after {content: \"\";width: 100%;border-bottom: 1px solid gray;flex-grow: 1;}#sk-container-id-1 div.sk-label:hover label.sk-toggleable__label {background-color: #d4ebff;}#sk-container-id-1 div.sk-serial::before {content: \"\";position: absolute;border-left: 1px solid gray;box-sizing: border-box;top: 0;bottom: 0;left: 50%;z-index: 0;}#sk-container-id-1 div.sk-serial {display: flex;flex-direction: column;align-items: center;background-color: white;padding-right: 0.2em;padding-left: 0.2em;position: relative;}#sk-container-id-1 div.sk-item {position: relative;z-index: 1;}#sk-container-id-1 div.sk-parallel {display: flex;align-items: stretch;justify-content: center;background-color: white;position: relative;}#sk-container-id-1 div.sk-item::before, #sk-container-id-1 div.sk-parallel-item::before {content: \"\";position: absolute;border-left: 1px solid gray;box-sizing: border-box;top: 0;bottom: 0;left: 50%;z-index: -1;}#sk-container-id-1 div.sk-parallel-item {display: flex;flex-direction: column;z-index: 1;position: relative;background-color: white;}#sk-container-id-1 div.sk-parallel-item:first-child::after {align-self: flex-end;width: 50%;}#sk-container-id-1 div.sk-parallel-item:last-child::after {align-self: flex-start;width: 50%;}#sk-container-id-1 div.sk-parallel-item:only-child::after {width: 0;}#sk-container-id-1 div.sk-dashed-wrapped {border: 1px dashed gray;margin: 0 0.4em 0.5em 0.4em;box-sizing: border-box;padding-bottom: 0.4em;background-color: white;}#sk-container-id-1 div.sk-label label {font-family: monospace;font-weight: bold;display: inline-block;line-height: 1.2em;}#sk-container-id-1 div.sk-label-container {text-align: center;}#sk-container-id-1 div.sk-container {/* jupyter's `normalize.less` sets `[hidden] { display: none; }` but bootstrap.min.css set `[hidden] { display: none !important; }` so we also need the `!important` here to be able to override the default hidden behavior on the sphinx rendered scikit-learn.org. See: https://github.com/scikit-learn/scikit-learn/issues/21755 */display: inline-block !important;position: relative;}#sk-container-id-1 div.sk-text-repr-fallback {display: none;}</style><div id=\"sk-container-id-1\" class=\"sk-top-container\"><div class=\"sk-text-repr-fallback\"><pre>Pipeline(steps=[(&#x27;col_transformer&#x27;,\n",
       "                 ColumnTransformer(transformers=[(&#x27;Speed&#x27;, PolynomialFeatures(),\n",
       "                                                  [&#x27;Speed&#x27;]),\n",
       "                                                 (&#x27;Direction&#x27;,\n",
       "                                                  WindDirectionMapper(),\n",
       "                                                  [&#x27;Direction&#x27;])])),\n",
       "                (&#x27;LinRegModel&#x27;, LinearRegression())])</pre><b>In a Jupyter environment, please rerun this cell to show the HTML representation or trust the notebook. <br />On GitHub, the HTML representation is unable to render, please try loading this page with nbviewer.org.</b></div><div class=\"sk-container\" hidden><div class=\"sk-item sk-dashed-wrapped\"><div class=\"sk-label-container\"><div class=\"sk-label sk-toggleable\"><input class=\"sk-toggleable__control sk-hidden--visually\" id=\"sk-estimator-id-1\" type=\"checkbox\" ><label for=\"sk-estimator-id-1\" class=\"sk-toggleable__label sk-toggleable__label-arrow\">Pipeline</label><div class=\"sk-toggleable__content\"><pre>Pipeline(steps=[(&#x27;col_transformer&#x27;,\n",
       "                 ColumnTransformer(transformers=[(&#x27;Speed&#x27;, PolynomialFeatures(),\n",
       "                                                  [&#x27;Speed&#x27;]),\n",
       "                                                 (&#x27;Direction&#x27;,\n",
       "                                                  WindDirectionMapper(),\n",
       "                                                  [&#x27;Direction&#x27;])])),\n",
       "                (&#x27;LinRegModel&#x27;, LinearRegression())])</pre></div></div></div><div class=\"sk-serial\"><div class=\"sk-item sk-dashed-wrapped\"><div class=\"sk-label-container\"><div class=\"sk-label sk-toggleable\"><input class=\"sk-toggleable__control sk-hidden--visually\" id=\"sk-estimator-id-2\" type=\"checkbox\" ><label for=\"sk-estimator-id-2\" class=\"sk-toggleable__label sk-toggleable__label-arrow\">col_transformer: ColumnTransformer</label><div class=\"sk-toggleable__content\"><pre>ColumnTransformer(transformers=[(&#x27;Speed&#x27;, PolynomialFeatures(), [&#x27;Speed&#x27;]),\n",
       "                                (&#x27;Direction&#x27;, WindDirectionMapper(),\n",
       "                                 [&#x27;Direction&#x27;])])</pre></div></div></div><div class=\"sk-parallel\"><div class=\"sk-parallel-item\"><div class=\"sk-item\"><div class=\"sk-label-container\"><div class=\"sk-label sk-toggleable\"><input class=\"sk-toggleable__control sk-hidden--visually\" id=\"sk-estimator-id-3\" type=\"checkbox\" ><label for=\"sk-estimator-id-3\" class=\"sk-toggleable__label sk-toggleable__label-arrow\">Speed</label><div class=\"sk-toggleable__content\"><pre>[&#x27;Speed&#x27;]</pre></div></div></div><div class=\"sk-serial\"><div class=\"sk-item\"><div class=\"sk-estimator sk-toggleable\"><input class=\"sk-toggleable__control sk-hidden--visually\" id=\"sk-estimator-id-4\" type=\"checkbox\" ><label for=\"sk-estimator-id-4\" class=\"sk-toggleable__label sk-toggleable__label-arrow\">PolynomialFeatures</label><div class=\"sk-toggleable__content\"><pre>PolynomialFeatures()</pre></div></div></div></div></div></div><div class=\"sk-parallel-item\"><div class=\"sk-item\"><div class=\"sk-label-container\"><div class=\"sk-label sk-toggleable\"><input class=\"sk-toggleable__control sk-hidden--visually\" id=\"sk-estimator-id-5\" type=\"checkbox\" ><label for=\"sk-estimator-id-5\" class=\"sk-toggleable__label sk-toggleable__label-arrow\">Direction</label><div class=\"sk-toggleable__content\"><pre>[&#x27;Direction&#x27;]</pre></div></div></div><div class=\"sk-serial\"><div class=\"sk-item\"><div class=\"sk-estimator sk-toggleable\"><input class=\"sk-toggleable__control sk-hidden--visually\" id=\"sk-estimator-id-6\" type=\"checkbox\" ><label for=\"sk-estimator-id-6\" class=\"sk-toggleable__label sk-toggleable__label-arrow\">WindDirectionMapper</label><div class=\"sk-toggleable__content\"><pre>WindDirectionMapper()</pre></div></div></div></div></div></div></div></div><div class=\"sk-item\"><div class=\"sk-estimator sk-toggleable\"><input class=\"sk-toggleable__control sk-hidden--visually\" id=\"sk-estimator-id-7\" type=\"checkbox\" ><label for=\"sk-estimator-id-7\" class=\"sk-toggleable__label sk-toggleable__label-arrow\">LinearRegression</label><div class=\"sk-toggleable__content\"><pre>LinearRegression()</pre></div></div></div></div></div></div></div>"
      ],
      "text/plain": [
       "Pipeline(steps=[('col_transformer',\n",
       "                 ColumnTransformer(transformers=[('Speed', PolynomialFeatures(),\n",
       "                                                  ['Speed']),\n",
       "                                                 ('Direction',\n",
       "                                                  WindDirectionMapper(),\n",
       "                                                  ['Direction'])])),\n",
       "                ('LinRegModel', LinearRegression())])"
      ]
     },
     "execution_count": 15,
     "metadata": {},
     "output_type": "execute_result"
    }
   ],
   "source": [
    "LinearLogTransformedPipeline.fit(X_train, y_train)"
   ]
  },
  {
   "cell_type": "code",
   "execution_count": 16,
   "metadata": {},
   "outputs": [
    {
     "data": {
      "text/plain": [
       "5.960819308483328"
      ]
     },
     "execution_count": 16,
     "metadata": {},
     "output_type": "execute_result"
    }
   ],
   "source": [
    "predict = LinearLogTransformedPipeline.predict(X_test)\n",
    "fx.RMSE(y_test, predict)"
   ]
  },
  {
   "cell_type": "code",
   "execution_count": 17,
   "metadata": {},
   "outputs": [],
   "source": [
    "logplot_df = fx.create_timestamps(predict, X_test, y_test)\n",
    "# rename predict column\n",
    "logplot_df.rename(columns={\"predict\": \"predict_log\"}, inplace=True)"
   ]
  },
  {
   "cell_type": "code",
   "execution_count": 18,
   "metadata": {},
   "outputs": [
    {
     "data": {
      "text/html": [
       "<div>\n",
       "<style scoped>\n",
       "    .dataframe tbody tr th:only-of-type {\n",
       "        vertical-align: middle;\n",
       "    }\n",
       "\n",
       "    .dataframe tbody tr th {\n",
       "        vertical-align: top;\n",
       "    }\n",
       "\n",
       "    .dataframe thead th {\n",
       "        text-align: right;\n",
       "    }\n",
       "</style>\n",
       "<table border=\"1\" class=\"dataframe\">\n",
       "  <thead>\n",
       "    <tr style=\"text-align: right;\">\n",
       "      <th></th>\n",
       "      <th>predict_lin</th>\n",
       "      <th>predict_linlograd</th>\n",
       "      <th>predict_log</th>\n",
       "      <th>actual</th>\n",
       "    </tr>\n",
       "  </thead>\n",
       "  <tbody>\n",
       "    <tr>\n",
       "      <th>2023-01-31 18:00:00+00:00</th>\n",
       "      <td>36.231339</td>\n",
       "      <td>28.578554</td>\n",
       "      <td>28.578554</td>\n",
       "      <td>18.617446</td>\n",
       "    </tr>\n",
       "    <tr>\n",
       "      <th>2023-01-31 21:00:00+00:00</th>\n",
       "      <td>39.137733</td>\n",
       "      <td>27.515914</td>\n",
       "      <td>27.515914</td>\n",
       "      <td>14.899595</td>\n",
       "    </tr>\n",
       "    <tr>\n",
       "      <th>2023-02-01 00:00:00+00:00</th>\n",
       "      <td>44.223922</td>\n",
       "      <td>24.015380</td>\n",
       "      <td>24.015380</td>\n",
       "      <td>7.563296</td>\n",
       "    </tr>\n",
       "    <tr>\n",
       "      <th>2023-02-01 03:00:00+00:00</th>\n",
       "      <td>42.695288</td>\n",
       "      <td>25.174672</td>\n",
       "      <td>25.174672</td>\n",
       "      <td>11.086492</td>\n",
       "    </tr>\n",
       "    <tr>\n",
       "      <th>2023-02-01 06:00:00+00:00</th>\n",
       "      <td>34.702704</td>\n",
       "      <td>28.800181</td>\n",
       "      <td>28.800181</td>\n",
       "      <td>15.854655</td>\n",
       "    </tr>\n",
       "    <tr>\n",
       "      <th>...</th>\n",
       "      <td>...</td>\n",
       "      <td>...</td>\n",
       "      <td>...</td>\n",
       "      <td>...</td>\n",
       "    </tr>\n",
       "    <tr>\n",
       "      <th>2023-02-15 00:00:00+00:00</th>\n",
       "      <td>23.454317</td>\n",
       "      <td>25.137315</td>\n",
       "      <td>25.137315</td>\n",
       "      <td>21.172519</td>\n",
       "    </tr>\n",
       "    <tr>\n",
       "      <th>2023-02-15 03:00:00+00:00</th>\n",
       "      <td>23.454317</td>\n",
       "      <td>25.137315</td>\n",
       "      <td>25.137315</td>\n",
       "      <td>22.722648</td>\n",
       "    </tr>\n",
       "    <tr>\n",
       "      <th>2023-02-15 06:00:00+00:00</th>\n",
       "      <td>22.001120</td>\n",
       "      <td>23.878547</td>\n",
       "      <td>23.878547</td>\n",
       "      <td>24.276798</td>\n",
       "    </tr>\n",
       "    <tr>\n",
       "      <th>2023-02-15 09:00:00+00:00</th>\n",
       "      <td>23.454317</td>\n",
       "      <td>25.137315</td>\n",
       "      <td>25.137315</td>\n",
       "      <td>23.977367</td>\n",
       "    </tr>\n",
       "    <tr>\n",
       "      <th>2023-02-15 12:00:00+00:00</th>\n",
       "      <td>24.756639</td>\n",
       "      <td>26.117665</td>\n",
       "      <td>26.117665</td>\n",
       "      <td>20.657138</td>\n",
       "    </tr>\n",
       "  </tbody>\n",
       "</table>\n",
       "<p>119 rows × 4 columns</p>\n",
       "</div>"
      ],
      "text/plain": [
       "                           predict_lin  predict_linlograd  predict_log  \\\n",
       "2023-01-31 18:00:00+00:00    36.231339          28.578554    28.578554   \n",
       "2023-01-31 21:00:00+00:00    39.137733          27.515914    27.515914   \n",
       "2023-02-01 00:00:00+00:00    44.223922          24.015380    24.015380   \n",
       "2023-02-01 03:00:00+00:00    42.695288          25.174672    25.174672   \n",
       "2023-02-01 06:00:00+00:00    34.702704          28.800181    28.800181   \n",
       "...                                ...                ...          ...   \n",
       "2023-02-15 00:00:00+00:00    23.454317          25.137315    25.137315   \n",
       "2023-02-15 03:00:00+00:00    23.454317          25.137315    25.137315   \n",
       "2023-02-15 06:00:00+00:00    22.001120          23.878547    23.878547   \n",
       "2023-02-15 09:00:00+00:00    23.454317          25.137315    25.137315   \n",
       "2023-02-15 12:00:00+00:00    24.756639          26.117665    26.117665   \n",
       "\n",
       "                              actual  \n",
       "2023-01-31 18:00:00+00:00  18.617446  \n",
       "2023-01-31 21:00:00+00:00  14.899595  \n",
       "2023-02-01 00:00:00+00:00   7.563296  \n",
       "2023-02-01 03:00:00+00:00  11.086492  \n",
       "2023-02-01 06:00:00+00:00  15.854655  \n",
       "...                              ...  \n",
       "2023-02-15 00:00:00+00:00  21.172519  \n",
       "2023-02-15 03:00:00+00:00  22.722648  \n",
       "2023-02-15 06:00:00+00:00  24.276798  \n",
       "2023-02-15 09:00:00+00:00  23.977367  \n",
       "2023-02-15 12:00:00+00:00  20.657138  \n",
       "\n",
       "[119 rows x 4 columns]"
      ]
     },
     "execution_count": 18,
     "metadata": {},
     "output_type": "execute_result"
    }
   ],
   "source": [
    "# combining all plot dataframes into one\n",
    "plot_df = pd.concat([linplot_df, linlogradplot_df, logplot_df], axis=1)\n",
    "plot_df\n"
   ]
  },
  {
   "cell_type": "code",
   "execution_count": 19,
   "metadata": {},
   "outputs": [
    {
     "data": {
      "application/vnd.plotly.v1+json": {
       "config": {
        "plotlyServerURL": "https://plot.ly"
       },
       "data": [
        {
         "hovertemplate": "variable=predict_lin<br>index=%{x}<br>value=%{y}<extra></extra>",
         "legendgroup": "predict_lin",
         "line": {
          "color": "#636efa",
          "dash": "solid"
         },
         "marker": {
          "symbol": "circle"
         },
         "mode": "lines",
         "name": "predict_lin",
         "orientation": "v",
         "showlegend": true,
         "type": "scatter",
         "x": [
          "2023-01-31T18:00:00+00:00",
          "2023-01-31T21:00:00+00:00",
          "2023-02-01T00:00:00+00:00",
          "2023-02-01T03:00:00+00:00",
          "2023-02-01T06:00:00+00:00",
          "2023-02-01T09:00:00+00:00",
          "2023-02-01T12:00:00+00:00",
          "2023-02-01T15:00:00+00:00",
          "2023-02-01T18:00:00+00:00",
          "2023-02-01T21:00:00+00:00",
          "2023-02-02T00:00:00+00:00",
          "2023-02-02T03:00:00+00:00",
          "2023-02-02T06:00:00+00:00",
          "2023-02-02T09:00:00+00:00",
          "2023-02-02T12:00:00+00:00",
          "2023-02-02T15:00:00+00:00",
          "2023-02-02T18:00:00+00:00",
          "2023-02-02T21:00:00+00:00",
          "2023-02-03T00:00:00+00:00",
          "2023-02-03T03:00:00+00:00",
          "2023-02-03T06:00:00+00:00",
          "2023-02-03T09:00:00+00:00",
          "2023-02-03T12:00:00+00:00",
          "2023-02-03T15:00:00+00:00",
          "2023-02-03T18:00:00+00:00",
          "2023-02-03T21:00:00+00:00",
          "2023-02-04T00:00:00+00:00",
          "2023-02-04T03:00:00+00:00",
          "2023-02-04T06:00:00+00:00",
          "2023-02-04T09:00:00+00:00",
          "2023-02-04T12:00:00+00:00",
          "2023-02-04T15:00:00+00:00",
          "2023-02-04T18:00:00+00:00",
          "2023-02-04T21:00:00+00:00",
          "2023-02-05T00:00:00+00:00",
          "2023-02-05T03:00:00+00:00",
          "2023-02-05T06:00:00+00:00",
          "2023-02-05T09:00:00+00:00",
          "2023-02-05T12:00:00+00:00",
          "2023-02-05T15:00:00+00:00",
          "2023-02-05T18:00:00+00:00",
          "2023-02-05T21:00:00+00:00",
          "2023-02-06T00:00:00+00:00",
          "2023-02-06T03:00:00+00:00",
          "2023-02-06T06:00:00+00:00",
          "2023-02-06T09:00:00+00:00",
          "2023-02-06T12:00:00+00:00",
          "2023-02-06T15:00:00+00:00",
          "2023-02-06T18:00:00+00:00",
          "2023-02-06T21:00:00+00:00",
          "2023-02-07T00:00:00+00:00",
          "2023-02-07T03:00:00+00:00",
          "2023-02-07T06:00:00+00:00",
          "2023-02-07T09:00:00+00:00",
          "2023-02-07T12:00:00+00:00",
          "2023-02-07T15:00:00+00:00",
          "2023-02-07T18:00:00+00:00",
          "2023-02-07T21:00:00+00:00",
          "2023-02-08T00:00:00+00:00",
          "2023-02-08T03:00:00+00:00",
          "2023-02-08T06:00:00+00:00",
          "2023-02-08T09:00:00+00:00",
          "2023-02-08T12:00:00+00:00",
          "2023-02-08T15:00:00+00:00",
          "2023-02-08T18:00:00+00:00",
          "2023-02-08T21:00:00+00:00",
          "2023-02-09T00:00:00+00:00",
          "2023-02-09T03:00:00+00:00",
          "2023-02-09T06:00:00+00:00",
          "2023-02-09T09:00:00+00:00",
          "2023-02-09T12:00:00+00:00",
          "2023-02-09T15:00:00+00:00",
          "2023-02-09T18:00:00+00:00",
          "2023-02-09T21:00:00+00:00",
          "2023-02-10T00:00:00+00:00",
          "2023-02-10T03:00:00+00:00",
          "2023-02-10T06:00:00+00:00",
          "2023-02-10T09:00:00+00:00",
          "2023-02-10T12:00:00+00:00",
          "2023-02-10T15:00:00+00:00",
          "2023-02-10T18:00:00+00:00",
          "2023-02-10T21:00:00+00:00",
          "2023-02-11T00:00:00+00:00",
          "2023-02-11T03:00:00+00:00",
          "2023-02-11T06:00:00+00:00",
          "2023-02-11T09:00:00+00:00",
          "2023-02-11T12:00:00+00:00",
          "2023-02-11T15:00:00+00:00",
          "2023-02-11T18:00:00+00:00",
          "2023-02-11T21:00:00+00:00",
          "2023-02-12T00:00:00+00:00",
          "2023-02-12T03:00:00+00:00",
          "2023-02-12T06:00:00+00:00",
          "2023-02-12T09:00:00+00:00",
          "2023-02-12T12:00:00+00:00",
          "2023-02-12T15:00:00+00:00",
          "2023-02-12T18:00:00+00:00",
          "2023-02-12T21:00:00+00:00",
          "2023-02-13T00:00:00+00:00",
          "2023-02-13T03:00:00+00:00",
          "2023-02-13T06:00:00+00:00",
          "2023-02-13T09:00:00+00:00",
          "2023-02-13T12:00:00+00:00",
          "2023-02-13T15:00:00+00:00",
          "2023-02-13T18:00:00+00:00",
          "2023-02-13T21:00:00+00:00",
          "2023-02-14T00:00:00+00:00",
          "2023-02-14T03:00:00+00:00",
          "2023-02-14T06:00:00+00:00",
          "2023-02-14T09:00:00+00:00",
          "2023-02-14T12:00:00+00:00",
          "2023-02-14T15:00:00+00:00",
          "2023-02-14T18:00:00+00:00",
          "2023-02-14T21:00:00+00:00",
          "2023-02-15T00:00:00+00:00",
          "2023-02-15T03:00:00+00:00",
          "2023-02-15T06:00:00+00:00",
          "2023-02-15T09:00:00+00:00",
          "2023-02-15T12:00:00+00:00"
         ],
         "xaxis": "x",
         "y": [
          36.231339061508294,
          39.13773292612456,
          44.22392218920306,
          42.69528758500539,
          34.702704457310624,
          32.52290905884841,
          32.44747138695889,
          15.084545871150741,
          16.386867459679834,
          12.753875128909483,
          8.46972200387459,
          10.4509826394094,
          16.914931162906505,
          22.076558097874514,
          16.914931162906505,
          28.38963127759257,
          32.67378440262746,
          31.069712126540278,
          34.702704457310624,
          31.069712126540278,
          28.087880590034473,
          19.368698996185636,
          12.980188144578056,
          11.677866556048965,
          16.99036883479603,
          16.914931162906505,
          15.461734230598363,
          15.386296558708839,
          19.745887355633258,
          19.821325027522782,
          22.00112042598499,
          26.058960535351314,
          24.530325931153648,
          24.530325931153648,
          23.077128998845506,
          21.699369738426896,
          19.519574339964684,
          18.217252751435595,
          21.85024508220594,
          19.670449683743733,
          16.83949349101698,
          21.85024508220594,
          19.670449683743733,
          23.30344201451408,
          21.85024508220594,
          24.75663894682222,
          19.745887355633258,
          13.20650116024663,
          16.914931162906505,
          18.29269042332512,
          16.83949349101698,
          17.915502063877497,
          11.677866556048965,
          13.05562581646758,
          16.688618147237932,
          18.217252751435595,
          19.745887355633258,
          19.745887355633258,
          21.925682754095465,
          23.378879686403604,
          24.90751429060127,
          32.749222074516986,
          34.9290174729792,
          32.82465974640651,
          26.13439820724084,
          32.67378440262746,
          32.67378440262746,
          32.59834673073794,
          31.145149798429802,
          37.68453599381643,
          34.77814212920015,
          28.163318261923997,
          24.530325931153648,
          15.159983543040266,
          11.828741899828014,
          19.670449683743733,
          28.38963127759257,
          29.76739053801119,
          31.145149798429802,
          32.59834673073794,
          29.691952866121664,
          29.691952866121664,
          21.62393206653737,
          15.159983543040266,
          24.605763603043172,
          23.228004342624555,
          21.77480741031642,
          21.77480741031642,
          21.77480741031642,
          21.85024508220594,
          21.85024508220594,
          21.85024508220594,
          19.670449683743733,
          21.85024508220594,
          16.764055819127456,
          16.83949349101698,
          16.83949349101698,
          16.83949349101698,
          15.310858886819315,
          13.20650116024663,
          13.281938832136154,
          13.281938832136154,
          11.904179571717538,
          10.375544967519875,
          9.073223378990784,
          10.526420311298924,
          13.281938832136154,
          13.281938832136154,
          13.281938832136154,
          13.281938832136154,
          15.537171902487888,
          18.368128095214644,
          18.443565767104165,
          16.914931162906505,
          23.454317358293128,
          23.454317358293128,
          22.00112042598499,
          23.454317358293128,
          24.75663894682222
         ],
         "yaxis": "y"
        },
        {
         "hovertemplate": "variable=predict_linlograd<br>index=%{x}<br>value=%{y}<extra></extra>",
         "legendgroup": "predict_linlograd",
         "line": {
          "color": "#EF553B",
          "dash": "solid"
         },
         "marker": {
          "symbol": "circle"
         },
         "mode": "lines",
         "name": "predict_linlograd",
         "orientation": "v",
         "showlegend": true,
         "type": "scatter",
         "x": [
          "2023-01-31T18:00:00+00:00",
          "2023-01-31T21:00:00+00:00",
          "2023-02-01T00:00:00+00:00",
          "2023-02-01T03:00:00+00:00",
          "2023-02-01T06:00:00+00:00",
          "2023-02-01T09:00:00+00:00",
          "2023-02-01T12:00:00+00:00",
          "2023-02-01T15:00:00+00:00",
          "2023-02-01T18:00:00+00:00",
          "2023-02-01T21:00:00+00:00",
          "2023-02-02T00:00:00+00:00",
          "2023-02-02T03:00:00+00:00",
          "2023-02-02T06:00:00+00:00",
          "2023-02-02T09:00:00+00:00",
          "2023-02-02T12:00:00+00:00",
          "2023-02-02T15:00:00+00:00",
          "2023-02-02T18:00:00+00:00",
          "2023-02-02T21:00:00+00:00",
          "2023-02-03T00:00:00+00:00",
          "2023-02-03T03:00:00+00:00",
          "2023-02-03T06:00:00+00:00",
          "2023-02-03T09:00:00+00:00",
          "2023-02-03T12:00:00+00:00",
          "2023-02-03T15:00:00+00:00",
          "2023-02-03T18:00:00+00:00",
          "2023-02-03T21:00:00+00:00",
          "2023-02-04T00:00:00+00:00",
          "2023-02-04T03:00:00+00:00",
          "2023-02-04T06:00:00+00:00",
          "2023-02-04T09:00:00+00:00",
          "2023-02-04T12:00:00+00:00",
          "2023-02-04T15:00:00+00:00",
          "2023-02-04T18:00:00+00:00",
          "2023-02-04T21:00:00+00:00",
          "2023-02-05T00:00:00+00:00",
          "2023-02-05T03:00:00+00:00",
          "2023-02-05T06:00:00+00:00",
          "2023-02-05T09:00:00+00:00",
          "2023-02-05T12:00:00+00:00",
          "2023-02-05T15:00:00+00:00",
          "2023-02-05T18:00:00+00:00",
          "2023-02-05T21:00:00+00:00",
          "2023-02-06T00:00:00+00:00",
          "2023-02-06T03:00:00+00:00",
          "2023-02-06T06:00:00+00:00",
          "2023-02-06T09:00:00+00:00",
          "2023-02-06T12:00:00+00:00",
          "2023-02-06T15:00:00+00:00",
          "2023-02-06T18:00:00+00:00",
          "2023-02-06T21:00:00+00:00",
          "2023-02-07T00:00:00+00:00",
          "2023-02-07T03:00:00+00:00",
          "2023-02-07T06:00:00+00:00",
          "2023-02-07T09:00:00+00:00",
          "2023-02-07T12:00:00+00:00",
          "2023-02-07T15:00:00+00:00",
          "2023-02-07T18:00:00+00:00",
          "2023-02-07T21:00:00+00:00",
          "2023-02-08T00:00:00+00:00",
          "2023-02-08T03:00:00+00:00",
          "2023-02-08T06:00:00+00:00",
          "2023-02-08T09:00:00+00:00",
          "2023-02-08T12:00:00+00:00",
          "2023-02-08T15:00:00+00:00",
          "2023-02-08T18:00:00+00:00",
          "2023-02-08T21:00:00+00:00",
          "2023-02-09T00:00:00+00:00",
          "2023-02-09T03:00:00+00:00",
          "2023-02-09T06:00:00+00:00",
          "2023-02-09T09:00:00+00:00",
          "2023-02-09T12:00:00+00:00",
          "2023-02-09T15:00:00+00:00",
          "2023-02-09T18:00:00+00:00",
          "2023-02-09T21:00:00+00:00",
          "2023-02-10T00:00:00+00:00",
          "2023-02-10T03:00:00+00:00",
          "2023-02-10T06:00:00+00:00",
          "2023-02-10T09:00:00+00:00",
          "2023-02-10T12:00:00+00:00",
          "2023-02-10T15:00:00+00:00",
          "2023-02-10T18:00:00+00:00",
          "2023-02-10T21:00:00+00:00",
          "2023-02-11T00:00:00+00:00",
          "2023-02-11T03:00:00+00:00",
          "2023-02-11T06:00:00+00:00",
          "2023-02-11T09:00:00+00:00",
          "2023-02-11T12:00:00+00:00",
          "2023-02-11T15:00:00+00:00",
          "2023-02-11T18:00:00+00:00",
          "2023-02-11T21:00:00+00:00",
          "2023-02-12T00:00:00+00:00",
          "2023-02-12T03:00:00+00:00",
          "2023-02-12T06:00:00+00:00",
          "2023-02-12T09:00:00+00:00",
          "2023-02-12T12:00:00+00:00",
          "2023-02-12T15:00:00+00:00",
          "2023-02-12T18:00:00+00:00",
          "2023-02-12T21:00:00+00:00",
          "2023-02-13T00:00:00+00:00",
          "2023-02-13T03:00:00+00:00",
          "2023-02-13T06:00:00+00:00",
          "2023-02-13T09:00:00+00:00",
          "2023-02-13T12:00:00+00:00",
          "2023-02-13T15:00:00+00:00",
          "2023-02-13T18:00:00+00:00",
          "2023-02-13T21:00:00+00:00",
          "2023-02-14T00:00:00+00:00",
          "2023-02-14T03:00:00+00:00",
          "2023-02-14T06:00:00+00:00",
          "2023-02-14T09:00:00+00:00",
          "2023-02-14T12:00:00+00:00",
          "2023-02-14T15:00:00+00:00",
          "2023-02-14T18:00:00+00:00",
          "2023-02-14T21:00:00+00:00",
          "2023-02-15T00:00:00+00:00",
          "2023-02-15T03:00:00+00:00",
          "2023-02-15T06:00:00+00:00",
          "2023-02-15T09:00:00+00:00",
          "2023-02-15T12:00:00+00:00"
         ],
         "xaxis": "x",
         "y": [
          28.578554364732685,
          27.515914105582883,
          24.01537968247185,
          25.17467167179849,
          28.800181228574235,
          28.893912578822775,
          28.83994616549445,
          15.834513350939876,
          17.752528918758557,
          12.36799936706397,
          4.554032630131166,
          7.724926475119817,
          18.130293812056816,
          23.932513630922397,
          18.130293812056816,
          28.092503683482224,
          29.001845405479425,
          28.743294435317612,
          28.800181228574235,
          28.743294435317612,
          27.876638030168923,
          21.346938416227474,
          12.529898607048935,
          10.185671618555219,
          18.184260225385138,
          18.130293812056816,
          16.104345417581488,
          16.050379004253163,
          21.616770482869086,
          21.67073689619741,
          23.87854721759408,
          26.927531371251508,
          25.955766257202967,
          25.955766257202967,
          24.867482988212718,
          23.662681564280785,
          21.454871242884117,
          19.877824811605475,
          23.770614390937435,
          21.562804069540768,
          18.07632739872849,
          23.770614390937435,
          21.562804069540768,
          25.029382228197687,
          23.770614390937435,
          26.117665497187936,
          21.616770482869086,
          12.691797847033904,
          18.130293812056816,
          19.931791224933793,
          18.07632739872849,
          19.66195915829218,
          10.185671618555219,
          12.58386502037726,
          17.968394572071848,
          19.877824811605475,
          21.616770482869086,
          21.616770482869086,
          23.824580804265754,
          25.083348641526005,
          26.225598323844583,
          29.05581181880775,
          28.96208046855921,
          29.109778232136076,
          26.981497784579833,
          29.001845405479425,
          29.001845405479425,
          28.9478789921511,
          28.797260848645937,
          28.13247651929279,
          28.85414764190256,
          27.93060444349725,
          25.955766257202967,
          15.888479764268201,
          10.293604445211866,
          21.562804069540768,
          28.092503683482224,
          28.530124550199094,
          28.797260848645937,
          28.9478789921511,
          28.47615813687077,
          28.47615813687077,
          23.608715150952467,
          15.888479764268201,
          26.009732670531285,
          24.97541581486936,
          23.71664797760911,
          23.71664797760911,
          23.71664797760911,
          23.770614390937435,
          23.770614390937435,
          23.770614390937435,
          21.562804069540768,
          23.770614390937435,
          18.02236098540017,
          18.07632739872849,
          18.07632739872849,
          18.07632739872849,
          15.996412590924844,
          12.691797847033904,
          12.745764260362229,
          12.745764260362229,
          10.347570858540188,
          7.670960061791494,
          4.985763936757749,
          7.778892888448139,
          12.745764260362229,
          12.745764260362229,
          12.745764260362229,
          12.745764260362229,
          16.158311830909813,
          19.98575763826212,
          20.039724051590436,
          18.130293812056816,
          25.13731505485433,
          25.13731505485433,
          23.87854721759408,
          25.13731505485433,
          26.117665497187936
         ],
         "yaxis": "y"
        },
        {
         "hovertemplate": "variable=predict_log<br>index=%{x}<br>value=%{y}<extra></extra>",
         "legendgroup": "predict_log",
         "line": {
          "color": "#00cc96",
          "dash": "solid"
         },
         "marker": {
          "symbol": "circle"
         },
         "mode": "lines",
         "name": "predict_log",
         "orientation": "v",
         "showlegend": true,
         "type": "scatter",
         "x": [
          "2023-01-31T18:00:00+00:00",
          "2023-01-31T21:00:00+00:00",
          "2023-02-01T00:00:00+00:00",
          "2023-02-01T03:00:00+00:00",
          "2023-02-01T06:00:00+00:00",
          "2023-02-01T09:00:00+00:00",
          "2023-02-01T12:00:00+00:00",
          "2023-02-01T15:00:00+00:00",
          "2023-02-01T18:00:00+00:00",
          "2023-02-01T21:00:00+00:00",
          "2023-02-02T00:00:00+00:00",
          "2023-02-02T03:00:00+00:00",
          "2023-02-02T06:00:00+00:00",
          "2023-02-02T09:00:00+00:00",
          "2023-02-02T12:00:00+00:00",
          "2023-02-02T15:00:00+00:00",
          "2023-02-02T18:00:00+00:00",
          "2023-02-02T21:00:00+00:00",
          "2023-02-03T00:00:00+00:00",
          "2023-02-03T03:00:00+00:00",
          "2023-02-03T06:00:00+00:00",
          "2023-02-03T09:00:00+00:00",
          "2023-02-03T12:00:00+00:00",
          "2023-02-03T15:00:00+00:00",
          "2023-02-03T18:00:00+00:00",
          "2023-02-03T21:00:00+00:00",
          "2023-02-04T00:00:00+00:00",
          "2023-02-04T03:00:00+00:00",
          "2023-02-04T06:00:00+00:00",
          "2023-02-04T09:00:00+00:00",
          "2023-02-04T12:00:00+00:00",
          "2023-02-04T15:00:00+00:00",
          "2023-02-04T18:00:00+00:00",
          "2023-02-04T21:00:00+00:00",
          "2023-02-05T00:00:00+00:00",
          "2023-02-05T03:00:00+00:00",
          "2023-02-05T06:00:00+00:00",
          "2023-02-05T09:00:00+00:00",
          "2023-02-05T12:00:00+00:00",
          "2023-02-05T15:00:00+00:00",
          "2023-02-05T18:00:00+00:00",
          "2023-02-05T21:00:00+00:00",
          "2023-02-06T00:00:00+00:00",
          "2023-02-06T03:00:00+00:00",
          "2023-02-06T06:00:00+00:00",
          "2023-02-06T09:00:00+00:00",
          "2023-02-06T12:00:00+00:00",
          "2023-02-06T15:00:00+00:00",
          "2023-02-06T18:00:00+00:00",
          "2023-02-06T21:00:00+00:00",
          "2023-02-07T00:00:00+00:00",
          "2023-02-07T03:00:00+00:00",
          "2023-02-07T06:00:00+00:00",
          "2023-02-07T09:00:00+00:00",
          "2023-02-07T12:00:00+00:00",
          "2023-02-07T15:00:00+00:00",
          "2023-02-07T18:00:00+00:00",
          "2023-02-07T21:00:00+00:00",
          "2023-02-08T00:00:00+00:00",
          "2023-02-08T03:00:00+00:00",
          "2023-02-08T06:00:00+00:00",
          "2023-02-08T09:00:00+00:00",
          "2023-02-08T12:00:00+00:00",
          "2023-02-08T15:00:00+00:00",
          "2023-02-08T18:00:00+00:00",
          "2023-02-08T21:00:00+00:00",
          "2023-02-09T00:00:00+00:00",
          "2023-02-09T03:00:00+00:00",
          "2023-02-09T06:00:00+00:00",
          "2023-02-09T09:00:00+00:00",
          "2023-02-09T12:00:00+00:00",
          "2023-02-09T15:00:00+00:00",
          "2023-02-09T18:00:00+00:00",
          "2023-02-09T21:00:00+00:00",
          "2023-02-10T00:00:00+00:00",
          "2023-02-10T03:00:00+00:00",
          "2023-02-10T06:00:00+00:00",
          "2023-02-10T09:00:00+00:00",
          "2023-02-10T12:00:00+00:00",
          "2023-02-10T15:00:00+00:00",
          "2023-02-10T18:00:00+00:00",
          "2023-02-10T21:00:00+00:00",
          "2023-02-11T00:00:00+00:00",
          "2023-02-11T03:00:00+00:00",
          "2023-02-11T06:00:00+00:00",
          "2023-02-11T09:00:00+00:00",
          "2023-02-11T12:00:00+00:00",
          "2023-02-11T15:00:00+00:00",
          "2023-02-11T18:00:00+00:00",
          "2023-02-11T21:00:00+00:00",
          "2023-02-12T00:00:00+00:00",
          "2023-02-12T03:00:00+00:00",
          "2023-02-12T06:00:00+00:00",
          "2023-02-12T09:00:00+00:00",
          "2023-02-12T12:00:00+00:00",
          "2023-02-12T15:00:00+00:00",
          "2023-02-12T18:00:00+00:00",
          "2023-02-12T21:00:00+00:00",
          "2023-02-13T00:00:00+00:00",
          "2023-02-13T03:00:00+00:00",
          "2023-02-13T06:00:00+00:00",
          "2023-02-13T09:00:00+00:00",
          "2023-02-13T12:00:00+00:00",
          "2023-02-13T15:00:00+00:00",
          "2023-02-13T18:00:00+00:00",
          "2023-02-13T21:00:00+00:00",
          "2023-02-14T00:00:00+00:00",
          "2023-02-14T03:00:00+00:00",
          "2023-02-14T06:00:00+00:00",
          "2023-02-14T09:00:00+00:00",
          "2023-02-14T12:00:00+00:00",
          "2023-02-14T15:00:00+00:00",
          "2023-02-14T18:00:00+00:00",
          "2023-02-14T21:00:00+00:00",
          "2023-02-15T00:00:00+00:00",
          "2023-02-15T03:00:00+00:00",
          "2023-02-15T06:00:00+00:00",
          "2023-02-15T09:00:00+00:00",
          "2023-02-15T12:00:00+00:00"
         ],
         "xaxis": "x",
         "y": [
          28.578554364732643,
          27.51591410558284,
          24.015379682471792,
          25.174671671798446,
          28.800181228574207,
          28.89391257882276,
          28.839946165494435,
          15.834513350939904,
          17.752528918758586,
          12.367999367064009,
          4.554032630131216,
          7.724926475119844,
          18.130293812056824,
          23.93251363092239,
          18.130293812056824,
          28.092503683482196,
          29.001845405479397,
          28.743294435317598,
          28.800181228574207,
          28.743294435317598,
          27.876638030168923,
          21.346938416227495,
          12.529898607048967,
          10.18567161855525,
          18.184260225385145,
          18.130293812056824,
          16.104345417581502,
          16.050379004253184,
          21.616770482869093,
          21.67073689619742,
          23.878547217594072,
          26.9275313712515,
          25.95576625720296,
          25.95576625720296,
          24.867482988212718,
          23.662681564280792,
          21.45487124288414,
          19.877824811605482,
          23.77061439093743,
          21.562804069540775,
          18.076327398728505,
          23.77061439093743,
          21.562804069540775,
          25.02938222819768,
          23.77061439093743,
          26.11766549718792,
          21.616770482869093,
          12.691797847033929,
          18.130293812056824,
          19.9317912249338,
          18.076327398728505,
          19.661959158292202,
          10.18567161855525,
          12.583865020377289,
          17.968394572071865,
          19.877824811605482,
          21.616770482869093,
          21.616770482869093,
          23.824580804265747,
          25.083348641525998,
          26.22559832384457,
          29.055811818807722,
          28.96208046855917,
          29.109778232136033,
          26.98149778457982,
          29.001845405479397,
          29.001845405479397,
          28.94787899215107,
          28.79726084864591,
          28.132476519292748,
          28.854147641902518,
          27.930604443497234,
          25.95576625720296,
          15.888479764268222,
          10.293604445211894,
          21.562804069540775,
          28.092503683482196,
          28.530124550199066,
          28.79726084864591,
          28.94787899215107,
          28.476158136870755,
          28.476158136870755,
          23.608715150952467,
          15.888479764268222,
          26.009732670531285,
          24.97541581486936,
          23.71664797760911,
          23.71664797760911,
          23.71664797760911,
          23.77061439093743,
          23.77061439093743,
          23.77061439093743,
          21.562804069540775,
          23.77061439093743,
          18.022360985400184,
          18.076327398728505,
          18.076327398728505,
          18.076327398728505,
          15.996412590924859,
          12.691797847033929,
          12.74576426036225,
          12.74576426036225,
          10.347570858540212,
          7.670960061791524,
          4.9857639367577775,
          7.778892888448164,
          12.74576426036225,
          12.74576426036225,
          12.74576426036225,
          12.74576426036225,
          16.15831183090982,
          19.985757638262125,
          20.039724051590444,
          18.130293812056824,
          25.137315054854323,
          25.137315054854323,
          23.878547217594072,
          25.137315054854323,
          26.11766549718792
         ],
         "yaxis": "y"
        },
        {
         "hovertemplate": "variable=actual<br>index=%{x}<br>value=%{y}<extra></extra>",
         "legendgroup": "actual",
         "line": {
          "color": "#ab63fa",
          "dash": "solid"
         },
         "marker": {
          "symbol": "circle"
         },
         "mode": "lines",
         "name": "actual",
         "orientation": "v",
         "showlegend": true,
         "type": "scatter",
         "x": [
          "2023-01-31T18:00:00+00:00",
          "2023-01-31T21:00:00+00:00",
          "2023-02-01T00:00:00+00:00",
          "2023-02-01T03:00:00+00:00",
          "2023-02-01T06:00:00+00:00",
          "2023-02-01T09:00:00+00:00",
          "2023-02-01T12:00:00+00:00",
          "2023-02-01T15:00:00+00:00",
          "2023-02-01T18:00:00+00:00",
          "2023-02-01T21:00:00+00:00",
          "2023-02-02T00:00:00+00:00",
          "2023-02-02T03:00:00+00:00",
          "2023-02-02T06:00:00+00:00",
          "2023-02-02T09:00:00+00:00",
          "2023-02-02T12:00:00+00:00",
          "2023-02-02T15:00:00+00:00",
          "2023-02-02T18:00:00+00:00",
          "2023-02-02T21:00:00+00:00",
          "2023-02-03T00:00:00+00:00",
          "2023-02-03T03:00:00+00:00",
          "2023-02-03T06:00:00+00:00",
          "2023-02-03T09:00:00+00:00",
          "2023-02-03T12:00:00+00:00",
          "2023-02-03T15:00:00+00:00",
          "2023-02-03T18:00:00+00:00",
          "2023-02-03T21:00:00+00:00",
          "2023-02-04T00:00:00+00:00",
          "2023-02-04T03:00:00+00:00",
          "2023-02-04T06:00:00+00:00",
          "2023-02-04T09:00:00+00:00",
          "2023-02-04T12:00:00+00:00",
          "2023-02-04T15:00:00+00:00",
          "2023-02-04T18:00:00+00:00",
          "2023-02-04T21:00:00+00:00",
          "2023-02-05T00:00:00+00:00",
          "2023-02-05T03:00:00+00:00",
          "2023-02-05T06:00:00+00:00",
          "2023-02-05T09:00:00+00:00",
          "2023-02-05T12:00:00+00:00",
          "2023-02-05T15:00:00+00:00",
          "2023-02-05T18:00:00+00:00",
          "2023-02-05T21:00:00+00:00",
          "2023-02-06T00:00:00+00:00",
          "2023-02-06T03:00:00+00:00",
          "2023-02-06T06:00:00+00:00",
          "2023-02-06T09:00:00+00:00",
          "2023-02-06T12:00:00+00:00",
          "2023-02-06T15:00:00+00:00",
          "2023-02-06T18:00:00+00:00",
          "2023-02-06T21:00:00+00:00",
          "2023-02-07T00:00:00+00:00",
          "2023-02-07T03:00:00+00:00",
          "2023-02-07T06:00:00+00:00",
          "2023-02-07T09:00:00+00:00",
          "2023-02-07T12:00:00+00:00",
          "2023-02-07T15:00:00+00:00",
          "2023-02-07T18:00:00+00:00",
          "2023-02-07T21:00:00+00:00",
          "2023-02-08T00:00:00+00:00",
          "2023-02-08T03:00:00+00:00",
          "2023-02-08T06:00:00+00:00",
          "2023-02-08T09:00:00+00:00",
          "2023-02-08T12:00:00+00:00",
          "2023-02-08T15:00:00+00:00",
          "2023-02-08T18:00:00+00:00",
          "2023-02-08T21:00:00+00:00",
          "2023-02-09T00:00:00+00:00",
          "2023-02-09T03:00:00+00:00",
          "2023-02-09T06:00:00+00:00",
          "2023-02-09T09:00:00+00:00",
          "2023-02-09T12:00:00+00:00",
          "2023-02-09T15:00:00+00:00",
          "2023-02-09T18:00:00+00:00",
          "2023-02-09T21:00:00+00:00",
          "2023-02-10T00:00:00+00:00",
          "2023-02-10T03:00:00+00:00",
          "2023-02-10T06:00:00+00:00",
          "2023-02-10T09:00:00+00:00",
          "2023-02-10T12:00:00+00:00",
          "2023-02-10T15:00:00+00:00",
          "2023-02-10T18:00:00+00:00",
          "2023-02-10T21:00:00+00:00",
          "2023-02-11T00:00:00+00:00",
          "2023-02-11T03:00:00+00:00",
          "2023-02-11T06:00:00+00:00",
          "2023-02-11T09:00:00+00:00",
          "2023-02-11T12:00:00+00:00",
          "2023-02-11T15:00:00+00:00",
          "2023-02-11T18:00:00+00:00",
          "2023-02-11T21:00:00+00:00",
          "2023-02-12T00:00:00+00:00",
          "2023-02-12T03:00:00+00:00",
          "2023-02-12T06:00:00+00:00",
          "2023-02-12T09:00:00+00:00",
          "2023-02-12T12:00:00+00:00",
          "2023-02-12T15:00:00+00:00",
          "2023-02-12T18:00:00+00:00",
          "2023-02-12T21:00:00+00:00",
          "2023-02-13T00:00:00+00:00",
          "2023-02-13T03:00:00+00:00",
          "2023-02-13T06:00:00+00:00",
          "2023-02-13T09:00:00+00:00",
          "2023-02-13T12:00:00+00:00",
          "2023-02-13T15:00:00+00:00",
          "2023-02-13T18:00:00+00:00",
          "2023-02-13T21:00:00+00:00",
          "2023-02-14T00:00:00+00:00",
          "2023-02-14T03:00:00+00:00",
          "2023-02-14T06:00:00+00:00",
          "2023-02-14T09:00:00+00:00",
          "2023-02-14T12:00:00+00:00",
          "2023-02-14T15:00:00+00:00",
          "2023-02-14T18:00:00+00:00",
          "2023-02-14T21:00:00+00:00",
          "2023-02-15T00:00:00+00:00",
          "2023-02-15T03:00:00+00:00",
          "2023-02-15T06:00:00+00:00",
          "2023-02-15T09:00:00+00:00",
          "2023-02-15T12:00:00+00:00"
         ],
         "xaxis": "x",
         "y": [
          18.61744627777778,
          14.899594555555556,
          7.563296288888889,
          11.086491711111112,
          15.854654683333333,
          17.936147666666667,
          16.627725644444446,
          17.442903683333334,
          9.886359044444443,
          5.637801261111111,
          3.519408488888889,
          5.1805222055555555,
          13.598072011111112,
          18.137822633333332,
          24.019108194444446,
          20.374960416666667,
          20.583601299999998,
          19.550043294444446,
          20.58928577777778,
          20.5539938,
          19.462744222222224,
          8.438790749999999,
          5.117560683333333,
          7.175900733333333,
          13.335912122222224,
          12.428144372222222,
          14.26605216111111,
          15.323311183333333,
          19.527286855555555,
          22.110780733333335,
          22.920981355555554,
          22.969424044444445,
          22.127652455555555,
          22.833596983333333,
          20.463497288888888,
          20.181322278106506,
          16.23831263888889,
          14.130279316666666,
          16.14034148888889,
          15.397817633333334,
          12.71253845,
          14.878947238888887,
          18.14969065,
          19.892658089385474,
          18.313774333333335,
          14.886743572222223,
          17.003988338888888,
          12.386081988888888,
          17.724636166666667,
          20.250914466666668,
          17.185825,
          4.288279443181818,
          8.359711122222222,
          9.81715773888889,
          14.788021305555556,
          13.725143327777777,
          17.263915664804472,
          24.059502583333334,
          26.529902566666664,
          28.046243327777777,
          27.95294186111111,
          25.294328127777778,
          26.570690105555553,
          27.150278066666665,
          29.662411877777778,
          27.70595697777778,
          27.06053972777778,
          25.723871772222225,
          24.324496961111112,
          20.934500766666666,
          23.38472887777778,
          24.5264364,
          16.012338627777776,
          6.569076027777777,
          10.21042271111111,
          22.006454027777778,
          22.882521761111114,
          21.763950816666668,
          22.583871894444442,
          24.202242350000002,
          24.620721455555557,
          25.817110216666666,
          24.338831288888887,
          23.84758072777778,
          22.721779666666666,
          20.78363173743017,
          21.2303062,
          21.150809527777778,
          20.222826927777778,
          19.919787394444445,
          17.970539083333335,
          20.48256333888889,
          19.96684137777778,
          17.14757756111111,
          14.925714772222221,
          13.294780305555555,
          13.155400922222222,
          10.420132016666667,
          7.577910844444444,
          5.226257280898876,
          3.4811564388888887,
          6.269006399999999,
          6.9808924413407825,
          3.7917375944444447,
          2.979314344444444,
          4.458607455555556,
          7.398425527777778,
          10.222019,
          10.594415811111112,
          12.467054894444443,
          14.038110822222224,
          16.797926366666665,
          19.97411828888889,
          20.731533605555555,
          21.172519094444446,
          22.722648111111113,
          24.276797638888887,
          23.97736727777778,
          20.657138204819276
         ],
         "yaxis": "y"
        }
       ],
       "layout": {
        "legend": {
         "title": {
          "text": "variable"
         },
         "tracegroupgap": 0
        },
        "template": {
         "data": {
          "bar": [
           {
            "error_x": {
             "color": "#2a3f5f"
            },
            "error_y": {
             "color": "#2a3f5f"
            },
            "marker": {
             "line": {
              "color": "#E5ECF6",
              "width": 0.5
             },
             "pattern": {
              "fillmode": "overlay",
              "size": 10,
              "solidity": 0.2
             }
            },
            "type": "bar"
           }
          ],
          "barpolar": [
           {
            "marker": {
             "line": {
              "color": "#E5ECF6",
              "width": 0.5
             },
             "pattern": {
              "fillmode": "overlay",
              "size": 10,
              "solidity": 0.2
             }
            },
            "type": "barpolar"
           }
          ],
          "carpet": [
           {
            "aaxis": {
             "endlinecolor": "#2a3f5f",
             "gridcolor": "white",
             "linecolor": "white",
             "minorgridcolor": "white",
             "startlinecolor": "#2a3f5f"
            },
            "baxis": {
             "endlinecolor": "#2a3f5f",
             "gridcolor": "white",
             "linecolor": "white",
             "minorgridcolor": "white",
             "startlinecolor": "#2a3f5f"
            },
            "type": "carpet"
           }
          ],
          "choropleth": [
           {
            "colorbar": {
             "outlinewidth": 0,
             "ticks": ""
            },
            "type": "choropleth"
           }
          ],
          "contour": [
           {
            "colorbar": {
             "outlinewidth": 0,
             "ticks": ""
            },
            "colorscale": [
             [
              0,
              "#0d0887"
             ],
             [
              0.1111111111111111,
              "#46039f"
             ],
             [
              0.2222222222222222,
              "#7201a8"
             ],
             [
              0.3333333333333333,
              "#9c179e"
             ],
             [
              0.4444444444444444,
              "#bd3786"
             ],
             [
              0.5555555555555556,
              "#d8576b"
             ],
             [
              0.6666666666666666,
              "#ed7953"
             ],
             [
              0.7777777777777778,
              "#fb9f3a"
             ],
             [
              0.8888888888888888,
              "#fdca26"
             ],
             [
              1,
              "#f0f921"
             ]
            ],
            "type": "contour"
           }
          ],
          "contourcarpet": [
           {
            "colorbar": {
             "outlinewidth": 0,
             "ticks": ""
            },
            "type": "contourcarpet"
           }
          ],
          "heatmap": [
           {
            "colorbar": {
             "outlinewidth": 0,
             "ticks": ""
            },
            "colorscale": [
             [
              0,
              "#0d0887"
             ],
             [
              0.1111111111111111,
              "#46039f"
             ],
             [
              0.2222222222222222,
              "#7201a8"
             ],
             [
              0.3333333333333333,
              "#9c179e"
             ],
             [
              0.4444444444444444,
              "#bd3786"
             ],
             [
              0.5555555555555556,
              "#d8576b"
             ],
             [
              0.6666666666666666,
              "#ed7953"
             ],
             [
              0.7777777777777778,
              "#fb9f3a"
             ],
             [
              0.8888888888888888,
              "#fdca26"
             ],
             [
              1,
              "#f0f921"
             ]
            ],
            "type": "heatmap"
           }
          ],
          "heatmapgl": [
           {
            "colorbar": {
             "outlinewidth": 0,
             "ticks": ""
            },
            "colorscale": [
             [
              0,
              "#0d0887"
             ],
             [
              0.1111111111111111,
              "#46039f"
             ],
             [
              0.2222222222222222,
              "#7201a8"
             ],
             [
              0.3333333333333333,
              "#9c179e"
             ],
             [
              0.4444444444444444,
              "#bd3786"
             ],
             [
              0.5555555555555556,
              "#d8576b"
             ],
             [
              0.6666666666666666,
              "#ed7953"
             ],
             [
              0.7777777777777778,
              "#fb9f3a"
             ],
             [
              0.8888888888888888,
              "#fdca26"
             ],
             [
              1,
              "#f0f921"
             ]
            ],
            "type": "heatmapgl"
           }
          ],
          "histogram": [
           {
            "marker": {
             "pattern": {
              "fillmode": "overlay",
              "size": 10,
              "solidity": 0.2
             }
            },
            "type": "histogram"
           }
          ],
          "histogram2d": [
           {
            "colorbar": {
             "outlinewidth": 0,
             "ticks": ""
            },
            "colorscale": [
             [
              0,
              "#0d0887"
             ],
             [
              0.1111111111111111,
              "#46039f"
             ],
             [
              0.2222222222222222,
              "#7201a8"
             ],
             [
              0.3333333333333333,
              "#9c179e"
             ],
             [
              0.4444444444444444,
              "#bd3786"
             ],
             [
              0.5555555555555556,
              "#d8576b"
             ],
             [
              0.6666666666666666,
              "#ed7953"
             ],
             [
              0.7777777777777778,
              "#fb9f3a"
             ],
             [
              0.8888888888888888,
              "#fdca26"
             ],
             [
              1,
              "#f0f921"
             ]
            ],
            "type": "histogram2d"
           }
          ],
          "histogram2dcontour": [
           {
            "colorbar": {
             "outlinewidth": 0,
             "ticks": ""
            },
            "colorscale": [
             [
              0,
              "#0d0887"
             ],
             [
              0.1111111111111111,
              "#46039f"
             ],
             [
              0.2222222222222222,
              "#7201a8"
             ],
             [
              0.3333333333333333,
              "#9c179e"
             ],
             [
              0.4444444444444444,
              "#bd3786"
             ],
             [
              0.5555555555555556,
              "#d8576b"
             ],
             [
              0.6666666666666666,
              "#ed7953"
             ],
             [
              0.7777777777777778,
              "#fb9f3a"
             ],
             [
              0.8888888888888888,
              "#fdca26"
             ],
             [
              1,
              "#f0f921"
             ]
            ],
            "type": "histogram2dcontour"
           }
          ],
          "mesh3d": [
           {
            "colorbar": {
             "outlinewidth": 0,
             "ticks": ""
            },
            "type": "mesh3d"
           }
          ],
          "parcoords": [
           {
            "line": {
             "colorbar": {
              "outlinewidth": 0,
              "ticks": ""
             }
            },
            "type": "parcoords"
           }
          ],
          "pie": [
           {
            "automargin": true,
            "type": "pie"
           }
          ],
          "scatter": [
           {
            "fillpattern": {
             "fillmode": "overlay",
             "size": 10,
             "solidity": 0.2
            },
            "type": "scatter"
           }
          ],
          "scatter3d": [
           {
            "line": {
             "colorbar": {
              "outlinewidth": 0,
              "ticks": ""
             }
            },
            "marker": {
             "colorbar": {
              "outlinewidth": 0,
              "ticks": ""
             }
            },
            "type": "scatter3d"
           }
          ],
          "scattercarpet": [
           {
            "marker": {
             "colorbar": {
              "outlinewidth": 0,
              "ticks": ""
             }
            },
            "type": "scattercarpet"
           }
          ],
          "scattergeo": [
           {
            "marker": {
             "colorbar": {
              "outlinewidth": 0,
              "ticks": ""
             }
            },
            "type": "scattergeo"
           }
          ],
          "scattergl": [
           {
            "marker": {
             "colorbar": {
              "outlinewidth": 0,
              "ticks": ""
             }
            },
            "type": "scattergl"
           }
          ],
          "scattermapbox": [
           {
            "marker": {
             "colorbar": {
              "outlinewidth": 0,
              "ticks": ""
             }
            },
            "type": "scattermapbox"
           }
          ],
          "scatterpolar": [
           {
            "marker": {
             "colorbar": {
              "outlinewidth": 0,
              "ticks": ""
             }
            },
            "type": "scatterpolar"
           }
          ],
          "scatterpolargl": [
           {
            "marker": {
             "colorbar": {
              "outlinewidth": 0,
              "ticks": ""
             }
            },
            "type": "scatterpolargl"
           }
          ],
          "scatterternary": [
           {
            "marker": {
             "colorbar": {
              "outlinewidth": 0,
              "ticks": ""
             }
            },
            "type": "scatterternary"
           }
          ],
          "surface": [
           {
            "colorbar": {
             "outlinewidth": 0,
             "ticks": ""
            },
            "colorscale": [
             [
              0,
              "#0d0887"
             ],
             [
              0.1111111111111111,
              "#46039f"
             ],
             [
              0.2222222222222222,
              "#7201a8"
             ],
             [
              0.3333333333333333,
              "#9c179e"
             ],
             [
              0.4444444444444444,
              "#bd3786"
             ],
             [
              0.5555555555555556,
              "#d8576b"
             ],
             [
              0.6666666666666666,
              "#ed7953"
             ],
             [
              0.7777777777777778,
              "#fb9f3a"
             ],
             [
              0.8888888888888888,
              "#fdca26"
             ],
             [
              1,
              "#f0f921"
             ]
            ],
            "type": "surface"
           }
          ],
          "table": [
           {
            "cells": {
             "fill": {
              "color": "#EBF0F8"
             },
             "line": {
              "color": "white"
             }
            },
            "header": {
             "fill": {
              "color": "#C8D4E3"
             },
             "line": {
              "color": "white"
             }
            },
            "type": "table"
           }
          ]
         },
         "layout": {
          "annotationdefaults": {
           "arrowcolor": "#2a3f5f",
           "arrowhead": 0,
           "arrowwidth": 1
          },
          "autotypenumbers": "strict",
          "coloraxis": {
           "colorbar": {
            "outlinewidth": 0,
            "ticks": ""
           }
          },
          "colorscale": {
           "diverging": [
            [
             0,
             "#8e0152"
            ],
            [
             0.1,
             "#c51b7d"
            ],
            [
             0.2,
             "#de77ae"
            ],
            [
             0.3,
             "#f1b6da"
            ],
            [
             0.4,
             "#fde0ef"
            ],
            [
             0.5,
             "#f7f7f7"
            ],
            [
             0.6,
             "#e6f5d0"
            ],
            [
             0.7,
             "#b8e186"
            ],
            [
             0.8,
             "#7fbc41"
            ],
            [
             0.9,
             "#4d9221"
            ],
            [
             1,
             "#276419"
            ]
           ],
           "sequential": [
            [
             0,
             "#0d0887"
            ],
            [
             0.1111111111111111,
             "#46039f"
            ],
            [
             0.2222222222222222,
             "#7201a8"
            ],
            [
             0.3333333333333333,
             "#9c179e"
            ],
            [
             0.4444444444444444,
             "#bd3786"
            ],
            [
             0.5555555555555556,
             "#d8576b"
            ],
            [
             0.6666666666666666,
             "#ed7953"
            ],
            [
             0.7777777777777778,
             "#fb9f3a"
            ],
            [
             0.8888888888888888,
             "#fdca26"
            ],
            [
             1,
             "#f0f921"
            ]
           ],
           "sequentialminus": [
            [
             0,
             "#0d0887"
            ],
            [
             0.1111111111111111,
             "#46039f"
            ],
            [
             0.2222222222222222,
             "#7201a8"
            ],
            [
             0.3333333333333333,
             "#9c179e"
            ],
            [
             0.4444444444444444,
             "#bd3786"
            ],
            [
             0.5555555555555556,
             "#d8576b"
            ],
            [
             0.6666666666666666,
             "#ed7953"
            ],
            [
             0.7777777777777778,
             "#fb9f3a"
            ],
            [
             0.8888888888888888,
             "#fdca26"
            ],
            [
             1,
             "#f0f921"
            ]
           ]
          },
          "colorway": [
           "#636efa",
           "#EF553B",
           "#00cc96",
           "#ab63fa",
           "#FFA15A",
           "#19d3f3",
           "#FF6692",
           "#B6E880",
           "#FF97FF",
           "#FECB52"
          ],
          "font": {
           "color": "#2a3f5f"
          },
          "geo": {
           "bgcolor": "white",
           "lakecolor": "white",
           "landcolor": "#E5ECF6",
           "showlakes": true,
           "showland": true,
           "subunitcolor": "white"
          },
          "hoverlabel": {
           "align": "left"
          },
          "hovermode": "closest",
          "mapbox": {
           "style": "light"
          },
          "paper_bgcolor": "white",
          "plot_bgcolor": "#E5ECF6",
          "polar": {
           "angularaxis": {
            "gridcolor": "white",
            "linecolor": "white",
            "ticks": ""
           },
           "bgcolor": "#E5ECF6",
           "radialaxis": {
            "gridcolor": "white",
            "linecolor": "white",
            "ticks": ""
           }
          },
          "scene": {
           "xaxis": {
            "backgroundcolor": "#E5ECF6",
            "gridcolor": "white",
            "gridwidth": 2,
            "linecolor": "white",
            "showbackground": true,
            "ticks": "",
            "zerolinecolor": "white"
           },
           "yaxis": {
            "backgroundcolor": "#E5ECF6",
            "gridcolor": "white",
            "gridwidth": 2,
            "linecolor": "white",
            "showbackground": true,
            "ticks": "",
            "zerolinecolor": "white"
           },
           "zaxis": {
            "backgroundcolor": "#E5ECF6",
            "gridcolor": "white",
            "gridwidth": 2,
            "linecolor": "white",
            "showbackground": true,
            "ticks": "",
            "zerolinecolor": "white"
           }
          },
          "shapedefaults": {
           "line": {
            "color": "#2a3f5f"
           }
          },
          "ternary": {
           "aaxis": {
            "gridcolor": "white",
            "linecolor": "white",
            "ticks": ""
           },
           "baxis": {
            "gridcolor": "white",
            "linecolor": "white",
            "ticks": ""
           },
           "bgcolor": "#E5ECF6",
           "caxis": {
            "gridcolor": "white",
            "linecolor": "white",
            "ticks": ""
           }
          },
          "title": {
           "x": 0.05
          },
          "xaxis": {
           "automargin": true,
           "gridcolor": "white",
           "linecolor": "white",
           "ticks": "",
           "title": {
            "standoff": 15
           },
           "zerolinecolor": "white",
           "zerolinewidth": 2
          },
          "yaxis": {
           "automargin": true,
           "gridcolor": "white",
           "linecolor": "white",
           "ticks": "",
           "title": {
            "standoff": 15
           },
           "zerolinecolor": "white",
           "zerolinewidth": 2
          }
         }
        },
        "title": {
         "text": "Predicted vs Actual Wind Generation"
        },
        "xaxis": {
         "anchor": "y",
         "domain": [
          0,
          1
         ],
         "title": {
          "text": "index"
         }
        },
        "yaxis": {
         "anchor": "x",
         "domain": [
          0,
          1
         ],
         "title": {
          "text": "value"
         }
        }
       }
      }
     },
     "metadata": {},
     "output_type": "display_data"
    }
   ],
   "source": [
    "px.line(plot_df, title=\"Predicted vs Actual Wind Generation\")"
   ]
  },
  {
   "cell_type": "code",
   "execution_count": null,
   "metadata": {},
   "outputs": [],
   "source": []
  }
 ],
 "metadata": {
  "kernelspec": {
   "display_name": "Python 3",
   "language": "python",
   "name": "python3"
  },
  "language_info": {
   "codemirror_mode": {
    "name": "ipython",
    "version": 3
   },
   "file_extension": ".py",
   "mimetype": "text/x-python",
   "name": "python",
   "nbconvert_exporter": "python",
   "pygments_lexer": "ipython3",
   "version": "3.11.1"
  },
  "orig_nbformat": 4,
  "vscode": {
   "interpreter": {
    "hash": "5238573367df39f7286bb46f9ff5f08f63a01a80960060ce41e3c79b190280fa"
   }
  }
 },
 "nbformat": 4,
 "nbformat_minor": 2
}
