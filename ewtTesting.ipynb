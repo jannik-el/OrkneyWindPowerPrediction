{
 "cells": [
  {
   "cell_type": "code",
   "execution_count": 15,
   "metadata": {},
   "outputs": [],
   "source": [
    "from influxdb import InfluxDBClient\n",
    "import pandas as pd\n",
    "import numpy as np\n",
    "from skimpy import skim\n",
    "import datetime as dt\n",
    "import matplotlib.pyplot as plt\n",
    "import seaborn as sns\n",
    "import plotly.express as px\n",
    "from sklearn.pipeline import Pipeline\n",
    "from sklearn.compose import ColumnTransformer\n",
    "from sklearn.preprocessing import FunctionTransformer\n",
    "from sklearn.preprocessing import StandardScaler\n",
    "from sklearn.model_selection import TimeSeriesSplit\n",
    "from sklearn.linear_model import LinearRegression\n",
    "from sklearn.metrics import accuracy_score\n",
    "from sklearn.linear_model import LogisticRegression\n",
    "from sklearn.base import BaseEstimator, TransformerMixin\n",
    "from sklearn.preprocessing import PolynomialFeatures\n",
    "import ewtpy"
   ]
  },
  {
   "cell_type": "code",
   "execution_count": 16,
   "metadata": {},
   "outputs": [],
   "source": [
    "import sys\n",
    "sys.path.append('..')\n",
    "import fx"
   ]
  },
  {
   "cell_type": "code",
   "execution_count": 17,
   "metadata": {},
   "outputs": [],
   "source": [
    "data = fx.pull_data()"
   ]
  },
  {
   "cell_type": "code",
   "execution_count": 18,
   "metadata": {},
   "outputs": [],
   "source": [
    "X_train, y_train, X_test, y_test = fx.data_splitting(data)"
   ]
  },
  {
   "cell_type": "code",
   "execution_count": 24,
   "metadata": {},
   "outputs": [],
   "source": [
    "testing = Pipeline(steps=[\n",
    "    (\"col_transformer\", ColumnTransformer(transformers=[\n",
    "        (\"Speed\", fx.EmpiricalWaveletTransform(level=5, log=True), [\"Speed\"]),\n",
    "        (\"Direction\", fx.CompassToCartesianTransformer(), [\"Direction\"]),\n",
    "        ], remainder=\"drop\")),\n",
    "    (\"LinRegModel\", LinearRegression())\n",
    "])"
   ]
  },
  {
   "cell_type": "code",
   "execution_count": 25,
   "metadata": {},
   "outputs": [
    {
     "data": {
      "text/html": [
       "<style>#sk-container-id-4 {color: black;background-color: white;}#sk-container-id-4 pre{padding: 0;}#sk-container-id-4 div.sk-toggleable {background-color: white;}#sk-container-id-4 label.sk-toggleable__label {cursor: pointer;display: block;width: 100%;margin-bottom: 0;padding: 0.3em;box-sizing: border-box;text-align: center;}#sk-container-id-4 label.sk-toggleable__label-arrow:before {content: \"▸\";float: left;margin-right: 0.25em;color: #696969;}#sk-container-id-4 label.sk-toggleable__label-arrow:hover:before {color: black;}#sk-container-id-4 div.sk-estimator:hover label.sk-toggleable__label-arrow:before {color: black;}#sk-container-id-4 div.sk-toggleable__content {max-height: 0;max-width: 0;overflow: hidden;text-align: left;background-color: #f0f8ff;}#sk-container-id-4 div.sk-toggleable__content pre {margin: 0.2em;color: black;border-radius: 0.25em;background-color: #f0f8ff;}#sk-container-id-4 input.sk-toggleable__control:checked~div.sk-toggleable__content {max-height: 200px;max-width: 100%;overflow: auto;}#sk-container-id-4 input.sk-toggleable__control:checked~label.sk-toggleable__label-arrow:before {content: \"▾\";}#sk-container-id-4 div.sk-estimator input.sk-toggleable__control:checked~label.sk-toggleable__label {background-color: #d4ebff;}#sk-container-id-4 div.sk-label input.sk-toggleable__control:checked~label.sk-toggleable__label {background-color: #d4ebff;}#sk-container-id-4 input.sk-hidden--visually {border: 0;clip: rect(1px 1px 1px 1px);clip: rect(1px, 1px, 1px, 1px);height: 1px;margin: -1px;overflow: hidden;padding: 0;position: absolute;width: 1px;}#sk-container-id-4 div.sk-estimator {font-family: monospace;background-color: #f0f8ff;border: 1px dotted black;border-radius: 0.25em;box-sizing: border-box;margin-bottom: 0.5em;}#sk-container-id-4 div.sk-estimator:hover {background-color: #d4ebff;}#sk-container-id-4 div.sk-parallel-item::after {content: \"\";width: 100%;border-bottom: 1px solid gray;flex-grow: 1;}#sk-container-id-4 div.sk-label:hover label.sk-toggleable__label {background-color: #d4ebff;}#sk-container-id-4 div.sk-serial::before {content: \"\";position: absolute;border-left: 1px solid gray;box-sizing: border-box;top: 0;bottom: 0;left: 50%;z-index: 0;}#sk-container-id-4 div.sk-serial {display: flex;flex-direction: column;align-items: center;background-color: white;padding-right: 0.2em;padding-left: 0.2em;position: relative;}#sk-container-id-4 div.sk-item {position: relative;z-index: 1;}#sk-container-id-4 div.sk-parallel {display: flex;align-items: stretch;justify-content: center;background-color: white;position: relative;}#sk-container-id-4 div.sk-item::before, #sk-container-id-4 div.sk-parallel-item::before {content: \"\";position: absolute;border-left: 1px solid gray;box-sizing: border-box;top: 0;bottom: 0;left: 50%;z-index: -1;}#sk-container-id-4 div.sk-parallel-item {display: flex;flex-direction: column;z-index: 1;position: relative;background-color: white;}#sk-container-id-4 div.sk-parallel-item:first-child::after {align-self: flex-end;width: 50%;}#sk-container-id-4 div.sk-parallel-item:last-child::after {align-self: flex-start;width: 50%;}#sk-container-id-4 div.sk-parallel-item:only-child::after {width: 0;}#sk-container-id-4 div.sk-dashed-wrapped {border: 1px dashed gray;margin: 0 0.4em 0.5em 0.4em;box-sizing: border-box;padding-bottom: 0.4em;background-color: white;}#sk-container-id-4 div.sk-label label {font-family: monospace;font-weight: bold;display: inline-block;line-height: 1.2em;}#sk-container-id-4 div.sk-label-container {text-align: center;}#sk-container-id-4 div.sk-container {/* jupyter's `normalize.less` sets `[hidden] { display: none; }` but bootstrap.min.css set `[hidden] { display: none !important; }` so we also need the `!important` here to be able to override the default hidden behavior on the sphinx rendered scikit-learn.org. See: https://github.com/scikit-learn/scikit-learn/issues/21755 */display: inline-block !important;position: relative;}#sk-container-id-4 div.sk-text-repr-fallback {display: none;}</style><div id=\"sk-container-id-4\" class=\"sk-top-container\"><div class=\"sk-text-repr-fallback\"><pre>Pipeline(steps=[(&#x27;col_transformer&#x27;,\n",
       "                 ColumnTransformer(transformers=[(&#x27;Speed&#x27;,\n",
       "                                                  EmpiricalWaveletTransform(),\n",
       "                                                  [&#x27;Speed&#x27;]),\n",
       "                                                 (&#x27;Direction&#x27;,\n",
       "                                                  CompassToCartesianTransformer(),\n",
       "                                                  [&#x27;Direction&#x27;])])),\n",
       "                (&#x27;LinRegModel&#x27;, LinearRegression())])</pre><b>In a Jupyter environment, please rerun this cell to show the HTML representation or trust the notebook. <br />On GitHub, the HTML representation is unable to render, please try loading this page with nbviewer.org.</b></div><div class=\"sk-container\" hidden><div class=\"sk-item sk-dashed-wrapped\"><div class=\"sk-label-container\"><div class=\"sk-label sk-toggleable\"><input class=\"sk-toggleable__control sk-hidden--visually\" id=\"sk-estimator-id-22\" type=\"checkbox\" ><label for=\"sk-estimator-id-22\" class=\"sk-toggleable__label sk-toggleable__label-arrow\">Pipeline</label><div class=\"sk-toggleable__content\"><pre>Pipeline(steps=[(&#x27;col_transformer&#x27;,\n",
       "                 ColumnTransformer(transformers=[(&#x27;Speed&#x27;,\n",
       "                                                  EmpiricalWaveletTransform(),\n",
       "                                                  [&#x27;Speed&#x27;]),\n",
       "                                                 (&#x27;Direction&#x27;,\n",
       "                                                  CompassToCartesianTransformer(),\n",
       "                                                  [&#x27;Direction&#x27;])])),\n",
       "                (&#x27;LinRegModel&#x27;, LinearRegression())])</pre></div></div></div><div class=\"sk-serial\"><div class=\"sk-item sk-dashed-wrapped\"><div class=\"sk-label-container\"><div class=\"sk-label sk-toggleable\"><input class=\"sk-toggleable__control sk-hidden--visually\" id=\"sk-estimator-id-23\" type=\"checkbox\" ><label for=\"sk-estimator-id-23\" class=\"sk-toggleable__label sk-toggleable__label-arrow\">col_transformer: ColumnTransformer</label><div class=\"sk-toggleable__content\"><pre>ColumnTransformer(transformers=[(&#x27;Speed&#x27;, EmpiricalWaveletTransform(),\n",
       "                                 [&#x27;Speed&#x27;]),\n",
       "                                (&#x27;Direction&#x27;, CompassToCartesianTransformer(),\n",
       "                                 [&#x27;Direction&#x27;])])</pre></div></div></div><div class=\"sk-parallel\"><div class=\"sk-parallel-item\"><div class=\"sk-item\"><div class=\"sk-label-container\"><div class=\"sk-label sk-toggleable\"><input class=\"sk-toggleable__control sk-hidden--visually\" id=\"sk-estimator-id-24\" type=\"checkbox\" ><label for=\"sk-estimator-id-24\" class=\"sk-toggleable__label sk-toggleable__label-arrow\">Speed</label><div class=\"sk-toggleable__content\"><pre>[&#x27;Speed&#x27;]</pre></div></div></div><div class=\"sk-serial\"><div class=\"sk-item\"><div class=\"sk-estimator sk-toggleable\"><input class=\"sk-toggleable__control sk-hidden--visually\" id=\"sk-estimator-id-25\" type=\"checkbox\" ><label for=\"sk-estimator-id-25\" class=\"sk-toggleable__label sk-toggleable__label-arrow\">EmpiricalWaveletTransform</label><div class=\"sk-toggleable__content\"><pre>EmpiricalWaveletTransform()</pre></div></div></div></div></div></div><div class=\"sk-parallel-item\"><div class=\"sk-item\"><div class=\"sk-label-container\"><div class=\"sk-label sk-toggleable\"><input class=\"sk-toggleable__control sk-hidden--visually\" id=\"sk-estimator-id-26\" type=\"checkbox\" ><label for=\"sk-estimator-id-26\" class=\"sk-toggleable__label sk-toggleable__label-arrow\">Direction</label><div class=\"sk-toggleable__content\"><pre>[&#x27;Direction&#x27;]</pre></div></div></div><div class=\"sk-serial\"><div class=\"sk-item\"><div class=\"sk-estimator sk-toggleable\"><input class=\"sk-toggleable__control sk-hidden--visually\" id=\"sk-estimator-id-27\" type=\"checkbox\" ><label for=\"sk-estimator-id-27\" class=\"sk-toggleable__label sk-toggleable__label-arrow\">CompassToCartesianTransformer</label><div class=\"sk-toggleable__content\"><pre>CompassToCartesianTransformer()</pre></div></div></div></div></div></div></div></div><div class=\"sk-item\"><div class=\"sk-estimator sk-toggleable\"><input class=\"sk-toggleable__control sk-hidden--visually\" id=\"sk-estimator-id-28\" type=\"checkbox\" ><label for=\"sk-estimator-id-28\" class=\"sk-toggleable__label sk-toggleable__label-arrow\">LinearRegression</label><div class=\"sk-toggleable__content\"><pre>LinearRegression()</pre></div></div></div></div></div></div></div>"
      ],
      "text/plain": [
       "Pipeline(steps=[('col_transformer',\n",
       "                 ColumnTransformer(transformers=[('Speed',\n",
       "                                                  EmpiricalWaveletTransform(),\n",
       "                                                  ['Speed']),\n",
       "                                                 ('Direction',\n",
       "                                                  CompassToCartesianTransformer(),\n",
       "                                                  ['Direction'])])),\n",
       "                ('LinRegModel', LinearRegression())])"
      ]
     },
     "execution_count": 25,
     "metadata": {},
     "output_type": "execute_result"
    }
   ],
   "source": [
    "testing.fit(X_train, y_train)"
   ]
  },
  {
   "cell_type": "code",
   "execution_count": 26,
   "metadata": {},
   "outputs": [
    {
     "data": {
      "text/plain": [
       "array([25.46460658, 21.90625695, 13.71571022,  8.55755131,  7.47229838,\n",
       "       14.81275044, 18.02949639, 21.06357684, 24.16540936, 26.31226069,\n",
       "       29.06896185, 29.92750218, 31.03326301, 28.64053014, 22.29544161,\n",
       "       16.18707065, 13.99051868, 14.80834141, 16.49041949, 17.90960767,\n",
       "       18.7343383 , 18.74877348, 19.61432553, 22.03195302, 24.92040107,\n",
       "       23.7758615 , 23.51030889, 22.72734956, 20.98260952, 20.64163374,\n",
       "       19.73525417, 21.70874577, 21.13244727, 20.4430077 , 21.07657922,\n",
       "       21.14572801, 22.97877001, 24.70749085, 25.18134641, 24.09727686,\n",
       "       23.08996732, 21.69493297, 21.67823748, 21.41111842, 21.09316328,\n",
       "       14.3800937 , 17.66186033, 15.7707028 , 16.24069681, 18.65132482,\n",
       "       20.66870747, 21.3938447 , 22.13585976, 23.74091576, 26.85037102,\n",
       "       28.67302976, 30.59090411, 31.30608696, 27.57318138, 25.74295205,\n",
       "       25.42751453, 25.75371652, 28.14399596, 29.17421708, 27.17315627,\n",
       "       20.86015642, 14.5837715 , 11.13692256, 13.90127421, 15.99211326,\n",
       "       21.89289871, 26.50152991, 28.41617243, 28.16528497, 25.25425139,\n",
       "       21.52859841, 17.49362086, 17.72533804, 18.18007273, 20.5255579 ,\n",
       "       21.36529933, 21.74841422, 21.90421621, 23.31870499, 23.75618391,\n",
       "       24.12864525, 24.10566073, 23.56184326, 22.6833475 , 22.65315342,\n",
       "       22.06795603, 21.75693565, 20.65749761, 20.98272999, 20.48851358,\n",
       "       19.35819237, 18.15295693, 17.60513662, 16.7837725 , 17.25172883,\n",
       "       18.73484131, 19.42680642, 19.91766614, 20.28902576, 20.63139506,\n",
       "       21.49379963, 22.347102  , 23.54115076, 24.5107048 , 25.28106667,\n",
       "       25.80808529, 26.03155473, 24.64414245, 24.84265394, 21.84468377,\n",
       "       20.67648316, 19.62954617, 18.92512275, 20.66706639])"
      ]
     },
     "execution_count": 26,
     "metadata": {},
     "output_type": "execute_result"
    }
   ],
   "source": [
    "testing.predict(X_test)"
   ]
  },
  {
   "cell_type": "code",
   "execution_count": 27,
   "metadata": {},
   "outputs": [
    {
     "data": {
      "text/plain": [
       "6.367403118603512"
      ]
     },
     "execution_count": 27,
     "metadata": {},
     "output_type": "execute_result"
    }
   ],
   "source": [
    "fx.RMSE(testing.predict(X_test), y_test)"
   ]
  },
  {
   "cell_type": "code",
   "execution_count": 28,
   "metadata": {},
   "outputs": [
    {
     "data": {
      "text/plain": [
       "40.54382247480173"
      ]
     },
     "execution_count": 28,
     "metadata": {},
     "output_type": "execute_result"
    }
   ],
   "source": [
    "fx.MSE(testing.predict(X_test), y_test)"
   ]
  },
  {
   "cell_type": "code",
   "execution_count": 33,
   "metadata": {},
   "outputs": [
    {
     "data": {
      "text/html": [
       "<div>\n",
       "<style scoped>\n",
       "    .dataframe tbody tr th:only-of-type {\n",
       "        vertical-align: middle;\n",
       "    }\n",
       "\n",
       "    .dataframe tbody tr th {\n",
       "        vertical-align: top;\n",
       "    }\n",
       "\n",
       "    .dataframe thead th {\n",
       "        text-align: right;\n",
       "    }\n",
       "</style>\n",
       "<table border=\"1\" class=\"dataframe\">\n",
       "  <thead>\n",
       "    <tr style=\"text-align: right;\">\n",
       "      <th></th>\n",
       "      <th>predict</th>\n",
       "      <th>actual</th>\n",
       "    </tr>\n",
       "  </thead>\n",
       "  <tbody>\n",
       "    <tr>\n",
       "      <th>2023-02-01 12:00:00+00:00</th>\n",
       "      <td>25.464607</td>\n",
       "      <td>16.627726</td>\n",
       "    </tr>\n",
       "    <tr>\n",
       "      <th>2023-02-01 15:00:00+00:00</th>\n",
       "      <td>21.906257</td>\n",
       "      <td>17.442904</td>\n",
       "    </tr>\n",
       "    <tr>\n",
       "      <th>2023-02-01 18:00:00+00:00</th>\n",
       "      <td>13.715710</td>\n",
       "      <td>9.886359</td>\n",
       "    </tr>\n",
       "    <tr>\n",
       "      <th>2023-02-01 21:00:00+00:00</th>\n",
       "      <td>8.557551</td>\n",
       "      <td>5.637801</td>\n",
       "    </tr>\n",
       "    <tr>\n",
       "      <th>2023-02-02 00:00:00+00:00</th>\n",
       "      <td>7.472298</td>\n",
       "      <td>3.519408</td>\n",
       "    </tr>\n",
       "    <tr>\n",
       "      <th>...</th>\n",
       "      <td>...</td>\n",
       "      <td>...</td>\n",
       "    </tr>\n",
       "    <tr>\n",
       "      <th>2023-02-15 18:00:00+00:00</th>\n",
       "      <td>21.844684</td>\n",
       "      <td>23.819081</td>\n",
       "    </tr>\n",
       "    <tr>\n",
       "      <th>2023-02-15 21:00:00+00:00</th>\n",
       "      <td>20.676483</td>\n",
       "      <td>21.940404</td>\n",
       "    </tr>\n",
       "    <tr>\n",
       "      <th>2023-02-16 00:00:00+00:00</th>\n",
       "      <td>19.629546</td>\n",
       "      <td>19.402905</td>\n",
       "    </tr>\n",
       "    <tr>\n",
       "      <th>2023-02-16 03:00:00+00:00</th>\n",
       "      <td>18.925123</td>\n",
       "      <td>16.152971</td>\n",
       "    </tr>\n",
       "    <tr>\n",
       "      <th>2023-02-16 06:00:00+00:00</th>\n",
       "      <td>20.667066</td>\n",
       "      <td>14.737509</td>\n",
       "    </tr>\n",
       "  </tbody>\n",
       "</table>\n",
       "<p>119 rows × 2 columns</p>\n",
       "</div>"
      ],
      "text/plain": [
       "                             predict     actual\n",
       "2023-02-01 12:00:00+00:00  25.464607  16.627726\n",
       "2023-02-01 15:00:00+00:00  21.906257  17.442904\n",
       "2023-02-01 18:00:00+00:00  13.715710   9.886359\n",
       "2023-02-01 21:00:00+00:00   8.557551   5.637801\n",
       "2023-02-02 00:00:00+00:00   7.472298   3.519408\n",
       "...                              ...        ...\n",
       "2023-02-15 18:00:00+00:00  21.844684  23.819081\n",
       "2023-02-15 21:00:00+00:00  20.676483  21.940404\n",
       "2023-02-16 00:00:00+00:00  19.629546  19.402905\n",
       "2023-02-16 03:00:00+00:00  18.925123  16.152971\n",
       "2023-02-16 06:00:00+00:00  20.667066  14.737509\n",
       "\n",
       "[119 rows x 2 columns]"
      ]
     },
     "execution_count": 33,
     "metadata": {},
     "output_type": "execute_result"
    }
   ],
   "source": [
    "plot_df = fx.create_timestamps(testing.predict(X_test), X_test, y_test)\n",
    "plot_df"
   ]
  },
  {
   "cell_type": "code",
   "execution_count": 35,
   "metadata": {},
   "outputs": [
    {
     "data": {
      "application/vnd.plotly.v1+json": {
       "config": {
        "plotlyServerURL": "https://plot.ly"
       },
       "data": [
        {
         "hovertemplate": "variable=predict<br>index=%{x}<br>value=%{y}<extra></extra>",
         "legendgroup": "predict",
         "line": {
          "color": "#636efa",
          "dash": "solid"
         },
         "marker": {
          "symbol": "circle"
         },
         "mode": "lines",
         "name": "predict",
         "orientation": "v",
         "showlegend": true,
         "type": "scatter",
         "x": [
          "2023-02-01T12:00:00+00:00",
          "2023-02-01T15:00:00+00:00",
          "2023-02-01T18:00:00+00:00",
          "2023-02-01T21:00:00+00:00",
          "2023-02-02T00:00:00+00:00",
          "2023-02-02T03:00:00+00:00",
          "2023-02-02T06:00:00+00:00",
          "2023-02-02T09:00:00+00:00",
          "2023-02-02T12:00:00+00:00",
          "2023-02-02T15:00:00+00:00",
          "2023-02-02T18:00:00+00:00",
          "2023-02-02T21:00:00+00:00",
          "2023-02-03T00:00:00+00:00",
          "2023-02-03T03:00:00+00:00",
          "2023-02-03T06:00:00+00:00",
          "2023-02-03T09:00:00+00:00",
          "2023-02-03T12:00:00+00:00",
          "2023-02-03T15:00:00+00:00",
          "2023-02-03T18:00:00+00:00",
          "2023-02-03T21:00:00+00:00",
          "2023-02-04T00:00:00+00:00",
          "2023-02-04T03:00:00+00:00",
          "2023-02-04T06:00:00+00:00",
          "2023-02-04T09:00:00+00:00",
          "2023-02-04T12:00:00+00:00",
          "2023-02-04T15:00:00+00:00",
          "2023-02-04T18:00:00+00:00",
          "2023-02-04T21:00:00+00:00",
          "2023-02-05T00:00:00+00:00",
          "2023-02-05T03:00:00+00:00",
          "2023-02-05T06:00:00+00:00",
          "2023-02-05T09:00:00+00:00",
          "2023-02-05T12:00:00+00:00",
          "2023-02-05T15:00:00+00:00",
          "2023-02-05T18:00:00+00:00",
          "2023-02-05T21:00:00+00:00",
          "2023-02-06T00:00:00+00:00",
          "2023-02-06T03:00:00+00:00",
          "2023-02-06T06:00:00+00:00",
          "2023-02-06T09:00:00+00:00",
          "2023-02-06T12:00:00+00:00",
          "2023-02-06T15:00:00+00:00",
          "2023-02-06T18:00:00+00:00",
          "2023-02-06T21:00:00+00:00",
          "2023-02-07T00:00:00+00:00",
          "2023-02-07T03:00:00+00:00",
          "2023-02-07T06:00:00+00:00",
          "2023-02-07T09:00:00+00:00",
          "2023-02-07T12:00:00+00:00",
          "2023-02-07T15:00:00+00:00",
          "2023-02-07T18:00:00+00:00",
          "2023-02-07T21:00:00+00:00",
          "2023-02-08T00:00:00+00:00",
          "2023-02-08T03:00:00+00:00",
          "2023-02-08T06:00:00+00:00",
          "2023-02-08T09:00:00+00:00",
          "2023-02-08T12:00:00+00:00",
          "2023-02-08T15:00:00+00:00",
          "2023-02-08T18:00:00+00:00",
          "2023-02-08T21:00:00+00:00",
          "2023-02-09T00:00:00+00:00",
          "2023-02-09T03:00:00+00:00",
          "2023-02-09T06:00:00+00:00",
          "2023-02-09T09:00:00+00:00",
          "2023-02-09T12:00:00+00:00",
          "2023-02-09T15:00:00+00:00",
          "2023-02-09T18:00:00+00:00",
          "2023-02-09T21:00:00+00:00",
          "2023-02-10T00:00:00+00:00",
          "2023-02-10T03:00:00+00:00",
          "2023-02-10T06:00:00+00:00",
          "2023-02-10T09:00:00+00:00",
          "2023-02-10T12:00:00+00:00",
          "2023-02-10T15:00:00+00:00",
          "2023-02-10T18:00:00+00:00",
          "2023-02-10T21:00:00+00:00",
          "2023-02-11T00:00:00+00:00",
          "2023-02-11T03:00:00+00:00",
          "2023-02-11T06:00:00+00:00",
          "2023-02-11T09:00:00+00:00",
          "2023-02-11T12:00:00+00:00",
          "2023-02-11T15:00:00+00:00",
          "2023-02-11T18:00:00+00:00",
          "2023-02-11T21:00:00+00:00",
          "2023-02-12T00:00:00+00:00",
          "2023-02-12T03:00:00+00:00",
          "2023-02-12T06:00:00+00:00",
          "2023-02-12T09:00:00+00:00",
          "2023-02-12T12:00:00+00:00",
          "2023-02-12T15:00:00+00:00",
          "2023-02-12T18:00:00+00:00",
          "2023-02-12T21:00:00+00:00",
          "2023-02-13T00:00:00+00:00",
          "2023-02-13T03:00:00+00:00",
          "2023-02-13T06:00:00+00:00",
          "2023-02-13T09:00:00+00:00",
          "2023-02-13T12:00:00+00:00",
          "2023-02-13T15:00:00+00:00",
          "2023-02-13T18:00:00+00:00",
          "2023-02-13T21:00:00+00:00",
          "2023-02-14T00:00:00+00:00",
          "2023-02-14T03:00:00+00:00",
          "2023-02-14T06:00:00+00:00",
          "2023-02-14T09:00:00+00:00",
          "2023-02-14T12:00:00+00:00",
          "2023-02-14T15:00:00+00:00",
          "2023-02-14T18:00:00+00:00",
          "2023-02-14T21:00:00+00:00",
          "2023-02-15T00:00:00+00:00",
          "2023-02-15T03:00:00+00:00",
          "2023-02-15T06:00:00+00:00",
          "2023-02-15T09:00:00+00:00",
          "2023-02-15T12:00:00+00:00",
          "2023-02-15T15:00:00+00:00",
          "2023-02-15T18:00:00+00:00",
          "2023-02-15T21:00:00+00:00",
          "2023-02-16T00:00:00+00:00",
          "2023-02-16T03:00:00+00:00",
          "2023-02-16T06:00:00+00:00"
         ],
         "xaxis": "x",
         "y": [
          25.4646065841,
          21.906256949791477,
          13.715710224336426,
          8.557551313456603,
          7.4722983784340915,
          14.812750439907125,
          18.029496385854255,
          21.063576836776562,
          24.1654093580201,
          26.312260690681057,
          29.068961853870952,
          29.927502183389677,
          31.033263007150204,
          28.64053014167036,
          22.29544161274552,
          16.187070649271803,
          13.990518683500841,
          14.808341409030131,
          16.49041948823057,
          17.90960766553487,
          18.73433830299835,
          18.748773481304184,
          19.61432552994942,
          22.031953021167393,
          24.920401067347683,
          23.77586150461493,
          23.51030888980744,
          22.727349562740272,
          20.982609524429346,
          20.64163373621248,
          19.735254168302653,
          21.70874577276362,
          21.132447270782063,
          20.443007703989327,
          21.07657921742951,
          21.145728011886145,
          22.978770007802233,
          24.707490845779414,
          25.181346405241797,
          24.097276856161045,
          23.089967320315353,
          21.694932970257703,
          21.678237483667402,
          21.411118415474874,
          21.09316327532782,
          14.380093702033811,
          17.661860329368817,
          15.770702797087722,
          16.24069681210252,
          18.651324817352545,
          20.6687074747258,
          21.39384469718965,
          22.135859761750908,
          23.740915755718945,
          26.85037102399462,
          28.673029755019517,
          30.590904110330413,
          31.3060869576329,
          27.573181380835372,
          25.742952053833044,
          25.42751453288742,
          25.753716516587517,
          28.14399595853891,
          29.174217077680037,
          27.17315626529937,
          20.86015641702614,
          14.583771499251213,
          11.136922558816408,
          13.901274211568836,
          15.992113256247132,
          21.892898711821747,
          26.501529910816174,
          28.41617242626935,
          28.165284970463375,
          25.25425139149384,
          21.528598412590636,
          17.493620857828123,
          17.72533804258113,
          18.18007273003693,
          20.525557900271362,
          21.365299331932526,
          21.748414224892635,
          21.904216205352625,
          23.31870499261727,
          23.75618390614894,
          24.128645248313813,
          24.105660730175085,
          23.561843256183835,
          22.683347503162643,
          22.653153418990076,
          22.067956030858596,
          21.756935654480927,
          20.657497606882153,
          20.98272998703645,
          20.488513580142822,
          19.358192372832633,
          18.152956934102342,
          17.60513661856469,
          16.78377249576433,
          17.251728833345293,
          18.734841308819913,
          19.42680641904551,
          19.91766613917578,
          20.28902575731323,
          20.631395059736636,
          21.493799627041504,
          22.347101997983312,
          23.541150760494098,
          24.510704797918706,
          25.281066666263193,
          25.808085294359337,
          26.031554728752873,
          24.644142453098844,
          24.84265394027437,
          21.84468376509808,
          20.67648315889711,
          19.6295461689688,
          18.92512274793489,
          20.667066388323516
         ],
         "yaxis": "y"
        },
        {
         "hovertemplate": "variable=actual<br>index=%{x}<br>value=%{y}<extra></extra>",
         "legendgroup": "actual",
         "line": {
          "color": "#EF553B",
          "dash": "solid"
         },
         "marker": {
          "symbol": "circle"
         },
         "mode": "lines",
         "name": "actual",
         "orientation": "v",
         "showlegend": true,
         "type": "scatter",
         "x": [
          "2023-02-01T12:00:00+00:00",
          "2023-02-01T15:00:00+00:00",
          "2023-02-01T18:00:00+00:00",
          "2023-02-01T21:00:00+00:00",
          "2023-02-02T00:00:00+00:00",
          "2023-02-02T03:00:00+00:00",
          "2023-02-02T06:00:00+00:00",
          "2023-02-02T09:00:00+00:00",
          "2023-02-02T12:00:00+00:00",
          "2023-02-02T15:00:00+00:00",
          "2023-02-02T18:00:00+00:00",
          "2023-02-02T21:00:00+00:00",
          "2023-02-03T00:00:00+00:00",
          "2023-02-03T03:00:00+00:00",
          "2023-02-03T06:00:00+00:00",
          "2023-02-03T09:00:00+00:00",
          "2023-02-03T12:00:00+00:00",
          "2023-02-03T15:00:00+00:00",
          "2023-02-03T18:00:00+00:00",
          "2023-02-03T21:00:00+00:00",
          "2023-02-04T00:00:00+00:00",
          "2023-02-04T03:00:00+00:00",
          "2023-02-04T06:00:00+00:00",
          "2023-02-04T09:00:00+00:00",
          "2023-02-04T12:00:00+00:00",
          "2023-02-04T15:00:00+00:00",
          "2023-02-04T18:00:00+00:00",
          "2023-02-04T21:00:00+00:00",
          "2023-02-05T00:00:00+00:00",
          "2023-02-05T03:00:00+00:00",
          "2023-02-05T06:00:00+00:00",
          "2023-02-05T09:00:00+00:00",
          "2023-02-05T12:00:00+00:00",
          "2023-02-05T15:00:00+00:00",
          "2023-02-05T18:00:00+00:00",
          "2023-02-05T21:00:00+00:00",
          "2023-02-06T00:00:00+00:00",
          "2023-02-06T03:00:00+00:00",
          "2023-02-06T06:00:00+00:00",
          "2023-02-06T09:00:00+00:00",
          "2023-02-06T12:00:00+00:00",
          "2023-02-06T15:00:00+00:00",
          "2023-02-06T18:00:00+00:00",
          "2023-02-06T21:00:00+00:00",
          "2023-02-07T00:00:00+00:00",
          "2023-02-07T03:00:00+00:00",
          "2023-02-07T06:00:00+00:00",
          "2023-02-07T09:00:00+00:00",
          "2023-02-07T12:00:00+00:00",
          "2023-02-07T15:00:00+00:00",
          "2023-02-07T18:00:00+00:00",
          "2023-02-07T21:00:00+00:00",
          "2023-02-08T00:00:00+00:00",
          "2023-02-08T03:00:00+00:00",
          "2023-02-08T06:00:00+00:00",
          "2023-02-08T09:00:00+00:00",
          "2023-02-08T12:00:00+00:00",
          "2023-02-08T15:00:00+00:00",
          "2023-02-08T18:00:00+00:00",
          "2023-02-08T21:00:00+00:00",
          "2023-02-09T00:00:00+00:00",
          "2023-02-09T03:00:00+00:00",
          "2023-02-09T06:00:00+00:00",
          "2023-02-09T09:00:00+00:00",
          "2023-02-09T12:00:00+00:00",
          "2023-02-09T15:00:00+00:00",
          "2023-02-09T18:00:00+00:00",
          "2023-02-09T21:00:00+00:00",
          "2023-02-10T00:00:00+00:00",
          "2023-02-10T03:00:00+00:00",
          "2023-02-10T06:00:00+00:00",
          "2023-02-10T09:00:00+00:00",
          "2023-02-10T12:00:00+00:00",
          "2023-02-10T15:00:00+00:00",
          "2023-02-10T18:00:00+00:00",
          "2023-02-10T21:00:00+00:00",
          "2023-02-11T00:00:00+00:00",
          "2023-02-11T03:00:00+00:00",
          "2023-02-11T06:00:00+00:00",
          "2023-02-11T09:00:00+00:00",
          "2023-02-11T12:00:00+00:00",
          "2023-02-11T15:00:00+00:00",
          "2023-02-11T18:00:00+00:00",
          "2023-02-11T21:00:00+00:00",
          "2023-02-12T00:00:00+00:00",
          "2023-02-12T03:00:00+00:00",
          "2023-02-12T06:00:00+00:00",
          "2023-02-12T09:00:00+00:00",
          "2023-02-12T12:00:00+00:00",
          "2023-02-12T15:00:00+00:00",
          "2023-02-12T18:00:00+00:00",
          "2023-02-12T21:00:00+00:00",
          "2023-02-13T00:00:00+00:00",
          "2023-02-13T03:00:00+00:00",
          "2023-02-13T06:00:00+00:00",
          "2023-02-13T09:00:00+00:00",
          "2023-02-13T12:00:00+00:00",
          "2023-02-13T15:00:00+00:00",
          "2023-02-13T18:00:00+00:00",
          "2023-02-13T21:00:00+00:00",
          "2023-02-14T00:00:00+00:00",
          "2023-02-14T03:00:00+00:00",
          "2023-02-14T06:00:00+00:00",
          "2023-02-14T09:00:00+00:00",
          "2023-02-14T12:00:00+00:00",
          "2023-02-14T15:00:00+00:00",
          "2023-02-14T18:00:00+00:00",
          "2023-02-14T21:00:00+00:00",
          "2023-02-15T00:00:00+00:00",
          "2023-02-15T03:00:00+00:00",
          "2023-02-15T06:00:00+00:00",
          "2023-02-15T09:00:00+00:00",
          "2023-02-15T12:00:00+00:00",
          "2023-02-15T15:00:00+00:00",
          "2023-02-15T18:00:00+00:00",
          "2023-02-15T21:00:00+00:00",
          "2023-02-16T00:00:00+00:00",
          "2023-02-16T03:00:00+00:00",
          "2023-02-16T06:00:00+00:00"
         ],
         "xaxis": "x",
         "y": [
          16.627725644444446,
          17.442903683333334,
          9.886359044444443,
          5.637801261111111,
          3.519408488888889,
          5.1805222055555555,
          13.598072011111112,
          18.137822633333332,
          24.019108194444446,
          20.374960416666667,
          20.583601299999998,
          19.550043294444446,
          20.58928577777778,
          20.5539938,
          19.462744222222224,
          8.438790749999999,
          5.117560683333333,
          7.175900733333333,
          13.335912122222224,
          12.428144372222222,
          14.26605216111111,
          15.323311183333333,
          19.527286855555555,
          22.110780733333335,
          22.920981355555554,
          22.969424044444445,
          22.127652455555555,
          22.833596983333333,
          20.463497288888888,
          20.181322278106506,
          16.23831263888889,
          14.130279316666666,
          16.14034148888889,
          15.397817633333334,
          12.71253845,
          14.878947238888887,
          18.14969065,
          19.892658089385474,
          18.313774333333335,
          14.886743572222223,
          17.003988338888888,
          12.386081988888888,
          17.724636166666667,
          20.250914466666668,
          17.185825,
          4.288279443181818,
          8.359711122222222,
          9.81715773888889,
          14.788021305555556,
          13.725143327777777,
          17.263915664804472,
          24.059502583333334,
          26.529902566666664,
          28.046243327777777,
          27.95294186111111,
          25.294328127777778,
          26.570690105555553,
          27.150278066666665,
          29.662411877777778,
          27.70595697777778,
          27.06053972777778,
          25.723871772222225,
          24.324496961111112,
          20.934500766666666,
          23.38472887777778,
          24.5264364,
          16.012338627777776,
          6.569076027777777,
          10.21042271111111,
          22.006454027777778,
          22.882521761111114,
          21.763950816666668,
          22.583871894444442,
          24.202242350000002,
          24.620721455555557,
          25.817110216666666,
          24.338831288888887,
          23.84758072777778,
          22.721779666666666,
          20.78363173743017,
          21.2303062,
          21.150809527777778,
          20.222826927777778,
          19.919787394444445,
          17.970539083333335,
          20.48256333888889,
          19.96684137777778,
          17.14757756111111,
          14.925714772222221,
          13.294780305555555,
          13.155400922222222,
          10.420132016666667,
          7.577910844444444,
          5.226257280898876,
          3.4811564388888887,
          6.269006399999999,
          6.9808924413407825,
          3.7917375944444447,
          2.979314344444444,
          4.458607455555556,
          7.398425527777778,
          10.222019,
          10.594415811111112,
          12.467054894444443,
          14.038110822222224,
          16.797926366666665,
          19.97411828888889,
          20.731533605555555,
          21.172519094444446,
          22.722648111111113,
          24.276797638888887,
          23.97736727777778,
          19.463374282485876,
          null,
          23.819080881355934,
          21.940404422222223,
          19.40290537222222,
          16.15297113333333,
          14.737509044444444
         ],
         "yaxis": "y"
        }
       ],
       "layout": {
        "legend": {
         "title": {
          "text": "variable"
         },
         "tracegroupgap": 0
        },
        "template": {
         "data": {
          "bar": [
           {
            "error_x": {
             "color": "#2a3f5f"
            },
            "error_y": {
             "color": "#2a3f5f"
            },
            "marker": {
             "line": {
              "color": "#E5ECF6",
              "width": 0.5
             },
             "pattern": {
              "fillmode": "overlay",
              "size": 10,
              "solidity": 0.2
             }
            },
            "type": "bar"
           }
          ],
          "barpolar": [
           {
            "marker": {
             "line": {
              "color": "#E5ECF6",
              "width": 0.5
             },
             "pattern": {
              "fillmode": "overlay",
              "size": 10,
              "solidity": 0.2
             }
            },
            "type": "barpolar"
           }
          ],
          "carpet": [
           {
            "aaxis": {
             "endlinecolor": "#2a3f5f",
             "gridcolor": "white",
             "linecolor": "white",
             "minorgridcolor": "white",
             "startlinecolor": "#2a3f5f"
            },
            "baxis": {
             "endlinecolor": "#2a3f5f",
             "gridcolor": "white",
             "linecolor": "white",
             "minorgridcolor": "white",
             "startlinecolor": "#2a3f5f"
            },
            "type": "carpet"
           }
          ],
          "choropleth": [
           {
            "colorbar": {
             "outlinewidth": 0,
             "ticks": ""
            },
            "type": "choropleth"
           }
          ],
          "contour": [
           {
            "colorbar": {
             "outlinewidth": 0,
             "ticks": ""
            },
            "colorscale": [
             [
              0,
              "#0d0887"
             ],
             [
              0.1111111111111111,
              "#46039f"
             ],
             [
              0.2222222222222222,
              "#7201a8"
             ],
             [
              0.3333333333333333,
              "#9c179e"
             ],
             [
              0.4444444444444444,
              "#bd3786"
             ],
             [
              0.5555555555555556,
              "#d8576b"
             ],
             [
              0.6666666666666666,
              "#ed7953"
             ],
             [
              0.7777777777777778,
              "#fb9f3a"
             ],
             [
              0.8888888888888888,
              "#fdca26"
             ],
             [
              1,
              "#f0f921"
             ]
            ],
            "type": "contour"
           }
          ],
          "contourcarpet": [
           {
            "colorbar": {
             "outlinewidth": 0,
             "ticks": ""
            },
            "type": "contourcarpet"
           }
          ],
          "heatmap": [
           {
            "colorbar": {
             "outlinewidth": 0,
             "ticks": ""
            },
            "colorscale": [
             [
              0,
              "#0d0887"
             ],
             [
              0.1111111111111111,
              "#46039f"
             ],
             [
              0.2222222222222222,
              "#7201a8"
             ],
             [
              0.3333333333333333,
              "#9c179e"
             ],
             [
              0.4444444444444444,
              "#bd3786"
             ],
             [
              0.5555555555555556,
              "#d8576b"
             ],
             [
              0.6666666666666666,
              "#ed7953"
             ],
             [
              0.7777777777777778,
              "#fb9f3a"
             ],
             [
              0.8888888888888888,
              "#fdca26"
             ],
             [
              1,
              "#f0f921"
             ]
            ],
            "type": "heatmap"
           }
          ],
          "heatmapgl": [
           {
            "colorbar": {
             "outlinewidth": 0,
             "ticks": ""
            },
            "colorscale": [
             [
              0,
              "#0d0887"
             ],
             [
              0.1111111111111111,
              "#46039f"
             ],
             [
              0.2222222222222222,
              "#7201a8"
             ],
             [
              0.3333333333333333,
              "#9c179e"
             ],
             [
              0.4444444444444444,
              "#bd3786"
             ],
             [
              0.5555555555555556,
              "#d8576b"
             ],
             [
              0.6666666666666666,
              "#ed7953"
             ],
             [
              0.7777777777777778,
              "#fb9f3a"
             ],
             [
              0.8888888888888888,
              "#fdca26"
             ],
             [
              1,
              "#f0f921"
             ]
            ],
            "type": "heatmapgl"
           }
          ],
          "histogram": [
           {
            "marker": {
             "pattern": {
              "fillmode": "overlay",
              "size": 10,
              "solidity": 0.2
             }
            },
            "type": "histogram"
           }
          ],
          "histogram2d": [
           {
            "colorbar": {
             "outlinewidth": 0,
             "ticks": ""
            },
            "colorscale": [
             [
              0,
              "#0d0887"
             ],
             [
              0.1111111111111111,
              "#46039f"
             ],
             [
              0.2222222222222222,
              "#7201a8"
             ],
             [
              0.3333333333333333,
              "#9c179e"
             ],
             [
              0.4444444444444444,
              "#bd3786"
             ],
             [
              0.5555555555555556,
              "#d8576b"
             ],
             [
              0.6666666666666666,
              "#ed7953"
             ],
             [
              0.7777777777777778,
              "#fb9f3a"
             ],
             [
              0.8888888888888888,
              "#fdca26"
             ],
             [
              1,
              "#f0f921"
             ]
            ],
            "type": "histogram2d"
           }
          ],
          "histogram2dcontour": [
           {
            "colorbar": {
             "outlinewidth": 0,
             "ticks": ""
            },
            "colorscale": [
             [
              0,
              "#0d0887"
             ],
             [
              0.1111111111111111,
              "#46039f"
             ],
             [
              0.2222222222222222,
              "#7201a8"
             ],
             [
              0.3333333333333333,
              "#9c179e"
             ],
             [
              0.4444444444444444,
              "#bd3786"
             ],
             [
              0.5555555555555556,
              "#d8576b"
             ],
             [
              0.6666666666666666,
              "#ed7953"
             ],
             [
              0.7777777777777778,
              "#fb9f3a"
             ],
             [
              0.8888888888888888,
              "#fdca26"
             ],
             [
              1,
              "#f0f921"
             ]
            ],
            "type": "histogram2dcontour"
           }
          ],
          "mesh3d": [
           {
            "colorbar": {
             "outlinewidth": 0,
             "ticks": ""
            },
            "type": "mesh3d"
           }
          ],
          "parcoords": [
           {
            "line": {
             "colorbar": {
              "outlinewidth": 0,
              "ticks": ""
             }
            },
            "type": "parcoords"
           }
          ],
          "pie": [
           {
            "automargin": true,
            "type": "pie"
           }
          ],
          "scatter": [
           {
            "fillpattern": {
             "fillmode": "overlay",
             "size": 10,
             "solidity": 0.2
            },
            "type": "scatter"
           }
          ],
          "scatter3d": [
           {
            "line": {
             "colorbar": {
              "outlinewidth": 0,
              "ticks": ""
             }
            },
            "marker": {
             "colorbar": {
              "outlinewidth": 0,
              "ticks": ""
             }
            },
            "type": "scatter3d"
           }
          ],
          "scattercarpet": [
           {
            "marker": {
             "colorbar": {
              "outlinewidth": 0,
              "ticks": ""
             }
            },
            "type": "scattercarpet"
           }
          ],
          "scattergeo": [
           {
            "marker": {
             "colorbar": {
              "outlinewidth": 0,
              "ticks": ""
             }
            },
            "type": "scattergeo"
           }
          ],
          "scattergl": [
           {
            "marker": {
             "colorbar": {
              "outlinewidth": 0,
              "ticks": ""
             }
            },
            "type": "scattergl"
           }
          ],
          "scattermapbox": [
           {
            "marker": {
             "colorbar": {
              "outlinewidth": 0,
              "ticks": ""
             }
            },
            "type": "scattermapbox"
           }
          ],
          "scatterpolar": [
           {
            "marker": {
             "colorbar": {
              "outlinewidth": 0,
              "ticks": ""
             }
            },
            "type": "scatterpolar"
           }
          ],
          "scatterpolargl": [
           {
            "marker": {
             "colorbar": {
              "outlinewidth": 0,
              "ticks": ""
             }
            },
            "type": "scatterpolargl"
           }
          ],
          "scatterternary": [
           {
            "marker": {
             "colorbar": {
              "outlinewidth": 0,
              "ticks": ""
             }
            },
            "type": "scatterternary"
           }
          ],
          "surface": [
           {
            "colorbar": {
             "outlinewidth": 0,
             "ticks": ""
            },
            "colorscale": [
             [
              0,
              "#0d0887"
             ],
             [
              0.1111111111111111,
              "#46039f"
             ],
             [
              0.2222222222222222,
              "#7201a8"
             ],
             [
              0.3333333333333333,
              "#9c179e"
             ],
             [
              0.4444444444444444,
              "#bd3786"
             ],
             [
              0.5555555555555556,
              "#d8576b"
             ],
             [
              0.6666666666666666,
              "#ed7953"
             ],
             [
              0.7777777777777778,
              "#fb9f3a"
             ],
             [
              0.8888888888888888,
              "#fdca26"
             ],
             [
              1,
              "#f0f921"
             ]
            ],
            "type": "surface"
           }
          ],
          "table": [
           {
            "cells": {
             "fill": {
              "color": "#EBF0F8"
             },
             "line": {
              "color": "white"
             }
            },
            "header": {
             "fill": {
              "color": "#C8D4E3"
             },
             "line": {
              "color": "white"
             }
            },
            "type": "table"
           }
          ]
         },
         "layout": {
          "annotationdefaults": {
           "arrowcolor": "#2a3f5f",
           "arrowhead": 0,
           "arrowwidth": 1
          },
          "autotypenumbers": "strict",
          "coloraxis": {
           "colorbar": {
            "outlinewidth": 0,
            "ticks": ""
           }
          },
          "colorscale": {
           "diverging": [
            [
             0,
             "#8e0152"
            ],
            [
             0.1,
             "#c51b7d"
            ],
            [
             0.2,
             "#de77ae"
            ],
            [
             0.3,
             "#f1b6da"
            ],
            [
             0.4,
             "#fde0ef"
            ],
            [
             0.5,
             "#f7f7f7"
            ],
            [
             0.6,
             "#e6f5d0"
            ],
            [
             0.7,
             "#b8e186"
            ],
            [
             0.8,
             "#7fbc41"
            ],
            [
             0.9,
             "#4d9221"
            ],
            [
             1,
             "#276419"
            ]
           ],
           "sequential": [
            [
             0,
             "#0d0887"
            ],
            [
             0.1111111111111111,
             "#46039f"
            ],
            [
             0.2222222222222222,
             "#7201a8"
            ],
            [
             0.3333333333333333,
             "#9c179e"
            ],
            [
             0.4444444444444444,
             "#bd3786"
            ],
            [
             0.5555555555555556,
             "#d8576b"
            ],
            [
             0.6666666666666666,
             "#ed7953"
            ],
            [
             0.7777777777777778,
             "#fb9f3a"
            ],
            [
             0.8888888888888888,
             "#fdca26"
            ],
            [
             1,
             "#f0f921"
            ]
           ],
           "sequentialminus": [
            [
             0,
             "#0d0887"
            ],
            [
             0.1111111111111111,
             "#46039f"
            ],
            [
             0.2222222222222222,
             "#7201a8"
            ],
            [
             0.3333333333333333,
             "#9c179e"
            ],
            [
             0.4444444444444444,
             "#bd3786"
            ],
            [
             0.5555555555555556,
             "#d8576b"
            ],
            [
             0.6666666666666666,
             "#ed7953"
            ],
            [
             0.7777777777777778,
             "#fb9f3a"
            ],
            [
             0.8888888888888888,
             "#fdca26"
            ],
            [
             1,
             "#f0f921"
            ]
           ]
          },
          "colorway": [
           "#636efa",
           "#EF553B",
           "#00cc96",
           "#ab63fa",
           "#FFA15A",
           "#19d3f3",
           "#FF6692",
           "#B6E880",
           "#FF97FF",
           "#FECB52"
          ],
          "font": {
           "color": "#2a3f5f"
          },
          "geo": {
           "bgcolor": "white",
           "lakecolor": "white",
           "landcolor": "#E5ECF6",
           "showlakes": true,
           "showland": true,
           "subunitcolor": "white"
          },
          "hoverlabel": {
           "align": "left"
          },
          "hovermode": "closest",
          "mapbox": {
           "style": "light"
          },
          "paper_bgcolor": "white",
          "plot_bgcolor": "#E5ECF6",
          "polar": {
           "angularaxis": {
            "gridcolor": "white",
            "linecolor": "white",
            "ticks": ""
           },
           "bgcolor": "#E5ECF6",
           "radialaxis": {
            "gridcolor": "white",
            "linecolor": "white",
            "ticks": ""
           }
          },
          "scene": {
           "xaxis": {
            "backgroundcolor": "#E5ECF6",
            "gridcolor": "white",
            "gridwidth": 2,
            "linecolor": "white",
            "showbackground": true,
            "ticks": "",
            "zerolinecolor": "white"
           },
           "yaxis": {
            "backgroundcolor": "#E5ECF6",
            "gridcolor": "white",
            "gridwidth": 2,
            "linecolor": "white",
            "showbackground": true,
            "ticks": "",
            "zerolinecolor": "white"
           },
           "zaxis": {
            "backgroundcolor": "#E5ECF6",
            "gridcolor": "white",
            "gridwidth": 2,
            "linecolor": "white",
            "showbackground": true,
            "ticks": "",
            "zerolinecolor": "white"
           }
          },
          "shapedefaults": {
           "line": {
            "color": "#2a3f5f"
           }
          },
          "ternary": {
           "aaxis": {
            "gridcolor": "white",
            "linecolor": "white",
            "ticks": ""
           },
           "baxis": {
            "gridcolor": "white",
            "linecolor": "white",
            "ticks": ""
           },
           "bgcolor": "#E5ECF6",
           "caxis": {
            "gridcolor": "white",
            "linecolor": "white",
            "ticks": ""
           }
          },
          "title": {
           "x": 0.05
          },
          "xaxis": {
           "automargin": true,
           "gridcolor": "white",
           "linecolor": "white",
           "ticks": "",
           "title": {
            "standoff": 15
           },
           "zerolinecolor": "white",
           "zerolinewidth": 2
          },
          "yaxis": {
           "automargin": true,
           "gridcolor": "white",
           "linecolor": "white",
           "ticks": "",
           "title": {
            "standoff": 15
           },
           "zerolinecolor": "white",
           "zerolinewidth": 2
          }
         }
        },
        "title": {
         "text": "Predicted vs. Actual Generation"
        },
        "xaxis": {
         "anchor": "y",
         "domain": [
          0,
          1
         ],
         "title": {
          "text": "index"
         }
        },
        "yaxis": {
         "anchor": "x",
         "domain": [
          0,
          1
         ],
         "title": {
          "text": "value"
         }
        }
       }
      }
     },
     "metadata": {},
     "output_type": "display_data"
    }
   ],
   "source": [
    "# plot plot_df\n",
    "fig = px.line(plot_df, title=\"Predicted vs. Actual Generation\")\n",
    "fig.show()"
   ]
  },
  {
   "cell_type": "code",
   "execution_count": null,
   "metadata": {},
   "outputs": [],
   "source": []
  }
 ],
 "metadata": {
  "kernelspec": {
   "display_name": "Python 3",
   "language": "python",
   "name": "python3"
  },
  "language_info": {
   "codemirror_mode": {
    "name": "ipython",
    "version": 3
   },
   "file_extension": ".py",
   "mimetype": "text/x-python",
   "name": "python",
   "nbconvert_exporter": "python",
   "pygments_lexer": "ipython3",
   "version": "3.11.1"
  },
  "orig_nbformat": 4,
  "vscode": {
   "interpreter": {
    "hash": "5238573367df39f7286bb46f9ff5f08f63a01a80960060ce41e3c79b190280fa"
   }
  }
 },
 "nbformat": 4,
 "nbformat_minor": 2
}
