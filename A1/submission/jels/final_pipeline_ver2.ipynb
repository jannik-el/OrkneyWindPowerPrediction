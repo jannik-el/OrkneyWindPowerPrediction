{
 "cells": [
  {
   "attachments": {},
   "cell_type": "markdown",
   "metadata": {},
   "source": [
    "# LSDA Assignment 1 Submission by Jannik Elsäßer \\\n",
    "Please run all blocks."
   ]
  },
  {
   "cell_type": "code",
   "execution_count": 147,
   "metadata": {},
   "outputs": [],
   "source": [
    "import plotly.express as px\n",
    "from sklearn.pipeline import Pipeline\n",
    "from sklearn.compose import ColumnTransformer\n",
    "from sklearn.preprocessing import StandardScaler\n",
    "from sklearn.preprocessing import PolynomialFeatures\n",
    "from sklearn.model_selection import GridSearchCV\n",
    "import pandas as pd\n",
    "from tqdm import tqdm\n",
    "import joblib\n",
    "import datetime as dt\n",
    "from sklearn.model_selection import TimeSeriesSplit\n",
    "from skimpy import skim\n",
    "import matplotlib.pyplot as plt\n",
    "import numpy as np\n",
    "from sklearn.base import BaseEstimator, TransformerMixin\n",
    "from sklearn.compose import make_column_transformer\n",
    "from sklearn.model_selection import train_test_split"
   ]
  },
  {
   "cell_type": "code",
   "execution_count": 148,
   "metadata": {},
   "outputs": [],
   "source": [
    "from sklearn.linear_model import LinearRegression\n",
    "from sklearn.linear_model import Ridge\n",
    "from sklearn.linear_model import Lasso\n",
    "from sklearn.linear_model import ElasticNet\n",
    "from sklearn.tree import DecisionTreeRegressor\n",
    "from sklearn.ensemble import RandomForestRegressor\n",
    "from sklearn.ensemble import GradientBoostingRegressor\n",
    "from sklearn.neighbors import KNeighborsRegressor\n",
    "from sklearn.svm import SVR\n",
    "from sklearn.neural_network import MLPRegressor\n",
    "from sklearn.linear_model import HuberRegressor\n",
    "from sklearn.linear_model import RANSACRegressor\n",
    "from sklearn.gaussian_process import GaussianProcessRegressor\n",
    "from sklearn.gaussian_process.kernels import DotProduct, WhiteKernel, RBF"
   ]
  },
  {
   "cell_type": "code",
   "execution_count": 149,
   "metadata": {},
   "outputs": [],
   "source": [
    "import warnings\n",
    "warnings.filterwarnings('ignore')"
   ]
  },
  {
   "cell_type": "code",
   "execution_count": 150,
   "metadata": {},
   "outputs": [],
   "source": [
    "import sys\n",
    "sys.path.append('..')\n",
    "import fx"
   ]
  },
  {
   "cell_type": "code",
   "execution_count": 151,
   "metadata": {},
   "outputs": [],
   "source": [
    "data = fx.pull_data(days=90)"
   ]
  },
  {
   "cell_type": "code",
   "execution_count": 152,
   "metadata": {},
   "outputs": [
    {
     "data": {
      "text/html": [
       "<div>\n",
       "<style scoped>\n",
       "    .dataframe tbody tr th:only-of-type {\n",
       "        vertical-align: middle;\n",
       "    }\n",
       "\n",
       "    .dataframe tbody tr th {\n",
       "        vertical-align: top;\n",
       "    }\n",
       "\n",
       "    .dataframe thead th {\n",
       "        text-align: right;\n",
       "    }\n",
       "</style>\n",
       "<table border=\"1\" class=\"dataframe\">\n",
       "  <thead>\n",
       "    <tr style=\"text-align: right;\">\n",
       "      <th></th>\n",
       "      <th>ANM</th>\n",
       "      <th>Non-ANM</th>\n",
       "      <th>Total</th>\n",
       "      <th>Direction</th>\n",
       "      <th>Lead_hours</th>\n",
       "      <th>Source_time</th>\n",
       "      <th>Speed</th>\n",
       "    </tr>\n",
       "    <tr>\n",
       "      <th>time</th>\n",
       "      <th></th>\n",
       "      <th></th>\n",
       "      <th></th>\n",
       "      <th></th>\n",
       "      <th></th>\n",
       "      <th></th>\n",
       "      <th></th>\n",
       "    </tr>\n",
       "  </thead>\n",
       "  <tbody>\n",
       "    <tr>\n",
       "      <th>2022-11-24 18:00:00+00:00</th>\n",
       "      <td>16.997392</td>\n",
       "      <td>17.651100</td>\n",
       "      <td>34.648492</td>\n",
       "      <td>SSE</td>\n",
       "      <td>1</td>\n",
       "      <td>1.669306e+09</td>\n",
       "      <td>13.85824</td>\n",
       "    </tr>\n",
       "    <tr>\n",
       "      <th>2022-11-24 21:00:00+00:00</th>\n",
       "      <td>13.939188</td>\n",
       "      <td>16.848844</td>\n",
       "      <td>30.788033</td>\n",
       "      <td>SSE</td>\n",
       "      <td>1</td>\n",
       "      <td>1.669316e+09</td>\n",
       "      <td>12.07008</td>\n",
       "    </tr>\n",
       "    <tr>\n",
       "      <th>2022-11-25 00:00:00+00:00</th>\n",
       "      <td>17.813118</td>\n",
       "      <td>16.657667</td>\n",
       "      <td>34.470785</td>\n",
       "      <td>SSE</td>\n",
       "      <td>1</td>\n",
       "      <td>1.669327e+09</td>\n",
       "      <td>9.83488</td>\n",
       "    </tr>\n",
       "    <tr>\n",
       "      <th>2022-11-25 03:00:00+00:00</th>\n",
       "      <td>15.732884</td>\n",
       "      <td>16.246978</td>\n",
       "      <td>31.979861</td>\n",
       "      <td>S</td>\n",
       "      <td>1</td>\n",
       "      <td>1.669338e+09</td>\n",
       "      <td>13.85824</td>\n",
       "    </tr>\n",
       "    <tr>\n",
       "      <th>2022-11-25 06:00:00+00:00</th>\n",
       "      <td>16.856965</td>\n",
       "      <td>16.369333</td>\n",
       "      <td>33.226298</td>\n",
       "      <td>S</td>\n",
       "      <td>1</td>\n",
       "      <td>1.669349e+09</td>\n",
       "      <td>9.83488</td>\n",
       "    </tr>\n",
       "  </tbody>\n",
       "</table>\n",
       "</div>"
      ],
      "text/plain": [
       "                                 ANM    Non-ANM      Total Direction  \\\n",
       "time                                                                   \n",
       "2022-11-24 18:00:00+00:00  16.997392  17.651100  34.648492       SSE   \n",
       "2022-11-24 21:00:00+00:00  13.939188  16.848844  30.788033       SSE   \n",
       "2022-11-25 00:00:00+00:00  17.813118  16.657667  34.470785       SSE   \n",
       "2022-11-25 03:00:00+00:00  15.732884  16.246978  31.979861         S   \n",
       "2022-11-25 06:00:00+00:00  16.856965  16.369333  33.226298         S   \n",
       "\n",
       "                          Lead_hours   Source_time     Speed  \n",
       "time                                                          \n",
       "2022-11-24 18:00:00+00:00          1  1.669306e+09  13.85824  \n",
       "2022-11-24 21:00:00+00:00          1  1.669316e+09  12.07008  \n",
       "2022-11-25 00:00:00+00:00          1  1.669327e+09   9.83488  \n",
       "2022-11-25 03:00:00+00:00          1  1.669338e+09  13.85824  \n",
       "2022-11-25 06:00:00+00:00          1  1.669349e+09   9.83488  "
      ]
     },
     "execution_count": 152,
     "metadata": {},
     "output_type": "execute_result"
    }
   ],
   "source": [
    "data.head(5)"
   ]
  },
  {
   "cell_type": "code",
   "execution_count": 153,
   "metadata": {},
   "outputs": [],
   "source": [
    "anm_pipeline = Pipeline(steps=[\n",
    "    (\"col_transformer\", ColumnTransformer(transformers=[\n",
    "        (\"time\", None, []),\n",
    "        (\"Speed\", None, [\"Speed\"]),\n",
    "        (\"Direction\", None, [\"Direction\"]),\n",
    "        ], remainder=\"drop\")),\n",
    "    (\"model\", None)\n",
    "])\n",
    "\n",
    "anm_params = {\n",
    "    'col_transformer__time' : [\"drop\", None, fx.TimestampTransformer()],\n",
    "    'col_transformer__Speed': [None, StandardScaler(), PolynomialFeatures(), fx.EmpiricalWaveletTransform(level=5)],\n",
    "    'col_transformer__Direction': [\"drop\", fx.WindDirectionMapper(), fx.CompassToCartesianTransformer()],\n",
    "    'model': [\n",
    "        LinearRegression(), \n",
    "        MLPRegressor(hidden_layer_sizes=(150, 150), activation='tanh', solver='sgd'), \n",
    "        SVR(kernel='rbf', gamma='scale', C=1.0, epsilon=0.1),\n",
    "        HuberRegressor(epsilon=1.35, alpha=0.0001),\n",
    "        RANSACRegressor(min_samples=0.1, max_trials=100),\n",
    "        GaussianProcessRegressor(alpha=0.1, kernel=RBF()) \n",
    "    ]\n",
    "}"
   ]
  },
  {
   "cell_type": "code",
   "execution_count": 154,
   "metadata": {},
   "outputs": [],
   "source": [
    "non_anm_pipeline = Pipeline(steps=[\n",
    "    (\"col_transformer\", ColumnTransformer(transformers=[\n",
    "        (\"Speed\", None, [\"Speed\"]),\n",
    "        (\"Direction\", None, [\"Direction\"]),\n",
    "        ], remainder=\"drop\")),\n",
    "    (\"model\", None)\n",
    "])\n",
    "\n",
    "non_anm_params = {\n",
    "    'col_transformer__Speed': [None, StandardScaler(), PolynomialFeatures(), fx.EmpiricalWaveletTransform(level=5)],\n",
    "    'col_transformer__Direction': [\"drop\", fx.WindDirectionMapper(), fx.CompassToCartesianTransformer()],\n",
    "    'model': [\n",
    "        LinearRegression(), \n",
    "        MLPRegressor(hidden_layer_sizes=(150, 150), activation='tanh', solver='sgd'), \n",
    "        SVR(kernel='rbf', gamma='scale', C=1.0, epsilon=0.1),\n",
    "        HuberRegressor(epsilon=1.35, alpha=0.0001),\n",
    "        RANSACRegressor(min_samples=0.1, max_trials=100),\n",
    "        GaussianProcessRegressor(alpha=0.1, kernel=RBF()) \n",
    "    ]\n",
    "}"
   ]
  },
  {
   "cell_type": "code",
   "execution_count": 155,
   "metadata": {},
   "outputs": [],
   "source": [
    "tscv = TimeSeriesSplit(n_splits=5)"
   ]
  },
  {
   "cell_type": "code",
   "execution_count": 156,
   "metadata": {},
   "outputs": [],
   "source": [
    "anm_gridsearch = GridSearchCV(anm_pipeline, anm_params, cv=tscv, scoring='neg_mean_squared_error', n_jobs=-1, verbose=1)\n",
    "non_anm_gridsearch = GridSearchCV(non_anm_pipeline, non_anm_params, cv=tscv, scoring='neg_mean_squared_error', n_jobs=-1, verbose=1)"
   ]
  },
  {
   "cell_type": "code",
   "execution_count": 157,
   "metadata": {},
   "outputs": [],
   "source": [
    "ANM_X_train, ANM_y_train, ANM_X_test, ANM_y_test = fx.data_splitting(data, output_val=\"ANM\")\n",
    "non_ANM_X_train, non_ANM_y_train, non_ANM_X_test, non_ANM_y_test = fx.data_splitting(data, output_val=\"Non-ANM\")\n",
    "total_X_train, total_y_train, total_X_test, total_y_test = fx.data_splitting(data, output_val=\"Total\")"
   ]
  },
  {
   "cell_type": "code",
   "execution_count": 158,
   "metadata": {},
   "outputs": [
    {
     "data": {
      "text/plain": [
       "True"
      ]
     },
     "execution_count": 158,
     "metadata": {},
     "output_type": "execute_result"
    }
   ],
   "source": [
    "# check that all test sets are same length\n",
    "len(ANM_y_test) == len(non_ANM_y_test) == len(total_y_test)"
   ]
  },
  {
   "cell_type": "code",
   "execution_count": 159,
   "metadata": {},
   "outputs": [],
   "source": [
    "def train_models(X_train, y_train, X_test, y_test, gridsearch):\n",
    "    gridsearch.fit(X_train, y_train)\n",
    "    print(\"Best params: \", gridsearch.best_params_)\n",
    "    print(\"Best score: \", gridsearch.best_score_)\n",
    "    print(\"Test score: \", gridsearch.score(X_test, y_test))\n",
    "    return gridsearch"
   ]
  },
  {
   "cell_type": "code",
   "execution_count": 176,
   "metadata": {},
   "outputs": [
    {
     "name": "stdout",
     "output_type": "stream",
     "text": [
      "Fitting 5 folds for each of 216 candidates, totalling 1080 fits\n",
      "Best params:  {'col_transformer__Direction': CompassToCartesianTransformer(), 'col_transformer__Speed': StandardScaler(), 'col_transformer__time': TimestampTransformer(), 'model': MLPRegressor(activation='tanh', hidden_layer_sizes=(150, 150), solver='sgd')}\n",
      "Best score:  -11.910435755481538\n",
      "Test score:  -9.661580434384579\n"
     ]
    }
   ],
   "source": [
    "anm_gridsearch = train_models(ANM_X_train, ANM_y_train, ANM_X_test, ANM_y_test, anm_gridsearch)"
   ]
  },
  {
   "cell_type": "code",
   "execution_count": 161,
   "metadata": {},
   "outputs": [
    {
     "name": "stdout",
     "output_type": "stream",
     "text": [
      "Fitting 5 folds for each of 72 candidates, totalling 360 fits\n",
      "Best params:  {'col_transformer__Direction': CompassToCartesianTransformer(), 'col_transformer__Speed': StandardScaler(), 'model': MLPRegressor(activation='tanh', hidden_layer_sizes=(150, 150), solver='sgd')}\n",
      "Best score:  -16.46528164184328\n",
      "Test score:  -6.044395923015864\n"
     ]
    }
   ],
   "source": [
    "non_anm_gridsearch = train_models(non_ANM_X_train, non_ANM_y_train, non_ANM_X_test, non_ANM_y_test, non_anm_gridsearch)"
   ]
  },
  {
   "cell_type": "code",
   "execution_count": 162,
   "metadata": {},
   "outputs": [],
   "source": [
    "def predict_and_combine(ANM_X_test, non_ANM_X_test, y_test, anm_gridsearch, non_anm_gridsearch):\n",
    "    anm_pred = anm_gridsearch.predict(ANM_X_test)\n",
    "    non_anm_pred = non_anm_gridsearch.predict(non_ANM_X_test)\n",
    "    pred = anm_pred + non_anm_pred\n",
    "    print(f\"Overall test score: {fx.MSE(pred, y_test)}\")\n",
    "    return pred"
   ]
  },
  {
   "cell_type": "code",
   "execution_count": 163,
   "metadata": {},
   "outputs": [
    {
     "name": "stdout",
     "output_type": "stream",
     "text": [
      "Overall test score: 25.278479349283906\n"
     ]
    }
   ],
   "source": [
    "combined_pred = predict_and_combine(ANM_X_test, non_ANM_X_test, total_y_test, anm_gridsearch, non_anm_gridsearch)"
   ]
  },
  {
   "cell_type": "code",
   "execution_count": 164,
   "metadata": {},
   "outputs": [],
   "source": [
    "def save_models(anm_gridsearch, non_anm_gridsearch):\n",
    "    joblib.dump(anm_gridsearch, rf\"models\\anm_gridsearch_{dt.date.today()}.pkl\")\n",
    "    joblib.dump(non_anm_gridsearch, rf\"models\\non_anm_gridsearch_{dt.date.today()}.pkl\")\n",
    "    return"
   ]
  },
  {
   "cell_type": "code",
   "execution_count": 165,
   "metadata": {},
   "outputs": [],
   "source": [
    "save_models(anm_gridsearch, non_anm_gridsearch)"
   ]
  },
  {
   "cell_type": "code",
   "execution_count": 166,
   "metadata": {},
   "outputs": [],
   "source": [
    "def load_models_and_train_on_all_data(data, anm_gridsearch, non_anm_gridsearch):\n",
    "    # naming schemes is not my strong suit\n",
    "    anm_X_train, anm_y_train = fx.final_data_splitting(data, output_val=\"ANM\")\n",
    "    non_anm_X_train, non_anm_y_train = fx.final_data_splitting(data, output_val=\"Non-ANM\")\n",
    "    anm_gridsearch.fit(anm_X_train, anm_y_train)\n",
    "    non_anm_gridsearch.fit(non_anm_X_train, non_anm_y_train)\n",
    "    return anm_gridsearch, non_anm_gridsearch"
   ]
  },
  {
   "cell_type": "code",
   "execution_count": 167,
   "metadata": {},
   "outputs": [
    {
     "name": "stdout",
     "output_type": "stream",
     "text": [
      "Fitting 5 folds for each of 216 candidates, totalling 1080 fits\n",
      "Fitting 5 folds for each of 72 candidates, totalling 360 fits\n"
     ]
    }
   ],
   "source": [
    "anm_model, non_anm_model = load_models_and_train_on_all_data(data, anm_gridsearch, non_anm_gridsearch)"
   ]
  },
  {
   "cell_type": "code",
   "execution_count": 168,
   "metadata": {},
   "outputs": [],
   "source": [
    "forecast = fx.load_forecasts()"
   ]
  },
  {
   "cell_type": "code",
   "execution_count": 169,
   "metadata": {},
   "outputs": [],
   "source": [
    "total_X_train, total_y_train = fx.final_data_splitting(data, output_val=\"Total\")\n",
    "anm_pred = anm_model.predict(forecast)\n",
    "non_anm_pred = non_anm_model.predict(forecast)"
   ]
  },
  {
   "cell_type": "code",
   "execution_count": 170,
   "metadata": {},
   "outputs": [],
   "source": [
    "def create_forecast_df(forecast, anm_pred, non_anm_pred):\n",
    "    future = anm_pred + non_anm_pred\n",
    "    forecast[\"Power Generation Forecast\"] = future\n",
    "    forecast = forecast.resample(\"3H\").mean()\n",
    "    forecast.drop(columns=[\"Speed\", \"Source_time\"], inplace=True)\n",
    "    return forecast"
   ]
  },
  {
   "cell_type": "code",
   "execution_count": 171,
   "metadata": {},
   "outputs": [],
   "source": [
    "forecast_df = create_forecast_df(forecast, anm_pred, non_anm_pred)"
   ]
  },
  {
   "cell_type": "code",
   "execution_count": 172,
   "metadata": {},
   "outputs": [],
   "source": [
    "def create_final_plotting_df(forecast_df, data):\n",
    "    # this code is just for plotting the final graph\n",
    "    ANM_X_train, ANM_y_train, ANM_X_test, ANM_y_test = fx.data_splitting(data, output_val=\"ANM\")\n",
    "    non_ANM_X_train, non_ANM_y_train, non_ANM_X_test, non_ANM_y_test = fx.data_splitting(data, output_val=\"Non-ANM\")\n",
    "    total_X_train, total_y_train, total_X_test, total_y_test = fx.data_splitting(data, output_val=\"Total\")\n",
    "\n",
    "    test_anm_pred = anm_model.predict(ANM_X_test)\n",
    "    test_non_anm_pred = non_anm_model.predict(non_ANM_X_test)\n",
    "\n",
    "    test_prediction = test_anm_pred + test_non_anm_pred\n",
    "    test_data = fx.create_timestamps(test_prediction, total_X_test, total_y_test)\n",
    "\n",
    "    # combine testdata and forecastdf for easy plotting\n",
    "    final_df = pd.concat([test_data, forecast_df], axis=0)\n",
    "\n",
    "    final_df.columns = [\"Model\", \"Actual\", \"Forecast\"]\n",
    "    return final_df"
   ]
  },
  {
   "cell_type": "code",
   "execution_count": 173,
   "metadata": {},
   "outputs": [],
   "source": [
    "final_df = create_final_plotting_df(forecast_df, data)"
   ]
  },
  {
   "cell_type": "code",
   "execution_count": 175,
   "metadata": {},
   "outputs": [
    {
     "data": {
      "application/vnd.plotly.v1+json": {
       "config": {
        "plotlyServerURL": "https://plot.ly"
       },
       "data": [
        {
         "hovertemplate": "variable=Model<br>index=%{x}<br>value=%{y}<extra></extra>",
         "legendgroup": "Model",
         "line": {
          "color": "#636efa",
          "dash": "solid"
         },
         "marker": {
          "symbol": "circle"
         },
         "mode": "lines",
         "name": "Model",
         "orientation": "v",
         "showlegend": true,
         "type": "scatter",
         "x": [
          "2023-02-07T18:00:00+00:00",
          "2023-02-07T21:00:00+00:00",
          "2023-02-08T00:00:00+00:00",
          "2023-02-08T03:00:00+00:00",
          "2023-02-08T06:00:00+00:00",
          "2023-02-08T09:00:00+00:00",
          "2023-02-08T12:00:00+00:00",
          "2023-02-08T15:00:00+00:00",
          "2023-02-08T18:00:00+00:00",
          "2023-02-08T21:00:00+00:00",
          "2023-02-09T00:00:00+00:00",
          "2023-02-09T03:00:00+00:00",
          "2023-02-09T06:00:00+00:00",
          "2023-02-09T09:00:00+00:00",
          "2023-02-09T12:00:00+00:00",
          "2023-02-09T15:00:00+00:00",
          "2023-02-09T18:00:00+00:00",
          "2023-02-09T21:00:00+00:00",
          "2023-02-10T00:00:00+00:00",
          "2023-02-10T03:00:00+00:00",
          "2023-02-10T06:00:00+00:00",
          "2023-02-10T09:00:00+00:00",
          "2023-02-10T12:00:00+00:00",
          "2023-02-10T15:00:00+00:00",
          "2023-02-10T18:00:00+00:00",
          "2023-02-10T21:00:00+00:00",
          "2023-02-11T00:00:00+00:00",
          "2023-02-11T03:00:00+00:00",
          "2023-02-11T06:00:00+00:00",
          "2023-02-11T09:00:00+00:00",
          "2023-02-11T12:00:00+00:00",
          "2023-02-11T15:00:00+00:00",
          "2023-02-11T18:00:00+00:00",
          "2023-02-11T21:00:00+00:00",
          "2023-02-12T00:00:00+00:00",
          "2023-02-12T03:00:00+00:00",
          "2023-02-12T06:00:00+00:00",
          "2023-02-12T09:00:00+00:00",
          "2023-02-12T12:00:00+00:00",
          "2023-02-12T15:00:00+00:00",
          "2023-02-12T18:00:00+00:00",
          "2023-02-12T21:00:00+00:00",
          "2023-02-13T00:00:00+00:00",
          "2023-02-13T03:00:00+00:00",
          "2023-02-13T06:00:00+00:00",
          "2023-02-13T09:00:00+00:00",
          "2023-02-13T12:00:00+00:00",
          "2023-02-13T15:00:00+00:00",
          "2023-02-13T18:00:00+00:00",
          "2023-02-13T21:00:00+00:00",
          "2023-02-14T00:00:00+00:00",
          "2023-02-14T03:00:00+00:00",
          "2023-02-14T06:00:00+00:00",
          "2023-02-14T09:00:00+00:00",
          "2023-02-14T12:00:00+00:00",
          "2023-02-14T15:00:00+00:00",
          "2023-02-14T18:00:00+00:00",
          "2023-02-14T21:00:00+00:00",
          "2023-02-15T00:00:00+00:00",
          "2023-02-15T03:00:00+00:00",
          "2023-02-15T06:00:00+00:00",
          "2023-02-15T09:00:00+00:00",
          "2023-02-15T12:00:00+00:00",
          "2023-02-15T15:00:00+00:00",
          "2023-02-15T18:00:00+00:00",
          "2023-02-15T21:00:00+00:00",
          "2023-02-16T00:00:00+00:00",
          "2023-02-16T03:00:00+00:00",
          "2023-02-16T06:00:00+00:00",
          "2023-02-16T09:00:00+00:00",
          "2023-02-16T12:00:00+00:00",
          "2023-02-16T15:00:00+00:00",
          "2023-02-16T18:00:00+00:00",
          "2023-02-16T21:00:00+00:00",
          "2023-02-17T00:00:00+00:00",
          "2023-02-17T03:00:00+00:00",
          "2023-02-17T06:00:00+00:00",
          "2023-02-17T09:00:00+00:00",
          "2023-02-17T12:00:00+00:00",
          "2023-02-17T15:00:00+00:00",
          "2023-02-17T18:00:00+00:00",
          "2023-02-17T21:00:00+00:00",
          "2023-02-18T00:00:00+00:00",
          "2023-02-18T03:00:00+00:00",
          "2023-02-18T06:00:00+00:00",
          "2023-02-18T09:00:00+00:00",
          "2023-02-18T12:00:00+00:00",
          "2023-02-18T15:00:00+00:00",
          "2023-02-18T18:00:00+00:00",
          "2023-02-18T21:00:00+00:00",
          "2023-02-19T00:00:00+00:00",
          "2023-02-19T03:00:00+00:00",
          "2023-02-19T06:00:00+00:00",
          "2023-02-19T09:00:00+00:00",
          "2023-02-19T12:00:00+00:00",
          "2023-02-19T15:00:00+00:00",
          "2023-02-19T18:00:00+00:00",
          "2023-02-19T21:00:00+00:00",
          "2023-02-20T00:00:00+00:00",
          "2023-02-20T03:00:00+00:00",
          "2023-02-20T06:00:00+00:00",
          "2023-02-20T09:00:00+00:00",
          "2023-02-20T12:00:00+00:00",
          "2023-02-20T15:00:00+00:00",
          "2023-02-20T18:00:00+00:00",
          "2023-02-20T21:00:00+00:00",
          "2023-02-21T00:00:00+00:00",
          "2023-02-21T03:00:00+00:00",
          "2023-02-21T06:00:00+00:00",
          "2023-02-21T09:00:00+00:00",
          "2023-02-21T12:00:00+00:00",
          "2023-02-21T15:00:00+00:00",
          "2023-02-21T18:00:00+00:00",
          "2023-02-21T21:00:00+00:00",
          "2023-02-22T00:00:00+00:00",
          "2023-02-22T03:00:00+00:00",
          "2023-02-22T06:00:00+00:00",
          "2023-02-22T09:00:00+00:00",
          "2023-02-22T12:00:00+00:00",
          "2023-02-22T18:00:00+00:00",
          "2023-02-22T21:00:00+00:00",
          "2023-02-23T00:00:00+00:00",
          "2023-02-23T03:00:00+00:00",
          "2023-02-23T06:00:00+00:00",
          "2023-02-23T09:00:00+00:00",
          "2023-02-23T12:00:00+00:00",
          "2023-02-23T15:00:00+00:00",
          "2023-02-23T18:00:00+00:00",
          "2023-02-23T21:00:00+00:00",
          "2023-02-24T00:00:00+00:00",
          "2023-02-24T03:00:00+00:00",
          "2023-02-24T06:00:00+00:00",
          "2023-02-24T09:00:00+00:00",
          "2023-02-24T12:00:00+00:00",
          "2023-02-24T15:00:00+00:00",
          "2023-02-24T18:00:00+00:00",
          "2023-02-24T21:00:00+00:00",
          "2023-02-25T00:00:00+00:00",
          "2023-02-25T03:00:00+00:00",
          "2023-02-25T06:00:00+00:00",
          "2023-02-25T09:00:00+00:00",
          "2023-02-25T12:00:00+00:00",
          "2023-02-25T15:00:00+00:00",
          "2023-02-25T18:00:00+00:00",
          "2023-02-25T21:00:00+00:00",
          "2023-02-26T00:00:00+00:00",
          "2023-02-26T03:00:00+00:00",
          "2023-02-26T06:00:00+00:00",
          "2023-02-26T09:00:00+00:00",
          "2023-02-26T12:00:00+00:00",
          "2023-02-26T15:00:00+00:00",
          "2023-02-26T18:00:00+00:00",
          "2023-02-26T21:00:00+00:00"
         ],
         "xaxis": "x",
         "y": [
          23.005080374879636,
          23.005080374879636,
          25.567177859578187,
          26.782725325260586,
          29.225916092079675,
          25.65900639921887,
          24.925687107382316,
          27.426231866502036,
          24.62533620231251,
          24.320294641939142,
          24.320294641939142,
          23.591125773829518,
          23.88597283377905,
          21.957156914626566,
          22.97184736331767,
          23.75781144814062,
          22.27488277374413,
          12.232999719250909,
          10.557534565862138,
          21.354167009839742,
          26.441484564470244,
          24.890381339841277,
          23.88597283377905,
          23.591125773829518,
          24.043680696057265,
          24.043680696057265,
          19.799430714920426,
          12.232999719250909,
          22.851029181868327,
          23.176200810032718,
          21.981267981742572,
          21.981267981742572,
          21.981267981742572,
          23.745696096949878,
          23.745696096949878,
          23.745696096949878,
          21.354167009839742,
          23.745696096949878,
          17.243509172611308,
          18.536687032227324,
          18.536687032227324,
          18.536687032227324,
          14.947996962567466,
          12.421803757311675,
          12.819690300546467,
          12.819690300546467,
          10.43386281353102,
          8.560629232908571,
          6.706697102654063,
          8.1765502163686,
          12.819690300546467,
          12.819690300546467,
          12.819690300546467,
          12.819690300546467,
          16.372795322912772,
          21.791811067798506,
          21.815186143302917,
          19.229920149891445,
          28.308573604239555,
          28.308573604239555,
          26.967363879760967,
          28.308573604239555,
          25.74205350543089,
          25.567177859578187,
          24.05868644657383,
          17.79957466476692,
          19.658828434429015,
          19.658828434429015,
          20.884172386094043,
          21.354167009839742,
          23.745696096949878,
          21.354167009839742,
          16.07232818260414,
          16.598581064213825,
          27.543088628596117,
          26.227992676238756,
          23.18925283624791,
          23.79202200485694,
          23.79202200485694,
          23.75781144814062,
          16.733484674041787,
          7.595795911453958,
          5.753360444725824,
          4.370596887114803,
          3.482245923190174,
          2.670172324082926,
          4.732168352754138,
          6.393524143975806,
          7.192510355991351,
          16.39034188367993,
          21.98126798174257,
          23.745696096949878,
          24.135373620836237,
          24.922136506933853,
          26.321411445062502,
          23.12551647982106,
          23.12551647982106,
          22.48241701699816,
          22.97184736331767,
          22.48241701699816,
          21.957156914626566,
          22.50601750680783,
          22.977224349261583,
          23.75781144814062,
          22.27488277374413,
          13.27133497343729,
          4.774771328203668,
          6.924457954726137,
          21.815186143302917,
          21.791811067798506,
          12.819690300546467,
          16.598581064213825,
          16.598581064213825,
          9.111105502707609,
          9.111105502707609,
          13.27133497343729,
          12.177934859235243,
          22.005787725723195,
          22.005787725723188,
          null,
          null,
          null,
          null,
          null,
          null,
          null,
          null,
          null,
          null,
          null,
          null,
          null,
          null,
          null,
          null,
          null,
          null,
          null,
          null,
          null,
          null,
          null,
          null,
          null,
          null,
          null,
          null,
          null,
          null,
          null,
          null,
          null,
          null
         ],
         "yaxis": "y"
        },
        {
         "hovertemplate": "variable=Actual<br>index=%{x}<br>value=%{y}<extra></extra>",
         "legendgroup": "Actual",
         "line": {
          "color": "#EF553B",
          "dash": "solid"
         },
         "marker": {
          "symbol": "circle"
         },
         "mode": "lines",
         "name": "Actual",
         "orientation": "v",
         "showlegend": true,
         "type": "scatter",
         "x": [
          "2023-02-07T18:00:00+00:00",
          "2023-02-07T21:00:00+00:00",
          "2023-02-08T00:00:00+00:00",
          "2023-02-08T03:00:00+00:00",
          "2023-02-08T06:00:00+00:00",
          "2023-02-08T09:00:00+00:00",
          "2023-02-08T12:00:00+00:00",
          "2023-02-08T15:00:00+00:00",
          "2023-02-08T18:00:00+00:00",
          "2023-02-08T21:00:00+00:00",
          "2023-02-09T00:00:00+00:00",
          "2023-02-09T03:00:00+00:00",
          "2023-02-09T06:00:00+00:00",
          "2023-02-09T09:00:00+00:00",
          "2023-02-09T12:00:00+00:00",
          "2023-02-09T15:00:00+00:00",
          "2023-02-09T18:00:00+00:00",
          "2023-02-09T21:00:00+00:00",
          "2023-02-10T00:00:00+00:00",
          "2023-02-10T03:00:00+00:00",
          "2023-02-10T06:00:00+00:00",
          "2023-02-10T09:00:00+00:00",
          "2023-02-10T12:00:00+00:00",
          "2023-02-10T15:00:00+00:00",
          "2023-02-10T18:00:00+00:00",
          "2023-02-10T21:00:00+00:00",
          "2023-02-11T00:00:00+00:00",
          "2023-02-11T03:00:00+00:00",
          "2023-02-11T06:00:00+00:00",
          "2023-02-11T09:00:00+00:00",
          "2023-02-11T12:00:00+00:00",
          "2023-02-11T15:00:00+00:00",
          "2023-02-11T18:00:00+00:00",
          "2023-02-11T21:00:00+00:00",
          "2023-02-12T00:00:00+00:00",
          "2023-02-12T03:00:00+00:00",
          "2023-02-12T06:00:00+00:00",
          "2023-02-12T09:00:00+00:00",
          "2023-02-12T12:00:00+00:00",
          "2023-02-12T15:00:00+00:00",
          "2023-02-12T18:00:00+00:00",
          "2023-02-12T21:00:00+00:00",
          "2023-02-13T00:00:00+00:00",
          "2023-02-13T03:00:00+00:00",
          "2023-02-13T06:00:00+00:00",
          "2023-02-13T09:00:00+00:00",
          "2023-02-13T12:00:00+00:00",
          "2023-02-13T15:00:00+00:00",
          "2023-02-13T18:00:00+00:00",
          "2023-02-13T21:00:00+00:00",
          "2023-02-14T00:00:00+00:00",
          "2023-02-14T03:00:00+00:00",
          "2023-02-14T06:00:00+00:00",
          "2023-02-14T09:00:00+00:00",
          "2023-02-14T12:00:00+00:00",
          "2023-02-14T15:00:00+00:00",
          "2023-02-14T18:00:00+00:00",
          "2023-02-14T21:00:00+00:00",
          "2023-02-15T00:00:00+00:00",
          "2023-02-15T03:00:00+00:00",
          "2023-02-15T06:00:00+00:00",
          "2023-02-15T09:00:00+00:00",
          "2023-02-15T12:00:00+00:00",
          "2023-02-15T15:00:00+00:00",
          "2023-02-15T18:00:00+00:00",
          "2023-02-15T21:00:00+00:00",
          "2023-02-16T00:00:00+00:00",
          "2023-02-16T03:00:00+00:00",
          "2023-02-16T06:00:00+00:00",
          "2023-02-16T09:00:00+00:00",
          "2023-02-16T12:00:00+00:00",
          "2023-02-16T15:00:00+00:00",
          "2023-02-16T18:00:00+00:00",
          "2023-02-16T21:00:00+00:00",
          "2023-02-17T00:00:00+00:00",
          "2023-02-17T03:00:00+00:00",
          "2023-02-17T06:00:00+00:00",
          "2023-02-17T09:00:00+00:00",
          "2023-02-17T12:00:00+00:00",
          "2023-02-17T15:00:00+00:00",
          "2023-02-17T18:00:00+00:00",
          "2023-02-17T21:00:00+00:00",
          "2023-02-18T00:00:00+00:00",
          "2023-02-18T03:00:00+00:00",
          "2023-02-18T06:00:00+00:00",
          "2023-02-18T09:00:00+00:00",
          "2023-02-18T12:00:00+00:00",
          "2023-02-18T15:00:00+00:00",
          "2023-02-18T18:00:00+00:00",
          "2023-02-18T21:00:00+00:00",
          "2023-02-19T00:00:00+00:00",
          "2023-02-19T03:00:00+00:00",
          "2023-02-19T06:00:00+00:00",
          "2023-02-19T09:00:00+00:00",
          "2023-02-19T12:00:00+00:00",
          "2023-02-19T15:00:00+00:00",
          "2023-02-19T18:00:00+00:00",
          "2023-02-19T21:00:00+00:00",
          "2023-02-20T00:00:00+00:00",
          "2023-02-20T03:00:00+00:00",
          "2023-02-20T06:00:00+00:00",
          "2023-02-20T09:00:00+00:00",
          "2023-02-20T12:00:00+00:00",
          "2023-02-20T15:00:00+00:00",
          "2023-02-20T18:00:00+00:00",
          "2023-02-20T21:00:00+00:00",
          "2023-02-21T00:00:00+00:00",
          "2023-02-21T03:00:00+00:00",
          "2023-02-21T06:00:00+00:00",
          "2023-02-21T09:00:00+00:00",
          "2023-02-21T12:00:00+00:00",
          "2023-02-21T15:00:00+00:00",
          "2023-02-21T18:00:00+00:00",
          "2023-02-21T21:00:00+00:00",
          "2023-02-22T00:00:00+00:00",
          "2023-02-22T03:00:00+00:00",
          "2023-02-22T06:00:00+00:00",
          "2023-02-22T09:00:00+00:00",
          "2023-02-22T12:00:00+00:00",
          "2023-02-22T18:00:00+00:00",
          "2023-02-22T21:00:00+00:00",
          "2023-02-23T00:00:00+00:00",
          "2023-02-23T03:00:00+00:00",
          "2023-02-23T06:00:00+00:00",
          "2023-02-23T09:00:00+00:00",
          "2023-02-23T12:00:00+00:00",
          "2023-02-23T15:00:00+00:00",
          "2023-02-23T18:00:00+00:00",
          "2023-02-23T21:00:00+00:00",
          "2023-02-24T00:00:00+00:00",
          "2023-02-24T03:00:00+00:00",
          "2023-02-24T06:00:00+00:00",
          "2023-02-24T09:00:00+00:00",
          "2023-02-24T12:00:00+00:00",
          "2023-02-24T15:00:00+00:00",
          "2023-02-24T18:00:00+00:00",
          "2023-02-24T21:00:00+00:00",
          "2023-02-25T00:00:00+00:00",
          "2023-02-25T03:00:00+00:00",
          "2023-02-25T06:00:00+00:00",
          "2023-02-25T09:00:00+00:00",
          "2023-02-25T12:00:00+00:00",
          "2023-02-25T15:00:00+00:00",
          "2023-02-25T18:00:00+00:00",
          "2023-02-25T21:00:00+00:00",
          "2023-02-26T00:00:00+00:00",
          "2023-02-26T03:00:00+00:00",
          "2023-02-26T06:00:00+00:00",
          "2023-02-26T09:00:00+00:00",
          "2023-02-26T12:00:00+00:00",
          "2023-02-26T15:00:00+00:00",
          "2023-02-26T18:00:00+00:00",
          "2023-02-26T21:00:00+00:00"
         ],
         "xaxis": "x",
         "y": [
          17.263915664804472,
          24.059502583333334,
          26.529902566666664,
          28.046243327777777,
          27.95294186111111,
          25.294328127777778,
          26.570690105555553,
          27.150278066666665,
          29.662411877777778,
          27.70595697777778,
          27.06053972777778,
          25.723871772222225,
          24.324496961111112,
          20.934500766666666,
          23.38472887777778,
          24.5264364,
          16.012338627777776,
          6.569076027777777,
          10.21042271111111,
          22.006454027777778,
          22.882521761111114,
          21.763950816666668,
          22.583871894444442,
          24.202242350000002,
          24.620721455555557,
          25.817110216666666,
          24.338831288888887,
          23.84758072777778,
          22.721779666666666,
          20.78363173743017,
          21.2303062,
          21.150809527777778,
          20.222826927777778,
          19.919787394444445,
          17.970539083333335,
          20.48256333888889,
          19.96684137777778,
          17.14757756111111,
          14.925714772222221,
          13.294780305555555,
          13.155400922222222,
          10.420132016666667,
          7.577910844444444,
          5.226257280898876,
          3.4811564388888887,
          6.269006399999999,
          6.9808924413407825,
          3.7917375944444447,
          2.979314344444444,
          4.458607455555556,
          7.398425527777778,
          10.222019,
          10.594415811111112,
          12.467054894444443,
          14.038110822222224,
          16.797926366666665,
          19.97411828888889,
          20.731533605555555,
          21.172519094444446,
          22.722648111111113,
          24.276797638888887,
          23.97736727777778,
          19.463374282485876,
          null,
          23.819080881355934,
          21.940404422222223,
          19.40290537222222,
          16.15297113333333,
          14.737509044444444,
          14.586008116666665,
          15.150767176136362,
          11.240705586592178,
          7.854886261111111,
          10.81077351111111,
          19.56726145,
          21.970774916666667,
          15.29401255,
          23.31614890909091,
          22.475683262857142,
          22.014130555555557,
          17.700130438888888,
          6.106264233333333,
          1.4258078666666667,
          1.3087835222222224,
          1.5311243722222223,
          1.2804474555555556,
          1.3726160388888888,
          1.7992808666666669,
          4.1882715388888885,
          7.051247427777778,
          15.010386511111111,
          16.23082055,
          18.248838705555556,
          21.275872516666666,
          24.354231288888887,
          21.1886084,
          20.331054227777777,
          15.793546283333333,
          20.278994005555557,
          20.375853664772727,
          20.061645405555556,
          19.865713905555555,
          21.243271572222223,
          26.14156186666667,
          26.25962770555556,
          21.664147044444444,
          12.066924472222222,
          3.872830683333333,
          9.683455466666667,
          16.15231687777778,
          11.343601311111112,
          13.869748738888887,
          15.576453788888887,
          13.818091922222223,
          12.52851286111111,
          11.757138544444446,
          10.675278744444444,
          17.19055298888889,
          21.027393761111114,
          null,
          null,
          null,
          null,
          null,
          null,
          null,
          null,
          null,
          null,
          null,
          null,
          null,
          null,
          null,
          null,
          null,
          null,
          null,
          null,
          null,
          null,
          null,
          null,
          null,
          null,
          null,
          null,
          null,
          null,
          null,
          null,
          null,
          null
         ],
         "yaxis": "y"
        },
        {
         "hovertemplate": "variable=Forecast<br>index=%{x}<br>value=%{y}<extra></extra>",
         "legendgroup": "Forecast",
         "line": {
          "color": "#00cc96",
          "dash": "solid"
         },
         "marker": {
          "symbol": "circle"
         },
         "mode": "lines",
         "name": "Forecast",
         "orientation": "v",
         "showlegend": true,
         "type": "scatter",
         "x": [
          "2023-02-07T18:00:00+00:00",
          "2023-02-07T21:00:00+00:00",
          "2023-02-08T00:00:00+00:00",
          "2023-02-08T03:00:00+00:00",
          "2023-02-08T06:00:00+00:00",
          "2023-02-08T09:00:00+00:00",
          "2023-02-08T12:00:00+00:00",
          "2023-02-08T15:00:00+00:00",
          "2023-02-08T18:00:00+00:00",
          "2023-02-08T21:00:00+00:00",
          "2023-02-09T00:00:00+00:00",
          "2023-02-09T03:00:00+00:00",
          "2023-02-09T06:00:00+00:00",
          "2023-02-09T09:00:00+00:00",
          "2023-02-09T12:00:00+00:00",
          "2023-02-09T15:00:00+00:00",
          "2023-02-09T18:00:00+00:00",
          "2023-02-09T21:00:00+00:00",
          "2023-02-10T00:00:00+00:00",
          "2023-02-10T03:00:00+00:00",
          "2023-02-10T06:00:00+00:00",
          "2023-02-10T09:00:00+00:00",
          "2023-02-10T12:00:00+00:00",
          "2023-02-10T15:00:00+00:00",
          "2023-02-10T18:00:00+00:00",
          "2023-02-10T21:00:00+00:00",
          "2023-02-11T00:00:00+00:00",
          "2023-02-11T03:00:00+00:00",
          "2023-02-11T06:00:00+00:00",
          "2023-02-11T09:00:00+00:00",
          "2023-02-11T12:00:00+00:00",
          "2023-02-11T15:00:00+00:00",
          "2023-02-11T18:00:00+00:00",
          "2023-02-11T21:00:00+00:00",
          "2023-02-12T00:00:00+00:00",
          "2023-02-12T03:00:00+00:00",
          "2023-02-12T06:00:00+00:00",
          "2023-02-12T09:00:00+00:00",
          "2023-02-12T12:00:00+00:00",
          "2023-02-12T15:00:00+00:00",
          "2023-02-12T18:00:00+00:00",
          "2023-02-12T21:00:00+00:00",
          "2023-02-13T00:00:00+00:00",
          "2023-02-13T03:00:00+00:00",
          "2023-02-13T06:00:00+00:00",
          "2023-02-13T09:00:00+00:00",
          "2023-02-13T12:00:00+00:00",
          "2023-02-13T15:00:00+00:00",
          "2023-02-13T18:00:00+00:00",
          "2023-02-13T21:00:00+00:00",
          "2023-02-14T00:00:00+00:00",
          "2023-02-14T03:00:00+00:00",
          "2023-02-14T06:00:00+00:00",
          "2023-02-14T09:00:00+00:00",
          "2023-02-14T12:00:00+00:00",
          "2023-02-14T15:00:00+00:00",
          "2023-02-14T18:00:00+00:00",
          "2023-02-14T21:00:00+00:00",
          "2023-02-15T00:00:00+00:00",
          "2023-02-15T03:00:00+00:00",
          "2023-02-15T06:00:00+00:00",
          "2023-02-15T09:00:00+00:00",
          "2023-02-15T12:00:00+00:00",
          "2023-02-15T15:00:00+00:00",
          "2023-02-15T18:00:00+00:00",
          "2023-02-15T21:00:00+00:00",
          "2023-02-16T00:00:00+00:00",
          "2023-02-16T03:00:00+00:00",
          "2023-02-16T06:00:00+00:00",
          "2023-02-16T09:00:00+00:00",
          "2023-02-16T12:00:00+00:00",
          "2023-02-16T15:00:00+00:00",
          "2023-02-16T18:00:00+00:00",
          "2023-02-16T21:00:00+00:00",
          "2023-02-17T00:00:00+00:00",
          "2023-02-17T03:00:00+00:00",
          "2023-02-17T06:00:00+00:00",
          "2023-02-17T09:00:00+00:00",
          "2023-02-17T12:00:00+00:00",
          "2023-02-17T15:00:00+00:00",
          "2023-02-17T18:00:00+00:00",
          "2023-02-17T21:00:00+00:00",
          "2023-02-18T00:00:00+00:00",
          "2023-02-18T03:00:00+00:00",
          "2023-02-18T06:00:00+00:00",
          "2023-02-18T09:00:00+00:00",
          "2023-02-18T12:00:00+00:00",
          "2023-02-18T15:00:00+00:00",
          "2023-02-18T18:00:00+00:00",
          "2023-02-18T21:00:00+00:00",
          "2023-02-19T00:00:00+00:00",
          "2023-02-19T03:00:00+00:00",
          "2023-02-19T06:00:00+00:00",
          "2023-02-19T09:00:00+00:00",
          "2023-02-19T12:00:00+00:00",
          "2023-02-19T15:00:00+00:00",
          "2023-02-19T18:00:00+00:00",
          "2023-02-19T21:00:00+00:00",
          "2023-02-20T00:00:00+00:00",
          "2023-02-20T03:00:00+00:00",
          "2023-02-20T06:00:00+00:00",
          "2023-02-20T09:00:00+00:00",
          "2023-02-20T12:00:00+00:00",
          "2023-02-20T15:00:00+00:00",
          "2023-02-20T18:00:00+00:00",
          "2023-02-20T21:00:00+00:00",
          "2023-02-21T00:00:00+00:00",
          "2023-02-21T03:00:00+00:00",
          "2023-02-21T06:00:00+00:00",
          "2023-02-21T09:00:00+00:00",
          "2023-02-21T12:00:00+00:00",
          "2023-02-21T15:00:00+00:00",
          "2023-02-21T18:00:00+00:00",
          "2023-02-21T21:00:00+00:00",
          "2023-02-22T00:00:00+00:00",
          "2023-02-22T03:00:00+00:00",
          "2023-02-22T06:00:00+00:00",
          "2023-02-22T09:00:00+00:00",
          "2023-02-22T12:00:00+00:00",
          "2023-02-22T18:00:00+00:00",
          "2023-02-22T21:00:00+00:00",
          "2023-02-23T00:00:00+00:00",
          "2023-02-23T03:00:00+00:00",
          "2023-02-23T06:00:00+00:00",
          "2023-02-23T09:00:00+00:00",
          "2023-02-23T12:00:00+00:00",
          "2023-02-23T15:00:00+00:00",
          "2023-02-23T18:00:00+00:00",
          "2023-02-23T21:00:00+00:00",
          "2023-02-24T00:00:00+00:00",
          "2023-02-24T03:00:00+00:00",
          "2023-02-24T06:00:00+00:00",
          "2023-02-24T09:00:00+00:00",
          "2023-02-24T12:00:00+00:00",
          "2023-02-24T15:00:00+00:00",
          "2023-02-24T18:00:00+00:00",
          "2023-02-24T21:00:00+00:00",
          "2023-02-25T00:00:00+00:00",
          "2023-02-25T03:00:00+00:00",
          "2023-02-25T06:00:00+00:00",
          "2023-02-25T09:00:00+00:00",
          "2023-02-25T12:00:00+00:00",
          "2023-02-25T15:00:00+00:00",
          "2023-02-25T18:00:00+00:00",
          "2023-02-25T21:00:00+00:00",
          "2023-02-26T00:00:00+00:00",
          "2023-02-26T03:00:00+00:00",
          "2023-02-26T06:00:00+00:00",
          "2023-02-26T09:00:00+00:00",
          "2023-02-26T12:00:00+00:00",
          "2023-02-26T15:00:00+00:00",
          "2023-02-26T18:00:00+00:00",
          "2023-02-26T21:00:00+00:00"
         ],
         "xaxis": "x",
         "y": [
          null,
          null,
          null,
          null,
          null,
          null,
          null,
          null,
          null,
          null,
          null,
          null,
          null,
          null,
          null,
          null,
          null,
          null,
          null,
          null,
          null,
          null,
          null,
          null,
          null,
          null,
          null,
          null,
          null,
          null,
          null,
          null,
          null,
          null,
          null,
          null,
          null,
          null,
          null,
          null,
          null,
          null,
          null,
          null,
          null,
          null,
          null,
          null,
          null,
          null,
          null,
          null,
          null,
          null,
          null,
          null,
          null,
          null,
          null,
          null,
          null,
          null,
          null,
          null,
          null,
          null,
          null,
          null,
          null,
          null,
          null,
          null,
          null,
          null,
          null,
          null,
          null,
          null,
          null,
          null,
          null,
          null,
          null,
          null,
          null,
          null,
          null,
          null,
          null,
          null,
          null,
          null,
          null,
          null,
          null,
          null,
          null,
          null,
          null,
          null,
          null,
          null,
          null,
          null,
          null,
          null,
          null,
          null,
          null,
          null,
          null,
          null,
          null,
          null,
          null,
          null,
          null,
          null,
          null,
          17.11182077241446,
          15.214287428513488,
          11.948239575739768,
          12.330598177586136,
          14.837304787003715,
          18.98437129953111,
          22.005001645966455,
          22.96735975211286,
          23.071223097938333,
          23.092936137231714,
          23.265925136075808,
          22.205111658841858,
          21.126283068984137,
          19.670559869345496,
          17.252779791159774,
          16.48061376223559,
          14.68539756386905,
          12.704566436518395,
          10.435177907045773,
          9.299232202454773,
          8.967178152817906,
          7.169803239671981,
          5.698331108958219,
          5.63268452714099,
          5.356874770772519,
          5.11229547723806,
          5.032600149899604,
          6.064069775852383,
          6.456825599761588,
          6.854794132364943,
          7.86757075287461,
          8.093880571517069,
          7.157232190156323,
          6.487937334201555
         ],
         "yaxis": "y"
        }
       ],
       "layout": {
        "legend": {
         "title": {
          "text": ""
         },
         "tracegroupgap": 0
        },
        "template": {
         "data": {
          "bar": [
           {
            "error_x": {
             "color": "#2a3f5f"
            },
            "error_y": {
             "color": "#2a3f5f"
            },
            "marker": {
             "line": {
              "color": "#E5ECF6",
              "width": 0.5
             },
             "pattern": {
              "fillmode": "overlay",
              "size": 10,
              "solidity": 0.2
             }
            },
            "type": "bar"
           }
          ],
          "barpolar": [
           {
            "marker": {
             "line": {
              "color": "#E5ECF6",
              "width": 0.5
             },
             "pattern": {
              "fillmode": "overlay",
              "size": 10,
              "solidity": 0.2
             }
            },
            "type": "barpolar"
           }
          ],
          "carpet": [
           {
            "aaxis": {
             "endlinecolor": "#2a3f5f",
             "gridcolor": "white",
             "linecolor": "white",
             "minorgridcolor": "white",
             "startlinecolor": "#2a3f5f"
            },
            "baxis": {
             "endlinecolor": "#2a3f5f",
             "gridcolor": "white",
             "linecolor": "white",
             "minorgridcolor": "white",
             "startlinecolor": "#2a3f5f"
            },
            "type": "carpet"
           }
          ],
          "choropleth": [
           {
            "colorbar": {
             "outlinewidth": 0,
             "ticks": ""
            },
            "type": "choropleth"
           }
          ],
          "contour": [
           {
            "colorbar": {
             "outlinewidth": 0,
             "ticks": ""
            },
            "colorscale": [
             [
              0,
              "#0d0887"
             ],
             [
              0.1111111111111111,
              "#46039f"
             ],
             [
              0.2222222222222222,
              "#7201a8"
             ],
             [
              0.3333333333333333,
              "#9c179e"
             ],
             [
              0.4444444444444444,
              "#bd3786"
             ],
             [
              0.5555555555555556,
              "#d8576b"
             ],
             [
              0.6666666666666666,
              "#ed7953"
             ],
             [
              0.7777777777777778,
              "#fb9f3a"
             ],
             [
              0.8888888888888888,
              "#fdca26"
             ],
             [
              1,
              "#f0f921"
             ]
            ],
            "type": "contour"
           }
          ],
          "contourcarpet": [
           {
            "colorbar": {
             "outlinewidth": 0,
             "ticks": ""
            },
            "type": "contourcarpet"
           }
          ],
          "heatmap": [
           {
            "colorbar": {
             "outlinewidth": 0,
             "ticks": ""
            },
            "colorscale": [
             [
              0,
              "#0d0887"
             ],
             [
              0.1111111111111111,
              "#46039f"
             ],
             [
              0.2222222222222222,
              "#7201a8"
             ],
             [
              0.3333333333333333,
              "#9c179e"
             ],
             [
              0.4444444444444444,
              "#bd3786"
             ],
             [
              0.5555555555555556,
              "#d8576b"
             ],
             [
              0.6666666666666666,
              "#ed7953"
             ],
             [
              0.7777777777777778,
              "#fb9f3a"
             ],
             [
              0.8888888888888888,
              "#fdca26"
             ],
             [
              1,
              "#f0f921"
             ]
            ],
            "type": "heatmap"
           }
          ],
          "heatmapgl": [
           {
            "colorbar": {
             "outlinewidth": 0,
             "ticks": ""
            },
            "colorscale": [
             [
              0,
              "#0d0887"
             ],
             [
              0.1111111111111111,
              "#46039f"
             ],
             [
              0.2222222222222222,
              "#7201a8"
             ],
             [
              0.3333333333333333,
              "#9c179e"
             ],
             [
              0.4444444444444444,
              "#bd3786"
             ],
             [
              0.5555555555555556,
              "#d8576b"
             ],
             [
              0.6666666666666666,
              "#ed7953"
             ],
             [
              0.7777777777777778,
              "#fb9f3a"
             ],
             [
              0.8888888888888888,
              "#fdca26"
             ],
             [
              1,
              "#f0f921"
             ]
            ],
            "type": "heatmapgl"
           }
          ],
          "histogram": [
           {
            "marker": {
             "pattern": {
              "fillmode": "overlay",
              "size": 10,
              "solidity": 0.2
             }
            },
            "type": "histogram"
           }
          ],
          "histogram2d": [
           {
            "colorbar": {
             "outlinewidth": 0,
             "ticks": ""
            },
            "colorscale": [
             [
              0,
              "#0d0887"
             ],
             [
              0.1111111111111111,
              "#46039f"
             ],
             [
              0.2222222222222222,
              "#7201a8"
             ],
             [
              0.3333333333333333,
              "#9c179e"
             ],
             [
              0.4444444444444444,
              "#bd3786"
             ],
             [
              0.5555555555555556,
              "#d8576b"
             ],
             [
              0.6666666666666666,
              "#ed7953"
             ],
             [
              0.7777777777777778,
              "#fb9f3a"
             ],
             [
              0.8888888888888888,
              "#fdca26"
             ],
             [
              1,
              "#f0f921"
             ]
            ],
            "type": "histogram2d"
           }
          ],
          "histogram2dcontour": [
           {
            "colorbar": {
             "outlinewidth": 0,
             "ticks": ""
            },
            "colorscale": [
             [
              0,
              "#0d0887"
             ],
             [
              0.1111111111111111,
              "#46039f"
             ],
             [
              0.2222222222222222,
              "#7201a8"
             ],
             [
              0.3333333333333333,
              "#9c179e"
             ],
             [
              0.4444444444444444,
              "#bd3786"
             ],
             [
              0.5555555555555556,
              "#d8576b"
             ],
             [
              0.6666666666666666,
              "#ed7953"
             ],
             [
              0.7777777777777778,
              "#fb9f3a"
             ],
             [
              0.8888888888888888,
              "#fdca26"
             ],
             [
              1,
              "#f0f921"
             ]
            ],
            "type": "histogram2dcontour"
           }
          ],
          "mesh3d": [
           {
            "colorbar": {
             "outlinewidth": 0,
             "ticks": ""
            },
            "type": "mesh3d"
           }
          ],
          "parcoords": [
           {
            "line": {
             "colorbar": {
              "outlinewidth": 0,
              "ticks": ""
             }
            },
            "type": "parcoords"
           }
          ],
          "pie": [
           {
            "automargin": true,
            "type": "pie"
           }
          ],
          "scatter": [
           {
            "fillpattern": {
             "fillmode": "overlay",
             "size": 10,
             "solidity": 0.2
            },
            "type": "scatter"
           }
          ],
          "scatter3d": [
           {
            "line": {
             "colorbar": {
              "outlinewidth": 0,
              "ticks": ""
             }
            },
            "marker": {
             "colorbar": {
              "outlinewidth": 0,
              "ticks": ""
             }
            },
            "type": "scatter3d"
           }
          ],
          "scattercarpet": [
           {
            "marker": {
             "colorbar": {
              "outlinewidth": 0,
              "ticks": ""
             }
            },
            "type": "scattercarpet"
           }
          ],
          "scattergeo": [
           {
            "marker": {
             "colorbar": {
              "outlinewidth": 0,
              "ticks": ""
             }
            },
            "type": "scattergeo"
           }
          ],
          "scattergl": [
           {
            "marker": {
             "colorbar": {
              "outlinewidth": 0,
              "ticks": ""
             }
            },
            "type": "scattergl"
           }
          ],
          "scattermapbox": [
           {
            "marker": {
             "colorbar": {
              "outlinewidth": 0,
              "ticks": ""
             }
            },
            "type": "scattermapbox"
           }
          ],
          "scatterpolar": [
           {
            "marker": {
             "colorbar": {
              "outlinewidth": 0,
              "ticks": ""
             }
            },
            "type": "scatterpolar"
           }
          ],
          "scatterpolargl": [
           {
            "marker": {
             "colorbar": {
              "outlinewidth": 0,
              "ticks": ""
             }
            },
            "type": "scatterpolargl"
           }
          ],
          "scatterternary": [
           {
            "marker": {
             "colorbar": {
              "outlinewidth": 0,
              "ticks": ""
             }
            },
            "type": "scatterternary"
           }
          ],
          "surface": [
           {
            "colorbar": {
             "outlinewidth": 0,
             "ticks": ""
            },
            "colorscale": [
             [
              0,
              "#0d0887"
             ],
             [
              0.1111111111111111,
              "#46039f"
             ],
             [
              0.2222222222222222,
              "#7201a8"
             ],
             [
              0.3333333333333333,
              "#9c179e"
             ],
             [
              0.4444444444444444,
              "#bd3786"
             ],
             [
              0.5555555555555556,
              "#d8576b"
             ],
             [
              0.6666666666666666,
              "#ed7953"
             ],
             [
              0.7777777777777778,
              "#fb9f3a"
             ],
             [
              0.8888888888888888,
              "#fdca26"
             ],
             [
              1,
              "#f0f921"
             ]
            ],
            "type": "surface"
           }
          ],
          "table": [
           {
            "cells": {
             "fill": {
              "color": "#EBF0F8"
             },
             "line": {
              "color": "white"
             }
            },
            "header": {
             "fill": {
              "color": "#C8D4E3"
             },
             "line": {
              "color": "white"
             }
            },
            "type": "table"
           }
          ]
         },
         "layout": {
          "annotationdefaults": {
           "arrowcolor": "#2a3f5f",
           "arrowhead": 0,
           "arrowwidth": 1
          },
          "autotypenumbers": "strict",
          "coloraxis": {
           "colorbar": {
            "outlinewidth": 0,
            "ticks": ""
           }
          },
          "colorscale": {
           "diverging": [
            [
             0,
             "#8e0152"
            ],
            [
             0.1,
             "#c51b7d"
            ],
            [
             0.2,
             "#de77ae"
            ],
            [
             0.3,
             "#f1b6da"
            ],
            [
             0.4,
             "#fde0ef"
            ],
            [
             0.5,
             "#f7f7f7"
            ],
            [
             0.6,
             "#e6f5d0"
            ],
            [
             0.7,
             "#b8e186"
            ],
            [
             0.8,
             "#7fbc41"
            ],
            [
             0.9,
             "#4d9221"
            ],
            [
             1,
             "#276419"
            ]
           ],
           "sequential": [
            [
             0,
             "#0d0887"
            ],
            [
             0.1111111111111111,
             "#46039f"
            ],
            [
             0.2222222222222222,
             "#7201a8"
            ],
            [
             0.3333333333333333,
             "#9c179e"
            ],
            [
             0.4444444444444444,
             "#bd3786"
            ],
            [
             0.5555555555555556,
             "#d8576b"
            ],
            [
             0.6666666666666666,
             "#ed7953"
            ],
            [
             0.7777777777777778,
             "#fb9f3a"
            ],
            [
             0.8888888888888888,
             "#fdca26"
            ],
            [
             1,
             "#f0f921"
            ]
           ],
           "sequentialminus": [
            [
             0,
             "#0d0887"
            ],
            [
             0.1111111111111111,
             "#46039f"
            ],
            [
             0.2222222222222222,
             "#7201a8"
            ],
            [
             0.3333333333333333,
             "#9c179e"
            ],
            [
             0.4444444444444444,
             "#bd3786"
            ],
            [
             0.5555555555555556,
             "#d8576b"
            ],
            [
             0.6666666666666666,
             "#ed7953"
            ],
            [
             0.7777777777777778,
             "#fb9f3a"
            ],
            [
             0.8888888888888888,
             "#fdca26"
            ],
            [
             1,
             "#f0f921"
            ]
           ]
          },
          "colorway": [
           "#636efa",
           "#EF553B",
           "#00cc96",
           "#ab63fa",
           "#FFA15A",
           "#19d3f3",
           "#FF6692",
           "#B6E880",
           "#FF97FF",
           "#FECB52"
          ],
          "font": {
           "color": "#2a3f5f"
          },
          "geo": {
           "bgcolor": "white",
           "lakecolor": "white",
           "landcolor": "#E5ECF6",
           "showlakes": true,
           "showland": true,
           "subunitcolor": "white"
          },
          "hoverlabel": {
           "align": "left"
          },
          "hovermode": "closest",
          "mapbox": {
           "style": "light"
          },
          "paper_bgcolor": "white",
          "plot_bgcolor": "#E5ECF6",
          "polar": {
           "angularaxis": {
            "gridcolor": "white",
            "linecolor": "white",
            "ticks": ""
           },
           "bgcolor": "#E5ECF6",
           "radialaxis": {
            "gridcolor": "white",
            "linecolor": "white",
            "ticks": ""
           }
          },
          "scene": {
           "xaxis": {
            "backgroundcolor": "#E5ECF6",
            "gridcolor": "white",
            "gridwidth": 2,
            "linecolor": "white",
            "showbackground": true,
            "ticks": "",
            "zerolinecolor": "white"
           },
           "yaxis": {
            "backgroundcolor": "#E5ECF6",
            "gridcolor": "white",
            "gridwidth": 2,
            "linecolor": "white",
            "showbackground": true,
            "ticks": "",
            "zerolinecolor": "white"
           },
           "zaxis": {
            "backgroundcolor": "#E5ECF6",
            "gridcolor": "white",
            "gridwidth": 2,
            "linecolor": "white",
            "showbackground": true,
            "ticks": "",
            "zerolinecolor": "white"
           }
          },
          "shapedefaults": {
           "line": {
            "color": "#2a3f5f"
           }
          },
          "ternary": {
           "aaxis": {
            "gridcolor": "white",
            "linecolor": "white",
            "ticks": ""
           },
           "baxis": {
            "gridcolor": "white",
            "linecolor": "white",
            "ticks": ""
           },
           "bgcolor": "#E5ECF6",
           "caxis": {
            "gridcolor": "white",
            "linecolor": "white",
            "ticks": ""
           }
          },
          "title": {
           "x": 0.05
          },
          "xaxis": {
           "automargin": true,
           "gridcolor": "white",
           "linecolor": "white",
           "ticks": "",
           "title": {
            "standoff": 15
           },
           "zerolinecolor": "white",
           "zerolinewidth": 2
          },
          "yaxis": {
           "automargin": true,
           "gridcolor": "white",
           "linecolor": "white",
           "ticks": "",
           "title": {
            "standoff": 15
           },
           "zerolinecolor": "white",
           "zerolinewidth": 2
          }
         }
        },
        "title": {
         "text": "Power Generation Forecast (Test Data and Forecasted Future)"
        },
        "xaxis": {
         "anchor": "y",
         "domain": [
          0,
          1
         ],
         "title": {
          "text": "Date"
         }
        },
        "yaxis": {
         "anchor": "x",
         "domain": [
          0,
          1
         ],
         "title": {
          "text": "Power Generation (MW)"
         }
        }
       }
      }
     },
     "metadata": {},
     "output_type": "display_data"
    }
   ],
   "source": [
    "# plot final_df using plotly\n",
    "fig = px.line(final_df, x=final_df.index, y=[\"Model\", \"Actual\", \"Forecast\"], title=\"Power Generation Forecast (Test Data and Forecasted Future)\")\n",
    "# add x and y axis labels\n",
    "fig.update_xaxes(title_text=\"Date\")\n",
    "fig.update_yaxes(title_text=\"Power Generation (MW)\")\n",
    "# change legend heading\n",
    "fig.update_layout(legend_title_text=\"\")\n",
    "fig.show()\n"
   ]
  },
  {
   "cell_type": "code",
   "execution_count": null,
   "metadata": {},
   "outputs": [],
   "source": []
  }
 ],
 "metadata": {
  "kernelspec": {
   "display_name": "Python 3",
   "language": "python",
   "name": "python3"
  },
  "language_info": {
   "codemirror_mode": {
    "name": "ipython",
    "version": 3
   },
   "file_extension": ".py",
   "mimetype": "text/x-python",
   "name": "python",
   "nbconvert_exporter": "python",
   "pygments_lexer": "ipython3",
   "version": "3.11.1"
  },
  "orig_nbformat": 4,
  "vscode": {
   "interpreter": {
    "hash": "5238573367df39f7286bb46f9ff5f08f63a01a80960060ce41e3c79b190280fa"
   }
  }
 },
 "nbformat": 4,
 "nbformat_minor": 2
}
