{
 "cells": [
  {
   "cell_type": "code",
   "execution_count": 1,
   "metadata": {},
   "outputs": [],
   "source": [
    "import plotly.express as px\n",
    "from sklearn.pipeline import Pipeline\n",
    "from sklearn.compose import ColumnTransformer\n",
    "from sklearn.preprocessing import StandardScaler\n",
    "from sklearn.preprocessing import PolynomialFeatures\n",
    "from sklearn.model_selection import GridSearchCV\n",
    "import pandas as pd\n",
    "from tqdm import tqdm\n",
    "import joblib\n",
    "import datetime as dt\n",
    "from sklearn.model_selection import TimeSeriesSplit\n",
    "from skimpy import skim\n",
    "import matplotlib.pyplot as plt\n",
    "import numpy as np\n",
    "from sklearn.base import BaseEstimator, TransformerMixin\n",
    "from sklearn.compose import make_column_transformer\n",
    "from sklearn.model_selection import train_test_split"
   ]
  },
  {
   "cell_type": "code",
   "execution_count": 2,
   "metadata": {},
   "outputs": [],
   "source": [
    "from sklearn.linear_model import LinearRegression\n",
    "from sklearn.linear_model import Ridge\n",
    "from sklearn.linear_model import Lasso\n",
    "from sklearn.linear_model import ElasticNet\n",
    "from sklearn.tree import DecisionTreeRegressor\n",
    "from sklearn.ensemble import RandomForestRegressor\n",
    "from sklearn.ensemble import GradientBoostingRegressor\n",
    "from sklearn.neighbors import KNeighborsRegressor\n",
    "from sklearn.svm import SVR\n",
    "from sklearn.neural_network import MLPRegressor\n",
    "from sklearn.linear_model import HuberRegressor\n",
    "from sklearn.linear_model import RANSACRegressor\n",
    "from sklearn.gaussian_process import GaussianProcessRegressor\n",
    "from sklearn.gaussian_process.kernels import DotProduct, WhiteKernel, RBF"
   ]
  },
  {
   "cell_type": "code",
   "execution_count": 3,
   "metadata": {},
   "outputs": [],
   "source": [
    "import warnings\n",
    "warnings.filterwarnings('ignore')"
   ]
  },
  {
   "cell_type": "code",
   "execution_count": 4,
   "metadata": {},
   "outputs": [],
   "source": [
    "import sys\n",
    "sys.path.append('..')\n",
    "import fx"
   ]
  },
  {
   "cell_type": "code",
   "execution_count": 5,
   "metadata": {},
   "outputs": [],
   "source": [
    "data = fx.pull_data(days=90)"
   ]
  },
  {
   "cell_type": "code",
   "execution_count": 6,
   "metadata": {},
   "outputs": [
    {
     "data": {
      "text/html": [
       "<div>\n",
       "<style scoped>\n",
       "    .dataframe tbody tr th:only-of-type {\n",
       "        vertical-align: middle;\n",
       "    }\n",
       "\n",
       "    .dataframe tbody tr th {\n",
       "        vertical-align: top;\n",
       "    }\n",
       "\n",
       "    .dataframe thead th {\n",
       "        text-align: right;\n",
       "    }\n",
       "</style>\n",
       "<table border=\"1\" class=\"dataframe\">\n",
       "  <thead>\n",
       "    <tr style=\"text-align: right;\">\n",
       "      <th></th>\n",
       "      <th>ANM</th>\n",
       "      <th>Non-ANM</th>\n",
       "      <th>Total</th>\n",
       "      <th>Direction</th>\n",
       "      <th>Lead_hours</th>\n",
       "      <th>Source_time</th>\n",
       "      <th>Speed</th>\n",
       "    </tr>\n",
       "    <tr>\n",
       "      <th>time</th>\n",
       "      <th></th>\n",
       "      <th></th>\n",
       "      <th></th>\n",
       "      <th></th>\n",
       "      <th></th>\n",
       "      <th></th>\n",
       "      <th></th>\n",
       "    </tr>\n",
       "  </thead>\n",
       "  <tbody>\n",
       "    <tr>\n",
       "      <th>2023-01-29 18:00:00+00:00</th>\n",
       "      <td>14.465300</td>\n",
       "      <td>10.749883</td>\n",
       "      <td>25.215184</td>\n",
       "      <td>W</td>\n",
       "      <td>1</td>\n",
       "      <td>1.675008e+09</td>\n",
       "      <td>17.88160</td>\n",
       "    </tr>\n",
       "    <tr>\n",
       "      <th>2023-01-29 21:00:00+00:00</th>\n",
       "      <td>14.801258</td>\n",
       "      <td>10.672039</td>\n",
       "      <td>25.473297</td>\n",
       "      <td>W</td>\n",
       "      <td>1</td>\n",
       "      <td>1.675019e+09</td>\n",
       "      <td>17.88160</td>\n",
       "    </tr>\n",
       "    <tr>\n",
       "      <th>2023-01-30 00:00:00+00:00</th>\n",
       "      <td>14.602020</td>\n",
       "      <td>10.991344</td>\n",
       "      <td>25.593365</td>\n",
       "      <td>WNW</td>\n",
       "      <td>1</td>\n",
       "      <td>1.675030e+09</td>\n",
       "      <td>12.96416</td>\n",
       "    </tr>\n",
       "    <tr>\n",
       "      <th>2023-01-30 03:00:00+00:00</th>\n",
       "      <td>14.650979</td>\n",
       "      <td>11.169567</td>\n",
       "      <td>25.820546</td>\n",
       "      <td>NW</td>\n",
       "      <td>1</td>\n",
       "      <td>1.675040e+09</td>\n",
       "      <td>19.22272</td>\n",
       "    </tr>\n",
       "    <tr>\n",
       "      <th>2023-01-30 06:00:00+00:00</th>\n",
       "      <td>13.776639</td>\n",
       "      <td>11.340161</td>\n",
       "      <td>25.116800</td>\n",
       "      <td>NNW</td>\n",
       "      <td>1</td>\n",
       "      <td>1.675051e+09</td>\n",
       "      <td>13.85824</td>\n",
       "    </tr>\n",
       "  </tbody>\n",
       "</table>\n",
       "</div>"
      ],
      "text/plain": [
       "                                 ANM    Non-ANM      Total Direction  \\\n",
       "time                                                                   \n",
       "2023-01-29 18:00:00+00:00  14.465300  10.749883  25.215184         W   \n",
       "2023-01-29 21:00:00+00:00  14.801258  10.672039  25.473297         W   \n",
       "2023-01-30 00:00:00+00:00  14.602020  10.991344  25.593365       WNW   \n",
       "2023-01-30 03:00:00+00:00  14.650979  11.169567  25.820546        NW   \n",
       "2023-01-30 06:00:00+00:00  13.776639  11.340161  25.116800       NNW   \n",
       "\n",
       "                          Lead_hours   Source_time     Speed  \n",
       "time                                                          \n",
       "2023-01-29 18:00:00+00:00          1  1.675008e+09  17.88160  \n",
       "2023-01-29 21:00:00+00:00          1  1.675019e+09  17.88160  \n",
       "2023-01-30 00:00:00+00:00          1  1.675030e+09  12.96416  \n",
       "2023-01-30 03:00:00+00:00          1  1.675040e+09  19.22272  \n",
       "2023-01-30 06:00:00+00:00          1  1.675051e+09  13.85824  "
      ]
     },
     "execution_count": 6,
     "metadata": {},
     "output_type": "execute_result"
    }
   ],
   "source": [
    "data.head(5)"
   ]
  },
  {
   "cell_type": "code",
   "execution_count": 7,
   "metadata": {},
   "outputs": [],
   "source": [
    "anm_pipeline = Pipeline(steps=[\n",
    "    (\"col_transformer\", ColumnTransformer(transformers=[\n",
    "        (\"time\", None, []),\n",
    "        (\"Speed\", None, [\"Speed\"]),\n",
    "        (\"Direction\", None, [\"Direction\"]),\n",
    "        ], remainder=\"drop\")),\n",
    "    (\"model\", None)\n",
    "])\n",
    "\n",
    "anm_params = {\n",
    "    'col_transformer__time' : [\"drop\", None, fx.TimestampTransformer()],\n",
    "    'col_transformer__Speed': [None, StandardScaler(), PolynomialFeatures(), fx.EmpiricalWaveletTransform(level=5)],\n",
    "    'col_transformer__Direction': [\"drop\", fx.WindDirectionMapper(), fx.CompassToCartesianTransformer()],\n",
    "    'model': [\n",
    "        LinearRegression(), \n",
    "        MLPRegressor(hidden_layer_sizes=(150, 150), activation='tanh', solver='sgd'), \n",
    "        SVR(kernel='rbf', gamma='scale', C=1.0, epsilon=0.1),\n",
    "        HuberRegressor(epsilon=1.35, alpha=0.0001),\n",
    "        RANSACRegressor(min_samples=0.1, max_trials=100),\n",
    "        GaussianProcessRegressor(alpha=0.1, kernel=RBF()) \n",
    "    ]\n",
    "}"
   ]
  },
  {
   "cell_type": "code",
   "execution_count": 8,
   "metadata": {},
   "outputs": [],
   "source": [
    "non_anm_pipeline = Pipeline(steps=[\n",
    "    (\"col_transformer\", ColumnTransformer(transformers=[\n",
    "        (\"Speed\", None, [\"Speed\"]),\n",
    "        (\"Direction\", None, [\"Direction\"]),\n",
    "        ], remainder=\"drop\")),\n",
    "    (\"model\", None)\n",
    "])\n",
    "\n",
    "non_anm_params = {\n",
    "    'col_transformer__Speed': [None, StandardScaler(), PolynomialFeatures(), fx.EmpiricalWaveletTransform(level=5)],\n",
    "    'col_transformer__Direction': [\"drop\", fx.WindDirectionMapper(), fx.CompassToCartesianTransformer()],\n",
    "    'model': [\n",
    "        LinearRegression(), \n",
    "        MLPRegressor(hidden_layer_sizes=(150, 150), activation='tanh', solver='sgd'), \n",
    "        SVR(kernel='rbf', gamma='scale', C=1.0, epsilon=0.1),\n",
    "        HuberRegressor(epsilon=1.35, alpha=0.0001),\n",
    "        RANSACRegressor(min_samples=0.1, max_trials=100),\n",
    "        GaussianProcessRegressor(alpha=0.1, kernel=RBF()) \n",
    "    ]\n",
    "}"
   ]
  },
  {
   "cell_type": "code",
   "execution_count": 9,
   "metadata": {},
   "outputs": [],
   "source": [
    "tscv = TimeSeriesSplit(n_splits=5)"
   ]
  },
  {
   "cell_type": "code",
   "execution_count": 10,
   "metadata": {},
   "outputs": [],
   "source": [
    "anm_gridsearch = GridSearchCV(anm_pipeline, anm_params, cv=tscv, scoring='neg_mean_squared_error', n_jobs=-1, verbose=1)\n",
    "non_anm_gridsearch = GridSearchCV(non_anm_pipeline, non_anm_params, cv=tscv, scoring='neg_mean_squared_error', n_jobs=-1, verbose=1)"
   ]
  },
  {
   "cell_type": "code",
   "execution_count": 11,
   "metadata": {},
   "outputs": [],
   "source": [
    "ANM_X_train, ANM_y_train, ANM_X_test, ANM_y_test = fx.data_splitting(data, output_val=\"ANM\")\n",
    "non_ANM_X_train, non_ANM_y_train, non_ANM_X_test, non_ANM_y_test = fx.data_splitting(data, output_val=\"Non-ANM\")\n",
    "total_X_train, total_y_train, total_X_test, total_y_test = fx.data_splitting(data, output_val=\"Total\")"
   ]
  },
  {
   "cell_type": "code",
   "execution_count": 12,
   "metadata": {},
   "outputs": [
    {
     "data": {
      "text/plain": [
       "True"
      ]
     },
     "execution_count": 12,
     "metadata": {},
     "output_type": "execute_result"
    }
   ],
   "source": [
    "# check that all test sets are same length\n",
    "len(ANM_y_test) == len(non_ANM_y_test) == len(total_y_test)"
   ]
  },
  {
   "cell_type": "code",
   "execution_count": 13,
   "metadata": {},
   "outputs": [],
   "source": [
    "def train_models(X_train, y_train, X_test, y_test, gridsearch):\n",
    "    gridsearch.fit(X_train, y_train)\n",
    "    print(\"Best params: \", gridsearch.best_params_)\n",
    "    print(\"Best score: \", gridsearch.best_score_)\n",
    "    print(\"Test score: \", gridsearch.score(X_test, y_test))\n",
    "    return gridsearch"
   ]
  },
  {
   "cell_type": "code",
   "execution_count": 14,
   "metadata": {},
   "outputs": [
    {
     "name": "stdout",
     "output_type": "stream",
     "text": [
      "Fitting 5 folds for each of 216 candidates, totalling 1080 fits\n",
      "Best params:  {'col_transformer__Direction': CompassToCartesianTransformer(), 'col_transformer__Speed': StandardScaler(), 'col_transformer__time': 'drop', 'model': MLPRegressor(activation='tanh', hidden_layer_sizes=(150, 150), solver='sgd')}\n",
      "Best score:  -5.8520407955620355\n",
      "Test score:  -5.8062024356441855\n"
     ]
    }
   ],
   "source": [
    "anm_gridsearch = train_models(ANM_X_train, ANM_y_train, ANM_X_test, ANM_y_test, anm_gridsearch)"
   ]
  },
  {
   "cell_type": "code",
   "execution_count": 15,
   "metadata": {},
   "outputs": [
    {
     "name": "stdout",
     "output_type": "stream",
     "text": [
      "Fitting 5 folds for each of 72 candidates, totalling 360 fits\n",
      "Best params:  {'col_transformer__Direction': CompassToCartesianTransformer(), 'col_transformer__Speed': PolynomialFeatures(), 'model': HuberRegressor()}\n",
      "Best score:  -7.706684989242707\n",
      "Test score:  -7.62505218809147\n"
     ]
    }
   ],
   "source": [
    "non_anm_gridsearch = train_models(non_ANM_X_train, non_ANM_y_train, non_ANM_X_test, non_ANM_y_test, non_anm_gridsearch)"
   ]
  },
  {
   "cell_type": "code",
   "execution_count": 16,
   "metadata": {},
   "outputs": [],
   "source": [
    "def predict_and_combine(ANM_X_test, non_ANM_X_test, y_test, anm_gridsearch, non_anm_gridsearch):\n",
    "    anm_pred = anm_gridsearch.predict(ANM_X_test)\n",
    "    non_anm_pred = non_anm_gridsearch.predict(non_ANM_X_test)\n",
    "    pred = anm_pred + non_anm_pred\n",
    "    print(f\"Overall test score: {fx.MSE(pred, y_test)}\")\n",
    "    return pred"
   ]
  },
  {
   "cell_type": "code",
   "execution_count": 17,
   "metadata": {},
   "outputs": [
    {
     "name": "stdout",
     "output_type": "stream",
     "text": [
      "Overall test score: 24.02933041507413\n"
     ]
    }
   ],
   "source": [
    "combined_pred = predict_and_combine(ANM_X_test, non_ANM_X_test, total_y_test, anm_gridsearch, non_anm_gridsearch)"
   ]
  },
  {
   "cell_type": "code",
   "execution_count": 18,
   "metadata": {},
   "outputs": [],
   "source": [
    "def save_models(anm_gridsearch, non_anm_gridsearch):\n",
    "    joblib.dump(anm_gridsearch, rf\"models\\anm_gridsearch_{dt.date.today()}.pkl\")\n",
    "    joblib.dump(non_anm_gridsearch, rf\"models\\non_anm_gridsearch_{dt.date.today()}.pkl\")\n",
    "    return"
   ]
  },
  {
   "cell_type": "code",
   "execution_count": 19,
   "metadata": {},
   "outputs": [],
   "source": [
    "save_models(anm_gridsearch, non_anm_gridsearch)"
   ]
  },
  {
   "cell_type": "code",
   "execution_count": 20,
   "metadata": {},
   "outputs": [],
   "source": [
    "def load_models_and_train_on_all_data(data, anm_gridsearch, non_anm_gridsearch):\n",
    "    # naming schemes is not my strong suit\n",
    "    anm_X_train, anm_y_train = fx.final_data_splitting(data, output_val=\"ANM\")\n",
    "    non_anm_X_train, non_anm_y_train = fx.final_data_splitting(data, output_val=\"Non-ANM\")\n",
    "    anm_gridsearch.fit(anm_X_train, anm_y_train)\n",
    "    non_anm_gridsearch.fit(non_anm_X_train, non_anm_y_train)\n",
    "    return anm_gridsearch, non_anm_gridsearch"
   ]
  },
  {
   "cell_type": "code",
   "execution_count": 21,
   "metadata": {},
   "outputs": [
    {
     "name": "stdout",
     "output_type": "stream",
     "text": [
      "Fitting 5 folds for each of 216 candidates, totalling 1080 fits\n",
      "Fitting 5 folds for each of 72 candidates, totalling 360 fits\n"
     ]
    }
   ],
   "source": [
    "anm_model, non_anm_model = load_models_and_train_on_all_data(data, anm_gridsearch, non_anm_gridsearch)"
   ]
  },
  {
   "cell_type": "code",
   "execution_count": 22,
   "metadata": {},
   "outputs": [],
   "source": [
    "forecast = fx.load_forecasts()"
   ]
  },
  {
   "cell_type": "code",
   "execution_count": 23,
   "metadata": {},
   "outputs": [
    {
     "data": {
      "text/html": [
       "<div>\n",
       "<style scoped>\n",
       "    .dataframe tbody tr th:only-of-type {\n",
       "        vertical-align: middle;\n",
       "    }\n",
       "\n",
       "    .dataframe tbody tr th {\n",
       "        vertical-align: top;\n",
       "    }\n",
       "\n",
       "    .dataframe thead th {\n",
       "        text-align: right;\n",
       "    }\n",
       "</style>\n",
       "<table border=\"1\" class=\"dataframe\">\n",
       "  <thead>\n",
       "    <tr style=\"text-align: right;\">\n",
       "      <th></th>\n",
       "      <th>Direction</th>\n",
       "      <th>Lead_hours</th>\n",
       "      <th>Source_time</th>\n",
       "      <th>Speed</th>\n",
       "    </tr>\n",
       "    <tr>\n",
       "      <th>time</th>\n",
       "      <th></th>\n",
       "      <th></th>\n",
       "      <th></th>\n",
       "      <th></th>\n",
       "    </tr>\n",
       "  </thead>\n",
       "  <tbody>\n",
       "    <tr>\n",
       "      <th>2023-04-29 18:00:00+00:00</th>\n",
       "      <td>ENE</td>\n",
       "      <td>106</td>\n",
       "      <td>1682402400</td>\n",
       "      <td>5.81152</td>\n",
       "    </tr>\n",
       "    <tr>\n",
       "      <th>2023-04-29 18:00:00+00:00</th>\n",
       "      <td>ENE</td>\n",
       "      <td>108</td>\n",
       "      <td>1682395200</td>\n",
       "      <td>5.81152</td>\n",
       "    </tr>\n",
       "    <tr>\n",
       "      <th>2023-04-29 18:00:00+00:00</th>\n",
       "      <td>ENE</td>\n",
       "      <td>109</td>\n",
       "      <td>1682391600</td>\n",
       "      <td>5.81152</td>\n",
       "    </tr>\n",
       "    <tr>\n",
       "      <th>2023-04-29 18:00:00+00:00</th>\n",
       "      <td>ENE</td>\n",
       "      <td>110</td>\n",
       "      <td>1682388000</td>\n",
       "      <td>5.81152</td>\n",
       "    </tr>\n",
       "    <tr>\n",
       "      <th>2023-04-29 18:00:00+00:00</th>\n",
       "      <td>ENE</td>\n",
       "      <td>111</td>\n",
       "      <td>1682384400</td>\n",
       "      <td>5.81152</td>\n",
       "    </tr>\n",
       "    <tr>\n",
       "      <th>...</th>\n",
       "      <td>...</td>\n",
       "      <td>...</td>\n",
       "      <td>...</td>\n",
       "      <td>...</td>\n",
       "    </tr>\n",
       "    <tr>\n",
       "      <th>2023-05-03 21:00:00+00:00</th>\n",
       "      <td>ESE</td>\n",
       "      <td>114</td>\n",
       "      <td>1682730000</td>\n",
       "      <td>8.04672</td>\n",
       "    </tr>\n",
       "    <tr>\n",
       "      <th>2023-05-03 21:00:00+00:00</th>\n",
       "      <td>ESE</td>\n",
       "      <td>115</td>\n",
       "      <td>1682726400</td>\n",
       "      <td>8.04672</td>\n",
       "    </tr>\n",
       "    <tr>\n",
       "      <th>2023-05-03 21:00:00+00:00</th>\n",
       "      <td>ESE</td>\n",
       "      <td>116</td>\n",
       "      <td>1682722800</td>\n",
       "      <td>7.15264</td>\n",
       "    </tr>\n",
       "    <tr>\n",
       "      <th>2023-05-03 21:00:00+00:00</th>\n",
       "      <td>ESE</td>\n",
       "      <td>117</td>\n",
       "      <td>1682719200</td>\n",
       "      <td>7.15264</td>\n",
       "    </tr>\n",
       "    <tr>\n",
       "      <th>2023-05-03 21:00:00+00:00</th>\n",
       "      <td>ESE</td>\n",
       "      <td>118</td>\n",
       "      <td>1682715600</td>\n",
       "      <td>7.15264</td>\n",
       "    </tr>\n",
       "  </tbody>\n",
       "</table>\n",
       "<p>1896 rows × 4 columns</p>\n",
       "</div>"
      ],
      "text/plain": [
       "                          Direction Lead_hours  Source_time    Speed\n",
       "time                                                                \n",
       "2023-04-29 18:00:00+00:00       ENE        106   1682402400  5.81152\n",
       "2023-04-29 18:00:00+00:00       ENE        108   1682395200  5.81152\n",
       "2023-04-29 18:00:00+00:00       ENE        109   1682391600  5.81152\n",
       "2023-04-29 18:00:00+00:00       ENE        110   1682388000  5.81152\n",
       "2023-04-29 18:00:00+00:00       ENE        111   1682384400  5.81152\n",
       "...                             ...        ...          ...      ...\n",
       "2023-05-03 21:00:00+00:00       ESE        114   1682730000  8.04672\n",
       "2023-05-03 21:00:00+00:00       ESE        115   1682726400  8.04672\n",
       "2023-05-03 21:00:00+00:00       ESE        116   1682722800  7.15264\n",
       "2023-05-03 21:00:00+00:00       ESE        117   1682719200  7.15264\n",
       "2023-05-03 21:00:00+00:00       ESE        118   1682715600  7.15264\n",
       "\n",
       "[1896 rows x 4 columns]"
      ]
     },
     "execution_count": 23,
     "metadata": {},
     "output_type": "execute_result"
    }
   ],
   "source": [
    "forecast"
   ]
  },
  {
   "cell_type": "code",
   "execution_count": 24,
   "metadata": {},
   "outputs": [],
   "source": [
    "total_X_train, total_y_train = fx.final_data_splitting(data, output_val=\"Total\")\n",
    "anm_pred = anm_model.predict(forecast)\n",
    "non_anm_pred = non_anm_model.predict(forecast)"
   ]
  },
  {
   "cell_type": "code",
   "execution_count": 25,
   "metadata": {},
   "outputs": [],
   "source": [
    "def create_forecast_df(forecast, anm_pred, non_anm_pred):\n",
    "    future = anm_pred + non_anm_pred\n",
    "    forecast[\"Power Generation Forecast\"] = future\n",
    "    forecast = forecast.resample(\"3H\").mean()\n",
    "    forecast.drop(columns=[\"Source_time\"], inplace=True)\n",
    "    return forecast"
   ]
  },
  {
   "cell_type": "code",
   "execution_count": 26,
   "metadata": {},
   "outputs": [],
   "source": [
    "forecast_df = create_forecast_df(forecast, anm_pred, non_anm_pred)"
   ]
  },
  {
   "cell_type": "code",
   "execution_count": 27,
   "metadata": {},
   "outputs": [],
   "source": [
    "def create_final_plotting_df(forecast_df, data):\n",
    "    # this code is just for plotting the final graph\n",
    "    ANM_X_train, ANM_y_train, ANM_X_test, ANM_y_test = fx.data_splitting(data, output_val=\"ANM\")\n",
    "    non_ANM_X_train, non_ANM_y_train, non_ANM_X_test, non_ANM_y_test = fx.data_splitting(data, output_val=\"Non-ANM\")\n",
    "    total_X_train, total_y_train, total_X_test, total_y_test = fx.data_splitting(data, output_val=\"Total\")\n",
    "\n",
    "    test_anm_pred = anm_model.predict(ANM_X_test)\n",
    "    test_non_anm_pred = non_anm_model.predict(non_ANM_X_test)\n",
    "\n",
    "    test_prediction = test_anm_pred + test_non_anm_pred\n",
    "    test_data = fx.create_timestamps(test_prediction, total_X_test, total_y_test)\n",
    "\n",
    "    # slice total_x_test data to only get data up to the forecast datapoint\n",
    "    total_X_test = total_X_test.loc[:forecast_df.index[0]]\n",
    "\n",
    "    wind_speed_data = pd.concat([forecast_df[\"Speed\"], total_X_test[\"Speed\"]], axis=0)\n",
    "\n",
    "    # combine testdata and forecastdf for easy plotting\n",
    "    final_df = pd.concat([test_data[[\"predict\", \"actual\"]], forecast_df[\"Power Generation Forecast\"]], axis=0)\n",
    "    final_df.columns = [\"Model\", \"Actual\", \"Forecast\"]\n",
    "    return final_df, wind_speed_data"
   ]
  },
  {
   "cell_type": "code",
   "execution_count": 28,
   "metadata": {},
   "outputs": [
    {
     "data": {
      "text/html": [
       "<div>\n",
       "<style scoped>\n",
       "    .dataframe tbody tr th:only-of-type {\n",
       "        vertical-align: middle;\n",
       "    }\n",
       "\n",
       "    .dataframe tbody tr th {\n",
       "        vertical-align: top;\n",
       "    }\n",
       "\n",
       "    .dataframe thead th {\n",
       "        text-align: right;\n",
       "    }\n",
       "</style>\n",
       "<table border=\"1\" class=\"dataframe\">\n",
       "  <thead>\n",
       "    <tr style=\"text-align: right;\">\n",
       "      <th></th>\n",
       "      <th>Model</th>\n",
       "      <th>Actual</th>\n",
       "      <th>Forecast</th>\n",
       "    </tr>\n",
       "  </thead>\n",
       "  <tbody>\n",
       "    <tr>\n",
       "      <th>2023-04-14 21:00:00+00:00</th>\n",
       "      <td>4.658336</td>\n",
       "      <td>5.874816</td>\n",
       "      <td>NaN</td>\n",
       "    </tr>\n",
       "    <tr>\n",
       "      <th>2023-04-15 00:00:00+00:00</th>\n",
       "      <td>6.335716</td>\n",
       "      <td>7.536321</td>\n",
       "      <td>NaN</td>\n",
       "    </tr>\n",
       "    <tr>\n",
       "      <th>2023-04-15 03:00:00+00:00</th>\n",
       "      <td>3.546812</td>\n",
       "      <td>6.447504</td>\n",
       "      <td>NaN</td>\n",
       "    </tr>\n",
       "    <tr>\n",
       "      <th>2023-04-15 06:00:00+00:00</th>\n",
       "      <td>6.335716</td>\n",
       "      <td>4.056163</td>\n",
       "      <td>NaN</td>\n",
       "    </tr>\n",
       "    <tr>\n",
       "      <th>2023-04-15 09:00:00+00:00</th>\n",
       "      <td>8.443519</td>\n",
       "      <td>5.533935</td>\n",
       "      <td>NaN</td>\n",
       "    </tr>\n",
       "    <tr>\n",
       "      <th>...</th>\n",
       "      <td>...</td>\n",
       "      <td>...</td>\n",
       "      <td>...</td>\n",
       "    </tr>\n",
       "    <tr>\n",
       "      <th>2023-05-03 09:00:00+00:00</th>\n",
       "      <td>NaN</td>\n",
       "      <td>NaN</td>\n",
       "      <td>7.397025</td>\n",
       "    </tr>\n",
       "    <tr>\n",
       "      <th>2023-05-03 12:00:00+00:00</th>\n",
       "      <td>NaN</td>\n",
       "      <td>NaN</td>\n",
       "      <td>9.698853</td>\n",
       "    </tr>\n",
       "    <tr>\n",
       "      <th>2023-05-03 15:00:00+00:00</th>\n",
       "      <td>NaN</td>\n",
       "      <td>NaN</td>\n",
       "      <td>10.381837</td>\n",
       "    </tr>\n",
       "    <tr>\n",
       "      <th>2023-05-03 18:00:00+00:00</th>\n",
       "      <td>NaN</td>\n",
       "      <td>NaN</td>\n",
       "      <td>11.469750</td>\n",
       "    </tr>\n",
       "    <tr>\n",
       "      <th>2023-05-03 21:00:00+00:00</th>\n",
       "      <td>NaN</td>\n",
       "      <td>NaN</td>\n",
       "      <td>13.119746</td>\n",
       "    </tr>\n",
       "  </tbody>\n",
       "</table>\n",
       "<p>153 rows × 3 columns</p>\n",
       "</div>"
      ],
      "text/plain": [
       "                              Model    Actual   Forecast\n",
       "2023-04-14 21:00:00+00:00  4.658336  5.874816        NaN\n",
       "2023-04-15 00:00:00+00:00  6.335716  7.536321        NaN\n",
       "2023-04-15 03:00:00+00:00  3.546812  6.447504        NaN\n",
       "2023-04-15 06:00:00+00:00  6.335716  4.056163        NaN\n",
       "2023-04-15 09:00:00+00:00  8.443519  5.533935        NaN\n",
       "...                             ...       ...        ...\n",
       "2023-05-03 09:00:00+00:00       NaN       NaN   7.397025\n",
       "2023-05-03 12:00:00+00:00       NaN       NaN   9.698853\n",
       "2023-05-03 15:00:00+00:00       NaN       NaN  10.381837\n",
       "2023-05-03 18:00:00+00:00       NaN       NaN  11.469750\n",
       "2023-05-03 21:00:00+00:00       NaN       NaN  13.119746\n",
       "\n",
       "[153 rows x 3 columns]"
      ]
     },
     "execution_count": 28,
     "metadata": {},
     "output_type": "execute_result"
    }
   ],
   "source": [
    "final_df, wind_speed_data = create_final_plotting_df(forecast_df, data)\n",
    "final_df"
   ]
  },
  {
   "cell_type": "code",
   "execution_count": 29,
   "metadata": {},
   "outputs": [
    {
     "data": {
      "application/vnd.plotly.v1+json": {
       "config": {
        "plotlyServerURL": "https://plot.ly"
       },
       "data": [
        {
         "customdata": [
          4.230914285714286,
          3.6601399999999997,
          3.3223200000000004,
          4.37896,
          6.1112400000000004,
          7.493,
          7.7216000000000005,
          7.24916,
          6.598920000000001,
          6.56336,
          6.726555,
          7.704454999999999,
          8.780145,
          8.60552,
          7.99084,
          7.76732,
          7.494905,
          6.978015,
          7.242048,
          6.616192,
          5.8338719999999995,
          5.230368,
          4.4704,
          4.35864,
          4.291584,
          4.090415999999999,
          3.655209411764706,
          3.9707670588235295,
          4.864847058823529,
          5.443369411764706,
          6.337449411764705,
          6.600414117647058,
          6.994861176470588,
          7.520790588235294,
          4.02336,
          4.91744,
          3.12928,
          4.91744,
          5.81152,
          7.15264,
          4.02336,
          7.15264,
          8.9408,
          9.83488,
          8.9408,
          7.15264,
          8.04672,
          4.91744,
          4.91744,
          5.81152,
          5.81152,
          5.81152,
          5.81152,
          8.04672,
          8.9408,
          9.83488,
          9.83488,
          11.176,
          9.83488,
          8.9408,
          8.9408,
          9.83488,
          9.83488,
          8.04672,
          8.04672,
          5.81152,
          5.81152,
          4.91744,
          5.81152,
          4.91744,
          4.02336,
          4.91744,
          5.81152,
          4.91744,
          4.02336,
          4.02336,
          3.12928,
          4.02336,
          4.91744,
          4.91744,
          4.02336,
          4.02336,
          1.78816,
          0.89408,
          3.12928,
          3.12928,
          1.78816,
          3.12928,
          3.12928,
          3.12928,
          4.02336,
          4.02336,
          4.91744,
          5.81152,
          8.04672,
          8.9408,
          11.176,
          12.070079999999999,
          12.070079999999999,
          13.85824,
          15.19936,
          16.98752,
          16.98752,
          16.98752,
          16.98752,
          16.09344,
          15.19936,
          13.85824,
          13.85824,
          12.96416,
          12.070079999999999,
          11.176,
          11.176,
          9.83488,
          12.070079999999999,
          8.04672,
          12.070079999999999,
          12.070079999999999,
          13.85824,
          9.83488,
          9.83488,
          7.15264,
          11.176,
          5.81152,
          4.91744,
          11.176,
          8.04672,
          7.15264,
          5.81152,
          8.9408,
          4.02336,
          4.91744,
          1.78816,
          1.78816,
          4.02336,
          5.81152,
          8.9408,
          9.83488,
          12.070079999999999,
          11.176,
          9.83488,
          4.02336,
          8.04672,
          12.070079999999999,
          11.176,
          12.070079999999999,
          12.070079999999999,
          8.04672,
          5.81152,
          5.81152,
          7.15264,
          5.81152,
          3.12928
         ],
         "hovertemplate": "<b>Power Generation: %{y:.2f} MW </b><br> Wind Speed: %{customdata:.2f} m/s <br><i> %{x}</i><extra></extra>",
         "legendgroup": "Model",
         "line": {
          "color": "#636efa",
          "dash": "solid"
         },
         "marker": {
          "symbol": "circle"
         },
         "mode": "lines",
         "name": "Model",
         "orientation": "v",
         "showlegend": true,
         "type": "scatter",
         "x": [
          "2023-04-14T21:00:00+00:00",
          "2023-04-15T00:00:00+00:00",
          "2023-04-15T03:00:00+00:00",
          "2023-04-15T06:00:00+00:00",
          "2023-04-15T09:00:00+00:00",
          "2023-04-15T12:00:00+00:00",
          "2023-04-15T15:00:00+00:00",
          "2023-04-15T18:00:00+00:00",
          "2023-04-15T21:00:00+00:00",
          "2023-04-16T00:00:00+00:00",
          "2023-04-16T03:00:00+00:00",
          "2023-04-16T06:00:00+00:00",
          "2023-04-16T09:00:00+00:00",
          "2023-04-16T12:00:00+00:00",
          "2023-04-16T15:00:00+00:00",
          "2023-04-16T18:00:00+00:00",
          "2023-04-16T21:00:00+00:00",
          "2023-04-17T00:00:00+00:00",
          "2023-04-17T03:00:00+00:00",
          "2023-04-17T06:00:00+00:00",
          "2023-04-17T09:00:00+00:00",
          "2023-04-17T12:00:00+00:00",
          "2023-04-17T15:00:00+00:00",
          "2023-04-17T18:00:00+00:00",
          "2023-04-17T21:00:00+00:00",
          "2023-04-18T00:00:00+00:00",
          "2023-04-18T03:00:00+00:00",
          "2023-04-18T06:00:00+00:00",
          "2023-04-18T09:00:00+00:00",
          "2023-04-18T12:00:00+00:00",
          "2023-04-18T15:00:00+00:00",
          "2023-04-18T18:00:00+00:00",
          "2023-04-18T21:00:00+00:00",
          "2023-04-19T00:00:00+00:00",
          "2023-04-19T03:00:00+00:00",
          "2023-04-19T06:00:00+00:00",
          "2023-04-19T09:00:00+00:00",
          "2023-04-19T12:00:00+00:00",
          "2023-04-19T15:00:00+00:00",
          "2023-04-19T18:00:00+00:00",
          "2023-04-19T21:00:00+00:00",
          "2023-04-20T00:00:00+00:00",
          "2023-04-20T03:00:00+00:00",
          "2023-04-20T06:00:00+00:00",
          "2023-04-20T09:00:00+00:00",
          "2023-04-20T12:00:00+00:00",
          "2023-04-20T15:00:00+00:00",
          "2023-04-20T18:00:00+00:00",
          "2023-04-20T21:00:00+00:00",
          "2023-04-21T00:00:00+00:00",
          "2023-04-21T03:00:00+00:00",
          "2023-04-21T06:00:00+00:00",
          "2023-04-21T09:00:00+00:00",
          "2023-04-21T12:00:00+00:00",
          "2023-04-21T15:00:00+00:00",
          "2023-04-21T18:00:00+00:00",
          "2023-04-21T21:00:00+00:00",
          "2023-04-22T00:00:00+00:00",
          "2023-04-22T03:00:00+00:00",
          "2023-04-22T06:00:00+00:00",
          "2023-04-22T09:00:00+00:00",
          "2023-04-22T12:00:00+00:00",
          "2023-04-22T15:00:00+00:00",
          "2023-04-22T18:00:00+00:00",
          "2023-04-22T21:00:00+00:00",
          "2023-04-23T00:00:00+00:00",
          "2023-04-23T03:00:00+00:00",
          "2023-04-23T06:00:00+00:00",
          "2023-04-23T09:00:00+00:00",
          "2023-04-23T12:00:00+00:00",
          "2023-04-23T15:00:00+00:00",
          "2023-04-23T18:00:00+00:00",
          "2023-04-23T21:00:00+00:00",
          "2023-04-24T00:00:00+00:00",
          "2023-04-24T03:00:00+00:00",
          "2023-04-24T06:00:00+00:00",
          "2023-04-24T09:00:00+00:00",
          "2023-04-24T12:00:00+00:00",
          "2023-04-24T15:00:00+00:00",
          "2023-04-24T18:00:00+00:00",
          "2023-04-24T21:00:00+00:00",
          "2023-04-25T00:00:00+00:00",
          "2023-04-25T03:00:00+00:00",
          "2023-04-25T06:00:00+00:00",
          "2023-04-25T09:00:00+00:00",
          "2023-04-25T12:00:00+00:00",
          "2023-04-25T15:00:00+00:00",
          "2023-04-25T18:00:00+00:00",
          "2023-04-25T21:00:00+00:00",
          "2023-04-26T00:00:00+00:00",
          "2023-04-26T03:00:00+00:00",
          "2023-04-26T06:00:00+00:00",
          "2023-04-26T09:00:00+00:00",
          "2023-04-26T12:00:00+00:00",
          "2023-04-26T15:00:00+00:00",
          "2023-04-26T18:00:00+00:00",
          "2023-04-26T21:00:00+00:00",
          "2023-04-27T00:00:00+00:00",
          "2023-04-27T03:00:00+00:00",
          "2023-04-27T06:00:00+00:00",
          "2023-04-27T09:00:00+00:00",
          "2023-04-27T12:00:00+00:00",
          "2023-04-27T15:00:00+00:00",
          "2023-04-27T18:00:00+00:00",
          "2023-04-27T21:00:00+00:00",
          "2023-04-28T00:00:00+00:00",
          "2023-04-28T03:00:00+00:00",
          "2023-04-28T06:00:00+00:00",
          "2023-04-28T09:00:00+00:00",
          "2023-04-28T12:00:00+00:00",
          "2023-04-28T15:00:00+00:00",
          "2023-04-28T18:00:00+00:00",
          "2023-04-28T21:00:00+00:00",
          "2023-04-29T00:00:00+00:00",
          "2023-04-29T03:00:00+00:00",
          "2023-04-29T06:00:00+00:00",
          "2023-04-29T09:00:00+00:00",
          "2023-04-29T12:00:00+00:00",
          "2023-04-29T15:00:00+00:00",
          "2023-04-29T18:00:00+00:00",
          "2023-04-29T21:00:00+00:00",
          "2023-04-30T00:00:00+00:00",
          "2023-04-30T03:00:00+00:00",
          "2023-04-30T06:00:00+00:00",
          "2023-04-30T09:00:00+00:00",
          "2023-04-30T12:00:00+00:00",
          "2023-04-30T15:00:00+00:00",
          "2023-04-30T18:00:00+00:00",
          "2023-04-30T21:00:00+00:00",
          "2023-05-01T00:00:00+00:00",
          "2023-05-01T03:00:00+00:00",
          "2023-05-01T06:00:00+00:00",
          "2023-05-01T09:00:00+00:00",
          "2023-05-01T12:00:00+00:00",
          "2023-05-01T15:00:00+00:00",
          "2023-05-01T18:00:00+00:00",
          "2023-05-01T21:00:00+00:00",
          "2023-05-02T00:00:00+00:00",
          "2023-05-02T03:00:00+00:00",
          "2023-05-02T06:00:00+00:00",
          "2023-05-02T09:00:00+00:00",
          "2023-05-02T12:00:00+00:00",
          "2023-05-02T15:00:00+00:00",
          "2023-05-02T18:00:00+00:00",
          "2023-05-02T21:00:00+00:00",
          "2023-05-03T00:00:00+00:00",
          "2023-05-03T03:00:00+00:00",
          "2023-05-03T06:00:00+00:00",
          "2023-05-03T09:00:00+00:00",
          "2023-05-03T12:00:00+00:00",
          "2023-05-03T15:00:00+00:00",
          "2023-05-03T18:00:00+00:00",
          "2023-05-03T21:00:00+00:00"
         ],
         "xaxis": "x",
         "y": [
          4.658335530745978,
          6.335716173122053,
          3.546812455335496,
          6.335716173122053,
          8.44351889913392,
          12.49350500632369,
          4.658335530745978,
          12.49350500632369,
          18.052727394120357,
          20.439943687931912,
          18.052727394120357,
          12.49350500632369,
          15.31925892164103,
          6.335716173122053,
          6.483706500735733,
          8.570285077062534,
          8.610804730558623,
          8.610804730558623,
          8.570285077062534,
          15.2645486001365,
          18.052727394120357,
          20.439943687931912,
          20.439943687931912,
          23.15863513497528,
          20.439943687931912,
          18.052727394120357,
          18.052727394120357,
          20.439943687931912,
          20.439943687931912,
          15.31925892164103,
          15.2645486001365,
          8.570285077062534,
          8.570285077062534,
          6.459782842929208,
          8.570285077062534,
          6.459782842929208,
          4.668097856518322,
          6.057336080084168,
          8.066312493810628,
          6.2990907460368595,
          4.4743624511289815,
          4.4743624511289815,
          3.320359067939192,
          4.243210710428759,
          5.782497160765795,
          5.782497160765795,
          4.243210710428759,
          4.4743624511289815,
          2.4839330349376985,
          2.3344750558857053,
          3.320359067939192,
          3.474067984721449,
          2.2234600156431,
          3.474067984721449,
          2.909437608289315,
          3.1248232156006734,
          4.001859292735644,
          3.773036530230832,
          5.508702756741922,
          7.424331791385386,
          13.996446618039155,
          16.624064196978487,
          21.904345281332176,
          22.796195583826943,
          23.3311860250423,
          24.92306704674339,
          26.012278352419024,
          26.24571795451514,
          26.6275150900451,
          26.24571795451514,
          26.24571795451514,
          25.613538268081143,
          25.155647534601023,
          24.48180075164145,
          24.48180075164145,
          23.065653770000797,
          21.88714710552866,
          20.446078408349422,
          20.83876516901846,
          17.35219531394936,
          21.555734061528252,
          13.178186411924107,
          21.88714710552866,
          21.88714710552866,
          24.041206807692447,
          17.446239490866496,
          17.446239490866496,
          10.18945698701037,
          20.162495693007706,
          6.750313093465479,
          5.260838858618984,
          20.162495693007706,
          12.749899257596763,
          10.18945698701037,
          6.750313093465479,
          15.212225517165049,
          3.37574503925917,
          4.865908665607645,
          1.9048428040360883,
          2.358564502849726,
          4.668097856518322,
          8.570285077062534,
          18.017917982666194,
          20.446997618470114,
          24.222148874084937,
          22.935635044136493,
          20.13398377961659,
          4.668097856518322,
          13.178186411924107,
          22.304654881917195,
          20.446078408349425,
          21.88714710552866,
          21.555734061528252,
          12.749899257596763,
          6.9396040018948435,
          6.801701623787941,
          10.239471394829437,
          6.750313093465479,
          2.505340898163709,
          null,
          null,
          null,
          null,
          null,
          null,
          null,
          null,
          null,
          null,
          null,
          null,
          null,
          null,
          null,
          null,
          null,
          null,
          null,
          null,
          null,
          null,
          null,
          null,
          null,
          null,
          null,
          null,
          null,
          null,
          null,
          null,
          null,
          null
         ],
         "yaxis": "y"
        },
        {
         "customdata": [
          4.230914285714286,
          3.6601399999999997,
          3.3223200000000004,
          4.37896,
          6.1112400000000004,
          7.493,
          7.7216000000000005,
          7.24916,
          6.598920000000001,
          6.56336,
          6.726555,
          7.704454999999999,
          8.780145,
          8.60552,
          7.99084,
          7.76732,
          7.494905,
          6.978015,
          7.242048,
          6.616192,
          5.8338719999999995,
          5.230368,
          4.4704,
          4.35864,
          4.291584,
          4.090415999999999,
          3.655209411764706,
          3.9707670588235295,
          4.864847058823529,
          5.443369411764706,
          6.337449411764705,
          6.600414117647058,
          6.994861176470588,
          7.520790588235294,
          4.02336,
          4.91744,
          3.12928,
          4.91744,
          5.81152,
          7.15264,
          4.02336,
          7.15264,
          8.9408,
          9.83488,
          8.9408,
          7.15264,
          8.04672,
          4.91744,
          4.91744,
          5.81152,
          5.81152,
          5.81152,
          5.81152,
          8.04672,
          8.9408,
          9.83488,
          9.83488,
          11.176,
          9.83488,
          8.9408,
          8.9408,
          9.83488,
          9.83488,
          8.04672,
          8.04672,
          5.81152,
          5.81152,
          4.91744,
          5.81152,
          4.91744,
          4.02336,
          4.91744,
          5.81152,
          4.91744,
          4.02336,
          4.02336,
          3.12928,
          4.02336,
          4.91744,
          4.91744,
          4.02336,
          4.02336,
          1.78816,
          0.89408,
          3.12928,
          3.12928,
          1.78816,
          3.12928,
          3.12928,
          3.12928,
          4.02336,
          4.02336,
          4.91744,
          5.81152,
          8.04672,
          8.9408,
          11.176,
          12.070079999999999,
          12.070079999999999,
          13.85824,
          15.19936,
          16.98752,
          16.98752,
          16.98752,
          16.98752,
          16.09344,
          15.19936,
          13.85824,
          13.85824,
          12.96416,
          12.070079999999999,
          11.176,
          11.176,
          9.83488,
          12.070079999999999,
          8.04672,
          12.070079999999999,
          12.070079999999999,
          13.85824,
          9.83488,
          9.83488,
          7.15264,
          11.176,
          5.81152,
          4.91744,
          11.176,
          8.04672,
          7.15264,
          5.81152,
          8.9408,
          4.02336,
          4.91744,
          1.78816,
          1.78816,
          4.02336,
          5.81152,
          8.9408,
          9.83488,
          12.070079999999999,
          11.176,
          9.83488,
          4.02336,
          8.04672,
          12.070079999999999,
          11.176,
          12.070079999999999,
          12.070079999999999,
          8.04672,
          5.81152,
          5.81152,
          7.15264,
          5.81152,
          3.12928
         ],
         "hovertemplate": "<b>Power Generation: %{y:.2f} MW </b><br> Wind Speed: %{customdata:.2f} m/s <br><i> %{x}</i><extra></extra>",
         "legendgroup": "Actual",
         "line": {
          "color": "#EF553B",
          "dash": "solid"
         },
         "marker": {
          "symbol": "circle"
         },
         "mode": "lines",
         "name": "Actual",
         "orientation": "v",
         "showlegend": true,
         "type": "scatter",
         "x": [
          "2023-04-14T21:00:00+00:00",
          "2023-04-15T00:00:00+00:00",
          "2023-04-15T03:00:00+00:00",
          "2023-04-15T06:00:00+00:00",
          "2023-04-15T09:00:00+00:00",
          "2023-04-15T12:00:00+00:00",
          "2023-04-15T15:00:00+00:00",
          "2023-04-15T18:00:00+00:00",
          "2023-04-15T21:00:00+00:00",
          "2023-04-16T00:00:00+00:00",
          "2023-04-16T03:00:00+00:00",
          "2023-04-16T06:00:00+00:00",
          "2023-04-16T09:00:00+00:00",
          "2023-04-16T12:00:00+00:00",
          "2023-04-16T15:00:00+00:00",
          "2023-04-16T18:00:00+00:00",
          "2023-04-16T21:00:00+00:00",
          "2023-04-17T00:00:00+00:00",
          "2023-04-17T03:00:00+00:00",
          "2023-04-17T06:00:00+00:00",
          "2023-04-17T09:00:00+00:00",
          "2023-04-17T12:00:00+00:00",
          "2023-04-17T15:00:00+00:00",
          "2023-04-17T18:00:00+00:00",
          "2023-04-17T21:00:00+00:00",
          "2023-04-18T00:00:00+00:00",
          "2023-04-18T03:00:00+00:00",
          "2023-04-18T06:00:00+00:00",
          "2023-04-18T09:00:00+00:00",
          "2023-04-18T12:00:00+00:00",
          "2023-04-18T15:00:00+00:00",
          "2023-04-18T18:00:00+00:00",
          "2023-04-18T21:00:00+00:00",
          "2023-04-19T00:00:00+00:00",
          "2023-04-19T03:00:00+00:00",
          "2023-04-19T06:00:00+00:00",
          "2023-04-19T09:00:00+00:00",
          "2023-04-19T12:00:00+00:00",
          "2023-04-19T15:00:00+00:00",
          "2023-04-19T18:00:00+00:00",
          "2023-04-19T21:00:00+00:00",
          "2023-04-20T00:00:00+00:00",
          "2023-04-20T03:00:00+00:00",
          "2023-04-20T06:00:00+00:00",
          "2023-04-20T09:00:00+00:00",
          "2023-04-20T12:00:00+00:00",
          "2023-04-20T15:00:00+00:00",
          "2023-04-20T18:00:00+00:00",
          "2023-04-20T21:00:00+00:00",
          "2023-04-21T00:00:00+00:00",
          "2023-04-21T03:00:00+00:00",
          "2023-04-21T06:00:00+00:00",
          "2023-04-21T09:00:00+00:00",
          "2023-04-21T12:00:00+00:00",
          "2023-04-21T15:00:00+00:00",
          "2023-04-21T18:00:00+00:00",
          "2023-04-21T21:00:00+00:00",
          "2023-04-22T00:00:00+00:00",
          "2023-04-22T03:00:00+00:00",
          "2023-04-22T06:00:00+00:00",
          "2023-04-22T09:00:00+00:00",
          "2023-04-22T12:00:00+00:00",
          "2023-04-22T15:00:00+00:00",
          "2023-04-22T18:00:00+00:00",
          "2023-04-22T21:00:00+00:00",
          "2023-04-23T00:00:00+00:00",
          "2023-04-23T03:00:00+00:00",
          "2023-04-23T06:00:00+00:00",
          "2023-04-23T09:00:00+00:00",
          "2023-04-23T12:00:00+00:00",
          "2023-04-23T15:00:00+00:00",
          "2023-04-23T18:00:00+00:00",
          "2023-04-23T21:00:00+00:00",
          "2023-04-24T00:00:00+00:00",
          "2023-04-24T03:00:00+00:00",
          "2023-04-24T06:00:00+00:00",
          "2023-04-24T09:00:00+00:00",
          "2023-04-24T12:00:00+00:00",
          "2023-04-24T15:00:00+00:00",
          "2023-04-24T18:00:00+00:00",
          "2023-04-24T21:00:00+00:00",
          "2023-04-25T00:00:00+00:00",
          "2023-04-25T03:00:00+00:00",
          "2023-04-25T06:00:00+00:00",
          "2023-04-25T09:00:00+00:00",
          "2023-04-25T12:00:00+00:00",
          "2023-04-25T15:00:00+00:00",
          "2023-04-25T18:00:00+00:00",
          "2023-04-25T21:00:00+00:00",
          "2023-04-26T00:00:00+00:00",
          "2023-04-26T03:00:00+00:00",
          "2023-04-26T06:00:00+00:00",
          "2023-04-26T09:00:00+00:00",
          "2023-04-26T12:00:00+00:00",
          "2023-04-26T15:00:00+00:00",
          "2023-04-26T18:00:00+00:00",
          "2023-04-26T21:00:00+00:00",
          "2023-04-27T00:00:00+00:00",
          "2023-04-27T03:00:00+00:00",
          "2023-04-27T06:00:00+00:00",
          "2023-04-27T09:00:00+00:00",
          "2023-04-27T12:00:00+00:00",
          "2023-04-27T15:00:00+00:00",
          "2023-04-27T18:00:00+00:00",
          "2023-04-27T21:00:00+00:00",
          "2023-04-28T00:00:00+00:00",
          "2023-04-28T03:00:00+00:00",
          "2023-04-28T06:00:00+00:00",
          "2023-04-28T09:00:00+00:00",
          "2023-04-28T12:00:00+00:00",
          "2023-04-28T15:00:00+00:00",
          "2023-04-28T18:00:00+00:00",
          "2023-04-28T21:00:00+00:00",
          "2023-04-29T00:00:00+00:00",
          "2023-04-29T03:00:00+00:00",
          "2023-04-29T06:00:00+00:00",
          "2023-04-29T09:00:00+00:00",
          "2023-04-29T12:00:00+00:00",
          "2023-04-29T15:00:00+00:00",
          "2023-04-29T18:00:00+00:00",
          "2023-04-29T21:00:00+00:00",
          "2023-04-30T00:00:00+00:00",
          "2023-04-30T03:00:00+00:00",
          "2023-04-30T06:00:00+00:00",
          "2023-04-30T09:00:00+00:00",
          "2023-04-30T12:00:00+00:00",
          "2023-04-30T15:00:00+00:00",
          "2023-04-30T18:00:00+00:00",
          "2023-04-30T21:00:00+00:00",
          "2023-05-01T00:00:00+00:00",
          "2023-05-01T03:00:00+00:00",
          "2023-05-01T06:00:00+00:00",
          "2023-05-01T09:00:00+00:00",
          "2023-05-01T12:00:00+00:00",
          "2023-05-01T15:00:00+00:00",
          "2023-05-01T18:00:00+00:00",
          "2023-05-01T21:00:00+00:00",
          "2023-05-02T00:00:00+00:00",
          "2023-05-02T03:00:00+00:00",
          "2023-05-02T06:00:00+00:00",
          "2023-05-02T09:00:00+00:00",
          "2023-05-02T12:00:00+00:00",
          "2023-05-02T15:00:00+00:00",
          "2023-05-02T18:00:00+00:00",
          "2023-05-02T21:00:00+00:00",
          "2023-05-03T00:00:00+00:00",
          "2023-05-03T03:00:00+00:00",
          "2023-05-03T06:00:00+00:00",
          "2023-05-03T09:00:00+00:00",
          "2023-05-03T12:00:00+00:00",
          "2023-05-03T15:00:00+00:00",
          "2023-05-03T18:00:00+00:00",
          "2023-05-03T21:00:00+00:00"
         ],
         "xaxis": "x",
         "y": [
          5.8748159555555555,
          7.536320516666667,
          6.447503633333333,
          4.056162994444445,
          5.533935433333333,
          5.954211066666667,
          10.607611766666666,
          19.15153385,
          22.993707892857145,
          22.836651572222223,
          19.63121283888889,
          15.302226355555556,
          8.02175331111111,
          5.854186288888888,
          5.045616372222223,
          3.9936971666666667,
          5.95894091111111,
          5.362666544444445,
          6.163228539325843,
          14.920830727777778,
          20.52837933888889,
          25.30730463888889,
          21.78180577222222,
          21.347713744444444,
          20.353109455555554,
          18.1415007,
          20.256658322222222,
          22.14433246987952,
          21.73717869273743,
          20.583498988888888,
          17.229534944444445,
          13.724780083333334,
          13.624223405555556,
          12.40991186111111,
          9.39997405,
          3.922868361111111,
          3.9161452146892652,
          7.10382421111111,
          7.023896327777778,
          5.552515894444444,
          5.463592277777778,
          4.592176944444445,
          4.533467427777778,
          4.71524424117647,
          7.255291084745762,
          4.806198305555555,
          3.194407211111111,
          2.4578525,
          1.9021751888888887,
          1.6872840111111111,
          1.80907575,
          1.40520225,
          1.5094274685714286,
          2.004293533333333,
          1.6748889888888887,
          1.6174138666666666,
          2.863519983333333,
          4.607729922222222,
          5.245074194444444,
          12.824108677777778,
          20.321007533333333,
          25.045106216666667,
          24.987607055555554,
          25.667023583333332,
          27.09277037777778,
          28.655306250000002,
          28.76094276111111,
          28.799557894444444,
          28.861415422222223,
          28.59935013888889,
          28.639700116666663,
          28.21779973888889,
          25.89326431111111,
          25.411885972222223,
          26.79719281564246,
          29.057143916666664,
          30.42571705,
          30.720674094444444,
          27.51676772777778,
          25.9299159,
          21.10975102777778,
          20.746639744444444,
          22.166313233333334,
          19.426079394444443,
          21.198732794444442,
          18.600670005555557,
          14.812681066666666,
          14.964955777777778,
          10.282270016666667,
          10.188892911111111,
          12.770008494444445,
          11.017095566666667,
          10.317051855555556,
          8.791272944444444,
          8.489537322222223,
          5.148849994444444,
          2.764788438888889,
          2.166202327777778,
          1.9555922277777777,
          1.4503111012658227,
          10.521102445255476,
          22.436570094444445,
          26.249326111111113,
          26.757167727777777,
          25.625162338888888,
          16.669694327777776,
          2.516183727777778,
          2.692598433333333,
          18.935184655555556,
          25.69459325,
          28.045618566666665,
          21.064328283333335,
          11.191012177777777,
          7.962174744444445,
          7.116612861111111,
          4.117630438888889,
          3.1774277166666667,
          3.0813110722222223,
          2.4903961744186045,
          null,
          null,
          null,
          null,
          null,
          null,
          null,
          null,
          null,
          null,
          null,
          null,
          null,
          null,
          null,
          null,
          null,
          null,
          null,
          null,
          null,
          null,
          null,
          null,
          null,
          null,
          null,
          null,
          null,
          null,
          null,
          null,
          null,
          null
         ],
         "yaxis": "y"
        },
        {
         "customdata": [
          4.230914285714286,
          3.6601399999999997,
          3.3223200000000004,
          4.37896,
          6.1112400000000004,
          7.493,
          7.7216000000000005,
          7.24916,
          6.598920000000001,
          6.56336,
          6.726555,
          7.704454999999999,
          8.780145,
          8.60552,
          7.99084,
          7.76732,
          7.494905,
          6.978015,
          7.242048,
          6.616192,
          5.8338719999999995,
          5.230368,
          4.4704,
          4.35864,
          4.291584,
          4.090415999999999,
          3.655209411764706,
          3.9707670588235295,
          4.864847058823529,
          5.443369411764706,
          6.337449411764705,
          6.600414117647058,
          6.994861176470588,
          7.520790588235294,
          4.02336,
          4.91744,
          3.12928,
          4.91744,
          5.81152,
          7.15264,
          4.02336,
          7.15264,
          8.9408,
          9.83488,
          8.9408,
          7.15264,
          8.04672,
          4.91744,
          4.91744,
          5.81152,
          5.81152,
          5.81152,
          5.81152,
          8.04672,
          8.9408,
          9.83488,
          9.83488,
          11.176,
          9.83488,
          8.9408,
          8.9408,
          9.83488,
          9.83488,
          8.04672,
          8.04672,
          5.81152,
          5.81152,
          4.91744,
          5.81152,
          4.91744,
          4.02336,
          4.91744,
          5.81152,
          4.91744,
          4.02336,
          4.02336,
          3.12928,
          4.02336,
          4.91744,
          4.91744,
          4.02336,
          4.02336,
          1.78816,
          0.89408,
          3.12928,
          3.12928,
          1.78816,
          3.12928,
          3.12928,
          3.12928,
          4.02336,
          4.02336,
          4.91744,
          5.81152,
          8.04672,
          8.9408,
          11.176,
          12.070079999999999,
          12.070079999999999,
          13.85824,
          15.19936,
          16.98752,
          16.98752,
          16.98752,
          16.98752,
          16.09344,
          15.19936,
          13.85824,
          13.85824,
          12.96416,
          12.070079999999999,
          11.176,
          11.176,
          9.83488,
          12.070079999999999,
          8.04672,
          12.070079999999999,
          12.070079999999999,
          13.85824,
          9.83488,
          9.83488,
          7.15264,
          11.176,
          5.81152,
          4.91744,
          11.176,
          8.04672,
          7.15264,
          5.81152,
          8.9408,
          4.02336,
          4.91744,
          1.78816,
          1.78816,
          4.02336,
          5.81152,
          8.9408,
          9.83488,
          12.070079999999999,
          11.176,
          9.83488,
          4.02336,
          8.04672,
          12.070079999999999,
          11.176,
          12.070079999999999,
          12.070079999999999,
          8.04672,
          5.81152,
          5.81152,
          7.15264,
          5.81152,
          3.12928
         ],
         "hovertemplate": "<b>Power Generation: %{y:.2f} MW </b><br> Wind Speed: %{customdata:.2f} m/s <br><i> %{x}</i><extra></extra>",
         "legendgroup": "Forecast",
         "line": {
          "color": "#00cc96",
          "dash": "solid"
         },
         "marker": {
          "symbol": "circle"
         },
         "mode": "lines",
         "name": "Forecast",
         "orientation": "v",
         "showlegend": true,
         "type": "scatter",
         "x": [
          "2023-04-14T21:00:00+00:00",
          "2023-04-15T00:00:00+00:00",
          "2023-04-15T03:00:00+00:00",
          "2023-04-15T06:00:00+00:00",
          "2023-04-15T09:00:00+00:00",
          "2023-04-15T12:00:00+00:00",
          "2023-04-15T15:00:00+00:00",
          "2023-04-15T18:00:00+00:00",
          "2023-04-15T21:00:00+00:00",
          "2023-04-16T00:00:00+00:00",
          "2023-04-16T03:00:00+00:00",
          "2023-04-16T06:00:00+00:00",
          "2023-04-16T09:00:00+00:00",
          "2023-04-16T12:00:00+00:00",
          "2023-04-16T15:00:00+00:00",
          "2023-04-16T18:00:00+00:00",
          "2023-04-16T21:00:00+00:00",
          "2023-04-17T00:00:00+00:00",
          "2023-04-17T03:00:00+00:00",
          "2023-04-17T06:00:00+00:00",
          "2023-04-17T09:00:00+00:00",
          "2023-04-17T12:00:00+00:00",
          "2023-04-17T15:00:00+00:00",
          "2023-04-17T18:00:00+00:00",
          "2023-04-17T21:00:00+00:00",
          "2023-04-18T00:00:00+00:00",
          "2023-04-18T03:00:00+00:00",
          "2023-04-18T06:00:00+00:00",
          "2023-04-18T09:00:00+00:00",
          "2023-04-18T12:00:00+00:00",
          "2023-04-18T15:00:00+00:00",
          "2023-04-18T18:00:00+00:00",
          "2023-04-18T21:00:00+00:00",
          "2023-04-19T00:00:00+00:00",
          "2023-04-19T03:00:00+00:00",
          "2023-04-19T06:00:00+00:00",
          "2023-04-19T09:00:00+00:00",
          "2023-04-19T12:00:00+00:00",
          "2023-04-19T15:00:00+00:00",
          "2023-04-19T18:00:00+00:00",
          "2023-04-19T21:00:00+00:00",
          "2023-04-20T00:00:00+00:00",
          "2023-04-20T03:00:00+00:00",
          "2023-04-20T06:00:00+00:00",
          "2023-04-20T09:00:00+00:00",
          "2023-04-20T12:00:00+00:00",
          "2023-04-20T15:00:00+00:00",
          "2023-04-20T18:00:00+00:00",
          "2023-04-20T21:00:00+00:00",
          "2023-04-21T00:00:00+00:00",
          "2023-04-21T03:00:00+00:00",
          "2023-04-21T06:00:00+00:00",
          "2023-04-21T09:00:00+00:00",
          "2023-04-21T12:00:00+00:00",
          "2023-04-21T15:00:00+00:00",
          "2023-04-21T18:00:00+00:00",
          "2023-04-21T21:00:00+00:00",
          "2023-04-22T00:00:00+00:00",
          "2023-04-22T03:00:00+00:00",
          "2023-04-22T06:00:00+00:00",
          "2023-04-22T09:00:00+00:00",
          "2023-04-22T12:00:00+00:00",
          "2023-04-22T15:00:00+00:00",
          "2023-04-22T18:00:00+00:00",
          "2023-04-22T21:00:00+00:00",
          "2023-04-23T00:00:00+00:00",
          "2023-04-23T03:00:00+00:00",
          "2023-04-23T06:00:00+00:00",
          "2023-04-23T09:00:00+00:00",
          "2023-04-23T12:00:00+00:00",
          "2023-04-23T15:00:00+00:00",
          "2023-04-23T18:00:00+00:00",
          "2023-04-23T21:00:00+00:00",
          "2023-04-24T00:00:00+00:00",
          "2023-04-24T03:00:00+00:00",
          "2023-04-24T06:00:00+00:00",
          "2023-04-24T09:00:00+00:00",
          "2023-04-24T12:00:00+00:00",
          "2023-04-24T15:00:00+00:00",
          "2023-04-24T18:00:00+00:00",
          "2023-04-24T21:00:00+00:00",
          "2023-04-25T00:00:00+00:00",
          "2023-04-25T03:00:00+00:00",
          "2023-04-25T06:00:00+00:00",
          "2023-04-25T09:00:00+00:00",
          "2023-04-25T12:00:00+00:00",
          "2023-04-25T15:00:00+00:00",
          "2023-04-25T18:00:00+00:00",
          "2023-04-25T21:00:00+00:00",
          "2023-04-26T00:00:00+00:00",
          "2023-04-26T03:00:00+00:00",
          "2023-04-26T06:00:00+00:00",
          "2023-04-26T09:00:00+00:00",
          "2023-04-26T12:00:00+00:00",
          "2023-04-26T15:00:00+00:00",
          "2023-04-26T18:00:00+00:00",
          "2023-04-26T21:00:00+00:00",
          "2023-04-27T00:00:00+00:00",
          "2023-04-27T03:00:00+00:00",
          "2023-04-27T06:00:00+00:00",
          "2023-04-27T09:00:00+00:00",
          "2023-04-27T12:00:00+00:00",
          "2023-04-27T15:00:00+00:00",
          "2023-04-27T18:00:00+00:00",
          "2023-04-27T21:00:00+00:00",
          "2023-04-28T00:00:00+00:00",
          "2023-04-28T03:00:00+00:00",
          "2023-04-28T06:00:00+00:00",
          "2023-04-28T09:00:00+00:00",
          "2023-04-28T12:00:00+00:00",
          "2023-04-28T15:00:00+00:00",
          "2023-04-28T18:00:00+00:00",
          "2023-04-28T21:00:00+00:00",
          "2023-04-29T00:00:00+00:00",
          "2023-04-29T03:00:00+00:00",
          "2023-04-29T06:00:00+00:00",
          "2023-04-29T09:00:00+00:00",
          "2023-04-29T12:00:00+00:00",
          "2023-04-29T15:00:00+00:00",
          "2023-04-29T18:00:00+00:00",
          "2023-04-29T21:00:00+00:00",
          "2023-04-30T00:00:00+00:00",
          "2023-04-30T03:00:00+00:00",
          "2023-04-30T06:00:00+00:00",
          "2023-04-30T09:00:00+00:00",
          "2023-04-30T12:00:00+00:00",
          "2023-04-30T15:00:00+00:00",
          "2023-04-30T18:00:00+00:00",
          "2023-04-30T21:00:00+00:00",
          "2023-05-01T00:00:00+00:00",
          "2023-05-01T03:00:00+00:00",
          "2023-05-01T06:00:00+00:00",
          "2023-05-01T09:00:00+00:00",
          "2023-05-01T12:00:00+00:00",
          "2023-05-01T15:00:00+00:00",
          "2023-05-01T18:00:00+00:00",
          "2023-05-01T21:00:00+00:00",
          "2023-05-02T00:00:00+00:00",
          "2023-05-02T03:00:00+00:00",
          "2023-05-02T06:00:00+00:00",
          "2023-05-02T09:00:00+00:00",
          "2023-05-02T12:00:00+00:00",
          "2023-05-02T15:00:00+00:00",
          "2023-05-02T18:00:00+00:00",
          "2023-05-02T21:00:00+00:00",
          "2023-05-03T00:00:00+00:00",
          "2023-05-03T03:00:00+00:00",
          "2023-05-03T06:00:00+00:00",
          "2023-05-03T09:00:00+00:00",
          "2023-05-03T12:00:00+00:00",
          "2023-05-03T15:00:00+00:00",
          "2023-05-03T18:00:00+00:00",
          "2023-05-03T21:00:00+00:00"
         ],
         "xaxis": "x",
         "y": [
          null,
          null,
          null,
          null,
          null,
          null,
          null,
          null,
          null,
          null,
          null,
          null,
          null,
          null,
          null,
          null,
          null,
          null,
          null,
          null,
          null,
          null,
          null,
          null,
          null,
          null,
          null,
          null,
          null,
          null,
          null,
          null,
          null,
          null,
          null,
          null,
          null,
          null,
          null,
          null,
          null,
          null,
          null,
          null,
          null,
          null,
          null,
          null,
          null,
          null,
          null,
          null,
          null,
          null,
          null,
          null,
          null,
          null,
          null,
          null,
          null,
          null,
          null,
          null,
          null,
          null,
          null,
          null,
          null,
          null,
          null,
          null,
          null,
          null,
          null,
          null,
          null,
          null,
          null,
          null,
          null,
          null,
          null,
          null,
          null,
          null,
          null,
          null,
          null,
          null,
          null,
          null,
          null,
          null,
          null,
          null,
          null,
          null,
          null,
          null,
          null,
          null,
          null,
          null,
          null,
          null,
          null,
          null,
          null,
          null,
          null,
          null,
          null,
          null,
          null,
          null,
          null,
          null,
          null,
          4.357212470926133,
          4.097091599821467,
          3.745006920099715,
          5.254576779022268,
          9.219301553975471,
          13.289478202345087,
          14.030866608686567,
          12.565883352548461,
          10.744505669550689,
          10.369659010570627,
          10.581903852862082,
          12.106886881243556,
          15.261684504567151,
          14.795665674031941,
          12.979090355733831,
          12.200793064715764,
          11.430083707237019,
          10.105194440044801,
          10.617402572775255,
          8.962218319267375,
          7.037025539815302,
          5.736445675349615,
          4.4213455632114576,
          4.31919227823707,
          4.404302669596829,
          4.425216362887177,
          3.860745952574246,
          4.422709207410086,
          6.019148483380956,
          7.397024934087775,
          9.698852791416703,
          10.381836699894759,
          11.469750405743554,
          13.119746082063633
         ],
         "yaxis": "y"
        }
       ],
       "layout": {
        "legend": {
         "title": {
          "text": ""
         },
         "tracegroupgap": 0
        },
        "template": {
         "data": {
          "bar": [
           {
            "error_x": {
             "color": "#2a3f5f"
            },
            "error_y": {
             "color": "#2a3f5f"
            },
            "marker": {
             "line": {
              "color": "#E5ECF6",
              "width": 0.5
             },
             "pattern": {
              "fillmode": "overlay",
              "size": 10,
              "solidity": 0.2
             }
            },
            "type": "bar"
           }
          ],
          "barpolar": [
           {
            "marker": {
             "line": {
              "color": "#E5ECF6",
              "width": 0.5
             },
             "pattern": {
              "fillmode": "overlay",
              "size": 10,
              "solidity": 0.2
             }
            },
            "type": "barpolar"
           }
          ],
          "carpet": [
           {
            "aaxis": {
             "endlinecolor": "#2a3f5f",
             "gridcolor": "white",
             "linecolor": "white",
             "minorgridcolor": "white",
             "startlinecolor": "#2a3f5f"
            },
            "baxis": {
             "endlinecolor": "#2a3f5f",
             "gridcolor": "white",
             "linecolor": "white",
             "minorgridcolor": "white",
             "startlinecolor": "#2a3f5f"
            },
            "type": "carpet"
           }
          ],
          "choropleth": [
           {
            "colorbar": {
             "outlinewidth": 0,
             "ticks": ""
            },
            "type": "choropleth"
           }
          ],
          "contour": [
           {
            "colorbar": {
             "outlinewidth": 0,
             "ticks": ""
            },
            "colorscale": [
             [
              0,
              "#0d0887"
             ],
             [
              0.1111111111111111,
              "#46039f"
             ],
             [
              0.2222222222222222,
              "#7201a8"
             ],
             [
              0.3333333333333333,
              "#9c179e"
             ],
             [
              0.4444444444444444,
              "#bd3786"
             ],
             [
              0.5555555555555556,
              "#d8576b"
             ],
             [
              0.6666666666666666,
              "#ed7953"
             ],
             [
              0.7777777777777778,
              "#fb9f3a"
             ],
             [
              0.8888888888888888,
              "#fdca26"
             ],
             [
              1,
              "#f0f921"
             ]
            ],
            "type": "contour"
           }
          ],
          "contourcarpet": [
           {
            "colorbar": {
             "outlinewidth": 0,
             "ticks": ""
            },
            "type": "contourcarpet"
           }
          ],
          "heatmap": [
           {
            "colorbar": {
             "outlinewidth": 0,
             "ticks": ""
            },
            "colorscale": [
             [
              0,
              "#0d0887"
             ],
             [
              0.1111111111111111,
              "#46039f"
             ],
             [
              0.2222222222222222,
              "#7201a8"
             ],
             [
              0.3333333333333333,
              "#9c179e"
             ],
             [
              0.4444444444444444,
              "#bd3786"
             ],
             [
              0.5555555555555556,
              "#d8576b"
             ],
             [
              0.6666666666666666,
              "#ed7953"
             ],
             [
              0.7777777777777778,
              "#fb9f3a"
             ],
             [
              0.8888888888888888,
              "#fdca26"
             ],
             [
              1,
              "#f0f921"
             ]
            ],
            "type": "heatmap"
           }
          ],
          "heatmapgl": [
           {
            "colorbar": {
             "outlinewidth": 0,
             "ticks": ""
            },
            "colorscale": [
             [
              0,
              "#0d0887"
             ],
             [
              0.1111111111111111,
              "#46039f"
             ],
             [
              0.2222222222222222,
              "#7201a8"
             ],
             [
              0.3333333333333333,
              "#9c179e"
             ],
             [
              0.4444444444444444,
              "#bd3786"
             ],
             [
              0.5555555555555556,
              "#d8576b"
             ],
             [
              0.6666666666666666,
              "#ed7953"
             ],
             [
              0.7777777777777778,
              "#fb9f3a"
             ],
             [
              0.8888888888888888,
              "#fdca26"
             ],
             [
              1,
              "#f0f921"
             ]
            ],
            "type": "heatmapgl"
           }
          ],
          "histogram": [
           {
            "marker": {
             "pattern": {
              "fillmode": "overlay",
              "size": 10,
              "solidity": 0.2
             }
            },
            "type": "histogram"
           }
          ],
          "histogram2d": [
           {
            "colorbar": {
             "outlinewidth": 0,
             "ticks": ""
            },
            "colorscale": [
             [
              0,
              "#0d0887"
             ],
             [
              0.1111111111111111,
              "#46039f"
             ],
             [
              0.2222222222222222,
              "#7201a8"
             ],
             [
              0.3333333333333333,
              "#9c179e"
             ],
             [
              0.4444444444444444,
              "#bd3786"
             ],
             [
              0.5555555555555556,
              "#d8576b"
             ],
             [
              0.6666666666666666,
              "#ed7953"
             ],
             [
              0.7777777777777778,
              "#fb9f3a"
             ],
             [
              0.8888888888888888,
              "#fdca26"
             ],
             [
              1,
              "#f0f921"
             ]
            ],
            "type": "histogram2d"
           }
          ],
          "histogram2dcontour": [
           {
            "colorbar": {
             "outlinewidth": 0,
             "ticks": ""
            },
            "colorscale": [
             [
              0,
              "#0d0887"
             ],
             [
              0.1111111111111111,
              "#46039f"
             ],
             [
              0.2222222222222222,
              "#7201a8"
             ],
             [
              0.3333333333333333,
              "#9c179e"
             ],
             [
              0.4444444444444444,
              "#bd3786"
             ],
             [
              0.5555555555555556,
              "#d8576b"
             ],
             [
              0.6666666666666666,
              "#ed7953"
             ],
             [
              0.7777777777777778,
              "#fb9f3a"
             ],
             [
              0.8888888888888888,
              "#fdca26"
             ],
             [
              1,
              "#f0f921"
             ]
            ],
            "type": "histogram2dcontour"
           }
          ],
          "mesh3d": [
           {
            "colorbar": {
             "outlinewidth": 0,
             "ticks": ""
            },
            "type": "mesh3d"
           }
          ],
          "parcoords": [
           {
            "line": {
             "colorbar": {
              "outlinewidth": 0,
              "ticks": ""
             }
            },
            "type": "parcoords"
           }
          ],
          "pie": [
           {
            "automargin": true,
            "type": "pie"
           }
          ],
          "scatter": [
           {
            "fillpattern": {
             "fillmode": "overlay",
             "size": 10,
             "solidity": 0.2
            },
            "type": "scatter"
           }
          ],
          "scatter3d": [
           {
            "line": {
             "colorbar": {
              "outlinewidth": 0,
              "ticks": ""
             }
            },
            "marker": {
             "colorbar": {
              "outlinewidth": 0,
              "ticks": ""
             }
            },
            "type": "scatter3d"
           }
          ],
          "scattercarpet": [
           {
            "marker": {
             "colorbar": {
              "outlinewidth": 0,
              "ticks": ""
             }
            },
            "type": "scattercarpet"
           }
          ],
          "scattergeo": [
           {
            "marker": {
             "colorbar": {
              "outlinewidth": 0,
              "ticks": ""
             }
            },
            "type": "scattergeo"
           }
          ],
          "scattergl": [
           {
            "marker": {
             "colorbar": {
              "outlinewidth": 0,
              "ticks": ""
             }
            },
            "type": "scattergl"
           }
          ],
          "scattermapbox": [
           {
            "marker": {
             "colorbar": {
              "outlinewidth": 0,
              "ticks": ""
             }
            },
            "type": "scattermapbox"
           }
          ],
          "scatterpolar": [
           {
            "marker": {
             "colorbar": {
              "outlinewidth": 0,
              "ticks": ""
             }
            },
            "type": "scatterpolar"
           }
          ],
          "scatterpolargl": [
           {
            "marker": {
             "colorbar": {
              "outlinewidth": 0,
              "ticks": ""
             }
            },
            "type": "scatterpolargl"
           }
          ],
          "scatterternary": [
           {
            "marker": {
             "colorbar": {
              "outlinewidth": 0,
              "ticks": ""
             }
            },
            "type": "scatterternary"
           }
          ],
          "surface": [
           {
            "colorbar": {
             "outlinewidth": 0,
             "ticks": ""
            },
            "colorscale": [
             [
              0,
              "#0d0887"
             ],
             [
              0.1111111111111111,
              "#46039f"
             ],
             [
              0.2222222222222222,
              "#7201a8"
             ],
             [
              0.3333333333333333,
              "#9c179e"
             ],
             [
              0.4444444444444444,
              "#bd3786"
             ],
             [
              0.5555555555555556,
              "#d8576b"
             ],
             [
              0.6666666666666666,
              "#ed7953"
             ],
             [
              0.7777777777777778,
              "#fb9f3a"
             ],
             [
              0.8888888888888888,
              "#fdca26"
             ],
             [
              1,
              "#f0f921"
             ]
            ],
            "type": "surface"
           }
          ],
          "table": [
           {
            "cells": {
             "fill": {
              "color": "#EBF0F8"
             },
             "line": {
              "color": "white"
             }
            },
            "header": {
             "fill": {
              "color": "#C8D4E3"
             },
             "line": {
              "color": "white"
             }
            },
            "type": "table"
           }
          ]
         },
         "layout": {
          "annotationdefaults": {
           "arrowcolor": "#2a3f5f",
           "arrowhead": 0,
           "arrowwidth": 1
          },
          "autotypenumbers": "strict",
          "coloraxis": {
           "colorbar": {
            "outlinewidth": 0,
            "ticks": ""
           }
          },
          "colorscale": {
           "diverging": [
            [
             0,
             "#8e0152"
            ],
            [
             0.1,
             "#c51b7d"
            ],
            [
             0.2,
             "#de77ae"
            ],
            [
             0.3,
             "#f1b6da"
            ],
            [
             0.4,
             "#fde0ef"
            ],
            [
             0.5,
             "#f7f7f7"
            ],
            [
             0.6,
             "#e6f5d0"
            ],
            [
             0.7,
             "#b8e186"
            ],
            [
             0.8,
             "#7fbc41"
            ],
            [
             0.9,
             "#4d9221"
            ],
            [
             1,
             "#276419"
            ]
           ],
           "sequential": [
            [
             0,
             "#0d0887"
            ],
            [
             0.1111111111111111,
             "#46039f"
            ],
            [
             0.2222222222222222,
             "#7201a8"
            ],
            [
             0.3333333333333333,
             "#9c179e"
            ],
            [
             0.4444444444444444,
             "#bd3786"
            ],
            [
             0.5555555555555556,
             "#d8576b"
            ],
            [
             0.6666666666666666,
             "#ed7953"
            ],
            [
             0.7777777777777778,
             "#fb9f3a"
            ],
            [
             0.8888888888888888,
             "#fdca26"
            ],
            [
             1,
             "#f0f921"
            ]
           ],
           "sequentialminus": [
            [
             0,
             "#0d0887"
            ],
            [
             0.1111111111111111,
             "#46039f"
            ],
            [
             0.2222222222222222,
             "#7201a8"
            ],
            [
             0.3333333333333333,
             "#9c179e"
            ],
            [
             0.4444444444444444,
             "#bd3786"
            ],
            [
             0.5555555555555556,
             "#d8576b"
            ],
            [
             0.6666666666666666,
             "#ed7953"
            ],
            [
             0.7777777777777778,
             "#fb9f3a"
            ],
            [
             0.8888888888888888,
             "#fdca26"
            ],
            [
             1,
             "#f0f921"
            ]
           ]
          },
          "colorway": [
           "#636efa",
           "#EF553B",
           "#00cc96",
           "#ab63fa",
           "#FFA15A",
           "#19d3f3",
           "#FF6692",
           "#B6E880",
           "#FF97FF",
           "#FECB52"
          ],
          "font": {
           "color": "#2a3f5f"
          },
          "geo": {
           "bgcolor": "white",
           "lakecolor": "white",
           "landcolor": "#E5ECF6",
           "showlakes": true,
           "showland": true,
           "subunitcolor": "white"
          },
          "hoverlabel": {
           "align": "left"
          },
          "hovermode": "closest",
          "mapbox": {
           "style": "light"
          },
          "paper_bgcolor": "white",
          "plot_bgcolor": "#E5ECF6",
          "polar": {
           "angularaxis": {
            "gridcolor": "white",
            "linecolor": "white",
            "ticks": ""
           },
           "bgcolor": "#E5ECF6",
           "radialaxis": {
            "gridcolor": "white",
            "linecolor": "white",
            "ticks": ""
           }
          },
          "scene": {
           "xaxis": {
            "backgroundcolor": "#E5ECF6",
            "gridcolor": "white",
            "gridwidth": 2,
            "linecolor": "white",
            "showbackground": true,
            "ticks": "",
            "zerolinecolor": "white"
           },
           "yaxis": {
            "backgroundcolor": "#E5ECF6",
            "gridcolor": "white",
            "gridwidth": 2,
            "linecolor": "white",
            "showbackground": true,
            "ticks": "",
            "zerolinecolor": "white"
           },
           "zaxis": {
            "backgroundcolor": "#E5ECF6",
            "gridcolor": "white",
            "gridwidth": 2,
            "linecolor": "white",
            "showbackground": true,
            "ticks": "",
            "zerolinecolor": "white"
           }
          },
          "shapedefaults": {
           "line": {
            "color": "#2a3f5f"
           }
          },
          "ternary": {
           "aaxis": {
            "gridcolor": "white",
            "linecolor": "white",
            "ticks": ""
           },
           "baxis": {
            "gridcolor": "white",
            "linecolor": "white",
            "ticks": ""
           },
           "bgcolor": "#E5ECF6",
           "caxis": {
            "gridcolor": "white",
            "linecolor": "white",
            "ticks": ""
           }
          },
          "title": {
           "x": 0.05
          },
          "xaxis": {
           "automargin": true,
           "gridcolor": "white",
           "linecolor": "white",
           "ticks": "",
           "title": {
            "standoff": 15
           },
           "zerolinecolor": "white",
           "zerolinewidth": 2
          },
          "yaxis": {
           "automargin": true,
           "gridcolor": "white",
           "linecolor": "white",
           "ticks": "",
           "title": {
            "standoff": 15
           },
           "zerolinecolor": "white",
           "zerolinewidth": 2
          }
         }
        },
        "title": {
         "text": "Power Generation Forecast (Test Data and Forecasted Future)"
        },
        "xaxis": {
         "anchor": "y",
         "domain": [
          0,
          1
         ],
         "title": {
          "text": "Date"
         }
        },
        "yaxis": {
         "anchor": "x",
         "domain": [
          0,
          1
         ],
         "title": {
          "text": "Power Generation (MW)"
         }
        }
       }
      }
     },
     "metadata": {},
     "output_type": "display_data"
    }
   ],
   "source": [
    "# plot final_df using plotly\n",
    "fig = px.line(final_df, x=final_df.index, y=[\"Model\", \"Actual\", \"Forecast\"], title=\"Power Generation Forecast (Test Data and Forecasted Future)\")\n",
    "# add x and y axis labels\n",
    "fig.update_xaxes(title_text=\"Date\")\n",
    "fig.update_yaxes(title_text=\"Power Generation (MW)\")\n",
    "# change legend heading\n",
    "fig.update_layout(legend_title_text=\"\")\n",
    "# add wind speed info to hover\n",
    "customdata = wind_speed_data\n",
    "fig.update_traces(hovertemplate=\"<b>Power Generation: %{y:.2f} MW </b><br> Wind Speed: %{customdata:.2f} m/s <br><i> %{x}</i><extra></extra>\", customdata=customdata)\n",
    "fig.show()\n"
   ]
  },
  {
   "cell_type": "code",
   "execution_count": null,
   "metadata": {},
   "outputs": [],
   "source": []
  }
 ],
 "metadata": {
  "kernelspec": {
   "display_name": "Python 3",
   "language": "python",
   "name": "python3"
  },
  "language_info": {
   "codemirror_mode": {
    "name": "ipython",
    "version": 3
   },
   "file_extension": ".py",
   "mimetype": "text/x-python",
   "name": "python",
   "nbconvert_exporter": "python",
   "pygments_lexer": "ipython3",
   "version": "3.11.1"
  },
  "orig_nbformat": 4,
  "vscode": {
   "interpreter": {
    "hash": "5238573367df39f7286bb46f9ff5f08f63a01a80960060ce41e3c79b190280fa"
   }
  }
 },
 "nbformat": 4,
 "nbformat_minor": 2
}
